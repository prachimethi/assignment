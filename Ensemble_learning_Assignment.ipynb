{
  "nbformat": 4,
  "nbformat_minor": 0,
  "metadata": {
    "colab": {
      "provenance": [],
      "authorship_tag": "ABX9TyPfITNtCf1LCgGEcNKU3nar",
      "include_colab_link": true
    },
    "kernelspec": {
      "name": "python3",
      "display_name": "Python 3"
    },
    "language_info": {
      "name": "python"
    }
  },
  "cells": [
    {
      "cell_type": "markdown",
      "metadata": {
        "id": "view-in-github",
        "colab_type": "text"
      },
      "source": [
        "<a href=\"https://colab.research.google.com/github/prachimethi/assignment/blob/main/Ensemble_learning_Assignment.ipynb\" target=\"_parent\"><img src=\"https://colab.research.google.com/assets/colab-badge.svg\" alt=\"Open In Colab\"/></a>"
      ]
    },
    {
      "cell_type": "markdown",
      "source": [
        "# **THEORITICAL QUESTIONS:**"
      ],
      "metadata": {
        "id": "2MOBfOvnubGo"
      }
    },
    {
      "cell_type": "markdown",
      "source": [
        "Ques-1  Can we use Bagging for regression problems ?\n",
        "\n",
        "Yes, Bagging (Bootstrap Aggregating) can be used for regression problems as well as classification problems. In fact, it is quite effective for regression tasks."
      ],
      "metadata": {
        "id": "V3SnKzjjNv-T"
      }
    },
    {
      "cell_type": "markdown",
      "source": [
        "Ques-2 What is the difference between multiple model training and single model training?\n",
        "\n",
        "The key difference between multiple model training and single model training lies in how many models are used to make predictions and how those models are combined. Here's a breakdown of each approach:\n",
        "\n",
        "Single Model Training:\n",
        "\n",
        "In single model training, you train one model on the entire training dataset. This model is then used to make predictions on unseen data. In Training Process , You fit a single model (e.g., decision tree, linear regression, neural network) using all available training data. After training, the model directly predicts the output based on the input data. The model's performance heavily relies on its design and the data it's trained on. If the model is too complex, it may overfit, and if it's too simple, it may underfit.\n",
        "Example: Using a single decision tree to predict house prices based on features like size, location, etc.\n",
        "\n",
        "Multiple Model Training:\n",
        "\n",
        "In multiple model training, you train several models, often on different subsets of the data, and combine their outputs to make a final prediction. This approach can improve accuracy, robustness, and generalization. Multiple models are trained, either on the full dataset or on different subsets of the data. This can be done in several ways Bagging (Bootstrap Aggregating)  Multiple models are trained on bootstrapped subsets of data, and their predictions are averaged (for regression) or voted on (for classification).\n",
        "Boosting: Multiple models are trained sequentially, where each new model focuses on the errors made by the previous ones.\n",
        "Stacking: A combination of multiple models whose predictions are used as inputs to a final model (often called the meta-model).\n",
        "Prediction: The predictions from multiple models are combined (e.g., averaged in regression or voted on in classification) to form a final prediction.\n",
        "Example: In Bagging, multiple decision trees are trained on random subsets of data, and their predictions are averaged to get a more robust final prediction."
      ],
      "metadata": {
        "id": "qPBXEYKVOMml"
      }
    },
    {
      "cell_type": "markdown",
      "source": [
        "Ques-3 Explain the concept of feature randomness in Random Forest ?\n",
        "\n",
        "Feature randomness in Random Forest refers to the technique of randomly selecting a subset of features (or predictors) when building each individual decision tree in the forest. This is a key aspect that differentiates Random Forest from a single decision tree and contributes to its ability to reduce overfitting and improve generalization.\n",
        "\n"
      ],
      "metadata": {
        "id": "tYXsZMD8Ptr5"
      }
    },
    {
      "cell_type": "markdown",
      "source": [
        "Ques-4 What is OOB (Out-of-Bag) Score ?\n",
        "\n",
        "The Out-of-Bag (OOB) score is a useful evaluation metric in Random Forest (and other ensemble methods like Bagging) to assess the performance of the model without needing a separate validation set. It leverages the concept of bootstrap sampling used in Random Forests."
      ],
      "metadata": {
        "id": "oDLeyQtoQoDs"
      }
    },
    {
      "cell_type": "markdown",
      "source": [
        "Ques-5 How can you measure the importance of features in a Random Forest model?\n",
        "\n",
        "In a Random Forest model, feature importance measures how much each feature contributes to the predictive power of the model. Random Forest provides several ways to quantify the importance of each feature, with the most commonly used methods being:\n",
        "\n",
        "1. Mean Decrease Impurity (Gini Importance)\n",
        "2. Mean Decrease Accuracy(Permutation importance)\n",
        "3. Feature importance for tree structure(TREESHAP)\n",
        "4. Out-of-Bag (OOB) Error-Based Feature Importance\n",
        "5. Importance Based on Split Gains (for Regression)"
      ],
      "metadata": {
        "id": "4XLto67ERiFR"
      }
    },
    {
      "cell_type": "markdown",
      "source": [
        "Ques-6  Explain the working principle of a Bagging Classifier ?\n",
        "\n",
        "Bagging stands for Bootstrap Aggregating, and it is an ensemble learning method that helps improve the performance of weak models by combining them into a stronger model. The basic idea behind Bagging is to train multiple instances of the same model (e.g., decision trees) on different subsets of the training data and then combine their predictions to produce a more robust and accurate final prediction."
      ],
      "metadata": {
        "id": "9m8euhe3Shdi"
      }
    },
    {
      "cell_type": "markdown",
      "source": [
        "Ques-7 How do you evaluate a Bagging Classifier’s performance ?\n",
        "\n",
        "Evaluating the performance of a Bagging Classifier involves using various metrics and techniques to assess how well the model is performing, both on the training data and on unseen (test) data. Here are some common methods for evaluating the performance of a Bagging Classifier:\n",
        "1. Accuracy\n",
        "2. Confusion matrix\n",
        "3. Precision , recall and f1 score\n",
        "4. ROC Curve and AUC (Area Under the Curve)\n",
        "5. Out of bag score(OOB Score)\n",
        "6. Cross-Validation\n",
        "7. Learning curves\n",
        "8. Comparison with a Base Model\n",
        "9. Model stability\n",
        "10. Feature importance"
      ],
      "metadata": {
        "id": "c2QL6cdhTBDr"
      }
    },
    {
      "cell_type": "markdown",
      "source": [
        "Ques-8  How does a Bagging Regressor work ?\n",
        "\n",
        "A Bagging Regressor works based on the Bagging (Bootstrap Aggregating) ensemble learning technique, but instead of performing classification, it performs regression. The main goal of Bagging in regression is to improve the stability and accuracy of the model by reducing variance and minimizing the likelihood of overfitting."
      ],
      "metadata": {
        "id": "Bcpg1cm6UHSL"
      }
    },
    {
      "cell_type": "markdown",
      "source": [
        "Ques-9 What is the main advantage of ensemble techniques ?\n",
        "\n",
        "The main advantage of ensemble techniques is their ability to improve the overall performance of a model by combining multiple models to make a final prediction. By aggregating the predictions of several models, ensemble methods tend to reduce variance, bias, and error in comparison to using a single model. This leads to a more robust and accurate overall model.\n",
        "1. Reduce overfitting\n",
        "2. Improved Accuracy\n",
        "3. Robustness to Noise\n",
        "4. Better generalization\n",
        "5. Reduction in bias\n",
        "6. Versatility with Different Model Types\n",
        "7. Handling complex relationship\n",
        "8. Improved Performance with Diverse Models"
      ],
      "metadata": {
        "id": "OjiXEOkZUXXE"
      }
    },
    {
      "cell_type": "markdown",
      "source": [
        "Ques-10  What is the main challenge of ensemble methods ?\n",
        "\n",
        "The main challenge of ensemble methods is that they can be computationally expensive and complex to implement, especially when the number of base models is large or when the models are complex. While ensemble methods generally lead to improved performance, they come with several challenges that need to be considered:\n",
        "\n",
        "1. Increased Computational Cost\n",
        "2. Model interpretability\n",
        "3. Risk of Overfitting (if not carefully tuned)\n",
        "4. Large memory requirnment\n",
        "5. Diminshing returns\n",
        "6. Model Diversity"
      ],
      "metadata": {
        "id": "VMlEuJiqVErS"
      }
    },
    {
      "cell_type": "markdown",
      "source": [
        "Ques-11 Explain the key idea behind ensemble techniques ?\n",
        "\n",
        "The key idea behind ensemble techniques is to combine multiple individual models (also called base models or learners) to create a stronger and more robust model. By aggregating the predictions of several models, ensemble methods aim to leverage the strengths of different models and reduce errors, resulting in better overall performance than any single model.\n",
        "\n",
        "Ensemble methods are based on the principle that multiple weak models can work together to form a strong model. The main intuition is that, while individual models might have certain weaknesses (like overfitting or high variance), combining their predictions can help cancel out their mistakes and improve generalization on unseen data."
      ],
      "metadata": {
        "id": "dQSCZEVlVrAY"
      }
    },
    {
      "cell_type": "markdown",
      "source": [
        "Ques-12 What is a Random Forest Classifier ?\n",
        "\n",
        "A Random Forest Classifier is an ensemble learning algorithm used for classification tasks, which builds multiple decision trees and combines their predictions to make a final decision. It is a type of Bagging (Bootstrap Aggregating) method, where the primary goal is to improve the performance and accuracy of individual decision trees by reducing overfitting and variance."
      ],
      "metadata": {
        "id": "eFS8pHB6WCmb"
      }
    },
    {
      "cell_type": "markdown",
      "source": [
        "Ques-13 What are the main types of ensemble techniques?\n",
        "\n",
        "Ensemble techniques combine multiple individual models (also known as base models or learners) to create a more powerful and robust model. The main goal is to improve the overall predictive performance, generalization, and accuracy compared to a single model. There are several types of ensemble techniques, each with different approaches for combining the models.\n",
        "\n",
        "The main types of ensemble techniques are:\n",
        "\n",
        "1. Bagging (Bootstrap Aggregating)\n",
        "2. Boosting\n",
        "3. Stacking\n",
        "4. Voting classifier\n"
      ],
      "metadata": {
        "id": "TyAJLrVSWc2p"
      }
    },
    {
      "cell_type": "markdown",
      "source": [
        "Ques-14 What is ensemble learning in machine learning ?\n",
        "\n",
        "Ensemble learning in machine learning refers to a technique that combines the predictions of multiple individual models (also called base learners or weak learners) to create a more powerful and robust model. The primary goal of ensemble learning is to improve the overall performance, accuracy, and generalization ability of a model by leveraging the strengths of different models. Ensemble methods often outperform a single model by reducing the risk of overfitting, variance, or bias."
      ],
      "metadata": {
        "id": "r4obZzo2XDue"
      }
    },
    {
      "cell_type": "markdown",
      "source": [
        "Ques-15 When should we avoid using ensemble methods ?\n",
        "\n",
        "While ensemble methods are powerful and often provide improved performance, there are certain situations where using them might not be the best choice. Here are some scenarios where you may want to avoid or reconsider using ensemble methods:\n",
        "\n",
        "1. When You Need Interpretability\n",
        "2. when the computational cost is a concern\n",
        "3. When your data is small\n",
        "4. When the problem is very simple\n",
        "5. When You Have Highly Correlated Base Models\n",
        "6. When Overfitting is a Serious Concern\n",
        "7. When you dont need the extra complexity\n",
        "8. When You're Working in Real-Time or Production Environments\n"
      ],
      "metadata": {
        "id": "GOXFe4pSXS5q"
      }
    },
    {
      "cell_type": "markdown",
      "source": [
        "Ques-16. How does Bagging help in reducing overfitting?\n",
        "\n",
        "Bagging (Bootstrap Aggregating) helps in reducing overfitting by combining the predictions of multiple models trained on different random subsets of the training data.\n",
        "\n",
        "Variance Reduction:\n",
        "\n",
        " By averaging predictions across many models trained on different data subsets, bagging reduces the variance of the final prediction, thus preventing overfitting that comes from high-variance models.\n",
        "\n",
        "Noise and Outlier Robustness:\n",
        "\n",
        "Bagging's ability to aggregate models trained on different random subsets of data makes it more robust to noisy data and outliers, preventing a single model from being overly influenced by them.\n",
        "\n",
        "Simpler Models:\n",
        "\n",
        "Using simpler base models (such as shallow decision trees) helps prevent individual models from becoming too complex and overfitting the training data. The ensemble, however, can still perform well due to the diversity of models.\n",
        "\n",
        "\n",
        "Better Generalization:\n",
        "\n",
        "By combining the predictions of multiple models, bagging improves the ability to generalize to new, unseen data, thus helping to avoid overfitting."
      ],
      "metadata": {
        "id": "I5AVx3WfYzfy"
      }
    },
    {
      "cell_type": "markdown",
      "source": [
        "Ques-17 Why is Random Forest better than a single Decision Tree ?\n",
        "\n",
        "Random Forest is often considered better than a single decision tree for several reasons, primarily due to its ability to improve accuracy, reduce overfitting, and enhance generalization"
      ],
      "metadata": {
        "id": "xy8Zay9LZmUU"
      }
    },
    {
      "cell_type": "markdown",
      "source": [
        "Ques-18 What is the role of bootstrap sampling in Bagging ?\n",
        "\n",
        "The role of bootstrap sampling in Bagging (Bootstrap Aggregating) is crucial for improving the performance and stability of the model. Bootstrap sampling is the technique of creating multiple random subsets (called bootstrap samples) of the original training dataset by sampling with replacement. This means that some data points may appear multiple times in a subset, while others might not appear at all."
      ],
      "metadata": {
        "id": "SER2zd2ZaSn4"
      }
    },
    {
      "cell_type": "markdown",
      "source": [
        "Ques-19 What are some real-world applications of ensemble techniques?\n",
        "\n",
        "Ensemble techniques are widely used in various real-world applications due to their ability to improve model accuracy, reduce overfitting, and handle complex data. Here are some prominent examples of how ensemble techniques are applied across different industries:\n",
        "\n",
        "1. Healthcare and Medical Diagnosis\n",
        "2. Finance and risk management\n",
        "3. E-commerce and Marketing\n",
        "4. Autonoumus vehicle\n",
        "5. Natural Language Processing (NLP)\n",
        "6. Image and Video Processing\n",
        "7. Energy sector\n",
        "8. Manufacturing and Quality Control\n",
        "9. Sports Analytics\n",
        "10. Social Media and Content Moderation\n",
        "11. Cyber security"
      ],
      "metadata": {
        "id": "g-H4jkIYa-3l"
      }
    },
    {
      "cell_type": "markdown",
      "source": [
        "Ques-20 What is the difference between Bagging and Boosting?\n",
        "\n",
        "Bagging and Boosting are both ensemble learning techniques used to combine multiple models to improve the overall performance of a machine learning model. However, they differ in their approach, the way models are trained, and the types of problems they are best suited to solve."
      ],
      "metadata": {
        "id": "T03xO6kqqIdl"
      }
    },
    {
      "cell_type": "markdown",
      "source": [
        "# **PRACTICAL QUESTIONS**"
      ],
      "metadata": {
        "id": "UHbTGEIYu-fc"
      }
    },
    {
      "cell_type": "markdown",
      "source": [
        "Ques-21  Train a Bagging Classifier using Decision Trees on a sample dataset and print model accuracy ?"
      ],
      "metadata": {
        "id": "VeRXaW5tvFAe"
      }
    },
    {
      "cell_type": "code",
      "execution_count": 13,
      "metadata": {
        "colab": {
          "base_uri": "https://localhost:8080/"
        },
        "id": "Hi9_ZID-Nofn",
        "outputId": "f358b04e-4ddd-4b81-9824-17d4a4811212"
      },
      "outputs": [
        {
          "output_type": "execute_result",
          "data": {
            "text/plain": [
              "0.5"
            ]
          },
          "metadata": {},
          "execution_count": 13
        }
      ],
      "source": [
        "#Importing neccessary libraries\n",
        "import numpy as np\n",
        "import pandas as pd\n",
        "from sklearn.model_selection import train_test_split\n",
        "\n",
        "# Generating random sample data\n",
        "np.random.seed(42)\n",
        "X = np.random.rand(100, 3)\n",
        "y = np.random.randint(0, 2, size=100)\n",
        "\n",
        "# Create a DataFrame for better readability\n",
        "data = pd.DataFrame(X, columns=['Feature1', 'Feature2', 'Feature3'])\n",
        "data['Target'] = y\n",
        "\n",
        "#devide x and y\n",
        "x = data[['Feature1', 'Feature2', 'Feature3']]\n",
        "y = data['Target']\n",
        "\n",
        "#Train test split\n",
        "xtrain , xtest, ytrain , ytest = train_test_split(x ,y , test_size= 0.20 , random_state=1)\n",
        "\n",
        "#Model training\n",
        "from sklearn.tree import DecisionTreeClassifier\n",
        "from sklearn.ensemble import BaggingClassifier\n",
        "\n",
        "# Create a BaggingClassifier with an instance of the base model\n",
        "bagging_model = BaggingClassifier(DecisionTreeClassifier(random_state=42), random_state=42)\n",
        "\n",
        "# Train and use the model\n",
        "bagging_model.fit(xtrain, ytrain)\n",
        "ypred = bagging_model.predict(xtest)\n",
        "\n",
        "#Model evaluation\n",
        "from sklearn.metrics import accuracy_score\n",
        "accuracy_score(ypred , ytest)"
      ]
    },
    {
      "cell_type": "markdown",
      "source": [
        "Ques-22  Train a Bagging Regressor using Decision Trees and evaluate using Mean Squared Error (MSE) ?"
      ],
      "metadata": {
        "id": "ho5C4nDKit96"
      }
    },
    {
      "cell_type": "code",
      "source": [
        "#Importing neccessary libraries\n",
        "import numpy as np\n",
        "import pandas as pd\n",
        "from sklearn.model_selection import train_test_split\n",
        "\n",
        "# Generating random sample data\n",
        "np.random.seed(42)\n",
        "X = np.random.rand(100, 3)\n",
        "y = np.random.randint(0, 2, size=100)\n",
        "\n",
        "# Create a DataFrame for better readability\n",
        "data = pd.DataFrame(X, columns=['Feature1', 'Feature2', 'Feature3'])\n",
        "data['Target'] = y\n",
        "\n",
        "#devide x and y\n",
        "x = data[['Feature1', 'Feature2', 'Feature3']]\n",
        "y = data['Target']\n",
        "\n",
        "#Train test split\n",
        "xtrain , xtest, ytrain , ytest = train_test_split(x ,y , test_size= 0.20 , random_state=1)\n",
        "\n",
        "#Model training\n",
        "from sklearn.tree import DecisionTreeRegressor\n",
        "from sklearn.ensemble import BaggingRegressor\n",
        "\n",
        "# Create a Bagging Regressor with an instance of the base model\n",
        "bagging_model = BaggingRegressor(DecisionTreeRegressor(random_state=42), random_state=42)\n",
        "\n",
        "# Train and use the model\n",
        "bagging_model.fit(xtrain, ytrain)\n",
        "ypred = bagging_model.predict(xtest)\n",
        "\n",
        "#Model evaluation\n",
        "from sklearn.metrics import mean_absolute_error\n",
        "mean_absolute_error(ypred , ytest)"
      ],
      "metadata": {
        "colab": {
          "base_uri": "https://localhost:8080/"
        },
        "id": "yI8DxPiei0oY",
        "outputId": "6056516e-daae-427e-d185-9157ac7e9365"
      },
      "execution_count": 14,
      "outputs": [
        {
          "output_type": "execute_result",
          "data": {
            "text/plain": [
              "0.5150000000000001"
            ]
          },
          "metadata": {},
          "execution_count": 14
        }
      ]
    },
    {
      "cell_type": "markdown",
      "source": [
        "Ques-23 Train a Random Forest Classifier on the Breast Cancer dataset and print feature importance scores ?"
      ],
      "metadata": {
        "id": "vIKbAHY4j28F"
      }
    },
    {
      "cell_type": "code",
      "source": [
        "#Import neccessary libraries\n",
        "import pandas as pd\n",
        "import numpy as np\n",
        "from sklearn.model_selection import train_test_split\n",
        "from sklearn.datasets import load_breast_cancer\n",
        "from sklearn.ensemble import RandomForestClassifier\n",
        "from sklearn.metrics import accuracy_score , mean_squared_error , mean_absolute_error\n",
        "\n",
        "#Load the dataset\n",
        "data = load_breast_cancer()\n",
        "df = pd.DataFrame(data.data , columns = data.feature_names)\n",
        "\n",
        "#Devide x and y\n",
        "x = df\n",
        "y = data.target\n",
        "\n",
        "#Train test split\n",
        "xtrain ,xtest, ytrain , ytest = train_test_split(x ,y , test_size= 0.30 , random_state= 1)\n",
        "\n",
        "#Model training and prediction\n",
        "clf = RandomForestClassifier()\n",
        "clf.fit(xtrain , ytrain)\n",
        "ypred = clf.predict(xtest)\n",
        "\n",
        "#Model evaluation\n",
        "MSE = mean_squared_error(ytest , ypred)\n",
        "MAE = mean_absolute_error(ytest, ypred)\n",
        "Accuracy = accuracy_score(ytest , ypred)\n",
        "\n",
        "print(f\"MEAN SQUARED ERROR : {MSE}\")\n",
        "print(f\"MEAN ABSOLUTE ERROR : {MAE}\")\n",
        "print(f\"Accuracy : {Accuracy}\")\n"
      ],
      "metadata": {
        "colab": {
          "base_uri": "https://localhost:8080/"
        },
        "id": "kY6vwik-j0m7",
        "outputId": "d8e38c72-63d8-4f31-889b-19ab33299d49"
      },
      "execution_count": 19,
      "outputs": [
        {
          "output_type": "stream",
          "name": "stdout",
          "text": [
            "MEAN SQUARED ERROR : 0.04093567251461988\n",
            "MEAN ABSOLUTE ERROR : 0.04093567251461988\n",
            "Accuracy : 0.9590643274853801\n"
          ]
        }
      ]
    },
    {
      "cell_type": "markdown",
      "source": [
        "Ques-24 Train a Random Forest Regressor and compare its performance with a single Decision Tree ?"
      ],
      "metadata": {
        "id": "bVsjSFTMmSsg"
      }
    },
    {
      "cell_type": "code",
      "source": [
        "from sklearn.datasets import fetch_california_housing\n",
        "from sklearn.model_selection import train_test_split\n",
        "from sklearn.ensemble import RandomForestRegressor\n",
        "from sklearn.tree import DecisionTreeRegressor\n",
        "from sklearn.metrics import mean_squared_error, r2_score\n",
        "\n",
        "# Load dataset (California housing data)\n",
        "data = fetch_california_housing()\n",
        "X = data.data\n",
        "y = data.target\n",
        "\n",
        "# Split the data into training and test sets\n",
        "X_train, X_test, y_train, y_test = train_test_split(X, y, test_size=0.2, random_state=42)\n",
        "\n",
        "# Initialize the models\n",
        "decision_tree = DecisionTreeRegressor(random_state=42)\n",
        "random_forest = RandomForestRegressor(random_state=42)\n",
        "\n",
        "# Train the Decision Tree model\n",
        "decision_tree.fit(X_train, y_train)\n",
        "\n",
        "# Train the Random Forest model\n",
        "random_forest.fit(X_train, y_train)\n",
        "\n",
        "# Predict using both models\n",
        "y_pred_dt = decision_tree.predict(X_test)\n",
        "y_pred_rf = random_forest.predict(X_test)\n",
        "\n",
        "# Evaluate the performance of both models\n",
        "mse_dt = mean_squared_error(y_test, y_pred_dt)\n",
        "mse_rf = mean_squared_error(y_test, y_pred_rf)\n",
        "\n",
        "r2_dt = r2_score(y_test, y_pred_dt)\n",
        "r2_rf = r2_score(y_test, y_pred_rf)\n",
        "\n",
        "# Display the results\n",
        "print(f\"Decision Tree - MSE: {mse_dt:.4f}, R2: {r2_dt:.4f}\")\n",
        "print(f\"Random Forest - MSE: {mse_rf:.4f}, R2: {r2_rf:.4f}\")\n"
      ],
      "metadata": {
        "colab": {
          "base_uri": "https://localhost:8080/"
        },
        "id": "J76XzjpzkePT",
        "outputId": "549fcd2e-a63c-4e75-e63d-4de9cf230ca9"
      },
      "execution_count": 20,
      "outputs": [
        {
          "output_type": "stream",
          "name": "stdout",
          "text": [
            "Decision Tree - MSE: 0.4952, R2: 0.6221\n",
            "Random Forest - MSE: 0.2554, R2: 0.8051\n"
          ]
        }
      ]
    },
    {
      "cell_type": "markdown",
      "source": [
        "Ques-25 Compute the Out-of-Bag (OOB) Score for a Random Forest Classifier ?"
      ],
      "metadata": {
        "id": "QIwXU4nKm5lh"
      }
    },
    {
      "cell_type": "code",
      "source": [
        "from sklearn.datasets import load_iris\n",
        "from sklearn.ensemble import RandomForestClassifier\n",
        "\n",
        "# Load the iris dataset\n",
        "data = load_iris()\n",
        "X = data.data\n",
        "y = data.target\n",
        "\n",
        "# Create a RandomForestClassifier with OOB score enabled\n",
        "rf_model = RandomForestClassifier(n_estimators=100, oob_score=True, random_state=42)\n",
        "\n",
        "# Train the model\n",
        "rf_model.fit(X, y)\n",
        "\n",
        "# Get the OOB score\n",
        "oob_score = rf_model.oob_score_\n",
        "\n",
        "# Print the OOB score\n",
        "print(f\"Out-of-Bag (OOB) Score: {oob_score:.4f}\")\n"
      ],
      "metadata": {
        "colab": {
          "base_uri": "https://localhost:8080/"
        },
        "id": "TLRhf9wFmp5E",
        "outputId": "9e0afe68-fcd7-46ed-9985-f4ceb587af97"
      },
      "execution_count": 21,
      "outputs": [
        {
          "output_type": "stream",
          "name": "stdout",
          "text": [
            "Out-of-Bag (OOB) Score: 0.9533\n"
          ]
        }
      ]
    },
    {
      "cell_type": "markdown",
      "source": [
        "Ques-26 Train a Bagging Classifier using SVM as a base estimator and print accuracy ?"
      ],
      "metadata": {
        "id": "n2t9Q4Y-nNN6"
      }
    },
    {
      "cell_type": "code",
      "source": [
        "#Importing neccessary libraries\n",
        "import numpy as np\n",
        "import pandas as pd\n",
        "from sklearn.model_selection import train_test_split\n",
        "\n",
        "# Generating random sample data\n",
        "np.random.seed(42)\n",
        "X = np.random.rand(100, 3)\n",
        "y = np.random.randint(0, 2, size=100)\n",
        "\n",
        "# Create a DataFrame for better readability\n",
        "data = pd.DataFrame(X, columns=['Feature1', 'Feature2', 'Feature3'])\n",
        "data['Target'] = y\n",
        "\n",
        "#devide x and y\n",
        "x = data[['Feature1', 'Feature2', 'Feature3']]\n",
        "y = data['Target']\n",
        "\n",
        "#Train test split\n",
        "xtrain , xtest, ytrain , ytest = train_test_split(x ,y , test_size= 0.20 , random_state=1)\n",
        "\n",
        "#Model training\n",
        "from sklearn.svm import SVC\n",
        "from sklearn.ensemble import BaggingClassifier\n",
        "\n",
        "# Create a BaggingClassifier with an instance of the base model\n",
        "bagging_model = BaggingClassifier(SVC(random_state=42), random_state=42)\n",
        "\n",
        "# Train and use the model\n",
        "bagging_model.fit(xtrain, ytrain)\n",
        "ypred = bagging_model.predict(xtest)\n",
        "\n",
        "#Model evaluation\n",
        "from sklearn.metrics import accuracy_score\n",
        "accuracy_score(ypred , ytest)"
      ],
      "metadata": {
        "colab": {
          "base_uri": "https://localhost:8080/"
        },
        "id": "xPLC4fjJnMQF",
        "outputId": "948f4d39-e70d-4c65-ba8c-bc3a5453b8d5"
      },
      "execution_count": 22,
      "outputs": [
        {
          "output_type": "execute_result",
          "data": {
            "text/plain": [
              "0.65"
            ]
          },
          "metadata": {},
          "execution_count": 22
        }
      ]
    },
    {
      "cell_type": "markdown",
      "source": [
        "Ques-27 Train a Random Forest Classifier with different numbers of trees and compare accuracy ?"
      ],
      "metadata": {
        "id": "E2a5tUIxnubr"
      }
    },
    {
      "cell_type": "code",
      "source": [
        "from sklearn.datasets import load_iris\n",
        "from sklearn.ensemble import RandomForestClassifier\n",
        "from sklearn.model_selection import train_test_split\n",
        "from sklearn.metrics import accuracy_score\n",
        "import matplotlib.pyplot as plt\n",
        "\n",
        "# Load the iris dataset\n",
        "data = load_iris()\n",
        "X = data.data\n",
        "y = data.target\n",
        "\n",
        "# Split the dataset into training and testing sets\n",
        "X_train, X_test, y_train, y_test = train_test_split(X, y, test_size=0.3, random_state=42)\n",
        "\n",
        "# List of different values for the number of trees\n",
        "n_estimators_list = [10, 50, 100, 200, 500]\n",
        "\n",
        "# Store accuracy scores for each value of n_estimators\n",
        "accuracy_scores = []\n",
        "\n",
        "# Train and evaluate RandomForestClassifier with different numbers of trees\n",
        "for n_estimators in n_estimators_list:\n",
        "    rf_model = RandomForestClassifier(n_estimators=n_estimators, random_state=42)\n",
        "    rf_model.fit(X_train, y_train)  # Train the model\n",
        "    y_pred = rf_model.predict(X_test)  # Make predictions\n",
        "    accuracy = accuracy_score(y_test, y_pred)  # Calculate accuracy\n",
        "    accuracy_scores.append(accuracy)  # Store accuracy\n",
        "\n",
        "# Plotting the accuracy vs number of trees\n",
        "plt.plot(n_estimators_list, accuracy_scores, marker='o')\n",
        "plt.title(\"Random Forest Classifier Accuracy vs Number of Trees\")\n",
        "plt.xlabel(\"Number of Trees (n_estimators)\")\n",
        "plt.ylabel(\"Accuracy\")\n",
        "plt.grid(True)\n",
        "plt.show()\n",
        "\n",
        "# Print the accuracy scores\n",
        "for n_estimators, accuracy in zip(n_estimators_list, accuracy_scores):\n",
        "    print(f\"Number of trees: {n_estimators} - Accuracy: {accuracy:.4f}\")\n"
      ],
      "metadata": {
        "colab": {
          "base_uri": "https://localhost:8080/",
          "height": 559
        },
        "id": "UwnMfnLznsxZ",
        "outputId": "75fe9d24-558f-4de4-c2fe-14335899b969"
      },
      "execution_count": 23,
      "outputs": [
        {
          "output_type": "display_data",
          "data": {
            "text/plain": [
              "<Figure size 640x480 with 1 Axes>"
            ],
            "image/png": "[encoded data removed]"
          },
          "metadata": {}
        },
        {
          "output_type": "stream",
          "name": "stdout",
          "text": [
            "Number of trees: 10 - Accuracy: 1.0000\n",
            "Number of trees: 50 - Accuracy: 1.0000\n",
            "Number of trees: 100 - Accuracy: 1.0000\n",
            "Number of trees: 200 - Accuracy: 1.0000\n",
            "Number of trees: 500 - Accuracy: 1.0000\n"
          ]
        }
      ]
    },
    {
      "cell_type": "markdown",
      "source": [
        "Ques-28 Train a Bagging Classifier using Logistic Regression as a base estimator and print AUC score ?"
      ],
      "metadata": {
        "id": "aepa3HwdoVN7"
      }
    },
    {
      "cell_type": "code",
      "source": [
        "#Importing neccessary libraries\n",
        "import numpy as np\n",
        "import pandas as pd\n",
        "from sklearn.model_selection import train_test_split\n",
        "\n",
        "# Generating random sample data\n",
        "np.random.seed(42)\n",
        "X = np.random.rand(100, 3)\n",
        "y = np.random.randint(0, 2, size=100)\n",
        "\n",
        "# Create a DataFrame for better readability\n",
        "data = pd.DataFrame(X, columns=['Feature1', 'Feature2', 'Feature3'])\n",
        "data['Target'] = y\n",
        "\n",
        "#devide x and y\n",
        "x = data[['Feature1', 'Feature2', 'Feature3']]\n",
        "y = data['Target']\n",
        "\n",
        "#Train test split\n",
        "xtrain , xtest, ytrain , ytest = train_test_split(x ,y , test_size= 0.20 , random_state=1)\n",
        "\n",
        "#Model training\n",
        "from sklearn.linear_model import LogisticRegression\n",
        "from sklearn.ensemble import BaggingClassifier\n",
        "\n",
        "# Create a BaggingClassifier with an instance of the base model\n",
        "bagging_model = BaggingClassifier(LogisticRegression(random_state=42), random_state=42)\n",
        "\n",
        "# Train and use the model\n",
        "bagging_model.fit(xtrain, ytrain)\n",
        "ypred = bagging_model.predict(xtest)\n",
        "\n",
        "#Model evaluation\n",
        "from sklearn.metrics import accuracy_score\n",
        "accuracy_score(ypred , ytest)"
      ],
      "metadata": {
        "colab": {
          "base_uri": "https://localhost:8080/"
        },
        "id": "oWXbCDDNoGKO",
        "outputId": "d6468e97-4d2b-4c24-b2d2-343287e9ec91"
      },
      "execution_count": 24,
      "outputs": [
        {
          "output_type": "execute_result",
          "data": {
            "text/plain": [
              "0.4"
            ]
          },
          "metadata": {},
          "execution_count": 24
        }
      ]
    },
    {
      "cell_type": "markdown",
      "source": [
        "Ques-29 Train a Random Forest Regressor and analyze feature importance scores ?"
      ],
      "metadata": {
        "id": "sWpHf05ypDEW"
      }
    },
    {
      "cell_type": "code",
      "source": [
        "#Import neccessary libraries\n",
        "import pandas as pd\n",
        "import numpy as np\n",
        "from sklearn.model_selection import train_test_split\n",
        "from sklearn.ensemble import RandomForestRegressor\n",
        "\n",
        "# Load the dataset\n",
        "np.random.seed(42)\n",
        "X = np.random.rand(100, 3)\n",
        "y = np.random.randint(0, 2, size=100)\n",
        "\n",
        "# Create a DataFrame for better readability\n",
        "data = pd.DataFrame(X, columns=['Feature1', 'Feature2', 'Feature3'])\n",
        "data['Target'] = y\n",
        "\n",
        "#devide x and y\n",
        "x = data[['Feature1', 'Feature2', 'Feature3']]\n",
        "y = data['Target']\n",
        "\n",
        "#Train test split\n",
        "xtrain ,xtest, ytrain , ytest = train_test_split(x, y, test_size= 0.20 , random_state=1)\n",
        "\n",
        "#Model training and prediction\n",
        "Regressor = RandomForestRegressor()\n",
        "Regressor.fit(xtrain , ytrain)\n",
        "ypred = Regressor.predict(xtest)\n",
        "\n",
        "#Model evaluation\n",
        "from sklearn.metrics import r2_score\n",
        "r2_score(ytest , ypred)"
      ],
      "metadata": {
        "colab": {
          "base_uri": "https://localhost:8080/"
        },
        "id": "1ZQcx11zpBeu",
        "outputId": "e4d88bad-6d49-4654-8928-f0bc5b0349b9"
      },
      "execution_count": 28,
      "outputs": [
        {
          "output_type": "execute_result",
          "data": {
            "text/plain": [
              "-0.14581249999999946"
            ]
          },
          "metadata": {},
          "execution_count": 28
        }
      ]
    },
    {
      "cell_type": "markdown",
      "source": [
        "Ques-30  Train an ensemble model using both Bagging and Random Forest and compare accuracy ?"
      ],
      "metadata": {
        "id": "XkklwFWLq1AM"
      }
    },
    {
      "cell_type": "code",
      "source": [
        "from sklearn.datasets import load_iris\n",
        "from sklearn.model_selection import train_test_split\n",
        "from sklearn.ensemble import BaggingClassifier, RandomForestClassifier\n",
        "from sklearn.tree import DecisionTreeClassifier\n",
        "from sklearn.metrics import accuracy_score\n",
        "\n",
        "# Load the iris dataset\n",
        "data = load_iris()\n",
        "X = data.data\n",
        "y = data.target\n",
        "\n",
        "# Split the dataset into training and testing sets\n",
        "X_train, X_test, y_train, y_test = train_test_split(X, y, test_size=0.3, random_state=42)\n",
        "\n",
        "# Initialize the base model for Bagging (Decision Tree)\n",
        "base_model = DecisionTreeClassifier(random_state=42)\n",
        "\n",
        "# Bagging Classifier\n",
        "bagging_model = BaggingClassifier(base_model, n_estimators=100, random_state=42)\n",
        "\n",
        "# Random Forest Classifier\n",
        "random_forest_model = RandomForestClassifier(n_estimators=100, random_state=42)\n",
        "\n",
        "# Train both models\n",
        "bagging_model.fit(X_train, y_train)\n",
        "random_forest_model.fit(X_train, y_train)\n",
        "\n",
        "# Make predictions\n",
        "y_pred_bagging = bagging_model.predict(X_test)\n",
        "y_pred_rf = random_forest_model.predict(X_test)\n",
        "\n",
        "# Calculate accuracy for both models\n",
        "accuracy_bagging = accuracy_score(y_test, y_pred_bagging)\n",
        "accuracy_rf = accuracy_score(y_test, y_pred_rf)\n",
        "\n",
        "# Print the results\n",
        "print(f\"Bagging Classifier Accuracy: {accuracy_bagging:.4f}\")\n",
        "print(f\"Random Forest Classifier Accuracy: {accuracy_rf:.4f}\")\n"
      ],
      "metadata": {
        "colab": {
          "base_uri": "https://localhost:8080/"
        },
        "id": "15NH4w7GqKCL",
        "outputId": "1a84d79c-6e62-43a3-e5e3-c40c1963709a"
      },
      "execution_count": 30,
      "outputs": [
        {
          "output_type": "stream",
          "name": "stdout",
          "text": [
            "Bagging Classifier Accuracy: 1.0000\n",
            "Random Forest Classifier Accuracy: 1.0000\n"
          ]
        }
      ]
    },
    {
      "cell_type": "markdown",
      "source": [
        "Ques-31  Train a Random Forest Classifier and tune hyperparameters using GridSearchCV ?"
      ],
      "metadata": {
        "id": "zWCEQ2YQukw2"
      }
    },
    {
      "cell_type": "code",
      "source": [
        "# Import necessary libraries\n",
        "import numpy as np\n",
        "import pandas as pd\n",
        "from sklearn.model_selection import train_test_split, GridSearchCV\n",
        "from sklearn.ensemble import RandomForestClassifier\n",
        "from sklearn.datasets import load_iris\n",
        "from sklearn.metrics import accuracy_score\n",
        "\n",
        "# Load the Iris dataset (you can replace this with your own dataset)\n",
        "data = load_iris()\n",
        "X = data.data\n",
        "y = data.target\n",
        "\n",
        "# Split the dataset into training and testing sets\n",
        "X_train, X_test, y_train, y_test = train_test_split(X, y, test_size=0.3, random_state=42)\n",
        "\n",
        "# Define the Random Forest Classifier\n",
        "rf_classifier = RandomForestClassifier(random_state=42)\n",
        "\n",
        "# Set up the parameter grid for GridSearchCV\n",
        "param_grid = {\n",
        "    'n_estimators': [50, 100, 200],  # Number of trees in the forest\n",
        "    'max_depth': [None, 10, 20, 30],  # Maximum depth of each tree\n",
        "    'min_samples_split': [2, 5, 10],  # Minimum samples required to split a node\n",
        "    'min_samples_leaf': [1, 2, 4],    # Minimum samples required to be at a leaf node\n",
        "    'max_features': ['auto', 'sqrt', 'log2'],  # Number of features to consider for the best split\n",
        "    'bootstrap': [True, False]  # Whether bootstrap samples are used when building trees\n",
        "}\n",
        "\n",
        "# Set up GridSearchCV with cross-validation (cv=5)\n",
        "grid_search = GridSearchCV(estimator=rf_classifier, param_grid=param_grid,\n",
        "                           cv=5, n_jobs=-1, verbose=2)\n",
        "\n",
        "# Train the model using GridSearchCV\n",
        "grid_search.fit(X_train, y_train)\n",
        "\n",
        "# Print the best hyperparameters found by GridSearchCV\n",
        "print(f\"Best Hyperparameters: {grid_search.best_params_}\")\n",
        "\n",
        "# Evaluate the best model on the test set\n",
        "best_rf_model = grid_search.best_estimator_\n",
        "y_pred = best_rf_model.predict(X_test)\n",
        "\n",
        "# Calculate accuracy\n",
        "accuracy = accuracy_score(y_test, y_pred)\n",
        "print(f\"Test Set Accuracy: {accuracy:.4f}\")\n"
      ],
      "metadata": {
        "colab": {
          "base_uri": "https://localhost:8080/"
        },
        "id": "84XYkileuQon",
        "outputId": "dd9703e2-369a-49b7-fd76-4e55d504b4f1"
      },
      "execution_count": 31,
      "outputs": [
        {
          "output_type": "stream",
          "name": "stdout",
          "text": [
            "Fitting 5 folds for each of 648 candidates, totalling 3240 fits\n",
            "Best Hyperparameters: {'bootstrap': True, 'max_depth': None, 'max_features': 'sqrt', 'min_samples_leaf': 1, 'min_samples_split': 2, 'n_estimators': 100}\n",
            "Test Set Accuracy: 1.0000\n"
          ]
        },
        {
          "output_type": "stream",
          "name": "stderr",
          "text": [
            "/usr/local/lib/python3.11/dist-packages/sklearn/model_selection/_validation.py:528: FitFailedWarning: \n",
            "1080 fits failed out of a total of 3240.\n",
            "The score on these train-test partitions for these parameters will be set to nan.\n",
            "If these failures are not expected, you can try to debug them by setting error_score='raise'.\n",
            "\n",
            "Below are more details about the failures:\n",
            "--------------------------------------------------------------------------------\n",
            "530 fits failed with the following error:\n",
            "Traceback (most recent call last):\n",
            "  File \"/usr/local/lib/python3.11/dist-packages/sklearn/model_selection/_validation.py\", line 866, in _fit_and_score\n",
            "    estimator.fit(X_train, y_train, **fit_params)\n",
            "  File \"/usr/local/lib/python3.11/dist-packages/sklearn/base.py\", line 1382, in wrapper\n",
            "    estimator._validate_params()\n",
            "  File \"/usr/local/lib/python3.11/dist-packages/sklearn/base.py\", line 436, in _validate_params\n",
            "    validate_parameter_constraints(\n",
            "  File \"/usr/local/lib/python3.11/dist-packages/sklearn/utils/_param_validation.py\", line 98, in validate_parameter_constraints\n",
            "    raise InvalidParameterError(\n",
            "sklearn.utils._param_validation.InvalidParameterError: The 'max_features' parameter of RandomForestClassifier must be an int in the range [1, inf), a float in the range (0.0, 1.0], a str among {'log2', 'sqrt'} or None. Got 'auto' instead.\n",
            "\n",
            "--------------------------------------------------------------------------------\n",
            "550 fits failed with the following error:\n",
            "Traceback (most recent call last):\n",
            "  File \"/usr/local/lib/python3.11/dist-packages/sklearn/model_selection/_validation.py\", line 866, in _fit_and_score\n",
            "    estimator.fit(X_train, y_train, **fit_params)\n",
            "  File \"/usr/local/lib/python3.11/dist-packages/sklearn/base.py\", line 1382, in wrapper\n",
            "    estimator._validate_params()\n",
            "  File \"/usr/local/lib/python3.11/dist-packages/sklearn/base.py\", line 436, in _validate_params\n",
            "    validate_parameter_constraints(\n",
            "  File \"/usr/local/lib/python3.11/dist-packages/sklearn/utils/_param_validation.py\", line 98, in validate_parameter_constraints\n",
            "    raise InvalidParameterError(\n",
            "sklearn.utils._param_validation.InvalidParameterError: The 'max_features' parameter of RandomForestClassifier must be an int in the range [1, inf), a float in the range (0.0, 1.0], a str among {'sqrt', 'log2'} or None. Got 'auto' instead.\n",
            "\n",
            "  warnings.warn(some_fits_failed_message, FitFailedWarning)\n",
            "/usr/local/lib/python3.11/dist-packages/sklearn/model_selection/_search.py:1108: UserWarning: One or more of the test scores are non-finite: [       nan        nan        nan        nan        nan        nan\n",
            "        nan        nan        nan        nan        nan        nan\n",
            "        nan        nan        nan        nan        nan        nan\n",
            "        nan        nan        nan        nan        nan        nan\n",
            "        nan        nan        nan 0.93333333 0.94285714 0.94285714\n",
            " 0.93333333 0.94285714 0.94285714 0.93333333 0.94285714 0.94285714\n",
            " 0.94285714 0.93333333 0.93333333 0.93333333 0.93333333 0.93333333\n",
            " 0.93333333 0.93333333 0.93333333 0.94285714 0.93333333 0.93333333\n",
            " 0.94285714 0.93333333 0.93333333 0.93333333 0.93333333 0.93333333\n",
            " 0.93333333 0.94285714 0.94285714 0.93333333 0.94285714 0.94285714\n",
            " 0.93333333 0.94285714 0.94285714 0.94285714 0.93333333 0.93333333\n",
            " 0.93333333 0.93333333 0.93333333 0.93333333 0.93333333 0.93333333\n",
            " 0.94285714 0.93333333 0.93333333 0.94285714 0.93333333 0.93333333\n",
            " 0.93333333 0.93333333 0.93333333        nan        nan        nan\n",
            "        nan        nan        nan        nan        nan        nan\n",
            "        nan        nan        nan        nan        nan        nan\n",
            "        nan        nan        nan        nan        nan        nan\n",
            "        nan        nan        nan        nan        nan        nan\n",
            " 0.93333333 0.94285714 0.94285714 0.93333333 0.94285714 0.94285714\n",
            " 0.93333333 0.94285714 0.94285714 0.94285714 0.93333333 0.93333333\n",
            " 0.93333333 0.93333333 0.93333333 0.93333333 0.93333333 0.93333333\n",
            " 0.94285714 0.93333333 0.93333333 0.94285714 0.93333333 0.93333333\n",
            " 0.93333333 0.93333333 0.93333333 0.93333333 0.94285714 0.94285714\n",
            " 0.93333333 0.94285714 0.94285714 0.93333333 0.94285714 0.94285714\n",
            " 0.94285714 0.93333333 0.93333333 0.93333333 0.93333333 0.93333333\n",
            " 0.93333333 0.93333333 0.93333333 0.94285714 0.93333333 0.93333333\n",
            " 0.94285714 0.93333333 0.93333333 0.93333333 0.93333333 0.93333333\n",
            "        nan        nan        nan        nan        nan        nan\n",
            "        nan        nan        nan        nan        nan        nan\n",
            "        nan        nan        nan        nan        nan        nan\n",
            "        nan        nan        nan        nan        nan        nan\n",
            "        nan        nan        nan 0.93333333 0.94285714 0.94285714\n",
            " 0.93333333 0.94285714 0.94285714 0.93333333 0.94285714 0.94285714\n",
            " 0.94285714 0.93333333 0.93333333 0.93333333 0.93333333 0.93333333\n",
            " 0.93333333 0.93333333 0.93333333 0.94285714 0.93333333 0.93333333\n",
            " 0.94285714 0.93333333 0.93333333 0.93333333 0.93333333 0.93333333\n",
            " 0.93333333 0.94285714 0.94285714 0.93333333 0.94285714 0.94285714\n",
            " 0.93333333 0.94285714 0.94285714 0.94285714 0.93333333 0.93333333\n",
            " 0.93333333 0.93333333 0.93333333 0.93333333 0.93333333 0.93333333\n",
            " 0.94285714 0.93333333 0.93333333 0.94285714 0.93333333 0.93333333\n",
            " 0.93333333 0.93333333 0.93333333        nan        nan        nan\n",
            "        nan        nan        nan        nan        nan        nan\n",
            "        nan        nan        nan        nan        nan        nan\n",
            "        nan        nan        nan        nan        nan        nan\n",
            "        nan        nan        nan        nan        nan        nan\n",
            " 0.93333333 0.94285714 0.94285714 0.93333333 0.94285714 0.94285714\n",
            " 0.93333333 0.94285714 0.94285714 0.94285714 0.93333333 0.93333333\n",
            " 0.93333333 0.93333333 0.93333333 0.93333333 0.93333333 0.93333333\n",
            " 0.94285714 0.93333333 0.93333333 0.94285714 0.93333333 0.93333333\n",
            " 0.93333333 0.93333333 0.93333333 0.93333333 0.94285714 0.94285714\n",
            " 0.93333333 0.94285714 0.94285714 0.93333333 0.94285714 0.94285714\n",
            " 0.94285714 0.93333333 0.93333333 0.93333333 0.93333333 0.93333333\n",
            " 0.93333333 0.93333333 0.93333333 0.94285714 0.93333333 0.93333333\n",
            " 0.94285714 0.93333333 0.93333333 0.93333333 0.93333333 0.93333333\n",
            "        nan        nan        nan        nan        nan        nan\n",
            "        nan        nan        nan        nan        nan        nan\n",
            "        nan        nan        nan        nan        nan        nan\n",
            "        nan        nan        nan        nan        nan        nan\n",
            "        nan        nan        nan 0.93333333 0.93333333 0.93333333\n",
            " 0.93333333 0.93333333 0.93333333 0.94285714 0.94285714 0.94285714\n",
            " 0.93333333 0.93333333 0.93333333 0.92380952 0.93333333 0.93333333\n",
            " 0.94285714 0.93333333 0.94285714 0.93333333 0.93333333 0.93333333\n",
            " 0.93333333 0.93333333 0.93333333 0.93333333 0.93333333 0.93333333\n",
            " 0.93333333 0.93333333 0.93333333 0.93333333 0.93333333 0.93333333\n",
            " 0.94285714 0.94285714 0.94285714 0.93333333 0.93333333 0.93333333\n",
            " 0.92380952 0.93333333 0.93333333 0.94285714 0.93333333 0.94285714\n",
            " 0.93333333 0.93333333 0.93333333 0.93333333 0.93333333 0.93333333\n",
            " 0.93333333 0.93333333 0.93333333        nan        nan        nan\n",
            "        nan        nan        nan        nan        nan        nan\n",
            "        nan        nan        nan        nan        nan        nan\n",
            "        nan        nan        nan        nan        nan        nan\n",
            "        nan        nan        nan        nan        nan        nan\n",
            " 0.93333333 0.93333333 0.93333333 0.93333333 0.93333333 0.93333333\n",
            " 0.94285714 0.94285714 0.94285714 0.93333333 0.93333333 0.93333333\n",
            " 0.92380952 0.93333333 0.93333333 0.94285714 0.93333333 0.94285714\n",
            " 0.93333333 0.93333333 0.93333333 0.93333333 0.93333333 0.93333333\n",
            " 0.93333333 0.93333333 0.93333333 0.93333333 0.93333333 0.93333333\n",
            " 0.93333333 0.93333333 0.93333333 0.94285714 0.94285714 0.94285714\n",
            " 0.93333333 0.93333333 0.93333333 0.92380952 0.93333333 0.93333333\n",
            " 0.94285714 0.93333333 0.94285714 0.93333333 0.93333333 0.93333333\n",
            " 0.93333333 0.93333333 0.93333333 0.93333333 0.93333333 0.93333333\n",
            "        nan        nan        nan        nan        nan        nan\n",
            "        nan        nan        nan        nan        nan        nan\n",
            "        nan        nan        nan        nan        nan        nan\n",
            "        nan        nan        nan        nan        nan        nan\n",
            "        nan        nan        nan 0.93333333 0.93333333 0.93333333\n",
            " 0.93333333 0.93333333 0.93333333 0.94285714 0.94285714 0.94285714\n",
            " 0.93333333 0.93333333 0.93333333 0.92380952 0.93333333 0.93333333\n",
            " 0.94285714 0.93333333 0.94285714 0.93333333 0.93333333 0.93333333\n",
            " 0.93333333 0.93333333 0.93333333 0.93333333 0.93333333 0.93333333\n",
            " 0.93333333 0.93333333 0.93333333 0.93333333 0.93333333 0.93333333\n",
            " 0.94285714 0.94285714 0.94285714 0.93333333 0.93333333 0.93333333\n",
            " 0.92380952 0.93333333 0.93333333 0.94285714 0.93333333 0.94285714\n",
            " 0.93333333 0.93333333 0.93333333 0.93333333 0.93333333 0.93333333\n",
            " 0.93333333 0.93333333 0.93333333        nan        nan        nan\n",
            "        nan        nan        nan        nan        nan        nan\n",
            "        nan        nan        nan        nan        nan        nan\n",
            "        nan        nan        nan        nan        nan        nan\n",
            "        nan        nan        nan        nan        nan        nan\n",
            " 0.93333333 0.93333333 0.93333333 0.93333333 0.93333333 0.93333333\n",
            " 0.94285714 0.94285714 0.94285714 0.93333333 0.93333333 0.93333333\n",
            " 0.92380952 0.93333333 0.93333333 0.94285714 0.93333333 0.94285714\n",
            " 0.93333333 0.93333333 0.93333333 0.93333333 0.93333333 0.93333333\n",
            " 0.93333333 0.93333333 0.93333333 0.93333333 0.93333333 0.93333333\n",
            " 0.93333333 0.93333333 0.93333333 0.94285714 0.94285714 0.94285714\n",
            " 0.93333333 0.93333333 0.93333333 0.92380952 0.93333333 0.93333333\n",
            " 0.94285714 0.93333333 0.94285714 0.93333333 0.93333333 0.93333333\n",
            " 0.93333333 0.93333333 0.93333333 0.93333333 0.93333333 0.93333333]\n",
            "  warnings.warn(\n"
          ]
        }
      ]
    },
    {
      "cell_type": "markdown",
      "source": [
        "Ques-32 Train a Bagging Regressor with different numbers of base estimators and compare performance ?"
      ],
      "metadata": {
        "id": "3GIQk8Lfxvol"
      }
    },
    {
      "cell_type": "code",
      "source": [
        "# Import necessary libraries\n",
        "import numpy as np\n",
        "import pandas as pd\n",
        "from sklearn.datasets import fetch_california_housing\n",
        "from sklearn.model_selection import train_test_split\n",
        "from sklearn.ensemble import BaggingRegressor\n",
        "from sklearn.tree import DecisionTreeRegressor\n",
        "from sklearn.metrics import mean_squared_error\n",
        "import matplotlib.pyplot as plt\n",
        "\n",
        "# Load the California Housing dataset (you can replace it with your dataset)\n",
        "data = fetch_california_housing()\n",
        "X = data.data\n",
        "y = data.target\n",
        "\n",
        "# Split the data into training and testing sets\n",
        "X_train, X_test, y_train, y_test = train_test_split(X, y, test_size=0.2, random_state=42)\n",
        "\n",
        "# Initialize the base estimator (Decision Tree Regressor)\n",
        "base_estimator = DecisionTreeRegressor(random_state=42)\n",
        "\n",
        "# Number of base estimators to test\n",
        "estimators_range = [10, 50, 100, 200]\n",
        "\n",
        "# Store results for comparison\n",
        "train_errors = []\n",
        "test_errors = []\n",
        "\n",
        "# Train the Bagging Regressor with different numbers of base estimators\n",
        "for n_estimators in estimators_range:\n",
        "    # Initialize the Bagging Regressor with current number of base estimators\n",
        "    bagging_regressor = BaggingRegressor(base_estimator=base_estimator,\n",
        "                                        n_estimators=n_estimators,\n",
        "                                        random_state=42)\n",
        "\n",
        "    # Train the model\n",
        "    bagging_regressor.fit(X_train, y_train)\n",
        "\n",
        "    # Predict on the training set and test set\n",
        "    train_pred = bagging_regressor.predict(X_train)\n",
        "    test_pred = bagging_regressor.predict(X_test)\n",
        "\n",
        "    # Calculate the mean squared error for both train and test sets\n",
        "    train_mse = mean_squared_error(y_train, train_pred)\n",
        "    test_mse = mean_squared_error(y_test, test_pred)\n",
        "\n",
        "    # Append errors to the lists\n",
        "    train_errors.append(train_mse)\n",
        "    test_errors.append(test_mse)\n",
        "\n",
        "# Plot the performance comparison\n",
        "plt.figure(figsize=(10, 6))\n",
        "plt.plot(estimators_range, train_errors, label='Train Error', marker='o')\n",
        "plt.plot(estimators_range, test_errors, label='Test Error', marker='o')\n",
        "plt.xlabel('Number of Base Estimators')\n",
        "plt.ylabel('Mean Squared Error')\n",
        "plt.title('Bagging Regressor Performance with Different Numbers of Base Estimators')\n",
        "plt.legend()\n",
        "plt.grid(True)\n",
        "plt.show()\n",
        "\n",
        "# Print the errors for comparison\n",
        "for i, n_estimators in enumerate(estimators_range):\n",
        "    print(f\"Number of Base Estimators: {n_estimators}\")\n",
        "    print(f\"  Training MSE: {train_errors[i]:.4f}\")\n",
        "    print(f\"  Testing MSE: {test_errors[i]:.4f}\")\n",
        "    print(\"-\" * 50)\n"
      ],
      "metadata": {
        "colab": {
          "base_uri": "https://localhost:8080/",
          "height": 211
        },
        "id": "tGh6GHr5xuLr",
        "outputId": "c407df61-b06a-49f9-fba8-23389ec2d724"
      },
      "execution_count": 32,
      "outputs": [
        {
          "output_type": "error",
          "ename": "TypeError",
          "evalue": "BaggingRegressor.__init__() got an unexpected keyword argument 'base_estimator'",
          "traceback": [
            "\u001b[0;31m---------------------------------------------------------------------------\u001b[0m",
            "\u001b[0;31mTypeError\u001b[0m                                 Traceback (most recent call last)",
            "\u001b[0;32m<ipython-input-32-b3e136ce9bf5>\u001b[0m in \u001b[0;36m<cell line: 0>\u001b[0;34m()\u001b[0m\n\u001b[1;32m     30\u001b[0m \u001b[0;32mfor\u001b[0m \u001b[0mn_estimators\u001b[0m \u001b[0;32min\u001b[0m \u001b[0mestimators_range\u001b[0m\u001b[0;34m:\u001b[0m\u001b[0;34m\u001b[0m\u001b[0;34m\u001b[0m\u001b[0m\n\u001b[1;32m     31\u001b[0m     \u001b[0;31m# Initialize the Bagging Regressor with current number of base estimators\u001b[0m\u001b[0;34m\u001b[0m\u001b[0;34m\u001b[0m\u001b[0m\n\u001b[0;32m---> 32\u001b[0;31m     bagging_regressor = BaggingRegressor(base_estimator=base_estimator, \n\u001b[0m\u001b[1;32m     33\u001b[0m                                         \u001b[0mn_estimators\u001b[0m\u001b[0;34m=\u001b[0m\u001b[0mn_estimators\u001b[0m\u001b[0;34m,\u001b[0m\u001b[0;34m\u001b[0m\u001b[0;34m\u001b[0m\u001b[0m\n\u001b[1;32m     34\u001b[0m                                         random_state=42)\n",
            "\u001b[0;31mTypeError\u001b[0m: BaggingRegressor.__init__() got an unexpected keyword argument 'base_estimator'"
          ]
        }
      ]
    },
    {
      "cell_type": "markdown",
      "source": [
        "Ques-33 Train a Random Forest Classifier and analyze misclassified samples ?"
      ],
      "metadata": {
        "id": "lkoSbygSx-vY"
      }
    },
    {
      "cell_type": "code",
      "source": [
        "# Import necessary libraries\n",
        "import numpy as np\n",
        "import pandas as pd\n",
        "from sklearn.ensemble import RandomForestClassifier\n",
        "from sklearn.model_selection import train_test_split\n",
        "from sklearn.datasets import load_iris\n",
        "from sklearn.metrics import accuracy_score\n",
        "\n",
        "# Load the Iris dataset (you can replace this with your dataset)\n",
        "data = load_iris()\n",
        "X = data.data\n",
        "y = data.target\n",
        "\n",
        "# Split the data into training and testing sets\n",
        "X_train, X_test, y_train, y_test = train_test_split(X, y, test_size=0.3, random_state=42)\n",
        "\n",
        "# Initialize and train the Random Forest Classifier\n",
        "rf_classifier = RandomForestClassifier(n_estimators=100, random_state=42)\n",
        "rf_classifier.fit(X_train, y_train)\n",
        "\n",
        "# Make predictions on the test set\n",
        "y_pred = rf_classifier.predict(X_test)\n",
        "\n",
        "# Evaluate the model\n",
        "accuracy = accuracy_score(y_test, y_pred)\n",
        "print(f\"Accuracy: {accuracy:.4f}\")\n",
        "\n",
        "# Find the misclassified samples\n",
        "misclassified_indices = np.where(y_pred != y_test)[0]\n",
        "misclassified_samples = X_test[misclassified_indices]\n",
        "misclassified_labels = y_test[misclassified_indices]\n",
        "misclassified_predictions = y_pred[misclassified_indices]\n",
        "\n",
        "# Create a DataFrame to display misclassified samples\n",
        "misclassified_df = pd.DataFrame({\n",
        "    'Sample': misclassified_samples.tolist(),\n",
        "    'True Label': misclassified_labels,\n",
        "    'Predicted Label': misclassified_predictions\n",
        "})\n",
        "\n",
        "# Print the misclassified samples\n",
        "print(\"\\nMisclassified Samples:\")\n",
        "print(misclassified_df)\n"
      ],
      "metadata": {
        "id": "66VMFg_Zx-HD"
      },
      "execution_count": null,
      "outputs": []
    },
    {
      "cell_type": "markdown",
      "source": [
        "Ques-34 Train a Bagging Classifier and compare its performance with a single Decision Tree Classifier ?"
      ],
      "metadata": {
        "id": "UbgrJaFsyKzv"
      }
    },
    {
      "cell_type": "code",
      "source": [
        "# Import necessary libraries\n",
        "import numpy as np\n",
        "import pandas as pd\n",
        "from sklearn.datasets import load_iris\n",
        "from sklearn.model_selection import train_test_split\n",
        "from sklearn.tree import DecisionTreeClassifier\n",
        "from sklearn.ensemble import BaggingClassifier\n",
        "from sklearn.metrics import accuracy_score\n",
        "\n",
        "# Load the Iris dataset\n",
        "data = load_iris()\n",
        "X = data.data\n",
        "y = data.target\n",
        "\n",
        "# Split the dataset into training and testing sets\n",
        "X_train, X_test, y_train, y_test = train_test_split(X, y, test_size=0.3, random_state=42)\n",
        "\n",
        "# Train a single Decision Tree Classifier\n",
        "dt_classifier = DecisionTreeClassifier(random_state=42)\n",
        "dt_classifier.fit(X_train, y_train)\n",
        "\n",
        "# Train a Bagging Classifier with Decision Tree as base estimator\n",
        "bagging_classifier = BaggingClassifier(base_estimator=DecisionTreeClassifier(), n_estimators=50, random_state=42)\n",
        "bagging_classifier.fit(X_train, y_train)\n",
        "\n",
        "# Predict with the Decision Tree model\n",
        "y_pred_dt = dt_classifier.predict(X_test)\n",
        "\n",
        "# Predict with the Bagging Classifier model\n",
        "y_pred_bagging = bagging_classifier.predict(X_test)\n",
        "\n",
        "# Evaluate the accuracy of both models\n",
        "accuracy_dt = accuracy_score(y_test, y_pred_dt)\n",
        "accuracy_bagging = accuracy_score(y_test, y_pred_bagging)\n",
        "\n",
        "# Print the results\n",
        "print(f\"Decision Tree Classifier Accuracy: {accuracy_dt:.4f}\")\n",
        "print(f\"Bagging Classifier Accuracy: {accuracy_bagging:.4f}\")\n",
        "\n",
        "# Compare performance\n",
        "if accuracy_bagging > accuracy_dt:\n",
        "    print(\"The Bagging Classifier performs better than the Decision Tree Classifier.\")\n",
        "else:\n",
        "    print(\"The Decision Tree Classifier performs better than the Bagging Classifier.\")\n",
        "\n"
      ],
      "metadata": {
        "id": "PmAVOPPSyJXf"
      },
      "execution_count": null,
      "outputs": []
    },
    {
      "cell_type": "markdown",
      "source": [
        "Ques-35 Train a Random Forest Classifier and visualize the confusion matrix ?"
      ],
      "metadata": {
        "id": "u8z0Zr72ybRf"
      }
    },
    {
      "cell_type": "code",
      "source": [
        "# Import necessary libraries\n",
        "import numpy as np\n",
        "import pandas as pd\n",
        "import seaborn as sns\n",
        "import matplotlib.pyplot as plt\n",
        "from sklearn.datasets import load_iris\n",
        "from sklearn.model_selection import train_test_split\n",
        "from sklearn.ensemble import RandomForestClassifier\n",
        "from sklearn.metrics import confusion_matrix\n",
        "from sklearn.metrics import accuracy_score\n",
        "\n",
        "# Load the Iris dataset\n",
        "data = load_iris()\n",
        "X = data.data\n",
        "y = data.target\n",
        "\n",
        "# Split the dataset into training and testing sets\n",
        "X_train, X_test, y_train, y_test = train_test_split(X, y, test_size=0.3, random_state=42)\n",
        "\n",
        "# Train a Random Forest Classifier\n",
        "rf_classifier = RandomForestClassifier(n_estimators=100, random_state=42)\n",
        "rf_classifier.fit(X_train, y_train)\n",
        "\n",
        "# Make predictions on the test set\n",
        "y_pred = rf_classifier.predict(X_test)\n",
        "\n",
        "# Calculate accuracy\n",
        "accuracy = accuracy_score(y_test, y_pred)\n",
        "print(f\"Accuracy: {accuracy:.4f}\")\n",
        "\n",
        "# Generate the confusion matrix\n",
        "cm = confusion_matrix(y_test, y_pred)\n",
        "\n",
        "# Visualize the confusion matrix using seaborn\n",
        "plt.figure(figsize=(8, 6))\n",
        "sns.heatmap(cm, annot=True, fmt='g', cmap='Blues', xticklabels=data.target_names, yticklabels=data.target_names)\n",
        "plt.title('Confusion Matrix - Random Forest Classifier')\n",
        "plt.xlabel('Predicted')\n",
        "plt.ylabel('True')\n",
        "plt.show()\n"
      ],
      "metadata": {
        "id": "ZKj6-zLZyawF"
      },
      "execution_count": null,
      "outputs": []
    },
    {
      "cell_type": "markdown",
      "source": [
        "Ques-36  Train a Stacking Classifier using Decision Trees, SVM, and Logistic Regression, and compare accuracy ?"
      ],
      "metadata": {
        "id": "ariKKoDeyv0r"
      }
    },
    {
      "cell_type": "code",
      "source": [
        "# Import necessary libraries\n",
        "import numpy as np\n",
        "import pandas as pd\n",
        "from sklearn.datasets import load_iris\n",
        "from sklearn.model_selection import train_test_split\n",
        "from sklearn.tree import DecisionTreeClassifier\n",
        "from sklearn.svm import SVC\n",
        "from sklearn.linear_model import LogisticRegression\n",
        "from sklearn.ensemble import StackingClassifier\n",
        "from sklearn.metrics import accuracy_score\n",
        "\n",
        "# Load the Iris dataset\n",
        "data = load_iris()\n",
        "X = data.data\n",
        "y = data.target\n",
        "\n",
        "# Split the dataset into training and testing sets\n",
        "X_train, X_test, y_train, y_test = train_test_split(X, y, test_size=0.3, random_state=42)\n",
        "\n",
        "# Initialize the base models\n",
        "dt = DecisionTreeClassifier(random_state=42)\n",
        "svm = SVC(random_state=42)\n",
        "log_reg = LogisticRegression(random_state=42)\n",
        "\n",
        "# Initialize the Stacking Classifier with base models\n",
        "stacking_classifier = StackingClassifier(\n",
        "    estimators=[('dt', dt), ('svm', svm), ('log_reg', log_reg)],\n",
        "    final_estimator=LogisticRegression()\n",
        ")\n",
        "\n",
        "# Train the base models and stacking classifier\n",
        "dt.fit(X_train, y_train)\n",
        "svm.fit(X_train, y_train)\n",
        "log_reg.fit(X_train, y_train)\n",
        "stacking_classifier.fit(X_train, y_train)\n",
        "\n",
        "# Make predictions\n",
        "y_pred_dt = dt.predict(X_test)\n",
        "y_pred_svm = svm.predict(X_test)\n",
        "y_pred_log_reg = log_reg.predict(X_test)\n",
        "y_pred_stack = stacking_classifier.predict(X_test)\n",
        "\n",
        "# Calculate accuracy for each model\n",
        "accuracy_dt = accuracy_score(y_test, y_pred_dt)\n",
        "accuracy_svm = accuracy_score(y_test, y_pred_svm)\n",
        "accuracy_log_reg = accuracy_score(y_test, y_pred_log_reg)\n",
        "accuracy_stack = accuracy_score(y_test, y_pred_stack)\n",
        "\n",
        "# Print the results\n",
        "print(f\"Decision Tree Accuracy: {accuracy_dt:.4f}\")\n",
        "print(f\"SVM Accuracy: {accuracy_svm:.4f}\")\n",
        "print(f\"Logistic Regression Accuracy: {accuracy_log_reg:.4f}\")\n",
        "print(f\"Stacking Classifier Accuracy: {accuracy_stack:.4f}\")\n",
        "\n",
        "# Compare performance\n",
        "if accuracy_stack > accuracy_dt and accuracy_stack > accuracy_svm and accuracy_stack > accuracy_log_reg:\n",
        "    print(\"The Stacking Classifier performs the best.\")\n",
        "else:\n",
        "    print(\"One of the base models performs better than the Stacking Classifier.\")\n"
      ],
      "metadata": {
        "colab": {
          "base_uri": "https://localhost:8080/"
        },
        "id": "25dVgLLxyr1X",
        "outputId": "d5695766-1983-4315-effd-0df91811431f"
      },
      "execution_count": 33,
      "outputs": [
        {
          "output_type": "stream",
          "name": "stdout",
          "text": [
            "Decision Tree Accuracy: 1.0000\n",
            "SVM Accuracy: 1.0000\n",
            "Logistic Regression Accuracy: 1.0000\n",
            "Stacking Classifier Accuracy: 1.0000\n",
            "One of the base models performs better than the Stacking Classifier.\n"
          ]
        }
      ]
    },
    {
      "cell_type": "markdown",
      "source": [
        "Ques-37 Train a Random Forest Classifier and print the top 5 most important features ?"
      ],
      "metadata": {
        "id": "ftku2jGZzRRc"
      }
    },
    {
      "cell_type": "code",
      "source": [
        "# Import necessary libraries\n",
        "import numpy as np\n",
        "import pandas as pd\n",
        "from sklearn.datasets import load_iris\n",
        "from sklearn.model_selection import train_test_split\n",
        "from sklearn.ensemble import RandomForestClassifier\n",
        "\n",
        "# Load the Iris dataset\n",
        "data = load_iris()\n",
        "X = data.data\n",
        "y = data.target\n",
        "feature_names = data.feature_names  # Feature names\n",
        "\n",
        "# Split the dataset into training and testing sets\n",
        "X_train, X_test, y_train, y_test = train_test_split(X, y, test_size=0.3, random_state=42)\n",
        "\n",
        "# Train a Random Forest Classifier\n",
        "rf_classifier = RandomForestClassifier(n_estimators=100, random_state=42)\n",
        "rf_classifier.fit(X_train, y_train)\n",
        "\n",
        "# Get feature importances from the Random Forest model\n",
        "feature_importances = rf_classifier.feature_importances_\n",
        "\n",
        "# Create a DataFrame with feature names and their corresponding importance\n",
        "feature_importance_df = pd.DataFrame({\n",
        "    'Feature': feature_names,\n",
        "    'Importance': feature_importances\n",
        "})\n",
        "\n",
        "# Sort the features by importance in descending order\n",
        "feature_importance_df = feature_importance_df.sort_values(by='Importance', ascending=False)\n",
        "\n",
        "# Print the top 5 most important features\n",
        "print(\"Top 5 Most Important Features:\")\n",
        "print(feature_importance_df.head(5))\n"
      ],
      "metadata": {
        "colab": {
          "base_uri": "https://localhost:8080/"
        },
        "id": "PEgD5GwMzOfM",
        "outputId": "8d4010b6-cbaa-46f5-ba77-6231a6309326"
      },
      "execution_count": 34,
      "outputs": [
        {
          "output_type": "stream",
          "name": "stdout",
          "text": [
            "Top 5 Most Important Features:\n",
            "             Feature  Importance\n",
            "3   petal width (cm)    0.433982\n",
            "2  petal length (cm)    0.417308\n",
            "0  sepal length (cm)    0.104105\n",
            "1   sepal width (cm)    0.044605\n"
          ]
        }
      ]
    },
    {
      "cell_type": "markdown",
      "source": [
        "Ques-38 Train a Bagging Classifier and evaluate performance using Precision, Recall, and F1-score ?"
      ],
      "metadata": {
        "id": "YgePlyg8zhHo"
      }
    },
    {
      "cell_type": "code",
      "source": [
        "# Import necessary libraries\n",
        "import numpy as np\n",
        "import pandas as pd\n",
        "from sklearn.datasets import load_iris\n",
        "from sklearn.model_selection import train_test_split\n",
        "from sklearn.ensemble import BaggingClassifier\n",
        "from sklearn.tree import DecisionTreeClassifier\n",
        "from sklearn.metrics import precision_score, recall_score, f1_score, classification_report\n",
        "\n",
        "# Load the Iris dataset\n",
        "data = load_iris()\n",
        "X = data.data\n",
        "y = data.target\n",
        "\n",
        "# Split the dataset into training and testing sets\n",
        "X_train, X_test, y_train, y_test = train_test_split(X, y, test_size=0.3, random_state=42)\n",
        "\n",
        "# Train a Bagging Classifier with Decision Trees as base estimators\n",
        "bagging_classifier = BaggingClassifier(DecisionTreeClassifier(), n_estimators=50, random_state=42)\n",
        "bagging_classifier.fit(X_train, y_train)\n",
        "\n",
        "# Make predictions on the test set\n",
        "y_pred = bagging_classifier.predict(X_test)\n",
        "\n",
        "# Calculate Precision, Recall, and F1-score for each class\n",
        "precision = precision_score(y_test, y_pred, average='weighted')\n",
        "recall = recall_score(y_test, y_pred, average='weighted')\n",
        "f1 = f1_score(y_test, y_pred, average='weighted')\n",
        "\n",
        "# Print the results\n",
        "print(f\"Precision: {precision:.4f}\")\n",
        "print(f\"Recall: {recall:.4f}\")\n",
        "print(f\"F1-score: {f1:.4f}\")\n",
        "\n",
        "# Optionally, print a detailed classification report\n",
        "print(\"\\nClassification Report:\\n\", classification_report(y_test, y_pred, target_names=data.target_names))\n"
      ],
      "metadata": {
        "colab": {
          "base_uri": "https://localhost:8080/"
        },
        "id": "0BUBnyqzzfph",
        "outputId": "aec3c851-f10b-43be-863f-7aa88d42b92b"
      },
      "execution_count": 36,
      "outputs": [
        {
          "output_type": "stream",
          "name": "stdout",
          "text": [
            "Precision: 1.0000\n",
            "Recall: 1.0000\n",
            "F1-score: 1.0000\n",
            "\n",
            "Classification Report:\n",
            "               precision    recall  f1-score   support\n",
            "\n",
            "      setosa       1.00      1.00      1.00        19\n",
            "  versicolor       1.00      1.00      1.00        13\n",
            "   virginica       1.00      1.00      1.00        13\n",
            "\n",
            "    accuracy                           1.00        45\n",
            "   macro avg       1.00      1.00      1.00        45\n",
            "weighted avg       1.00      1.00      1.00        45\n",
            "\n"
          ]
        }
      ]
    },
    {
      "cell_type": "markdown",
      "source": [
        "Ques-39 Train a Random Forest Classifier and analyze the effect of max_depth on accuracy ?"
      ],
      "metadata": {
        "id": "99VEAdze0eTx"
      }
    },
    {
      "cell_type": "code",
      "source": [
        "# Import necessary libraries\n",
        "import numpy as np\n",
        "import matplotlib.pyplot as plt\n",
        "from sklearn.datasets import load_iris\n",
        "from sklearn.model_selection import train_test_split\n",
        "from sklearn.ensemble import RandomForestClassifier\n",
        "from sklearn.metrics import accuracy_score\n",
        "\n",
        "# Load the Iris dataset\n",
        "data = load_iris()\n",
        "X = data.data\n",
        "y = data.target\n",
        "\n",
        "# Split the dataset into training and testing sets\n",
        "X_train, X_test, y_train, y_test = train_test_split(X, y, test_size=0.3, random_state=42)\n",
        "\n",
        "# List of max_depth values to try\n",
        "max_depth_values = range(1, 21)\n",
        "\n",
        "# List to store accuracy scores\n",
        "accuracy_scores = []\n",
        "\n",
        "# Train Random Forest Classifier with different max_depth values and record accuracy\n",
        "for max_depth in max_depth_values:\n",
        "    rf_classifier = RandomForestClassifier(n_estimators=100, max_depth=max_depth, random_state=42)\n",
        "    rf_classifier.fit(X_train, y_train)\n",
        "    y_pred = rf_classifier.predict(X_test)\n",
        "    accuracy = accuracy_score(y_test, y_pred)\n",
        "    accuracy_scores.append(accuracy)\n",
        "\n",
        "# Plot the accuracy vs max_depth\n",
        "plt.figure(figsize=(10, 6))\n",
        "plt.plot(max_depth_values, accuracy_scores, marker='o', color='b', linestyle='-', linewidth=2, markersize=6)\n",
        "plt.title('Effect of max_depth on Random Forest Classifier Accuracy')\n",
        "plt.xlabel('max_depth')\n",
        "plt.ylabel('Accuracy')\n",
        "plt.grid(True)\n",
        "plt.xticks(range(1, 21))\n",
        "plt.show()\n"
      ],
      "metadata": {
        "colab": {
          "base_uri": "https://localhost:8080/",
          "height": 564
        },
        "id": "XMpr-5d_z4lL",
        "outputId": "5c8abe33-3c3d-41d9-96fa-6ea0d807337d"
      },
      "execution_count": 37,
      "outputs": [
        {
          "output_type": "display_data",
          "data": {
            "text/plain": [
              "<Figure size 1000x600 with 1 Axes>"
            ],
            "image/png": "[encoded data removed]"
          },
          "metadata": {}
        }
      ]
    },
    {
      "cell_type": "markdown",
      "source": [
        "Ques-40 Train a Bagging Regressor using different base estimators (DecisionTree and KNeighbors) and compare\n",
        "performance ?"
      ],
      "metadata": {
        "id": "vj3fo9rj03nQ"
      }
    },
    {
      "cell_type": "code",
      "source": [
        "# Import necessary libraries\n",
        "import numpy as np\n",
        "import pandas as pd\n",
        "from sklearn.datasets import fetch_california_housing\n",
        "from sklearn.model_selection import train_test_split\n",
        "from sklearn.ensemble import BaggingRegressor\n",
        "from sklearn.tree import DecisionTreeRegressor\n",
        "from sklearn.neighbors import KNeighborsRegressor\n",
        "from sklearn.metrics import mean_absolute_error, mean_squared_error, r2_score\n",
        "\n",
        "# Load the California Housing dataset\n",
        "data = fetch_california_housing()\n",
        "X = data.data\n",
        "y = data.target\n",
        "\n",
        "# Split the dataset into training and testing sets\n",
        "X_train, X_test, y_train, y_test = train_test_split(X, y, test_size=0.3, random_state=42)\n",
        "\n",
        "# Initialize the base estimators\n",
        "dt_regressor = DecisionTreeRegressor(random_state=42)\n",
        "knn_regressor = KNeighborsRegressor()\n",
        "\n",
        "# Train Bagging Regressor with DecisionTree as base estimator\n",
        "bagging_dt = BaggingRegressor(dt_regressor, n_estimators=50, random_state=42)\n",
        "bagging_dt.fit(X_train, y_train)\n",
        "y_pred_dt = bagging_dt.predict(X_test)\n",
        "\n",
        "# Train Bagging Regressor with KNeighbors as base estimator\n",
        "bagging_knn = BaggingRegressor(knn_regressor, n_estimators=50, random_state=42)\n",
        "bagging_knn.fit(X_train, y_train)\n",
        "y_pred_knn = bagging_knn.predict(X_test)\n",
        "\n",
        "# Evaluate performance of both models\n",
        "def evaluate_model(y_true, y_pred):\n",
        "    mae = mean_absolute_error(y_true, y_pred)\n",
        "    mse = mean_squared_error(y_true, y_pred)\n",
        "    r2 = r2_score(y_true, y_pred)\n",
        "    return mae, mse, r2\n",
        "\n",
        "# Evaluate DecisionTree-based Bagging Regressor\n",
        "mae_dt, mse_dt, r2_dt = evaluate_model(y_test, y_pred_dt)\n",
        "\n",
        "# Evaluate KNeighbors-based Bagging Regressor\n",
        "mae_knn, mse_knn, r2_knn = evaluate_model(y_test, y_pred_knn)\n",
        "\n",
        "# Print results\n",
        "print(\"Decision Tree - Bagging Regressor Performance:\")\n",
        "print(f\"MAE: {mae_dt:.4f}, MSE: {mse_dt:.4f}, R²: {r2_dt:.4f}\")\n",
        "print(\"\\nK-Neighbors - Bagging Regressor Performance:\")\n",
        "print(f\"MAE: {mae_knn:.4f}, MSE: {mse_knn:.4f}, R²: {r2_knn:.4f}\")\n"
      ],
      "metadata": {
        "colab": {
          "base_uri": "https://localhost:8080/"
        },
        "id": "eVGedHy_0yRh",
        "outputId": "986991b4-f450-4273-e063-f122d3ceabd8"
      },
      "execution_count": 40,
      "outputs": [
        {
          "output_type": "stream",
          "name": "stdout",
          "text": [
            "Decision Tree - Bagging Regressor Performance:\n",
            "MAE: 0.3334, MSE: 0.2579, R²: 0.8035\n",
            "\n",
            "K-Neighbors - Bagging Regressor Performance:\n",
            "MAE: 0.8093, MSE: 1.1021, R²: 0.1603\n"
          ]
        }
      ]
    },
    {
      "cell_type": "markdown",
      "source": [
        "Ques-41 Train a Random Forest Classifier and evaluate its performance using ROC-AUC Score ?"
      ],
      "metadata": {
        "id": "_rM97o_M1ddO"
      }
    },
    {
      "cell_type": "code",
      "source": [
        "# Import necessary libraries\n",
        "import numpy as np\n",
        "import matplotlib.pyplot as plt\n",
        "from sklearn.datasets import load_iris\n",
        "from sklearn.model_selection import train_test_split\n",
        "from sklearn.ensemble import RandomForestClassifier\n",
        "from sklearn.metrics import roc_auc_score, roc_curve\n",
        "\n",
        "# Load the Iris dataset\n",
        "data = load_iris()\n",
        "X = data.data\n",
        "y = data.target\n",
        "\n",
        "# Convert multi-class classification problem to binary for ROC-AUC (choosing class 0 vs others)\n",
        "y_binary = (y == 0).astype(int)  # Class 0 vs. rest (binary classification)\n",
        "\n",
        "# Split the dataset into training and testing sets\n",
        "X_train, X_test, y_train, y_test = train_test_split(X, y_binary, test_size=0.3, random_state=42)\n",
        "\n",
        "# Train the Random Forest Classifier\n",
        "rf_classifier = RandomForestClassifier(n_estimators=100, random_state=42)\n",
        "rf_classifier.fit(X_train, y_train)\n",
        "\n",
        "# Predict probabilities (for ROC-AUC calculation)\n",
        "y_probs = rf_classifier.predict_proba(X_test)[:, 1]  # Get probabilities for the positive class (class 1)\n",
        "\n",
        "# Calculate ROC-AUC score\n",
        "roc_auc = roc_auc_score(y_test, y_probs)\n",
        "\n",
        "# Calculate ROC curve (false positive rate, true positive rate, thresholds)\n",
        "fpr, tpr, thresholds = roc_curve(y_test, y_probs)\n",
        "\n",
        "# Plot ROC curve\n",
        "plt.figure(figsize=(8, 6))\n",
        "plt.plot(fpr, tpr, color='b', label=f'Random Forest (AUC = {roc_auc:.4f})')\n",
        "plt.plot([0, 1], [0, 1], color='r', linestyle='--')  # Diagonal line for random guess\n",
        "plt.title('ROC Curve for Random Forest Classifier')\n",
        "plt.xlabel('False Positive Rate')\n",
        "plt.ylabel('True Positive Rate')\n",
        "plt.legend(loc='lower right')\n",
        "plt.grid(True)\n",
        "plt.show()\n",
        "\n",
        "# Print ROC-AUC score\n",
        "print(f'ROC-AUC Score: {roc_auc:.4f}')\n"
      ],
      "metadata": {
        "colab": {
          "base_uri": "https://localhost:8080/",
          "height": 581
        },
        "id": "igPW8KtU1Ptj",
        "outputId": "c35bda26-2732-4480-8e17-9f1826d5d78c"
      },
      "execution_count": 41,
      "outputs": [
        {
          "output_type": "display_data",
          "data": {
            "text/plain": [
              "<Figure size 800x600 with 1 Axes>"
            ],
            "image/png": "[encoded data removed]"
          },
          "metadata": {}
        },
        {
          "output_type": "stream",
          "name": "stdout",
          "text": [
            "ROC-AUC Score: 1.0000\n"
          ]
        }
      ]
    },
    {
      "cell_type": "markdown",
      "source": [
        "Ques-42 Train a Bagging Classifier and evaluate its performance using cross-validation ?"
      ],
      "metadata": {
        "id": "aj_hXXXW1_lk"
      }
    },
    {
      "cell_type": "code",
      "source": [
        "# Import necessary libraries\n",
        "import numpy as np\n",
        "from sklearn.datasets import load_iris\n",
        "from sklearn.model_selection import cross_val_score\n",
        "from sklearn.ensemble import BaggingClassifier\n",
        "from sklearn.tree import DecisionTreeClassifier\n",
        "from sklearn.model_selection import StratifiedKFold\n",
        "\n",
        "# Load the Iris dataset\n",
        "data = load_iris()\n",
        "X = data.data\n",
        "y = data.target\n",
        "\n",
        "# Initialize the Bagging Classifier with DecisionTree as base estimator\n",
        "dt_classifier = DecisionTreeClassifier(random_state=42)\n",
        "bagging_classifier = BaggingClassifier(dt_classifier, n_estimators=50, random_state=42)\n",
        "\n",
        "# Evaluate the Bagging Classifier using 10-fold cross-validation\n",
        "cv = StratifiedKFold(n_splits=10, shuffle=True, random_state=42)  # StratifiedKFold ensures the class distribution is maintained\n",
        "\n",
        "# Perform cross-validation and get accuracy scores\n",
        "cv_scores = cross_val_score(bagging_classifier, X, y, cv=cv, scoring='accuracy')\n",
        "\n",
        "# Print the results\n",
        "print(f\"Cross-validation accuracy scores: {cv_scores}\")\n",
        "print(f\"Mean cross-validation accuracy: {np.mean(cv_scores):.4f}\")\n",
        "print(f\"Standard deviation of cross-validation accuracy: {np.std(cv_scores):.4f}\")\n"
      ],
      "metadata": {
        "colab": {
          "base_uri": "https://localhost:8080/"
        },
        "id": "4z6MlGjd14I1",
        "outputId": "409f9b3e-b232-478d-e4ed-9e4d937625ca"
      },
      "execution_count": 43,
      "outputs": [
        {
          "output_type": "stream",
          "name": "stdout",
          "text": [
            "Cross-validation accuracy scores: [1.         1.         1.         0.93333333 0.86666667 0.86666667\n",
            " 1.         0.93333333 0.93333333 0.86666667]\n",
            "Mean cross-validation accuracy: 0.9400\n",
            "Standard deviation of cross-validation accuracy: 0.0554\n"
          ]
        }
      ]
    },
    {
      "cell_type": "markdown",
      "source": [
        "Ques-43 Train a Random Forest Classifier and plot the Precision-Recall curve ?"
      ],
      "metadata": {
        "id": "70pq0PUI2pVb"
      }
    },
    {
      "cell_type": "code",
      "source": [
        "# Import necessary libraries\n",
        "import numpy as np\n",
        "import matplotlib.pyplot as plt\n",
        "from sklearn.datasets import load_iris\n",
        "from sklearn.model_selection import train_test_split\n",
        "from sklearn.ensemble import RandomForestClassifier\n",
        "from sklearn.metrics import precision_recall_curve, average_precision_score\n",
        "\n",
        "# Load the Iris dataset\n",
        "data = load_iris()\n",
        "X = data.data\n",
        "y = data.target\n",
        "\n",
        "# Convert multi-class classification problem to binary (Class 0 vs. others)\n",
        "y_binary = (y == 0).astype(int)  # Class 0 vs. the rest (binary classification)\n",
        "\n",
        "# Split the dataset into training and testing sets\n",
        "X_train, X_test, y_train, y_test = train_test_split(X, y_binary, test_size=0.3, random_state=42)\n",
        "\n",
        "# Train the Random Forest Classifier\n",
        "rf_classifier = RandomForestClassifier(n_estimators=100, random_state=42)\n",
        "rf_classifier.fit(X_train, y_train)\n",
        "\n",
        "# Predict probabilities (for Precision-Recall curve calculation)\n",
        "y_probs = rf_classifier.predict_proba(X_test)[:, 1]  # Get probabilities for the positive class (class 1)\n",
        "\n",
        "# Compute Precision-Recall curve\n",
        "precision, recall, thresholds = precision_recall_curve(y_test, y_probs)\n",
        "\n",
        "# Compute the Average Precision Score (AUC for Precision-Recall curve)\n",
        "avg_precision = average_precision_score(y_test, y_probs)\n",
        "\n",
        "# Plot the Precision-Recall curve\n",
        "plt.figure(figsize=(8, 6))\n",
        "plt.plot(recall, precision, color='b', label=f'Random Forest (AP = {avg_precision:.4f})')\n",
        "plt.xlabel('Recall')\n",
        "plt.ylabel('Precision')\n",
        "plt.title('Precision-Recall Curve for Random Forest Classifier')\n",
        "plt.legend(loc='best')\n",
        "plt.grid(True)\n",
        "plt.show()\n",
        "\n",
        "# Print the Average Precision Score\n",
        "print(f'Average Precision (AP) Score: {avg_precision:.4f}')\n"
      ],
      "metadata": {
        "colab": {
          "base_uri": "https://localhost:8080/",
          "height": 581
        },
        "id": "MqMnZXaB2kqC",
        "outputId": "910cfdfa-4775-472b-e5f2-508a96261b2d"
      },
      "execution_count": 44,
      "outputs": [
        {
          "output_type": "display_data",
          "data": {
            "text/plain": [
              "<Figure size 800x600 with 1 Axes>"
            ],
            "image/png": "[encoded data removed]"
          },
          "metadata": {}
        },
        {
          "output_type": "stream",
          "name": "stdout",
          "text": [
            "Average Precision (AP) Score: 1.0000\n"
          ]
        }
      ]
    },
    {
      "cell_type": "markdown",
      "source": [
        "Ques-44 Train a Stacking Classifier with Random Forest and Logistic Regression and compare accuracy ?"
      ],
      "metadata": {
        "id": "o2LGS61a3LPi"
      }
    },
    {
      "cell_type": "code",
      "source": [
        "# Import necessary libraries\n",
        "import numpy as np\n",
        "import matplotlib.pyplot as plt\n",
        "from sklearn.datasets import load_iris\n",
        "from sklearn.model_selection import train_test_split\n",
        "from sklearn.ensemble import RandomForestClassifier, StackingClassifier\n",
        "from sklearn.linear_model import LogisticRegression\n",
        "from sklearn.metrics import accuracy_score\n",
        "\n",
        "# Load the Iris dataset\n",
        "data = load_iris()\n",
        "X = data.data\n",
        "y = data.target\n",
        "\n",
        "# Convert to binary classification (Class 0 vs. others)\n",
        "y_binary = (y == 0).astype(int)\n",
        "\n",
        "# Split the dataset into training and testing sets\n",
        "X_train, X_test, y_train, y_test = train_test_split(X, y_binary, test_size=0.3, random_state=42)\n",
        "\n",
        "# Initialize the base classifiers\n",
        "rf_classifier = RandomForestClassifier(n_estimators=100, random_state=42)\n",
        "logreg_classifier = LogisticRegression(random_state=42)\n",
        "\n",
        "# Initialize the Stacking Classifier with Random Forest and Logistic Regression as base models\n",
        "# The meta-model will also be Logistic Regression\n",
        "stacking_classifier = StackingClassifier(\n",
        "    estimators=[('rf', rf_classifier), ('logreg', logreg_classifier)],\n",
        "    final_estimator=LogisticRegression()\n",
        ")\n",
        "\n",
        "# Train the base classifiers\n",
        "rf_classifier.fit(X_train, y_train)\n",
        "logreg_classifier.fit(X_train, y_train)\n",
        "\n",
        "# Train the Stacking Classifier\n",
        "stacking_classifier.fit(X_train, y_train)\n",
        "\n",
        "# Make predictions using each model\n",
        "rf_pred = rf_classifier.predict(X_test)\n",
        "logreg_pred = logreg_classifier.predict(X_test)\n",
        "stacking_pred = stacking_classifier.predict(X_test)\n",
        "\n",
        "# Evaluate accuracy\n",
        "rf_accuracy = accuracy_score(y_test, rf_pred)\n",
        "logreg_accuracy = accuracy_score(y_test, logreg_pred)\n",
        "stacking_accuracy = accuracy_score(y_test, stacking_pred)\n",
        "\n",
        "# Print the accuracy scores\n",
        "print(f\"Random Forest Accuracy: {rf_accuracy:.4f}\")\n",
        "print(f\"Logistic Regression Accuracy: {logreg_accuracy:.4f}\")\n",
        "print(f\"Stacking Classifier Accuracy: {stacking_accuracy:.4f}\")\n",
        "\n",
        "# Bar plot to compare the accuracy of the models\n",
        "models = ['Random Forest', 'Logistic Regression', 'Stacking Classifier']\n",
        "accuracies = [rf_accuracy, logreg_accuracy, stacking_accuracy]\n",
        "\n",
        "plt.figure(figsize=(8, 6))\n",
        "plt.bar(models, accuracies, color=['b', 'g', 'r'])\n",
        "plt.ylabel('Accuracy')\n",
        "plt.title('Comparison of Model Accuracies')\n",
        "plt.ylim([0, 1])\n",
        "plt.show()\n"
      ],
      "metadata": {
        "colab": {
          "base_uri": "https://localhost:8080/",
          "height": 597
        },
        "id": "LOGPT_xB3KUF",
        "outputId": "d8b3cb1b-26d2-4104-c73a-1c0b494e08e9"
      },
      "execution_count": 45,
      "outputs": [
        {
          "output_type": "stream",
          "name": "stdout",
          "text": [
            "Random Forest Accuracy: 1.0000\n",
            "Logistic Regression Accuracy: 1.0000\n",
            "Stacking Classifier Accuracy: 1.0000\n"
          ]
        },
        {
          "output_type": "display_data",
          "data": {
            "text/plain": [
              "<Figure size 800x600 with 1 Axes>"
            ],
            "image/png": "[encoded data removed]"
          },
          "metadata": {}
        }
      ]
    },
    {
      "cell_type": "markdown",
      "source": [
        "Ques-45 Train a Bagging Regressor with different levels of bootstrap samples and compare performance ?"
      ],
      "metadata": {
        "id": "n-Tc8WVg3t-4"
      }
    },
    {
      "cell_type": "code",
      "source": [
        "# Import necessary libraries\n",
        "import numpy as np\n",
        "import matplotlib.pyplot as plt\n",
        "from sklearn.datasets import fetch_california_housing\n",
        "from sklearn.model_selection import train_test_split\n",
        "from sklearn.ensemble import BaggingRegressor\n",
        "from sklearn.tree import DecisionTreeRegressor\n",
        "from sklearn.metrics import mean_squared_error, r2_score\n",
        "\n",
        "# Load the California housing dataset\n",
        "data = fetch_california_housing()\n",
        "X = data.data\n",
        "y = data.target\n",
        "\n",
        "# Split the dataset into training and testing sets\n",
        "X_train, X_test, y_train, y_test = train_test_split(X, y, test_size=0.3, random_state=42)\n",
        "\n",
        "# Initialize the DecisionTreeRegressor as the base model for Bagging\n",
        "base_model = DecisionTreeRegressor(random_state=42)\n",
        "\n",
        "# Create lists to store the results\n",
        "bootstrap_settings = [True, False]  # Experimenting with both bootstrap=True and bootstrap=False\n",
        "mse_scores = []\n",
        "r2_scores = []\n",
        "\n",
        "# Train Bagging Regressor with different bootstrap settings\n",
        "for bootstrap in bootstrap_settings:\n",
        "    # Initialize the Bagging Regressor with the current bootstrap setting\n",
        "    bagging_regressor = BaggingRegressor(base_model, n_estimators=50, bootstrap=bootstrap, random_state=42)\n",
        "\n",
        "    # Train the model\n",
        "    bagging_regressor.fit(X_train, y_train)\n",
        "\n",
        "    # Make predictions\n",
        "    y_pred = bagging_regressor.predict(X_test)\n",
        "\n",
        "    # Calculate Mean Squared Error (MSE) and R-squared\n",
        "    mse = mean_squared_error(y_test, y_pred)\n",
        "    r2 = r2_score(y_test, y_pred)\n",
        "\n",
        "    # Store the results\n",
        "    mse_scores.append(mse)\n",
        "    r2_scores.append(r2)\n",
        "\n",
        "# Print the results\n",
        "for i, bootstrap in enumerate(bootstrap_settings):\n",
        "    print(f\"Bootstrap = {bootstrap}\")\n",
        "    print(f\"  MSE: {mse_scores[i]:.4f}\")\n",
        "    print(f\"  R-squared: {r2_scores[i]:.4f}\")\n",
        "    print()\n",
        "\n",
        "# Bar plot comparing the performance for different bootstrap settings\n",
        "plt.figure(figsize=(8, 6))\n",
        "x_labels = ['Bootstrap=True', 'Bootstrap=False']\n",
        "plt.bar(x_labels, mse_scores, color='b', alpha=0.6, label='MSE')\n",
        "plt.ylabel('Mean Squared Error (MSE)')\n",
        "plt.title('MSE Comparison for Different Bootstrap Settings')\n",
        "plt.show()\n",
        "\n",
        "plt.figure(figsize=(8, 6))\n",
        "plt.bar(x_labels, r2_scores, color='g', alpha=0.6, label='R-squared')\n",
        "plt.ylabel('R-squared')\n",
        "plt.title('R-squared Comparison for Different Bootstrap Settings')\n",
        "plt.show()\n"
      ],
      "metadata": {
        "colab": {
          "base_uri": "https://localhost:8080/",
          "height": 1000
        },
        "id": "ti0ufYBH3tPC",
        "outputId": "d6099ee7-2521-4565-b811-45c3e3324b17"
      },
      "execution_count": 47,
      "outputs": [
        {
          "output_type": "stream",
          "name": "stdout",
          "text": [
            "Bootstrap = True\n",
            "  MSE: 0.2579\n",
            "  R-squared: 0.8035\n",
            "\n",
            "Bootstrap = False\n",
            "  MSE: 0.4967\n",
            "  R-squared: 0.6215\n",
            "\n"
          ]
        },
        {
          "output_type": "display_data",
          "data": {
            "text/plain": [
              "<Figure size 800x600 with 1 Axes>"
            ],
            "image/png": "[encoded data removed]"
          },
          "metadata": {}
        },
        {
          "output_type": "display_data",
          "data": {
            "text/plain": [
              "<Figure size 800x600 with 1 Axes>"
            ],
            "image/png": "[encoded data removed]"
          },
          "metadata": {}
        }
      ]
    },
    {
      "cell_type": "code",
      "source": [],
      "metadata": {
        "id": "QmzAgZ8A4HLo"
      },
      "execution_count": null,
      "outputs": []
    }
  ]
}