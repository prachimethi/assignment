{
  "cells": [
    {
      "cell_type": "markdown",
      "metadata": {
        "id": "view-in-github",
        "colab_type": "text"
      },
      "source": [
        "<a href=\"https://colab.research.google.com/github/prachimethi/assignment/blob/main/SVM_%26_Naive_bayes_Assignment.ipynb\" target=\"_parent\"><img src=\"https://colab.research.google.com/assets/colab-badge.svg\" alt=\"Open In Colab\"/></a>"
      ]
    },
    {
      "cell_type": "markdown",
      "metadata": {
        "id": "40y46tmONHoP"
      },
      "source": [
        "# **Theoritical Questions**"
      ]
    },
    {
      "cell_type": "markdown",
      "metadata": {
        "id": "7xQLkg6NNSoT"
      },
      "source": [
        "Ques-1 What is a Support Vector Machine (SVM)?"
      ]
    },
    {
      "cell_type": "markdown",
      "metadata": {
        "id": "p0ltfZSZN3WU"
      },
      "source": [
        "A Support Vector Machine (SVM) is a supervised machine learning algorithm primarily used for classification tasks, but it can also be applied to regression problems. The key idea behind an SVM is to find the optimal hyperplane that best separates data points into different classes."
      ]
    },
    {
      "cell_type": "markdown",
      "metadata": {
        "id": "2Q7mK5EPN4om"
      },
      "source": [
        "Ques-2 What is the difference between Hard Margin and Soft Margin SVM ?"
      ]
    },
    {
      "cell_type": "markdown",
      "metadata": {
        "id": "gpT_La05Osrl"
      },
      "source": [
        "The difference between Hard Margin and Soft Margin SVM lies in how they handle data that is not perfectly separable. Let's break down each approach:\n",
        "\n",
        "1. Hard Margin SVM:\n",
        "In a Hard Margin SVM, the goal is to find a hyperplane that perfectly separates the classes, with no misclassification allowed.\n",
        "\n",
        "2. Soft Margin SVM:In a Soft Margin SVM, the model allows some misclassification to achieve a better overall decision boundary. This is the more commonly used version of SVM, especially for real-world problems\n"
      ]
    },
    {
      "cell_type": "markdown",
      "metadata": {
        "id": "tEi7nGxgO81t"
      },
      "source": [
        "Ques-3 What is the mathematical intuition behind SVM ?"
      ]
    },
    {
      "cell_type": "markdown",
      "metadata": {
        "id": "2qP5rJ3pPuyS"
      },
      "source": [
        "The mathematical intuition behind Support Vector Machines (SVM) is based on the idea of finding a hyperplane that best separates data points from different classes while maximizing the margin between them. This leads to a robust classification model, as it aims to generalize well to unseen data."
      ]
    },
    {
      "cell_type": "markdown",
      "metadata": {
        "id": "ZUMTPbolQp3s"
      },
      "source": [
        "Ques-4 What is the role of Lagrange Multipliers in SVM ?"
      ]
    },
    {
      "cell_type": "markdown",
      "metadata": {
        "id": "xKpH5jj1PwAU"
      },
      "source": [
        "Lagrange multipliers play a crucial role in Support Vector Machines (SVM) by helping solve the optimization problem while incorporating constraints into the model. In the context of SVM, they are used to convert the original constrained optimization problem into an unconstrained optimization problem that is easier to solve mathematically."
      ]
    },
    {
      "cell_type": "markdown",
      "metadata": {
        "id": "Hp3YUZYtQwIY"
      },
      "source": [
        "Ques-5 What are Support Vectors in SVM ?"
      ]
    },
    {
      "cell_type": "markdown",
      "metadata": {
        "id": "OqrjEj3URtFL"
      },
      "source": [
        "Support Vectors are the most important data points in a Support Vector Machine (SVM) model because they directly influence the optimal decision boundary (hyperplane) that separates the two classes.\n",
        "\n",
        "\n"
      ]
    },
    {
      "cell_type": "markdown",
      "metadata": {
        "id": "6DsTegX4S6bV"
      },
      "source": [
        "Ques-6 What is a Support Vector Classifier (SVC) ?"
      ]
    },
    {
      "cell_type": "markdown",
      "metadata": {
        "id": "39HprTsxTbUG"
      },
      "source": [
        "A Support Vector Classifier (SVC) is a machine learning algorithm used for classification tasks. It is based on the Support Vector Machine (SVM) framework, which aims to find the optimal decision boundary (hyperplane) that best separates data points of different classes.\n",
        "\n",
        "Classification:\n",
        "\n",
        "SVC is used to classify data into two or more classes. In the simplest case, the classifier handles binary classification, where the goal is to classify data into two distinct categories. For multi-class classification, techniques like one-vs-one or one-vs-all can be used."
      ]
    },
    {
      "cell_type": "markdown",
      "metadata": {
        "id": "NMK0HebdTgV_"
      },
      "source": [
        "Ques-7 What is a Support Vector Regressor (SVR)?"
      ]
    },
    {
      "cell_type": "markdown",
      "metadata": {
        "id": "580_MkDpUlP5"
      },
      "source": [
        "A Support Vector Regressor (SVR) is a machine learning algorithm used for regression tasks, which means it is designed to predict continuous output values (as opposed to categorical labels in classification tasks). SVR is based on the Support Vector Machine (SVM) framework, which is commonly associated with classification tasks but can be extended to handle regression problems."
      ]
    },
    {
      "cell_type": "markdown",
      "metadata": {
        "id": "Mq6wmbg4rPv-"
      },
      "source": [
        "Ques-8 What is the Kernel Trick in SVM ?"
      ]
    },
    {
      "cell_type": "markdown",
      "metadata": {
        "id": "HaeuRZEfrcaB"
      },
      "source": [
        "The Kernel Trick in Support Vector Machines (SVMs) is a method used to transform data into a higher-dimensional space, where it becomes easier to find a separating hyperplane (decision boundary) that maximizes the margin between different classes. This trick is especially useful when the data is not linearly separable in its original space."
      ]
    },
    {
      "cell_type": "markdown",
      "metadata": {
        "id": "az3Gn1c8reM8"
      },
      "source": [
        "Ques-9  Compare Linear Kernel, Polynomial Kernel, and RBF Kernel ?"
      ]
    },
    {
      "cell_type": "markdown",
      "metadata": {
        "id": "RoaRUw0WruOb"
      },
      "source": [
        "When using Support Vector Machines (SVM), different kernel functions can be chosen based on the characteristics of the data and the problem at hand. Here's a comparison of the Linear Kernel, Polynomial Kernel, and RBF (Radial Basis Function) Kernel based on various factors:\n",
        "\n",
        "1. Linear kernel : The Linear Kernel is the simplest and assumes that the data is linearly separable in the original feature space.\n",
        "\n",
        "2. Polynomial kernel : The Polynomial Kernel maps the data into a higher-dimensional space, allowing for non-linear decision boundaries.\n",
        "\n",
        "3. RBF kernel: The RBF Kernel is one of the most popular and powerful kernels because it can create complex non-linear decision boundaries."
      ]
    },
    {
      "cell_type": "markdown",
      "metadata": {
        "id": "9g4ma0rPsWkI"
      },
      "source": [
        "Ques-10 What is the effect of the C parameter in SVM ?"
      ]
    },
    {
      "cell_type": "markdown",
      "metadata": {
        "id": "G664OKAyseDe"
      },
      "source": [
        "In Support Vector Machines (SVM), the C parameter plays a crucial role in determining the trade-off between maximizing the margin (i.e., the distance between the separating hyperplane and the closest data points) and minimizing classification errors (i.e., allowing some points to be on the wrong side of the hyperplane)."
      ]
    },
    {
      "cell_type": "markdown",
      "metadata": {
        "id": "hmwCW19osqji"
      },
      "source": [
        "Ques-11 What is the role of the Gamma parameter in RBF Kernel SVM ?"
      ]
    },
    {
      "cell_type": "markdown",
      "metadata": {
        "id": "8Q23otZltE_y"
      },
      "source": [
        "The\n",
        "𝛾\n",
        "γ parameter in the Radial Basis Function (RBF) kernel plays a critical role in determining the shape and flexibility of the decision boundary created by the Support Vector Machine (SVM). Specifically,\n",
        "𝛾\n",
        "γ controls the influence of individual training samples in the decision-making process.\n",
        "\n",
        "Role of the\n",
        "𝛾\n",
        "γ Parameter:\n",
        "𝛾\n",
        "\n",
        "γ determines how much influence each individual data point has on the decision boundary. More formally, it defines the spread of the Gaussian function used in the RBF kernel."
      ]
    },
    {
      "cell_type": "markdown",
      "source": [
        "Ques-12 What is the Naïve Bayes classifier, and why is it called \"Naïve\" ?"
      ],
      "metadata": {
        "id": "e4VyvChRXdUW"
      }
    },
    {
      "cell_type": "markdown",
      "source": [
        "The Naïve Bayes classifier is a simple probabilistic machine learning model used for classification tasks. It is based on Bayes' Theorem, which describes the probability of an event, given prior knowledge of conditions related to the event. In classification, it calculates the probability of a class label given the features (input data) and chooses the class with the highest probability."
      ],
      "metadata": {
        "id": "gSiUsRxiX6BS"
      }
    },
    {
      "cell_type": "markdown",
      "source": [
        "Ques-13 What is Bayes’ Theorem ?"
      ],
      "metadata": {
        "id": "d-EhwSvmX-y9"
      }
    },
    {
      "cell_type": "markdown",
      "source": [
        "Bayes' Theorem is a fundamental concept in probability theory and statistics, which describes how to update the probability of a hypothesis based on new evidence or data. It provides a way to calculate the posterior probability of an event, given prior knowledge (or prior probability) and new information (or likelihood)."
      ],
      "metadata": {
        "id": "P_rLm15MYefT"
      }
    },
    {
      "cell_type": "markdown",
      "source": [
        "Ques-14 Explain the differences between Gaussian Naïve Bayes, Multinomial Naïve Bayes, and Bernoulli Naïve Bayes ?"
      ],
      "metadata": {
        "id": "_NhI1g8aYk4K"
      }
    },
    {
      "cell_type": "markdown",
      "source": [
        "The three variants of the Naïve Bayes classifier—Gaussian Naïve Bayes, Multinomial Naïve Bayes, and Bernoulli Naïve Bayes—are all based on the same foundational principle of Bayes' Theorem, but they make different assumptions about the distribution of the data and how features behave. Here's a breakdown of each one and their differences:\n",
        "\n",
        "1. Gaussian Naïve Bayes\n",
        " Assumes that the features (or variables) are continuous and follow a Gaussian (normal) distribution. That is, each feature is assumed to have a bell-shaped distribution, characterized by a mean and a standard deviation.\n",
        "\n",
        "2. Multinomial Naïve Bayes:\n",
        "Assumes that the features are discrete and represent counts (e.g., word counts in text classification). The likelihood of a feature is modeled using a multinomial distribution, which is a generalization of the binomial distribution.\n",
        "\n",
        "3. Bernoulli Naïve Bayes :\n",
        " Assumes that the features are binary (i.e., they can only take two values: 0 or 1, true or false). It models the likelihood of each feature in a Bernoulli distribution."
      ],
      "metadata": {
        "id": "IiT-MA85Y95n"
      }
    },
    {
      "cell_type": "markdown",
      "source": [
        "Ques-15  When should you use Gaussian Naïve Bayes over other variants ?"
      ],
      "metadata": {
        "id": "5G8KQ6iFZXsy"
      }
    },
    {
      "cell_type": "markdown",
      "source": [
        "You should use Gaussian Naïve Bayes over other variants (like Multinomial Naïve Bayes or Bernoulli Naïve Bayes) in situations where your data meets the following conditions:\n",
        "\n",
        "1. Continuous Features\n",
        "2. Features are noramlly distributed\n",
        "3. Less Concern about Feature Independence\n",
        "4. simple and efficient model for continuos data"
      ],
      "metadata": {
        "id": "DIug6IbeZo3k"
      }
    },
    {
      "cell_type": "markdown",
      "source": [
        "Ques-16 What are the key assumptions made by Naïve Bayes ?"
      ],
      "metadata": {
        "id": "rjatCzXpZ4g7"
      }
    },
    {
      "cell_type": "markdown",
      "source": [
        "The Naïve Bayes classifier makes several key assumptions that simplify the process of classification, but these assumptions are what also make it \"naïve.\" Here are the key assumptions made by Naïve Bayes:\n",
        "\n",
        "1. Feature Independence Assumption\n",
        "2. class conditional independence\n",
        "3. Feature Representations (Data Type Assumptions)\n",
        "4. Conditional distribution of features\n",
        "5. class prior probabilities\n",
        "6. Independence Between Class Labels and Features for Prediction"
      ],
      "metadata": {
        "id": "gKc_uu9raMtk"
      }
    },
    {
      "cell_type": "markdown",
      "source": [
        "Ques-17 What are the advantages and disadvantages of Naïve Bayes ?"
      ],
      "metadata": {
        "id": "SZd4-qJaagnV"
      }
    },
    {
      "cell_type": "markdown",
      "source": [
        "Naïve Bayes is a widely used classification algorithm, and it has several advantages and disadvantages. Here’s a breakdown of both:\n",
        "\n",
        "Advantages of Naïve Bayes:\n",
        "1. Simple and Easy to Implement:\n",
        "2. Fast and efficient\n",
        "3. Works Well with High Dimensionality\n",
        "4. Perform well with small dataset\n",
        "5. Handle both continuos or categorical\n",
        "6. Handles Missing Data Well\n",
        "7. Good baseline model\n",
        "\n",
        "Disadvantage of Naive Bayes:\n",
        "1. Independence Assumption is Often Unrealistic\n",
        "2. Relies on strong distributional condition\n",
        "3. Poor performance with highly skewed data\n",
        "4. Difficulty Handling Complex Relationships\n",
        "5. Zero Probability Problem (Smoothing Required)\n",
        "6. Not suitable for regression\n",
        "\n"
      ],
      "metadata": {
        "id": "Saj0K6DpavBU"
      }
    },
    {
      "cell_type": "markdown",
      "source": [
        "Ques-18 Why is Naïve Bayes a good choice for text classification ?"
      ],
      "metadata": {
        "id": "Fm1zYEenbqCG"
      }
    },
    {
      "cell_type": "markdown",
      "source": [
        "Naïve Bayes is a popular and effective choice for text classification tasks, such as spam detection, sentiment analysis, and document categorization, for several reasons. Below are the key factors that make Naïve Bayes a good fit for text classification:\n",
        "\n",
        "1. High Dimensionality of Text Data\n",
        "2. Discrete features\n",
        "3. Simplicity and Efficiency\n",
        "4. Works well with small dataset\n",
        "5. Handles missing data\n",
        "6. Strong Performance with Textual Data\n",
        "7. Easy to intrept\n",
        "8. work well with class imbalance\n",
        "9. Easily Handles New Words (with Smoothing)"
      ],
      "metadata": {
        "id": "wOuQJEaOb-1T"
      }
    },
    {
      "cell_type": "markdown",
      "source": [
        "Ques-19 Compare SVM and Naïve Bayes for classification tasks?"
      ],
      "metadata": {
        "id": "GpZJsQIPcXoA"
      }
    },
    {
      "cell_type": "markdown",
      "source": [
        "**Naïve Bayes** and **Support Vector Machines (SVM)** are both popular classification algorithms, but they differ in approach and suitability. **Naïve Bayes** is a probabilistic, generative model that assumes feature independence, making it fast and effective for high-dimensional, sparse data, like text classification tasks. It’s simple, efficient, and interpretable, but struggles when features are correlated. On the other hand, **SVM** is a discriminative model that aims to find the optimal decision boundary between classes, making it powerful for both linear and non-linear data. While SVM performs well on complex datasets, it can be slower and more resource-intensive, especially for large datasets or with non-linear kernels. Naïve Bayes is often preferred for text classification due to its simplicity and speed, whereas SVM is chosen for tasks that require a complex decision boundary or better handling of non-linearity and outliers."
      ],
      "metadata": {
        "id": "65zUIqFIcvaG"
      }
    },
    {
      "cell_type": "markdown",
      "source": [
        "Ques-20 How does Laplace Smoothing help in Naïve Bayes ?"
      ],
      "metadata": {
        "id": "uhZQNS44dGNT"
      }
    },
    {
      "cell_type": "markdown",
      "source": [
        "Laplace Smoothing is a technique used in Naïve Bayes to handle the problem of zero probabilities that can occur when a feature (word) does not appear in the training data for a particular class. In Naïve Bayes, we calculate the probability of a feature given a class by multiplying the probabilities of individual features. If any feature does not appear in the training data for a class, the probability for that feature becomes zero, which would make the entire probability of the class zero, even if other features strongly suggest that the class is likely. This is especially problematic in cases like text classification, where some words may not appear in every class."
      ],
      "metadata": {
        "id": "3EVYOXqxdclM"
      }
    },
    {
      "cell_type": "markdown",
      "metadata": {
        "id": "-eTdd6yptYN5"
      },
      "source": [
        "# **PRACTICAL QUESTIONS**"
      ]
    },
    {
      "cell_type": "markdown",
      "metadata": {
        "id": "VsTqccyhtVDa"
      },
      "source": [
        "Ques-21 Write a Python program to train an SVM Classifier on the Iris dataset and evaluate accuracy ?"
      ]
    },
    {
      "cell_type": "code",
      "execution_count": null,
      "metadata": {
        "colab": {
          "base_uri": "https://localhost:8080/"
        },
        "id": "FfjJRJhdtXYC",
        "outputId": "6c0ab846-9780-49be-86a0-b009dffff10e"
      },
      "outputs": [
        {
          "name": "stdout",
          "output_type": "stream",
          "text": [
            "Accuracy is : {1.0}\n"
          ]
        }
      ],
      "source": [
        "#Importing neccessary libraries\n",
        "import pandas as pd\n",
        "from sklearn.datasets import load_iris\n",
        "from sklearn.model_selection import train_test_split\n",
        "from sklearn.svm import SVC\n",
        "\n",
        "#Load the dataset\n",
        "data = load_iris()\n",
        "df = pd.DataFrame(data.data, columns = data.feature_names)\n",
        "\n",
        "#Devide x and y\n",
        "x = df\n",
        "y = data.target\n",
        "\n",
        "#Train test split\n",
        "xtrain ,xtest , ytrain , ytest = train_test_split(x,y , test_size=0.30, random_state=1)\n",
        "\n",
        "#model training\n",
        "cls = SVC(kernel = 'linear')\n",
        "cls.fit(xtrain , ytrain)\n",
        "ypred = cls.predict(xtest)\n",
        "\n",
        "#Model evaluation\n",
        "from sklearn.metrics import accuracy_score\n",
        "Accuracy = accuracy_score(ypred , ytest)\n",
        "print(\"Accuracy is :\", {Accuracy})"
      ]
    },
    {
      "cell_type": "markdown",
      "metadata": {
        "id": "8WxArlgdxEdg"
      },
      "source": [
        "Ques- 22 Write a Python program to train two SVM classifiers with Linear and RBF kernels on the Wine dataset, then\n",
        "compare their accuracies ?\n"
      ]
    },
    {
      "cell_type": "code",
      "execution_count": null,
      "metadata": {
        "colab": {
          "base_uri": "https://localhost:8080/"
        },
        "id": "f8hec39HuMVB",
        "outputId": "8f588904-1f98-4be7-e14b-68005d1412dd"
      },
      "outputs": [
        {
          "name": "stdout",
          "output_type": "stream",
          "text": [
            "LInear kernel accuracy is: {0.9629629629629629}\n",
            "RBF Kernel accuracy is: {0.6851851851851852}\n"
          ]
        }
      ],
      "source": [
        "#Importing neccessary libraries\n",
        "from sklearn.datasets import load_wine\n",
        "import pandas as pd\n",
        "from sklearn.model_selection import train_test_split\n",
        "from sklearn.svm import SVC\n",
        "from sklearn.metrics import accuracy_score\n",
        "\n",
        "#Load the dataset\n",
        "data = load_wine()\n",
        "df = pd.DataFrame(data.data , columns = data.feature_names)\n",
        "\n",
        "#Devide x and y\n",
        "x = df\n",
        "y = data.target\n",
        "\n",
        "#Train test split\n",
        "xtrain , xtest, ytrain, ytest = train_test_split(x,y , test_size=0.30 , random_state=1)\n",
        "\n",
        "#Model training\n",
        "clas = SVC(kernel = 'linear')\n",
        "cls = SVC(kernel = \"rbf\")\n",
        "clas.fit(xtrain , ytrain)\n",
        "cls.fit(xtrain , ytrain)\n",
        "\n",
        "#model prediction\n",
        "ypredLinear = clas.predict(xtest)\n",
        "ypredRBF = cls.predict(xtest)\n",
        "\n",
        "#Model Evaluation\n",
        "Linear = accuracy_score(ypredLinear , ytest)\n",
        "RBF = accuracy_score(ypredRBF , ytest)\n",
        "print(\"LInear kernel accuracy is:\",{Linear})\n",
        "print(\"RBF Kernel accuracy is:\",{RBF})\n"
      ]
    },
    {
      "cell_type": "markdown",
      "metadata": {
        "id": "pG4sjrm0zszO"
      },
      "source": [
        "Ques-23 Write a Python program to train an SVM Regressor (SVR) on a housing dataset and evaluate it using Mean\n",
        "Squared Error (MSE)?"
      ]
    },
    {
      "cell_type": "code",
      "execution_count": null,
      "metadata": {
        "colab": {
          "base_uri": "https://localhost:8080/"
        },
        "id": "lBOE1PkXuXc1",
        "outputId": "621892d7-4de8-490c-806e-3467a5afe289"
      },
      "outputs": [
        {
          "output_type": "stream",
          "name": "stdout",
          "text": [
            "Mean squared error is : {1.3378486352745658}\n"
          ]
        }
      ],
      "source": [
        "#Importing neccessary libraries\n",
        "import pandas as pd\n",
        "from sklearn.datasets import fetch_california_housing\n",
        "from sklearn.model_selection import train_test_split\n",
        "from sklearn.svm import SVR\n",
        "from sklearn.metrics import mean_squared_error\n",
        "\n",
        "#Load the dataset\n",
        "data = fetch_california_housing()\n",
        "df = pd.DataFrame(data.data, columns = data.feature_names)\n",
        "\n",
        "#Devide x and y\n",
        "x = df\n",
        "y = data.target\n",
        "\n",
        "#Train test split\n",
        "xtrain ,xtest , ytrain , ytest = train_test_split(x,y , test_size=0.30, random_state=1)\n",
        "\n",
        "#model training\n",
        "cls = SVR()\n",
        "cls.fit(xtrain , ytrain)\n",
        "ypred = cls.predict(xtest)\n",
        "\n",
        "#Model evaluation\n",
        "MSE = mean_squared_error(ypred , ytest)\n",
        "print(\"Mean squared error is :\", {MSE})"
      ]
    },
    {
      "cell_type": "markdown",
      "source": [
        "Ques-24 Write a Python program to train an SVM Classifier with a Polynomial Kernel and visualize the decision\n",
        "boundary ?"
      ],
      "metadata": {
        "id": "PuTwBuyVMcAn"
      }
    },
    {
      "cell_type": "code",
      "source": [
        "import numpy as np\n",
        "import pandas as pd\n",
        "import matplotlib.pyplot as plt\n",
        "from sklearn.datasets import load_iris\n",
        "from sklearn.model_selection import train_test_split\n",
        "from sklearn.svm import SVC\n",
        "from sklearn.preprocessing import StandardScaler\n",
        "\n",
        "# Load the dataset\n",
        "data = load_iris()\n",
        "df = pd.DataFrame(data.data, columns=data.feature_names)\n",
        "x = df.iloc[:, :2]  # Select only the first two features for visualization (sepal length and sepal width)\n",
        "y = data.target\n",
        "\n",
        "# Train-test split\n",
        "xtrain, xtest, ytrain, ytest = train_test_split(x, y, test_size=0.3, random_state=1)\n",
        "\n",
        "# Feature scaling (important for SVMs)\n",
        "scaler = StandardScaler()\n",
        "xtrain = scaler.fit_transform(xtrain)\n",
        "xtest = scaler.transform(xtest)\n",
        "\n",
        "# Train the SVM model with a Polynomial kernel\n",
        "model = SVC(kernel='poly', degree=3)  # degree 3 is a common choice for polynomial kernel\n",
        "model.fit(xtrain, ytrain)\n",
        "\n",
        "# Create a mesh grid for plotting the decision boundary\n",
        "x_min, x_max = xtrain[:, 0].min() - 1, xtrain[:, 0].max() + 1\n",
        "y_min, y_max = xtrain[:, 1].min() - 1, xtrain[:, 1].max() + 1\n",
        "xx, yy = np.meshgrid(np.arange(x_min, x_max, 0.01),\n",
        "                     np.arange(y_min, y_max, 0.01))\n",
        "\n",
        "# Predict on the mesh grid\n",
        "Z = model.predict(np.c_[xx.ravel(), yy.ravel()])\n",
        "Z = Z.reshape(xx.shape)\n",
        "\n",
        "# Plot the decision boundary\n",
        "plt.figure(figsize=(10, 6))\n",
        "plt.contourf(xx, yy, Z, alpha=0.8, cmap=plt.cm.coolwarm)\n",
        "\n",
        "# Plot the training data\n",
        "plt.scatter(xtrain[:, 0], xtrain[:, 1], c=ytrain, cmap=plt.cm.coolwarm, marker='o', edgecolors='k', s=100, label='Train Data')\n",
        "plt.scatter(xtest[:, 0], xtest[:, 1], c=ytest, cmap=plt.cm.coolwarm, marker='x', edgecolors='k', s=100, label='Test Data')\n",
        "\n",
        "# Adding labels and title\n",
        "plt.title('SVM with Polynomial Kernel - Decision Boundary')\n",
        "plt.xlabel(data.feature_names[0])  # Sepal length\n",
        "plt.ylabel(data.feature_names[1])  # Sepal width\n",
        "plt.legend()\n",
        "plt.show()\n"
      ],
      "metadata": {
        "colab": {
          "base_uri": "https://localhost:8080/",
          "height": 619
        },
        "id": "9XAihcMVNKEz",
        "outputId": "02596e8f-d470-4205-a45a-6d672d26dcdd"
      },
      "execution_count": null,
      "outputs": [
        {
          "output_type": "stream",
          "name": "stderr",
          "text": [
            "<ipython-input-6-4bc93cce62b6>:43: UserWarning: You passed a edgecolor/edgecolors ('k') for an unfilled marker ('x').  Matplotlib is ignoring the edgecolor in favor of the facecolor.  This behavior may change in the future.\n",
            "  plt.scatter(xtest[:, 0], xtest[:, 1], c=ytest, cmap=plt.cm.coolwarm, marker='x', edgecolors='k', s=100, label='Test Data')\n"
          ]
        },
        {
          "output_type": "display_data",
          "data": {
            "text/plain": [
              "<Figure size 1000x600 with 1 Axes>"
            ],
            "image/png": "[encoded data removed]"
          },
          "metadata": {}
        }
      ]
    },
    {
      "cell_type": "markdown",
      "source": [
        "Ques-25 Write a Python program to train a Gaussian Naïve Bayes classifier on the Breast Cancer dataset and\n",
        "evaluate accuracy ?"
      ],
      "metadata": {
        "id": "SjQx0BszNsRW"
      }
    },
    {
      "cell_type": "code",
      "source": [
        "# Import necessary libraries\n",
        "from sklearn.datasets import load_breast_cancer\n",
        "from sklearn.model_selection import train_test_split\n",
        "from sklearn.naive_bayes import GaussianNB\n",
        "from sklearn.metrics import accuracy_score\n",
        "\n",
        "# Step 1: Load the Breast Cancer dataset\n",
        "data = load_breast_cancer()\n",
        "X = data.data  # Features\n",
        "y = data.target  # Target (0: malignant, 1: benign)\n",
        "\n",
        "# Step 2: Split the data into training and testing sets\n",
        "X_train, X_test, y_train, y_test = train_test_split(X, y, test_size=0.3, random_state=42)\n",
        "\n",
        "# Step 3: Initialize and train the Gaussian Naive Bayes model\n",
        "gnb = GaussianNB()\n",
        "gnb.fit(X_train, y_train)\n",
        "\n",
        "# Step 4: Make predictions on the test set\n",
        "y_pred = gnb.predict(X_test)\n",
        "\n",
        "# Step 5: Evaluate the accuracy of the model\n",
        "accuracy = accuracy_score(y_test, y_pred)\n",
        "\n",
        "# Print the accuracy of the classifier\n",
        "print(\"Accuracy of the Gaussian Naive Bayes classifier:\", accuracy)\n"
      ],
      "metadata": {
        "colab": {
          "base_uri": "https://localhost:8080/"
        },
        "id": "8-JjrfXARA_z",
        "outputId": "2360ceca-1f7b-4e8d-ac3d-0b804385a4a5"
      },
      "execution_count": null,
      "outputs": [
        {
          "output_type": "stream",
          "name": "stdout",
          "text": [
            "Accuracy of the Gaussian Naive Bayes classifier: 0.9415204678362573\n"
          ]
        }
      ]
    },
    {
      "cell_type": "markdown",
      "source": [
        "Ques-26 Write a Python program to train a Multinomial Naïve Bayes classifier for text classification using the 20\n",
        "Newsgroups dataset ?"
      ],
      "metadata": {
        "id": "m_-SANbXO3cG"
      }
    },
    {
      "cell_type": "code",
      "source": [
        "# Import necessary libraries\n",
        "from sklearn.datasets import load_breast_cancer\n",
        "from sklearn.model_selection import train_test_split\n",
        "from sklearn.naive_bayes import GaussianNB\n",
        "from sklearn.metrics import accuracy_score\n",
        "\n",
        "# Step 1: Load the Breast Cancer dataset\n",
        "data = load_breast_cancer()\n",
        "X = data.data  # Features\n",
        "y = data.target  # Target (0: malignant, 1: benign)\n",
        "\n",
        "# Step 2: Split the data into training and testing sets\n",
        "X_train, X_test, y_train, y_test = train_test_split(X, y, test_size=0.3, random_state=42)\n",
        "\n",
        "# Step 3: Initialize and train the Gaussian Naive Bayes model\n",
        "gnb = GaussianNB()\n",
        "gnb.fit(X_train, y_train)\n",
        "\n",
        "# Step 4: Make predictions on the test set\n",
        "y_pred = gnb.predict(X_test)\n",
        "\n",
        "# Step 5: Evaluate the accuracy of the model\n",
        "accuracy = accuracy_score(y_test, y_pred)\n",
        "\n",
        "# Print the accuracy of the classifier\n",
        "print(\"Accuracy of the Gaussian Naive Bayes classifier:\", accuracy)\n"
      ],
      "metadata": {
        "colab": {
          "base_uri": "https://localhost:8080/"
        },
        "id": "OyBTkvP9O4dQ",
        "outputId": "246ff8b7-236a-4bc3-e330-573cae3870ea"
      },
      "execution_count": null,
      "outputs": [
        {
          "output_type": "stream",
          "name": "stdout",
          "text": [
            "Accuracy of the Gaussian Naive Bayes classifier: 0.9415204678362573\n"
          ]
        }
      ]
    },
    {
      "cell_type": "markdown",
      "source": [
        "Ques-27 Write a Python program to train an SVM Classifier with different C values and compare the decision\n",
        "boundaries visually ?"
      ],
      "metadata": {
        "id": "zojcrfrOhvUS"
      }
    },
    {
      "cell_type": "code",
      "source": [
        "import numpy as np\n",
        "import matplotlib.pyplot as plt\n",
        "from sklearn import datasets\n",
        "from sklearn.svm import SVC\n",
        "from sklearn.model_selection import train_test_split\n",
        "\n",
        "# 1. Load the dataset (using the Iris dataset for simplicity)\n",
        "# We will use only two features for 2D visualization\n",
        "iris = datasets.load_iris()\n",
        "X = iris.data[:, :2]  # Use only the first two features\n",
        "y = iris.target\n",
        "\n",
        "# We are going to use only two classes for simplicity\n",
        "X = X[y != 2]\n",
        "y = y[y != 2]\n",
        "\n",
        "# 2. Split the data into training and testing sets\n",
        "X_train, X_test, y_train, y_test = train_test_split(X, y, test_size=0.3, random_state=42)\n",
        "\n",
        "# 3. Define different values for the hyperparameter C\n",
        "C_values = [0.1, 1, 10]\n",
        "\n",
        "# 4. Plot the decision boundaries for each C value\n",
        "plt.figure(figsize=(12, 4))\n",
        "\n",
        "for i, C in enumerate(C_values):\n",
        "    # Create an SVM classifier with the current C value\n",
        "    clf = SVC(kernel='linear', C=C)\n",
        "    clf.fit(X_train, y_train)\n",
        "\n",
        "    # Create a mesh grid for plotting decision boundaries\n",
        "    x_min, x_max = X[:, 0].min() - 1, X[:, 0].max() + 1\n",
        "    y_min, y_max = X[:, 1].min() - 1, X[:, 1].max() + 1\n",
        "    xx, yy = np.meshgrid(np.arange(x_min, x_max, 0.01), np.arange(y_min, y_max, 0.01))\n",
        "\n",
        "    # Predict over the mesh grid\n",
        "    Z = clf.predict(np.c_[xx.ravel(), yy.ravel()])\n",
        "    Z = Z.reshape(xx.shape)\n",
        "\n",
        "    # Plot the decision boundary\n",
        "    plt.subplot(1, len(C_values), i + 1)\n",
        "    plt.contourf(xx, yy, Z, alpha=0.8)\n",
        "    plt.scatter(X_train[:, 0], X_train[:, 1], c=y_train, edgecolors='k', marker='o', s=100, label='Training Data')\n",
        "    plt.scatter(X_test[:, 0], X_test[:, 1], c=y_test, edgecolors='r', marker='x', s=100, label='Test Data')\n",
        "\n",
        "    plt.title(f\"SVM with C={C}\")\n",
        "    plt.xlabel('Feature 1')\n",
        "    plt.ylabel('Feature 2')\n",
        "    plt.legend()\n",
        "\n",
        "# Display the plots\n",
        "plt.tight_layout()\n",
        "plt.show()\n"
      ],
      "metadata": {
        "colab": {
          "base_uri": "https://localhost:8080/",
          "height": 531
        },
        "id": "SeiYgO6YhL4J",
        "outputId": "ddb71539-79b9-4f66-df60-6f82a7996214"
      },
      "execution_count": null,
      "outputs": [
        {
          "output_type": "stream",
          "name": "stderr",
          "text": [
            "<ipython-input-17-923d3a5061e2>:44: UserWarning: You passed a edgecolor/edgecolors ('r') for an unfilled marker ('x').  Matplotlib is ignoring the edgecolor in favor of the facecolor.  This behavior may change in the future.\n",
            "  plt.scatter(X_test[:, 0], X_test[:, 1], c=y_test, edgecolors='r', marker='x', s=100, label='Test Data')\n",
            "<ipython-input-17-923d3a5061e2>:44: UserWarning: You passed a edgecolor/edgecolors ('r') for an unfilled marker ('x').  Matplotlib is ignoring the edgecolor in favor of the facecolor.  This behavior may change in the future.\n",
            "  plt.scatter(X_test[:, 0], X_test[:, 1], c=y_test, edgecolors='r', marker='x', s=100, label='Test Data')\n",
            "<ipython-input-17-923d3a5061e2>:44: UserWarning: You passed a edgecolor/edgecolors ('r') for an unfilled marker ('x').  Matplotlib is ignoring the edgecolor in favor of the facecolor.  This behavior may change in the future.\n",
            "  plt.scatter(X_test[:, 0], X_test[:, 1], c=y_test, edgecolors='r', marker='x', s=100, label='Test Data')\n"
          ]
        },
        {
          "output_type": "display_data",
          "data": {
            "text/plain": [
              "<Figure size 1200x400 with 3 Axes>"
            ],
            "image/png": "[encoded data removed]"
          },
          "metadata": {}
        }
      ]
    },
    {
      "cell_type": "markdown",
      "source": [
        "Ques-28 Write a Python program to train a Bernoulli Naïve Bayes classifier for binary classification on a dataset with\n",
        "binary features ?"
      ],
      "metadata": {
        "id": "XGKW4_2cdjtW"
      }
    },
    {
      "cell_type": "code",
      "source": [
        "# Importing neccessary libraries\n",
        "import pandas as pd\n",
        "import numpy as np\n",
        "import seaborn as sns\n",
        "from sklearn.datasets import load_iris\n",
        "from sklearn.model_selection import train_test_split\n",
        "from sklearn.naive_bayes import BernoulliNB\n",
        "\n",
        "# Loading the dataset\n",
        "data = load_iris()\n",
        "df = pd.DataFrame(data.data , columns = data.feature_names)\n",
        "\n",
        "#Devide x and y\n",
        "x = df\n",
        "y = data.target\n",
        "\n",
        "#Train test split\n",
        "xtrain , xtest, ytrain , ytest = train_test_split(x ,y , test_size=0.30 , random_state=1)\n",
        "\n",
        "#Model Training\n",
        "model = BernoulliNB()\n",
        "model.fit(xtrain , ytrain)\n",
        "ypred = model.predict(xtest)\n",
        "\n",
        "#Model evaluation\n",
        "from sklearn.metrics import accuracy_score\n",
        "Accuracy = accuracy_score(ypred , ytest)\n",
        "print(f\"Accuracy is : {Accuracy}\")"
      ],
      "metadata": {
        "id": "slgGO0WkiZPy",
        "colab": {
          "base_uri": "https://localhost:8080/"
        },
        "outputId": "219cb923-d73d-4542-c13d-064cd79a9b69"
      },
      "execution_count": 3,
      "outputs": [
        {
          "output_type": "stream",
          "name": "stdout",
          "text": [
            "Accuracy is : 0.28888888888888886\n"
          ]
        }
      ]
    },
    {
      "cell_type": "markdown",
      "source": [
        "Ques-29 Write a Python program to apply feature scaling before training an SVM model and compare results with\n",
        "unscaled data ?"
      ],
      "metadata": {
        "id": "8bGgJxi9fqqR"
      }
    },
    {
      "cell_type": "code",
      "source": [
        "import numpy as np\n",
        "from sklearn.model_selection import train_test_split\n",
        "from sklearn.svm import SVC\n",
        "from sklearn.preprocessing import StandardScaler\n",
        "from sklearn.metrics import accuracy_score\n",
        "\n",
        "# Example dataset with numerical features\n",
        "X = np.array([[1, 200, 3],\n",
        "              [4, 500, 6],\n",
        "              [7, 100, 9],\n",
        "              [10, 700, 12],\n",
        "              [13, 900, 15]])\n",
        "\n",
        "# Example binary target labels (0 or 1)\n",
        "y = np.array([1, 0, 1, 0, 1])\n",
        "\n",
        "# Split the dataset into training and testing sets (80% train, 20% test)\n",
        "X_train, X_test, y_train, y_test = train_test_split(X, y, test_size=0.2, random_state=42)\n",
        "\n",
        "# 1. Train SVM on unscaled data\n",
        "svm_unscaled = SVC(kernel='linear')\n",
        "svm_unscaled.fit(X_train, y_train)\n",
        "y_pred_unscaled = svm_unscaled.predict(X_test)\n",
        "\n",
        "# 2. Apply feature scaling using StandardScaler\n",
        "scaler = StandardScaler()\n",
        "X_train_scaled = scaler.fit_transform(X_train)\n",
        "X_test_scaled = scaler.transform(X_test)\n",
        "\n",
        "# Train SVM on scaled data\n",
        "svm_scaled = SVC(kernel='linear')\n",
        "svm_scaled.fit(X_train_scaled, y_train)\n",
        "y_pred_scaled = svm_scaled.predict(X_test_scaled)\n",
        "\n",
        "# Evaluate and compare the results\n",
        "accuracy_unscaled = accuracy_score(y_test, y_pred_unscaled)\n",
        "accuracy_scaled = accuracy_score(y_test, y_pred_scaled)\n",
        "\n",
        "print(f\"Accuracy with unscaled data: {accuracy_unscaled:.4f}\")\n",
        "print(f\"Accuracy with scaled data: {accuracy_scaled:.4f}\")\n"
      ],
      "metadata": {
        "colab": {
          "base_uri": "https://localhost:8080/"
        },
        "id": "T1k4ObupgK8t",
        "outputId": "fa03ca45-48e8-4f14-f985-c91c4cd21734"
      },
      "execution_count": 20,
      "outputs": [
        {
          "output_type": "stream",
          "name": "stdout",
          "text": [
            "Accuracy with unscaled data: 0.0000\n",
            "Accuracy with scaled data: 0.0000\n"
          ]
        }
      ]
    },
    {
      "cell_type": "markdown",
      "source": [
        "Ques-30 Write a Python program to train a Gaussian Naïve Bayes model and compare the predictions before and\n",
        "after Laplace Smoothing ?"
      ],
      "metadata": {
        "id": "7_6bUiCxj5v7"
      }
    },
    {
      "cell_type": "code",
      "source": [
        "import numpy as np\n",
        "from sklearn.naive_bayes import GaussianNB, MultinomialNB\n",
        "from sklearn.model_selection import train_test_split\n",
        "from sklearn.metrics import accuracy_score\n",
        "\n",
        "# Sample dataset with continuous features\n",
        "X = np.array([[1.0, 2.1], [1.5, 1.8], [2.0, 3.0], [3.0, 3.3], [2.5, 2.5]])\n",
        "y = np.array([0, 0, 1, 1, 0])\n",
        "\n",
        "# Split dataset into training and testing sets (80% train, 20% test)\n",
        "X_train, X_test, y_train, y_test = train_test_split(X, y, test_size=0.2, random_state=42)\n",
        "\n",
        "# 1. Train Gaussian Naive Bayes (without smoothing)\n",
        "gnb = GaussianNB()\n",
        "gnb.fit(X_train, y_train)\n",
        "y_pred_gnb = gnb.predict(X_test)\n",
        "\n",
        "# 2. Train Multinomial Naive Bayes with Laplace smoothing (alpha=1)\n",
        "# For demonstration purposes, we'll treat the data as counts\n",
        "from sklearn.feature_extraction.text import CountVectorizer\n",
        "\n",
        "# We convert the continuous features to string representations for the MultinomialNB\n",
        "vectorizer = CountVectorizer()\n",
        "X_train_counts = vectorizer.fit_transform([str(x[0]) + \" \" + str(x[1]) for x in X_train])\n",
        "X_test_counts = vectorizer.transform([str(x[0]) + \" \" + str(x[1]) for x in X_test])\n",
        "\n",
        "mnb_with_smoothing = MultinomialNB(alpha=1)  # Laplace smoothing\n",
        "mnb_with_smoothing.fit(X_train_counts, y_train)\n",
        "y_pred_mnb_smoothing = mnb_with_smoothing.predict(X_test_counts)\n",
        "\n",
        "# 3. Train Multinomial Naive Bayes without smoothing (alpha=0)\n",
        "mnb_without_smoothing = MultinomialNB(alpha=0)  # No smoothing\n",
        "mnb_without_smoothing.fit(X_train_counts, y_train)\n",
        "y_pred_mnb_no_smoothing = mnb_without_smoothing.predict(X_test_counts)\n",
        "\n",
        "# 4. Evaluate and compare the models\n",
        "accuracy_gnb = accuracy_score(y_test, y_pred_gnb)\n",
        "accuracy_mnb_smoothing = accuracy_score(y_test, y_pred_mnb_smoothing)\n",
        "accuracy_mnb_no_smoothing = accuracy_score(y_test, y_pred_mnb_no_smoothing)\n",
        "\n",
        "print(f\"Gaussian Naive Bayes Predictions: {y_pred_gnb}\")\n",
        "print(f\"Multinomial Naive Bayes (with Laplace smoothing) Predictions: {y_pred_mnb_smoothing}\")\n",
        "print(f\"Multinomial Naive Bayes (without smoothing) Predictions: {y_pred_mnb_no_smoothing}\")\n",
        "\n",
        "print(f\"Accuracy with Gaussian Naive Bayes: {accuracy_gnb}\")\n",
        "print(f\"Accuracy with Laplace Smoothed Multinomial Naive Bayes: {accuracy_mnb_smoothing}\")\n",
        "print(f\"Accuracy with Unsmoothed Multinomial Naive Bayes: {accuracy_mnb_no_smoothing}\")\n"
      ],
      "metadata": {
        "colab": {
          "base_uri": "https://localhost:8080/",
          "height": 356
        },
        "id": "S5SYqTpRmKgD",
        "outputId": "92bcae9d-2a3a-4767-c850-ec8450146884"
      },
      "execution_count": 23,
      "outputs": [
        {
          "output_type": "error",
          "ename": "ValueError",
          "evalue": "empty vocabulary; perhaps the documents only contain stop words",
          "traceback": [
            "\u001b[0;31m---------------------------------------------------------------------------\u001b[0m",
            "\u001b[0;31mValueError\u001b[0m                                Traceback (most recent call last)",
            "\u001b[0;32m<ipython-input-23-72bdc328cd6c>\u001b[0m in \u001b[0;36m<cell line: 0>\u001b[0;34m()\u001b[0m\n\u001b[1;32m     22\u001b[0m \u001b[0;31m# We convert the continuous features to string representations for the MultinomialNB\u001b[0m\u001b[0;34m\u001b[0m\u001b[0;34m\u001b[0m\u001b[0m\n\u001b[1;32m     23\u001b[0m \u001b[0mvectorizer\u001b[0m \u001b[0;34m=\u001b[0m \u001b[0mCountVectorizer\u001b[0m\u001b[0;34m(\u001b[0m\u001b[0;34m)\u001b[0m\u001b[0;34m\u001b[0m\u001b[0;34m\u001b[0m\u001b[0m\n\u001b[0;32m---> 24\u001b[0;31m \u001b[0mX_train_counts\u001b[0m \u001b[0;34m=\u001b[0m \u001b[0mvectorizer\u001b[0m\u001b[0;34m.\u001b[0m\u001b[0mfit_transform\u001b[0m\u001b[0;34m(\u001b[0m\u001b[0;34m[\u001b[0m\u001b[0mstr\u001b[0m\u001b[0;34m(\u001b[0m\u001b[0mx\u001b[0m\u001b[0;34m[\u001b[0m\u001b[0;36m0\u001b[0m\u001b[0;34m]\u001b[0m\u001b[0;34m)\u001b[0m \u001b[0;34m+\u001b[0m \u001b[0;34m\" \"\u001b[0m \u001b[0;34m+\u001b[0m \u001b[0mstr\u001b[0m\u001b[0;34m(\u001b[0m\u001b[0mx\u001b[0m\u001b[0;34m[\u001b[0m\u001b[0;36m1\u001b[0m\u001b[0;34m]\u001b[0m\u001b[0;34m)\u001b[0m \u001b[0;32mfor\u001b[0m \u001b[0mx\u001b[0m \u001b[0;32min\u001b[0m \u001b[0mX_train\u001b[0m\u001b[0;34m]\u001b[0m\u001b[0;34m)\u001b[0m\u001b[0;34m\u001b[0m\u001b[0;34m\u001b[0m\u001b[0m\n\u001b[0m\u001b[1;32m     25\u001b[0m \u001b[0mX_test_counts\u001b[0m \u001b[0;34m=\u001b[0m \u001b[0mvectorizer\u001b[0m\u001b[0;34m.\u001b[0m\u001b[0mtransform\u001b[0m\u001b[0;34m(\u001b[0m\u001b[0;34m[\u001b[0m\u001b[0mstr\u001b[0m\u001b[0;34m(\u001b[0m\u001b[0mx\u001b[0m\u001b[0;34m[\u001b[0m\u001b[0;36m0\u001b[0m\u001b[0;34m]\u001b[0m\u001b[0;34m)\u001b[0m \u001b[0;34m+\u001b[0m \u001b[0;34m\" \"\u001b[0m \u001b[0;34m+\u001b[0m \u001b[0mstr\u001b[0m\u001b[0;34m(\u001b[0m\u001b[0mx\u001b[0m\u001b[0;34m[\u001b[0m\u001b[0;36m1\u001b[0m\u001b[0;34m]\u001b[0m\u001b[0;34m)\u001b[0m \u001b[0;32mfor\u001b[0m \u001b[0mx\u001b[0m \u001b[0;32min\u001b[0m \u001b[0mX_test\u001b[0m\u001b[0;34m]\u001b[0m\u001b[0;34m)\u001b[0m\u001b[0;34m\u001b[0m\u001b[0;34m\u001b[0m\u001b[0m\n\u001b[1;32m     26\u001b[0m \u001b[0;34m\u001b[0m\u001b[0m\n",
            "\u001b[0;32m/usr/local/lib/python3.11/dist-packages/sklearn/base.py\u001b[0m in \u001b[0;36mwrapper\u001b[0;34m(estimator, *args, **kwargs)\u001b[0m\n\u001b[1;32m   1387\u001b[0m                 )\n\u001b[1;32m   1388\u001b[0m             ):\n\u001b[0;32m-> 1389\u001b[0;31m                 \u001b[0;32mreturn\u001b[0m \u001b[0mfit_method\u001b[0m\u001b[0;34m(\u001b[0m\u001b[0mestimator\u001b[0m\u001b[0;34m,\u001b[0m \u001b[0;34m*\u001b[0m\u001b[0margs\u001b[0m\u001b[0;34m,\u001b[0m \u001b[0;34m**\u001b[0m\u001b[0mkwargs\u001b[0m\u001b[0;34m)\u001b[0m\u001b[0;34m\u001b[0m\u001b[0;34m\u001b[0m\u001b[0m\n\u001b[0m\u001b[1;32m   1390\u001b[0m \u001b[0;34m\u001b[0m\u001b[0m\n\u001b[1;32m   1391\u001b[0m         \u001b[0;32mreturn\u001b[0m \u001b[0mwrapper\u001b[0m\u001b[0;34m\u001b[0m\u001b[0;34m\u001b[0m\u001b[0m\n",
            "\u001b[0;32m/usr/local/lib/python3.11/dist-packages/sklearn/feature_extraction/text.py\u001b[0m in \u001b[0;36mfit_transform\u001b[0;34m(self, raw_documents, y)\u001b[0m\n\u001b[1;32m   1374\u001b[0m                     \u001b[0;32mbreak\u001b[0m\u001b[0;34m\u001b[0m\u001b[0;34m\u001b[0m\u001b[0m\n\u001b[1;32m   1375\u001b[0m \u001b[0;34m\u001b[0m\u001b[0m\n\u001b[0;32m-> 1376\u001b[0;31m         \u001b[0mvocabulary\u001b[0m\u001b[0;34m,\u001b[0m \u001b[0mX\u001b[0m \u001b[0;34m=\u001b[0m \u001b[0mself\u001b[0m\u001b[0;34m.\u001b[0m\u001b[0m_count_vocab\u001b[0m\u001b[0;34m(\u001b[0m\u001b[0mraw_documents\u001b[0m\u001b[0;34m,\u001b[0m \u001b[0mself\u001b[0m\u001b[0;34m.\u001b[0m\u001b[0mfixed_vocabulary_\u001b[0m\u001b[0;34m)\u001b[0m\u001b[0;34m\u001b[0m\u001b[0;34m\u001b[0m\u001b[0m\n\u001b[0m\u001b[1;32m   1377\u001b[0m \u001b[0;34m\u001b[0m\u001b[0m\n\u001b[1;32m   1378\u001b[0m         \u001b[0;32mif\u001b[0m \u001b[0mself\u001b[0m\u001b[0;34m.\u001b[0m\u001b[0mbinary\u001b[0m\u001b[0;34m:\u001b[0m\u001b[0;34m\u001b[0m\u001b[0;34m\u001b[0m\u001b[0m\n",
            "\u001b[0;32m/usr/local/lib/python3.11/dist-packages/sklearn/feature_extraction/text.py\u001b[0m in \u001b[0;36m_count_vocab\u001b[0;34m(self, raw_documents, fixed_vocab)\u001b[0m\n\u001b[1;32m   1280\u001b[0m             \u001b[0mvocabulary\u001b[0m \u001b[0;34m=\u001b[0m \u001b[0mdict\u001b[0m\u001b[0;34m(\u001b[0m\u001b[0mvocabulary\u001b[0m\u001b[0;34m)\u001b[0m\u001b[0;34m\u001b[0m\u001b[0;34m\u001b[0m\u001b[0m\n\u001b[1;32m   1281\u001b[0m             \u001b[0;32mif\u001b[0m \u001b[0;32mnot\u001b[0m \u001b[0mvocabulary\u001b[0m\u001b[0;34m:\u001b[0m\u001b[0;34m\u001b[0m\u001b[0;34m\u001b[0m\u001b[0m\n\u001b[0;32m-> 1282\u001b[0;31m                 raise ValueError(\n\u001b[0m\u001b[1;32m   1283\u001b[0m                     \u001b[0;34m\"empty vocabulary; perhaps the documents only contain stop words\"\u001b[0m\u001b[0;34m\u001b[0m\u001b[0;34m\u001b[0m\u001b[0m\n\u001b[1;32m   1284\u001b[0m                 )\n",
            "\u001b[0;31mValueError\u001b[0m: empty vocabulary; perhaps the documents only contain stop words"
          ]
        }
      ]
    },
    {
      "cell_type": "markdown",
      "source": [
        "Ques-31 Write a Python program to train an SVM Classifier and use GridSearchCV to tune the hyperparameters (C,\n",
        "gamma, kernel) ?"
      ],
      "metadata": {
        "id": "gxmnko-Pmfes"
      }
    },
    {
      "cell_type": "code",
      "source": [
        "from sklearn import datasets\n",
        "from sklearn.model_selection import train_test_split\n",
        "from sklearn.svm import SVC\n",
        "from sklearn.model_selection import GridSearchCV\n",
        "from sklearn.metrics import accuracy_score\n",
        "\n",
        "# Step 1: Load the Iris dataset\n",
        "iris = datasets.load_iris()\n",
        "X = iris.data\n",
        "y = iris.target\n",
        "\n",
        "# Step 2: Split the dataset into training and testing sets\n",
        "X_train, X_test, y_train, y_test = train_test_split(X, y, test_size=0.3, random_state=42)\n",
        "\n",
        "# Step 3: Create an SVM classifier\n",
        "svm = SVC()\n",
        "\n",
        "# Step 4: Set up the hyperparameter grid for GridSearchCV\n",
        "param_grid = {\n",
        "    'C': [0.1, 1, 10, 100],               # Regularization parameter\n",
        "    'gamma': [0.001, 0.01, 0.1, 1],       # Kernel coefficient\n",
        "    'kernel': ['linear', 'rbf', 'poly']   # Kernel type\n",
        "}\n",
        "\n",
        "# Step 5: Perform GridSearchCV to find the best hyperparameters\n",
        "grid_search = GridSearchCV(estimator=svm, param_grid=param_grid, cv=5, scoring='accuracy')\n",
        "grid_search.fit(X_train, y_train)\n",
        "\n",
        "# Step 6: Print the best parameters found by GridSearchCV\n",
        "print(f\"Best hyperparameters: {grid_search.best_params_}\")\n",
        "\n",
        "# Step 7: Train the SVM model with the best hyperparameters\n",
        "best_svm = grid_search.best_estimator_\n",
        "\n",
        "# Step 8: Make predictions on the test set\n",
        "y_pred = best_svm.predict(X_test)\n",
        "\n",
        "# Step 9: Evaluate the model\n",
        "accuracy = accuracy_score(y_test, y_pred)\n",
        "print(f\"Accuracy of the model with best hyperparameters: {accuracy:.4f}\")\n"
      ],
      "metadata": {
        "colab": {
          "base_uri": "https://localhost:8080/"
        },
        "id": "luGNLgnZmZ6I",
        "outputId": "00957617-d33d-44b2-a38d-cb81e0d426d5"
      },
      "execution_count": 24,
      "outputs": [
        {
          "output_type": "stream",
          "name": "stdout",
          "text": [
            "Best hyperparameters: {'C': 100, 'gamma': 0.01, 'kernel': 'rbf'}\n",
            "Accuracy of the model with best hyperparameters: 1.0000\n"
          ]
        }
      ]
    },
    {
      "cell_type": "markdown",
      "source": [
        "Ques-32 Write a Python program to train an SVM Classifier on an imbalanced dataset and apply class weighting and\n",
        "check it improve accuracy ?"
      ],
      "metadata": {
        "id": "Awa9vQyjm4gc"
      }
    },
    {
      "cell_type": "code",
      "source": [
        "import numpy as np\n",
        "from sklearn.datasets import make_classification\n",
        "from sklearn.model_selection import train_test_split\n",
        "from sklearn.svm import SVC\n",
        "from sklearn.metrics import accuracy_score, classification_report\n",
        "\n",
        "# Step 1: Generate an imbalanced dataset\n",
        "X, y = make_classification(n_samples=1000, n_features=20, n_informative=2, n_redundant=10,\n",
        "                           n_classes=2, weights=[0.9, 0.1], flip_y=0, random_state=42)\n",
        "\n",
        "# Step 2: Split the dataset into training and testing sets\n",
        "X_train, X_test, y_train, y_test = train_test_split(X, y, test_size=0.3, random_state=42)\n",
        "\n",
        "# Step 3: Train the SVM model without class weighting (baseline model)\n",
        "svm = SVC(random_state=42)\n",
        "svm.fit(X_train, y_train)\n",
        "\n",
        "# Step 4: Make predictions and evaluate accuracy for the baseline model\n",
        "y_pred_baseline = svm.predict(X_test)\n",
        "accuracy_baseline = accuracy_score(y_test, y_pred_baseline)\n",
        "\n",
        "print(f\"Accuracy of SVM without class weighting: {accuracy_baseline:.4f}\")\n",
        "print(\"Classification Report (Baseline Model):\")\n",
        "print(classification_report(y_test, y_pred_baseline))\n",
        "\n",
        "# Step 5: Train the SVM model with class weighting (balanced)\n",
        "svm_weighted = SVC(class_weight='balanced', random_state=42)\n",
        "svm_weighted.fit(X_train, y_train)\n",
        "\n",
        "# Step 6: Make predictions and evaluate accuracy for the weighted model\n",
        "y_pred_weighted = svm_weighted.predict(X_test)\n",
        "accuracy_weighted = accuracy_score(y_test, y_pred_weighted)\n",
        "\n",
        "print(f\"Accuracy of SVM with class weighting: {accuracy_weighted:.4f}\")\n",
        "print(\"Classification Report (Weighted Model):\")\n",
        "print(classification_report(y_test, y_pred_weighted))\n"
      ],
      "metadata": {
        "colab": {
          "base_uri": "https://localhost:8080/"
        },
        "id": "hIgEBFxtm3Km",
        "outputId": "1b4a1998-b3c4-415f-f7aa-4451dce67947"
      },
      "execution_count": 25,
      "outputs": [
        {
          "output_type": "stream",
          "name": "stdout",
          "text": [
            "Accuracy of SVM without class weighting: 0.9400\n",
            "Classification Report (Baseline Model):\n",
            "              precision    recall  f1-score   support\n",
            "\n",
            "           0       0.94      1.00      0.97       266\n",
            "           1       1.00      0.47      0.64        34\n",
            "\n",
            "    accuracy                           0.94       300\n",
            "   macro avg       0.97      0.74      0.80       300\n",
            "weighted avg       0.94      0.94      0.93       300\n",
            "\n",
            "Accuracy of SVM with class weighting: 0.9233\n",
            "Classification Report (Weighted Model):\n",
            "              precision    recall  f1-score   support\n",
            "\n",
            "           0       0.97      0.94      0.96       266\n",
            "           1       0.63      0.79      0.70        34\n",
            "\n",
            "    accuracy                           0.92       300\n",
            "   macro avg       0.80      0.87      0.83       300\n",
            "weighted avg       0.93      0.92      0.93       300\n",
            "\n"
          ]
        }
      ]
    },
    {
      "cell_type": "markdown",
      "source": [
        "Ques-33 Write a Python program to implement a Naïve Bayes classifier for spam detection using email data ?"
      ],
      "metadata": {
        "id": "8w4r6OsYnM5J"
      }
    },
    {
      "cell_type": "code",
      "source": [
        "import pandas as pd\n",
        "from sklearn.model_selection import train_test_split\n",
        "from sklearn.feature_extraction.text import CountVectorizer\n",
        "from sklearn.naive_bayes import MultinomialNB\n",
        "from sklearn.metrics import accuracy_score, classification_report\n",
        "\n",
        "# Step 1: Load the SMS Spam Collection dataset (assuming it's in a CSV file)\n",
        "# You can download the dataset from https://archive.ics.uci.edu/ml/datasets/sms+spam+collection\n",
        "# Let's assume the data is in a CSV format with two columns: \"label\" and \"message\".\n",
        "\n",
        "# For this example, we'll create a small sample dataset.\n",
        "data = {\n",
        "    'label': ['ham', 'spam', 'ham', 'ham', 'spam'],\n",
        "    'message': [\n",
        "        'Hello, how are you?',\n",
        "        'Congratulations! You have won a lottery of $1000.',\n",
        "        'Do you want to grab a coffee tomorrow?',\n",
        "        'Let me know if you are free this evening.',\n",
        "        'Claim your free prize now by clicking the link.'\n",
        "    ]\n",
        "}\n",
        "\n",
        "# Create a DataFrame\n",
        "df = pd.DataFrame(data)\n",
        "\n",
        "# Step 2: Preprocess the data (just lowercase here, you can add more steps)\n",
        "# Map 'ham' to 0 and 'spam' to 1 for the labels\n",
        "df['label'] = df['label'].map({'ham': 0, 'spam': 1})\n",
        "\n",
        "# Step 3: Split the data into training and testing sets\n",
        "X_train, X_test, y_train, y_test = train_test_split(df['message'], df['label'], test_size=0.3, random_state=42)\n",
        "\n",
        "# Step 4: Vectorize the text using CountVectorizer\n",
        "vectorizer = CountVectorizer(stop_words='english')  # Removing common stopwords\n",
        "X_train_vec = vectorizer.fit_transform(X_train)\n",
        "X_test_vec = vectorizer.transform(X_test)\n",
        "\n",
        "# Step 5: Train the Naïve Bayes classifier\n",
        "nb_model = MultinomialNB()\n",
        "nb_model.fit(X_train_vec, y_train)\n",
        "\n",
        "# Step 6: Make predictions on the test set\n",
        "y_pred = nb_model.predict(X_test_vec)\n",
        "\n",
        "# Step 7: Evaluate the model\n",
        "accuracy = accuracy_score(y_test, y_pred)\n",
        "print(f\"Accuracy: {accuracy:.4f}\")\n",
        "print(\"Classification Report:\")\n",
        "print(classification_report(y_test, y_pred))\n",
        "\n"
      ],
      "metadata": {
        "colab": {
          "base_uri": "https://localhost:8080/"
        },
        "id": "8mmxPCiKnJjc",
        "outputId": "77dc4a92-5a1f-4c39-b77a-ca26040ef5af"
      },
      "execution_count": 26,
      "outputs": [
        {
          "output_type": "stream",
          "name": "stdout",
          "text": [
            "Accuracy: 0.0000\n",
            "Classification Report:\n",
            "              precision    recall  f1-score   support\n",
            "\n",
            "           0       0.00      0.00      0.00       0.0\n",
            "           1       0.00      0.00      0.00       2.0\n",
            "\n",
            "    accuracy                           0.00       2.0\n",
            "   macro avg       0.00      0.00      0.00       2.0\n",
            "weighted avg       0.00      0.00      0.00       2.0\n",
            "\n"
          ]
        },
        {
          "output_type": "stream",
          "name": "stderr",
          "text": [
            "/usr/local/lib/python3.11/dist-packages/sklearn/metrics/_classification.py:1565: UndefinedMetricWarning: Precision is ill-defined and being set to 0.0 in labels with no predicted samples. Use `zero_division` parameter to control this behavior.\n",
            "  _warn_prf(average, modifier, f\"{metric.capitalize()} is\", len(result))\n",
            "/usr/local/lib/python3.11/dist-packages/sklearn/metrics/_classification.py:1565: UndefinedMetricWarning: Recall is ill-defined and being set to 0.0 in labels with no true samples. Use `zero_division` parameter to control this behavior.\n",
            "  _warn_prf(average, modifier, f\"{metric.capitalize()} is\", len(result))\n",
            "/usr/local/lib/python3.11/dist-packages/sklearn/metrics/_classification.py:1565: UndefinedMetricWarning: Precision is ill-defined and being set to 0.0 in labels with no predicted samples. Use `zero_division` parameter to control this behavior.\n",
            "  _warn_prf(average, modifier, f\"{metric.capitalize()} is\", len(result))\n",
            "/usr/local/lib/python3.11/dist-packages/sklearn/metrics/_classification.py:1565: UndefinedMetricWarning: Recall is ill-defined and being set to 0.0 in labels with no true samples. Use `zero_division` parameter to control this behavior.\n",
            "  _warn_prf(average, modifier, f\"{metric.capitalize()} is\", len(result))\n",
            "/usr/local/lib/python3.11/dist-packages/sklearn/metrics/_classification.py:1565: UndefinedMetricWarning: Precision is ill-defined and being set to 0.0 in labels with no predicted samples. Use `zero_division` parameter to control this behavior.\n",
            "  _warn_prf(average, modifier, f\"{metric.capitalize()} is\", len(result))\n",
            "/usr/local/lib/python3.11/dist-packages/sklearn/metrics/_classification.py:1565: UndefinedMetricWarning: Recall is ill-defined and being set to 0.0 in labels with no true samples. Use `zero_division` parameter to control this behavior.\n",
            "  _warn_prf(average, modifier, f\"{metric.capitalize()} is\", len(result))\n"
          ]
        }
      ]
    },
    {
      "cell_type": "markdown",
      "source": [
        "Ques-34 Write a Python program to train an SVM Classifier and a Naïve Bayes Classifier on the same dataset and\n",
        "compare their accuracy ?"
      ],
      "metadata": {
        "id": "bsHHPGZfnfjq"
      }
    },
    {
      "cell_type": "code",
      "source": [
        "import numpy as np\n",
        "import pandas as pd\n",
        "from sklearn import datasets\n",
        "from sklearn.model_selection import train_test_split\n",
        "from sklearn.svm import SVC\n",
        "from sklearn.naive_bayes import GaussianNB\n",
        "from sklearn.metrics import accuracy_score, classification_report\n",
        "\n",
        "# Step 1: Load the dataset (Iris dataset for example)\n",
        "iris = datasets.load_iris()\n",
        "X = iris.data  # Features\n",
        "y = iris.target  # Labels\n",
        "\n",
        "# Step 2: Split the dataset into training and testing sets\n",
        "X_train, X_test, y_train, y_test = train_test_split(X, y, test_size=0.3, random_state=42)\n",
        "\n",
        "# Step 3: Train the SVM classifier\n",
        "svm_model = SVC(random_state=42)\n",
        "svm_model.fit(X_train, y_train)\n",
        "\n",
        "# Step 4: Train the Naïve Bayes classifier\n",
        "nb_model = GaussianNB()\n",
        "nb_model.fit(X_train, y_train)\n",
        "\n",
        "# Step 5: Make predictions using both models\n",
        "y_pred_svm = svm_model.predict(X_test)\n",
        "y_pred_nb = nb_model.predict(X_test)\n",
        "\n",
        "# Step 6: Evaluate the accuracy of both models\n",
        "accuracy_svm = accuracy_score(y_test, y_pred_svm)\n",
        "accuracy_nb = accuracy_score(y_test, y_pred_nb)\n",
        "\n",
        "print(f\"Accuracy of SVM Classifier: {accuracy_svm:.4f}\")\n",
        "print(f\"Accuracy of Naïve Bayes Classifier: {accuracy_nb:.4f}\")\n",
        "\n",
        "# Step 7: Classification report for both models\n",
        "print(\"\\nClassification Report for SVM:\")\n",
        "print(classification_report(y_test, y_pred_svm))\n",
        "\n",
        "print(\"\\nClassification Report for Naïve Bayes:\")\n",
        "print(classification_report(y_test, y_pred_nb))\n"
      ],
      "metadata": {
        "colab": {
          "base_uri": "https://localhost:8080/"
        },
        "id": "rvEIOz1GndnB",
        "outputId": "5fa6bb80-c85f-43ed-b26d-80151d7ecccd"
      },
      "execution_count": 27,
      "outputs": [
        {
          "output_type": "stream",
          "name": "stdout",
          "text": [
            "Accuracy of SVM Classifier: 1.0000\n",
            "Accuracy of Naïve Bayes Classifier: 0.9778\n",
            "\n",
            "Classification Report for SVM:\n",
            "              precision    recall  f1-score   support\n",
            "\n",
            "           0       1.00      1.00      1.00        19\n",
            "           1       1.00      1.00      1.00        13\n",
            "           2       1.00      1.00      1.00        13\n",
            "\n",
            "    accuracy                           1.00        45\n",
            "   macro avg       1.00      1.00      1.00        45\n",
            "weighted avg       1.00      1.00      1.00        45\n",
            "\n",
            "\n",
            "Classification Report for Naïve Bayes:\n",
            "              precision    recall  f1-score   support\n",
            "\n",
            "           0       1.00      1.00      1.00        19\n",
            "           1       1.00      0.92      0.96        13\n",
            "           2       0.93      1.00      0.96        13\n",
            "\n",
            "    accuracy                           0.98        45\n",
            "   macro avg       0.98      0.97      0.97        45\n",
            "weighted avg       0.98      0.98      0.98        45\n",
            "\n"
          ]
        }
      ]
    },
    {
      "cell_type": "markdown",
      "source": [
        "Ques-35 Write a Python program to perform feature selection before training a Naïve Bayes classifier and compare\n",
        "results ?"
      ],
      "metadata": {
        "id": "6zej7fa_oEsN"
      }
    },
    {
      "cell_type": "code",
      "source": [
        "import numpy as np\n",
        "import pandas as pd\n",
        "from sklearn import datasets\n",
        "from sklearn.model_selection import train_test_split\n",
        "from sklearn.naive_bayes import GaussianNB\n",
        "from sklearn.feature_selection import SelectKBest, chi2\n",
        "from sklearn.metrics import accuracy_score, classification_report\n",
        "\n",
        "# Step 1: Load the Iris dataset\n",
        "iris = datasets.load_iris()\n",
        "X = iris.data  # Features\n",
        "y = iris.target  # Labels\n",
        "\n",
        "# Step 2: Split the dataset into training and testing sets\n",
        "X_train, X_test, y_train, y_test = train_test_split(X, y, test_size=0.3, random_state=42)\n",
        "\n",
        "# Step 3: Train Naïve Bayes model with all features\n",
        "nb_model_all_features = GaussianNB()\n",
        "nb_model_all_features.fit(X_train, y_train)\n",
        "\n",
        "# Step 4: Make predictions and evaluate the model using all features\n",
        "y_pred_all_features = nb_model_all_features.predict(X_test)\n",
        "accuracy_all_features = accuracy_score(y_test, y_pred_all_features)\n",
        "\n",
        "print(f\"Accuracy with all features: {accuracy_all_features:.4f}\")\n",
        "print(\"Classification Report for Naïve Bayes with all features:\")\n",
        "print(classification_report(y_test, y_pred_all_features))\n",
        "\n",
        "# Step 5: Perform feature selection using SelectKBest with chi-squared test\n",
        "selector = SelectKBest(score_func=chi2, k=2)  # Select top 2 features\n",
        "X_train_selected = selector.fit_transform(X_train, y_train)\n",
        "X_test_selected = selector.transform(X_test)\n",
        "\n",
        "# Step 6: Train Naïve Bayes model with selected features\n",
        "nb_model_selected_features = GaussianNB()\n",
        "nb_model_selected_features.fit(X_train_selected, y_train)\n",
        "\n",
        "# Step 7: Make predictions and evaluate the model using selected features\n",
        "y_pred_selected_features = nb_model_selected_features.predict(X_test_selected)\n",
        "accuracy_selected_features = accuracy_score(y_test, y_pred_selected_features)\n",
        "\n",
        "print(f\"Accuracy with selected features: {accuracy_selected_features:.4f}\")\n",
        "print(\"Classification Report for Naïve Bayes with selected features:\")\n",
        "print(classification_report(y_test, y_pred_selected_features))\n",
        "import numpy as np\n",
        "import pandas as pd\n",
        "from sklearn import datasets\n",
        "from sklearn.model_selection import train_test_split\n",
        "from sklearn.naive_bayes import GaussianNB\n",
        "from sklearn.feature_selection import SelectKBest, chi2\n",
        "from sklearn.metrics import accuracy_score, classification_report\n",
        "\n",
        "# Step 1: Load the Iris dataset\n",
        "iris = datasets.load_iris()\n",
        "X = iris.data  # Features\n",
        "y = iris.target  # Labels\n",
        "\n",
        "# Step 2: Split the dataset into training and testing sets\n",
        "X_train, X_test, y_train, y_test = train_test_split(X, y, test_size=0.3, random_state=42)\n",
        "\n",
        "# Step 3: Train Naïve Bayes model with all features\n",
        "nb_model_all_features = GaussianNB()\n",
        "nb_model_all_features.fit(X_train, y_train)\n",
        "\n",
        "# Step 4: Make predictions and evaluate the model using all features\n",
        "y_pred_all_features = nb_model_all_features.predict(X_test)\n",
        "accuracy_all_features = accuracy_score(y_test, y_pred_all_features)\n",
        "\n",
        "print(f\"Accuracy with all features: {accuracy_all_features:.4f}\")\n",
        "print(\"Classification Report for Naïve Bayes with all features:\")\n",
        "print(classification_report(y_test, y_pred_all_features))\n",
        "\n",
        "# Step 5: Perform feature selection using SelectKBest with chi-squared test\n",
        "selector = SelectKBest(score_func=chi2, k=2)  # Select top 2 features\n",
        "X_train_selected = selector.fit_transform(X_train, y_train)\n",
        "X_test_selected = selector.transform(X_test)\n",
        "\n",
        "# Step 6: Train Naïve Bayes model with selected features\n",
        "nb_model_selected_features = GaussianNB()\n",
        "nb_model_selected_features.fit(X_train_selected, y_train)\n",
        "\n",
        "# Step 7: Make predictions and evaluate the model using selected features\n",
        "y_pred_selected_features = nb_model_selected_features.predict(X_test_selected)\n",
        "accuracy_selected_features = accuracy_score(y_test, y_pred_selected_features)\n",
        "\n",
        "print(f\"Accuracy with selected features: {accuracy_selected_features:.4f}\")\n",
        "print(\"Classification Report for Naïve Bayes with selected features:\")\n",
        "print(classification_report(y_test, y_pred_selected_features))\n"
      ],
      "metadata": {
        "colab": {
          "base_uri": "https://localhost:8080/"
        },
        "id": "TcrmgELjn_mJ",
        "outputId": "1e2b4ea3-ae3f-4e63-b50d-532dc81c38d2"
      },
      "execution_count": 28,
      "outputs": [
        {
          "output_type": "stream",
          "name": "stdout",
          "text": [
            "Accuracy with all features: 0.9778\n",
            "Classification Report for Naïve Bayes with all features:\n",
            "              precision    recall  f1-score   support\n",
            "\n",
            "           0       1.00      1.00      1.00        19\n",
            "           1       1.00      0.92      0.96        13\n",
            "           2       0.93      1.00      0.96        13\n",
            "\n",
            "    accuracy                           0.98        45\n",
            "   macro avg       0.98      0.97      0.97        45\n",
            "weighted avg       0.98      0.98      0.98        45\n",
            "\n",
            "Accuracy with selected features: 1.0000\n",
            "Classification Report for Naïve Bayes with selected features:\n",
            "              precision    recall  f1-score   support\n",
            "\n",
            "           0       1.00      1.00      1.00        19\n",
            "           1       1.00      1.00      1.00        13\n",
            "           2       1.00      1.00      1.00        13\n",
            "\n",
            "    accuracy                           1.00        45\n",
            "   macro avg       1.00      1.00      1.00        45\n",
            "weighted avg       1.00      1.00      1.00        45\n",
            "\n",
            "Accuracy with all features: 0.9778\n",
            "Classification Report for Naïve Bayes with all features:\n",
            "              precision    recall  f1-score   support\n",
            "\n",
            "           0       1.00      1.00      1.00        19\n",
            "           1       1.00      0.92      0.96        13\n",
            "           2       0.93      1.00      0.96        13\n",
            "\n",
            "    accuracy                           0.98        45\n",
            "   macro avg       0.98      0.97      0.97        45\n",
            "weighted avg       0.98      0.98      0.98        45\n",
            "\n",
            "Accuracy with selected features: 1.0000\n",
            "Classification Report for Naïve Bayes with selected features:\n",
            "              precision    recall  f1-score   support\n",
            "\n",
            "           0       1.00      1.00      1.00        19\n",
            "           1       1.00      1.00      1.00        13\n",
            "           2       1.00      1.00      1.00        13\n",
            "\n",
            "    accuracy                           1.00        45\n",
            "   macro avg       1.00      1.00      1.00        45\n",
            "weighted avg       1.00      1.00      1.00        45\n",
            "\n"
          ]
        }
      ]
    },
    {
      "cell_type": "markdown",
      "source": [
        "Ques-36  Write a Python program to train an SVM Classifier using One-vs-Rest (OvR) and One-vs-One (OvO)\n",
        "strategies on the Wine dataset and compare their accuracy ?"
      ],
      "metadata": {
        "id": "2Uo4bKPMoo1Z"
      }
    },
    {
      "cell_type": "code",
      "source": [
        "import numpy as np\n",
        "from sklearn import datasets\n",
        "from sklearn.model_selection import train_test_split\n",
        "from sklearn.svm import SVC\n",
        "from sklearn.metrics import accuracy_score\n",
        "\n",
        "# Step 1: Load the Wine dataset\n",
        "wine = datasets.load_wine()\n",
        "X = wine.data  # Features\n",
        "y = wine.target  # Labels\n",
        "\n",
        "# Step 2: Split the dataset into training and testing sets\n",
        "X_train, X_test, y_train, y_test = train_test_split(X, y, test_size=0.3, random_state=42)\n",
        "\n",
        "# Step 3: Train the SVM model with One-vs-Rest (OvR) strategy\n",
        "svm_ovr = SVC(decision_function_shape='ovr', kernel='linear', random_state=42)\n",
        "svm_ovr.fit(X_train, y_train)\n",
        "\n",
        "# Step 4: Make predictions and evaluate the accuracy for OvR\n",
        "y_pred_ovr = svm_ovr.predict(X_test)\n",
        "accuracy_ovr = accuracy_score(y_test, y_pred_ovr)\n",
        "\n",
        "print(f\"Accuracy with One-vs-Rest (OvR): {accuracy_ovr:.4f}\")\n",
        "\n",
        "# Step 5: Train the SVM model with One-vs-One (OvO) strategy\n",
        "svm_ovo = SVC(decision_function_shape='ovo', kernel='linear', random_state=42)\n",
        "svm_ovo.fit(X_train, y_train)\n",
        "\n",
        "# Step 6: Make predictions and evaluate the accuracy for OvO\n",
        "y_pred_ovo = svm_ovo.predict(X_test)\n",
        "accuracy_ovo = accuracy_score(y_test, y_pred_ovo)\n",
        "\n",
        "print(f\"Accuracy with One-vs-One (OvO): {accuracy_ovo:.4f}\")\n"
      ],
      "metadata": {
        "id": "7sbHHGu2ol4f"
      },
      "execution_count": null,
      "outputs": []
    },
    {
      "cell_type": "markdown",
      "source": [
        "Ques-37 Write a Python program to train an SVM Classifier using Linear, Polynomial, and RBF kernels on the Breast\n",
        "Cancer dataset and compare their accuracy ?"
      ],
      "metadata": {
        "id": "sQbLwT79wTW2"
      }
    },
    {
      "cell_type": "code",
      "source": [
        "import numpy as np\n",
        "from sklearn import datasets\n",
        "from sklearn.model_selection import train_test_split\n",
        "from sklearn.svm import SVC\n",
        "from sklearn.metrics import accuracy_score\n",
        "\n",
        "# Step 1: Load the Breast Cancer dataset\n",
        "cancer = datasets.load_breast_cancer()\n",
        "X = cancer.data  # Features\n",
        "y = cancer.target  # Labels\n",
        "\n",
        "# Step 2: Split the dataset into training and testing sets\n",
        "X_train, X_test, y_train, y_test = train_test_split(X, y, test_size=0.3, random_state=42)\n",
        "\n",
        "# Step 3: Train the SVM model with Linear kernel\n",
        "svm_linear = SVC(kernel='linear', random_state=42)\n",
        "svm_linear.fit(X_train, y_train)\n",
        "\n",
        "# Step 4: Make predictions and evaluate the accuracy for Linear kernel\n",
        "y_pred_linear = svm_linear.predict(X_test)\n",
        "accuracy_linear = accuracy_score(y_test, y_pred_linear)\n",
        "\n",
        "print(f\"Accuracy with Linear kernel: {accuracy_linear:.4f}\")\n",
        "\n",
        "# Step 5: Train the SVM model with Polynomial kernel\n",
        "svm_poly = SVC(kernel='poly', degree=3, random_state=42)\n",
        "svm_poly.fit(X_train, y_train)\n",
        "\n",
        "# Step 6: Make predictions and evaluate the accuracy for Polynomial kernel\n",
        "y_pred_poly = svm_poly.predict(X_test)\n",
        "accuracy_poly = accuracy_score(y_test, y_pred_poly)\n",
        "\n",
        "print(f\"Accuracy with Polynomial kernel: {accuracy_poly:.4f}\")\n",
        "\n",
        "# Step 7: Train the SVM model with RBF kernel\n",
        "svm_rbf = SVC(kernel='rbf', random_state=42)\n",
        "svm_rbf.fit(X_train, y_train)\n",
        "\n",
        "# Step 8: Make predictions and evaluate the accuracy for RBF kernel\n",
        "y_pred_rbf = svm_rbf.predict(X_test)\n",
        "accuracy_rbf = accuracy_score(y_test, y_pred_rbf)\n",
        "\n",
        "print(f\"Accuracy with RBF kernel: {accuracy_rbf:.4f}\")\n"
      ],
      "metadata": {
        "colab": {
          "base_uri": "https://localhost:8080/"
        },
        "id": "HVE3w7_cwXNz",
        "outputId": "f5549b9c-a9ce-49cf-83ba-609be0427445"
      },
      "execution_count": 29,
      "outputs": [
        {
          "output_type": "stream",
          "name": "stdout",
          "text": [
            "Accuracy with Linear kernel: 0.9649\n",
            "Accuracy with Polynomial kernel: 0.9415\n",
            "Accuracy with RBF kernel: 0.9357\n"
          ]
        }
      ]
    },
    {
      "cell_type": "markdown",
      "source": [
        "Ques-38 Write a Python program to train an SVM Classifier using Stratified K-Fold Cross-Validation and compute the\n",
        "average accuracy ?"
      ],
      "metadata": {
        "id": "frcGcYYJwxK6"
      }
    },
    {
      "cell_type": "code",
      "source": [
        "import numpy as np\n",
        "from sklearn import datasets\n",
        "from sklearn.model_selection import StratifiedKFold\n",
        "from sklearn.svm import SVC\n",
        "from sklearn.metrics import accuracy_score\n",
        "\n",
        "# Step 1: Load the Breast Cancer dataset\n",
        "cancer = datasets.load_breast_cancer()\n",
        "X = cancer.data  # Features\n",
        "y = cancer.target  # Labels\n",
        "\n",
        "# Step 2: Define Stratified K-Fold Cross-Validation\n",
        "kf = StratifiedKFold(n_splits=5, shuffle=True, random_state=42)\n",
        "\n",
        "# Step 3: Initialize SVM Classifier (with linear kernel)\n",
        "svm = SVC(kernel='linear', random_state=42)\n",
        "\n",
        "# Step 4: Variables to store accuracy for each fold\n",
        "accuracies = []\n",
        "\n",
        "# Step 5: Stratified K-Fold Cross-Validation\n",
        "for train_index, test_index in kf.split(X, y):\n",
        "    X_train, X_test = X[train_index], X[test_index]\n",
        "    y_train, y_test = y[train_index], y[test_index]\n",
        "\n",
        "    # Train the SVM model on the current fold\n",
        "    svm.fit(X_train, y_train)\n",
        "\n",
        "    # Make predictions and evaluate accuracy\n",
        "    y_pred = svm.predict(X_test)\n",
        "    accuracy = accuracy_score(y_test, y_pred)\n",
        "    accuracies.append(accuracy)\n",
        "\n",
        "# Step 6: Compute and print the average accuracy\n",
        "average_accuracy = np.mean(accuracies)\n",
        "print(f\"Average Accuracy using Stratified K-Fold Cross-Validation: {average_accuracy:.4f}\")\n"
      ],
      "metadata": {
        "colab": {
          "base_uri": "https://localhost:8080/"
        },
        "id": "-8PkUAifwvWr",
        "outputId": "68f9015c-e4d6-495e-e9d0-e7b0e7630f6d"
      },
      "execution_count": 30,
      "outputs": [
        {
          "output_type": "stream",
          "name": "stdout",
          "text": [
            "Average Accuracy using Stratified K-Fold Cross-Validation: 0.9473\n"
          ]
        }
      ]
    },
    {
      "cell_type": "markdown",
      "source": [
        "Ques-39 Write a Python program to train a Naïve Bayes classifier using different prior probabilities and compare\n",
        "performance ?"
      ],
      "metadata": {
        "id": "stW4F0gwxXKc"
      }
    },
    {
      "cell_type": "code",
      "source": [
        "import numpy as np\n",
        "from sklearn import datasets\n",
        "from sklearn.model_selection import train_test_split\n",
        "from sklearn.naive_bayes import GaussianNB\n",
        "from sklearn.metrics import accuracy_score\n",
        "\n",
        "# Step 1: Load the Iris dataset\n",
        "iris = datasets.load_iris()\n",
        "X = iris.data  # Features\n",
        "y = iris.target  # Labels\n",
        "\n",
        "# Step 2: Split the dataset into training and testing sets\n",
        "X_train, X_test, y_train, y_test = train_test_split(X, y, test_size=0.3, random_state=42)\n",
        "\n",
        "# Step 3: Train Naïve Bayes with different prior probabilities\n",
        "\n",
        "# Case 1: Default prior probabilities\n",
        "nb_default = GaussianNB()\n",
        "nb_default.fit(X_train, y_train)\n",
        "y_pred_default = nb_default.predict(X_test)\n",
        "accuracy_default = accuracy_score(y_test, y_pred_default)\n",
        "\n",
        "print(f\"Accuracy with default prior probabilities: {accuracy_default:.4f}\")\n",
        "\n",
        "# Case 2: Custom prior probabilities\n",
        "# Assume the prior probabilities for each class are different\n",
        "# For example, we set the prior probability for class 0 to be higher\n",
        "class_prior = [0.6, 0.3, 0.1]\n",
        "nb_custom_prior = GaussianNB(priors=class_prior)\n",
        "nb_custom_prior.fit(X_train, y_train)\n",
        "y_pred_custom = nb_custom_prior.predict(X_test)\n",
        "accuracy_custom = accuracy_score(y_test, y_pred_custom)\n",
        "\n",
        "print(f\"Accuracy with custom prior probabilities {class_prior}: {accuracy_custom:.4f}\")\n",
        "\n",
        "# Case 3: Different custom prior probabilities\n",
        "# Assume a different set of prior probabilities\n",
        "class_prior_2 = [0.2, 0.5, 0.3]\n",
        "nb_custom_prior_2 = GaussianNB(priors=class_prior_2)\n",
        "nb_custom_prior_2.fit(X_train, y_train)\n",
        "y_pred_custom_2 = nb_custom_prior_2.predict(X_test)\n",
        "accuracy_custom_2 = accuracy_score(y_test, y_pred_custom_2)\n",
        "\n",
        "print(f\"Accuracy with custom prior probabilities {class_prior_2}: {accuracy_custom_2:.4f}\")\n"
      ],
      "metadata": {
        "colab": {
          "base_uri": "https://localhost:8080/"
        },
        "id": "JtkTdH-6xVbp",
        "outputId": "9b2084d3-4e5a-4fac-f585-7effb7429eeb"
      },
      "execution_count": 31,
      "outputs": [
        {
          "output_type": "stream",
          "name": "stdout",
          "text": [
            "Accuracy with default prior probabilities: 0.9778\n",
            "Accuracy with custom prior probabilities [0.6, 0.3, 0.1]: 1.0000\n",
            "Accuracy with custom prior probabilities [0.2, 0.5, 0.3]: 1.0000\n"
          ]
        }
      ]
    },
    {
      "cell_type": "markdown",
      "source": [
        "Ques-40 Write a Python program to perform Recursive Feature Elimination (RFE) before training an SVM Classifier and\n",
        "compare accuracy ?"
      ],
      "metadata": {
        "id": "wZ53D4Lyxj-3"
      }
    },
    {
      "cell_type": "code",
      "source": [
        "import numpy as np\n",
        "from sklearn import datasets\n",
        "from sklearn.model_selection import train_test_split\n",
        "from sklearn.svm import SVC\n",
        "from sklearn.feature_selection import RFE\n",
        "from sklearn.metrics import accuracy_score\n",
        "\n",
        "# Step 1: Load the Breast Cancer dataset\n",
        "cancer = datasets.load_breast_cancer()\n",
        "X = cancer.data  # Features\n",
        "y = cancer.target  # Labels\n",
        "\n",
        "# Step 2: Split the dataset into training and testing sets\n",
        "X_train, X_test, y_train, y_test = train_test_split(X, y, test_size=0.3, random_state=42)\n",
        "\n",
        "# Step 3: Train the SVM Classifier without feature selection (using all features)\n",
        "svm_full = SVC(kernel='linear', random_state=42)\n",
        "svm_full.fit(X_train, y_train)\n",
        "y_pred_full = svm_full.predict(X_test)\n",
        "accuracy_full = accuracy_score(y_test, y_pred_full)\n",
        "\n",
        "print(f\"Accuracy without feature selection: {accuracy_full:.4f}\")\n",
        "\n",
        "# Step 4: Perform Recursive Feature Elimination (RFE) to select top features\n",
        "selector = RFE(estimator=SVC(kernel='linear', random_state=42), n_features_to_select=10)\n",
        "X_train_rfe = selector.fit_transform(X_train, y_train)\n",
        "X_test_rfe = selector.transform(X_test)\n",
        "\n",
        "# Step 5: Train the SVM Classifier with the selected features (after RFE)\n",
        "svm_rfe = SVC(kernel='linear', random_state=42)\n",
        "svm_rfe.fit(X_train_rfe, y_train)\n",
        "y_pred_rfe = svm_rfe.predict(X_test_rfe)\n",
        "accuracy_rfe = accuracy_score(y_test, y_pred_rfe)\n",
        "\n",
        "print(f\"Accuracy with feature selection (RFE): {accuracy_rfe:.4f}\")\n"
      ],
      "metadata": {
        "colab": {
          "base_uri": "https://localhost:8080/"
        },
        "id": "2JkLmKPlxiZE",
        "outputId": "d43bd864-ad27-4c0b-c513-d84f1b6d016a"
      },
      "execution_count": 32,
      "outputs": [
        {
          "output_type": "stream",
          "name": "stdout",
          "text": [
            "Accuracy without feature selection: 0.9649\n",
            "Accuracy with feature selection (RFE): 0.9298\n"
          ]
        }
      ]
    },
    {
      "cell_type": "markdown",
      "source": [
        "Ques-41 Write a Python program to train an SVM Classifier and evaluate its performance using Precision, Recall, and\n",
        "F1-Score instead of accuracy ?"
      ],
      "metadata": {
        "id": "r1rYaABwx-fJ"
      }
    },
    {
      "cell_type": "code",
      "source": [
        "import numpy as np\n",
        "from sklearn import datasets\n",
        "from sklearn.model_selection import train_test_split\n",
        "from sklearn.svm import SVC\n",
        "from sklearn.metrics import precision_score, recall_score, f1_score\n",
        "\n",
        "# Step 1: Load the Breast Cancer dataset\n",
        "cancer = datasets.load_breast_cancer()\n",
        "X = cancer.data  # Features\n",
        "y = cancer.target  # Labels\n",
        "\n",
        "# Step 2: Split the dataset into training and testing sets\n",
        "X_train, X_test, y_train, y_test = train_test_split(X, y, test_size=0.3, random_state=42)\n",
        "\n",
        "# Step 3: Train the SVM Classifier (using linear kernel)\n",
        "svm = SVC(kernel='linear', random_state=42)\n",
        "svm.fit(X_train, y_train)\n",
        "\n",
        "# Step 4: Make predictions on the test set\n",
        "y_pred = svm.predict(X_test)\n",
        "\n",
        "# Step 5: Calculate Precision, Recall, and F1-Score\n",
        "precision = precision_score(y_test, y_pred)\n",
        "recall = recall_score(y_test, y_pred)\n",
        "f1 = f1_score(y_test, y_pred)\n",
        "\n",
        "# Step 6: Print the results\n",
        "print(f\"Precision: {precision:.4f}\")\n",
        "print(f\"Recall: {recall:.4f}\")\n",
        "print(f\"F1-Score: {f1:.4f}\")\n"
      ],
      "metadata": {
        "colab": {
          "base_uri": "https://localhost:8080/"
        },
        "id": "y9gt5c_5x8Pd",
        "outputId": "a2d35123-6229-4763-f7eb-af9ee534785a"
      },
      "execution_count": 33,
      "outputs": [
        {
          "output_type": "stream",
          "name": "stdout",
          "text": [
            "Precision: 0.9636\n",
            "Recall: 0.9815\n",
            "F1-Score: 0.9725\n"
          ]
        }
      ]
    },
    {
      "cell_type": "markdown",
      "source": [
        "Ques-42 Write a Python program to train a Naïve Bayes Classifier and evaluate its performance using Log Loss\n",
        "(Cross-Entropy Loss) ?"
      ],
      "metadata": {
        "id": "EjvN54layV6c"
      }
    },
    {
      "cell_type": "code",
      "source": [
        "import numpy as np\n",
        "from sklearn import datasets\n",
        "from sklearn.model_selection import train_test_split\n",
        "from sklearn.naive_bayes import GaussianNB\n",
        "from sklearn.metrics import log_loss\n",
        "\n",
        "# Step 1: Load the Breast Cancer dataset\n",
        "cancer = datasets.load_breast_cancer()\n",
        "X = cancer.data  # Features\n",
        "y = cancer.target  # Labels\n",
        "\n",
        "# Step 2: Split the dataset into training and testing sets\n",
        "X_train, X_test, y_train, y_test = train_test_split(X, y, test_size=0.3, random_state=42)\n",
        "\n",
        "# Step 3: Train the Naïve Bayes Classifier (Gaussian Naive Bayes)\n",
        "nb = GaussianNB()\n",
        "nb.fit(X_train, y_train)\n",
        "\n",
        "# Step 4: Make predictions (probabilities) on the test set\n",
        "y_pred_proba = nb.predict_proba(X_test)\n",
        "\n",
        "# Step 5: Calculate Log Loss (Cross-Entropy Loss)\n",
        "loss = log_loss(y_test, y_pred_proba)\n",
        "\n",
        "# Step 6: Print the Log Loss value\n",
        "print(f\"Log Loss (Cross-Entropy Loss): {loss:.4f}\")\n"
      ],
      "metadata": {
        "colab": {
          "base_uri": "https://localhost:8080/"
        },
        "id": "UU3yEYluyUeF",
        "outputId": "d190947b-7db4-4ab5-f069-e995475d2c7a"
      },
      "execution_count": 34,
      "outputs": [
        {
          "output_type": "stream",
          "name": "stdout",
          "text": [
            "Log Loss (Cross-Entropy Loss): 0.4899\n"
          ]
        }
      ]
    },
    {
      "cell_type": "markdown",
      "source": [
        "Ques-43 Write a Python program to train an SVM Classifier and visualize the Confusion Matrix using seaborn ?"
      ],
      "metadata": {
        "id": "OUXseHduysaI"
      }
    },
    {
      "cell_type": "code",
      "source": [
        "import numpy as np\n",
        "import seaborn as sns\n",
        "import matplotlib.pyplot as plt\n",
        "from sklearn import datasets\n",
        "from sklearn.model_selection import train_test_split\n",
        "from sklearn.svm import SVC\n",
        "from sklearn.metrics import confusion_matrix\n",
        "\n",
        "# Step 1: Load the Breast Cancer dataset\n",
        "cancer = datasets.load_breast_cancer()\n",
        "X = cancer.data  # Features\n",
        "y = cancer.target  # Labels\n",
        "\n",
        "# Step 2: Split the dataset into training and testing sets\n",
        "X_train, X_test, y_train, y_test = train_test_split(X, y, test_size=0.3, random_state=42)\n",
        "\n",
        "# Step 3: Train the SVM Classifier (using a linear kernel)\n",
        "svm = SVC(kernel='linear', random_state=42)\n",
        "svm.fit(X_train, y_train)\n",
        "\n",
        "# Step 4: Make predictions on the test set\n",
        "y_pred = svm.predict(X_test)\n",
        "\n",
        "# Step 5: Compute the Confusion Matrix\n",
        "cm = confusion_matrix(y_test, y_pred)\n",
        "\n",
        "# Step 6: Visualize the Confusion Matrix using Seaborn\n",
        "plt.figure(figsize=(6, 5))\n",
        "sns.heatmap(cm, annot=True, fmt=\"d\", cmap=\"Blues\", cbar=False, xticklabels=[\"Malignant\", \"Benign\"], yticklabels=[\"Malignant\", \"Benign\"])\n",
        "plt.title(\"Confusion Matrix for SVM Classifier\")\n",
        "plt.xlabel(\"Predicted Labels\")\n",
        "plt.ylabel(\"True Labels\")\n",
        "plt.show()\n"
      ],
      "metadata": {
        "colab": {
          "base_uri": "https://localhost:8080/",
          "height": 487
        },
        "id": "crGpFPQnyrU8",
        "outputId": "303a02bf-8cbe-45c7-b614-b34676217475"
      },
      "execution_count": 35,
      "outputs": [
        {
          "output_type": "display_data",
          "data": {
            "text/plain": [
              "<Figure size 600x500 with 1 Axes>"
            ],
            "image/png": "[encoded data removed]"
          },
          "metadata": {}
        }
      ]
    },
    {
      "cell_type": "markdown",
      "source": [
        "Ques-44 Write a Python program to train an SVM Regressor (SVR) and evaluate its performance using Mean Absolute\n",
        "Error (MAE) instead of MSE ?"
      ],
      "metadata": {
        "id": "kGgowRawzD9S"
      }
    },
    {
      "cell_type": "code",
      "source": [
        "import numpy as np\n",
        "from sklearn import datasets\n",
        "from sklearn.model_selection import train_test_split\n",
        "from sklearn.svm import SVR\n",
        "from sklearn.metrics import mean_absolute_error\n",
        "from sklearn.preprocessing import StandardScaler\n",
        "\n",
        "# Step 1: Load the California Housing dataset\n",
        "california_housing = datasets.fetch_california_housing()\n",
        "X = california_housing.data  # Features\n",
        "y = california_housing.target  # Target (house prices)\n",
        "\n",
        "# Step 2: Split the dataset into training and testing sets\n",
        "X_train, X_test, y_train, y_test = train_test_split(X, y, test_size=0.3, random_state=42)\n",
        "\n",
        "# Step 3: Feature scaling (SVR performs better with scaled features)\n",
        "scaler_X = StandardScaler()\n",
        "scaler_y = StandardScaler()\n",
        "\n",
        "X_train_scaled = scaler_X.fit_transform(X_train)\n",
        "X_test_scaled = scaler_X.transform(X_test)\n",
        "y_train_scaled = scaler_y.fit_transform(y_train.reshape(-1, 1)).flatten()\n",
        "y_test_scaled = scaler_y.transform(y_test.reshape(-1, 1)).flatten()\n",
        "\n",
        "# Step 4: Train the Support Vector Regressor (SVR)\n",
        "svr = SVR(kernel='rbf')  # Using Radial Basis Function (RBF) kernel\n",
        "svr.fit(X_train_scaled, y_train_scaled)\n",
        "\n",
        "# Step 5: Make predictions on the test set\n",
        "y_pred_scaled = svr.predict(X_test_scaled)\n",
        "\n",
        "# Step 6: Inverse transform the scaled predictions to original scale\n",
        "y_pred = scaler_y.inverse_transform(y_pred_scaled.reshape(-1, 1)).flatten()\n",
        "y_test_original = scaler_y.inverse_transform(y_test_scaled.reshape(-1, 1)).flatten()\n",
        "\n",
        "# Step 7: Calculate Mean Absolute Error (MAE)\n",
        "mae = mean_absolute_error(y_test_original, y_pred)\n",
        "\n",
        "# Step 8: Print the MAE\n",
        "print(f\"Mean Absolute Error (MAE): {mae:.4f}\")\n"
      ],
      "metadata": {
        "colab": {
          "base_uri": "https://localhost:8080/"
        },
        "id": "mHSmvQwozDSk",
        "outputId": "773eb144-ea4e-4adb-b96f-72d4588267e7"
      },
      "execution_count": 36,
      "outputs": [
        {
          "output_type": "stream",
          "name": "stdout",
          "text": [
            "Mean Absolute Error (MAE): 0.3959\n"
          ]
        }
      ]
    },
    {
      "cell_type": "markdown",
      "source": [
        "Ques-45 Write a Python program to train a Naïve Bayes classifier and evaluate its performance using the ROC-AUC\n",
        "score?"
      ],
      "metadata": {
        "id": "8QFqGBbnzcm7"
      }
    },
    {
      "cell_type": "code",
      "source": [
        "import numpy as np\n",
        "from sklearn import datasets\n",
        "from sklearn.model_selection import train_test_split\n",
        "from sklearn.naive_bayes import GaussianNB\n",
        "from sklearn.metrics import roc_auc_score, roc_curve\n",
        "import matplotlib.pyplot as plt\n",
        "\n",
        "# Step 1: Load the Breast Cancer dataset\n",
        "cancer = datasets.load_breast_cancer()\n",
        "X = cancer.data  # Features\n",
        "y = cancer.target  # Labels\n",
        "\n",
        "# Step 2: Split the dataset into training and testing sets\n",
        "X_train, X_test, y_train, y_test = train_test_split(X, y, test_size=0.3, random_state=42)\n",
        "\n",
        "# Step 3: Train the Naïve Bayes classifier (Gaussian Naïve Bayes)\n",
        "nb = GaussianNB()\n",
        "nb.fit(X_train, y_train)\n",
        "\n",
        "# Step 4: Make predictions on the test set\n",
        "y_pred_proba = nb.predict_proba(X_test)[:, 1]  # Get the probability for the positive class (class 1)\n",
        "\n",
        "# Step 5: Compute the ROC-AUC score\n",
        "roc_auc = roc_auc_score(y_test, y_pred_proba)\n",
        "\n",
        "# Step 6: Plot the ROC curve\n",
        "fpr, tpr, thresholds = roc_curve(y_test, y_pred_proba)\n",
        "\n",
        "plt.figure(figsize=(8, 6))\n",
        "plt.plot(fpr, tpr, color='blue', label=f'ROC curve (AUC = {roc_auc:.2f})')\n",
        "plt.plot([0, 1], [0, 1], color='gray', linestyle='--')  # Random classifier line\n",
        "plt.xlabel('False Positive Rate')\n",
        "plt.ylabel('True Positive Rate')\n",
        "plt.title('ROC Curve for Naïve Bayes Classifier')\n",
        "plt.legend(loc='lower right')\n",
        "plt.show()\n",
        "\n",
        "# Step 7: Print the ROC-AUC score\n",
        "print(f\"ROC-AUC Score: {roc_auc:.4f}\")\n"
      ],
      "metadata": {
        "colab": {
          "base_uri": "https://localhost:8080/",
          "height": 581
        },
        "id": "zaTiJIl5zbmJ",
        "outputId": "8b952560-2b60-477a-9eaf-a0867812ee7b"
      },
      "execution_count": 37,
      "outputs": [
        {
          "output_type": "display_data",
          "data": {
            "text/plain": [
              "<Figure size 800x600 with 1 Axes>"
            ],
            "image/png": "[encoded data removed]"
          },
          "metadata": {}
        },
        {
          "output_type": "stream",
          "name": "stdout",
          "text": [
            "ROC-AUC Score: 0.9922\n"
          ]
        }
      ]
    },
    {
      "cell_type": "markdown",
      "source": [
        "Ques-46 Write a Python program to train an SVM Classifier and visualize the Precision-Recall Curve ?"
      ],
      "metadata": {
        "id": "XJ4kaQxM0J_p"
      }
    },
    {
      "cell_type": "code",
      "source": [
        "import numpy as np\n",
        "import matplotlib.pyplot as plt\n",
        "from sklearn import datasets\n",
        "from sklearn.model_selection import train_test_split\n",
        "from sklearn.svm import SVC\n",
        "from sklearn.metrics import precision_recall_curve, auc\n",
        "\n",
        "# Step 1: Load the Breast Cancer dataset\n",
        "cancer = datasets.load_breast_cancer()\n",
        "X = cancer.data  # Features\n",
        "y = cancer.target  # Labels\n",
        "\n",
        "# Step 2: Split the dataset into training and testing sets\n",
        "X_train, X_test, y_train, y_test = train_test_split(X, y, test_size=0.3, random_state=42)\n",
        "\n",
        "# Step 3: Train the SVM Classifier with a linear kernel\n",
        "svm = SVC(kernel='linear', probability=True, random_state=42)  # We need probability=True for prediction probabilities\n",
        "svm.fit(X_train, y_train)\n",
        "\n",
        "# Step 4: Get predicted probabilities for the positive class\n",
        "y_pred_proba = svm.predict_proba(X_test)[:, 1]  # Probability for the positive class (class 1)\n",
        "\n",
        "# Step 5: Compute the Precision-Recall curve\n",
        "precision, recall, thresholds = precision_recall_curve(y_test, y_pred_proba)\n",
        "\n",
        "# Step 6: Compute the area under the Precision-Recall curve (PR AUC)\n",
        "pr_auc = auc(recall, precision)\n",
        "\n",
        "# Step 7: Plot the Precision-Recall curve\n",
        "plt.figure(figsize=(8, 6))\n",
        "plt.plot(recall, precision, color='blue', label=f'Precision-Recall curve (PR AUC = {pr_auc:.2f})')\n",
        "plt.xlabel('Recall')\n",
        "plt.ylabel('Precision')\n",
        "plt.title('Precision-Recall Curve for SVM Classifier')\n",
        "plt.legend(loc='lower left')\n",
        "plt.grid(True)\n",
        "plt.show()\n",
        "\n",
        "# Step 8: Print the Precision-Recall AUC score\n",
        "print(f\"Precision-Recall AUC: {pr_auc:.4f}\")\n"
      ],
      "metadata": {
        "colab": {
          "base_uri": "https://localhost:8080/",
          "height": 581
        },
        "id": "7_nKLZMc0Ix6",
        "outputId": "5d19eb54-e2fb-4d25-c414-a052c5c126a3"
      },
      "execution_count": 38,
      "outputs": [
        {
          "output_type": "display_data",
          "data": {
            "text/plain": [
              "<Figure size 800x600 with 1 Axes>"
            ],
            "image/png": "[encoded data removed]"
          },
          "metadata": {}
        },
        {
          "output_type": "stream",
          "name": "stdout",
          "text": [
            "Precision-Recall AUC: 0.9979\n"
          ]
        }
      ]
    },
    {
      "cell_type": "code",
      "source": [],
      "metadata": {
        "id": "cMfWo7j50obX"
      },
      "execution_count": null,
      "outputs": []
    }
  ],
  "metadata": {
    "colab": {
      "provenance": [],
      "authorship_tag": "ABX9TyPcOA6FnfOZ5++gUWQvw9Ir",
      "include_colab_link": true
    },
    "kernelspec": {
      "display_name": "Python 3",
      "name": "python3"
    },
    "language_info": {
      "name": "python"
    }
  },
  "nbformat": 4,
  "nbformat_minor": 0
}