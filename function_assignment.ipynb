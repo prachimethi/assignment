{
  "cells": [
    {
      "cell_type": "markdown",
      "metadata": {
        "id": "view-in-github",
        "colab_type": "text"
      },
      "source": [
        "<a href=\"https://colab.research.google.com/github/prachimethi/assignment/blob/main/function_assignment.ipynb\" target=\"_parent\"><img src=\"https://colab.research.google.com/assets/colab-badge.svg\" alt=\"Open In Colab\"/></a>"
      ]
    },
    {
      "cell_type": "markdown",
      "metadata": {
        "id": "LH45HE1HCiqk"
      },
      "source": [
        "Ques-1  What is the difference between a function and a method in Python?"
      ]
    },
    {
      "cell_type": "markdown",
      "metadata": {
        "id": "PbLGueyXC4km"
      },
      "source": [
        "Function : A function is a structured, reusable code block utilized for carrying out a specific task. Functions facilitate the creation of modular code, simplifying maintenance and reusability. example:"
      ]
    },
    {
      "cell_type": "code",
      "execution_count": null,
      "metadata": {
        "colab": {
          "base_uri": "https://localhost:8080/"
        },
        "id": "yu2zTj3uC9A5",
        "outputId": "9111470c-f97c-4d28-8508-5b93bcbe788e"
      },
      "outputs": [
        {
          "data": {
            "text/plain": [
              "25"
            ]
          },
          "execution_count": 3,
          "metadata": {},
          "output_type": "execute_result"
        }
      ],
      "source": [
        "def power(x, y):\n",
        "  return x**y\n",
        "power(5, 2)"
      ]
    },
    {
      "cell_type": "markdown",
      "metadata": {
        "id": "AMasfTtYD_3C"
      },
      "source": [
        "Method: A method is a piece of code that is called by name that is associated with an object."
      ]
    },
    {
      "cell_type": "code",
      "execution_count": null,
      "metadata": {
        "colab": {
          "base_uri": "https://localhost:8080/"
        },
        "id": "5c14WsXMDbnV",
        "outputId": "f5dd5e38-05c3-4fea-99d8-767aca7f49a4"
      },
      "outputs": [
        {
          "name": "stdout",
          "output_type": "stream",
          "text": [
            "woof\n"
          ]
        }
      ],
      "source": [
        "#Example:\n",
        "pet = \"woof\"\n",
        "print(pet)"
      ]
    },
    {
      "cell_type": "markdown",
      "metadata": {
        "id": "wdd6TWnpGVT7"
      },
      "source": [
        "Ques-2 Explain the concept of function arguments and parameters in Python?"
      ]
    },
    {
      "cell_type": "markdown",
      "metadata": {
        "id": "LI_7S6RWntBt"
      },
      "source": [
        "parameters:\n",
        "Parameters are the variables listed in the function definition. They act as placeholders for the values that will be passed to the function when it is called.\n",
        "Arguments : Arguments are the actual values that you pass to the function when you call it.\n"
      ]
    },
    {
      "cell_type": "code",
      "execution_count": null,
      "metadata": {
        "colab": {
          "base_uri": "https://localhost:8080/"
        },
        "id": "N8rKa09ZFHOn",
        "outputId": "9ddfbc4c-6131-4191-f04e-7ec01a8ed625"
      },
      "outputs": [
        {
          "name": "stdout",
          "output_type": "stream",
          "text": [
            "Hello, Alice!\n"
          ]
        }
      ],
      "source": [
        "#example:\n",
        "def greet(name):  # 'name' is a parameter\n",
        "    print(f\"Hello, {name}!\")  # 'name' will be replaced by the argument provided when the function is called\n",
        "\n",
        "# Calling the function with an argument\n",
        "greet(\"Alice\")\n"
      ]
    },
    {
      "cell_type": "markdown",
      "metadata": {
        "id": "EKgnk7QeotjK"
      },
      "source": [
        "Ques-3 What are the different ways to define and call a function in python?"
      ]
    },
    {
      "cell_type": "markdown",
      "metadata": {
        "id": "KyQuowmJph0l"
      },
      "source": [
        "Python provides a variety of ways to define and call functions, including:\n",
        "\n",
        "Basic functions,\n",
        "Functions with parameters,\n",
        "Functions with return values,\n",
        "Default parameter values,\n",
        "Keyword arguments,\n",
        "Variable-length arguments,\n",
        "Lambda functions,\n",
        "Nested functions,\n",
        "Function decorators,\n",
        "These features allow for flexible and powerful function definitions, suitable for a wide range of programming scenarios."
      ]
    },
    {
      "cell_type": "code",
      "execution_count": null,
      "metadata": {
        "colab": {
          "base_uri": "https://localhost:8080/"
        },
        "id": "n3G13YT4og8B",
        "outputId": "5d8c6fe8-4225-4fdc-8f6b-fa86759e8b0d"
      },
      "outputs": [
        {
          "name": "stdout",
          "output_type": "stream",
          "text": [
            "hello\n"
          ]
        }
      ],
      "source": [
        "#basic function\n",
        "def sayhello():\n",
        "  print(\"hello\")\n",
        "sayhello()"
      ]
    },
    {
      "cell_type": "code",
      "execution_count": null,
      "metadata": {
        "colab": {
          "base_uri": "https://localhost:8080/"
        },
        "id": "Zy5oQ7-Lp2_g",
        "outputId": "2a73b34a-cade-4420-a204-2f29552d514f"
      },
      "outputs": [
        {
          "name": "stdout",
          "output_type": "stream",
          "text": [
            "hello ,prachi\n"
          ]
        }
      ],
      "source": [
        "#functions with parameters\n",
        "def greet(name):\n",
        "  print(f\"hello ,{name}\")\n",
        "greet(\"prachi\")\n"
      ]
    },
    {
      "cell_type": "code",
      "execution_count": null,
      "metadata": {
        "colab": {
          "base_uri": "https://localhost:8080/"
        },
        "id": "vGBz0LQ5qa09",
        "outputId": "cde17cf9-8078-41cd-9fd7-2884971845ac"
      },
      "outputs": [
        {
          "data": {
            "text/plain": [
              "8"
            ]
          },
          "execution_count": 9,
          "metadata": {},
          "output_type": "execute_result"
        }
      ],
      "source": [
        "#function with return value\n",
        "def sumnum(a , b):\n",
        "  return(a + b)\n",
        "sumnum(5,3)"
      ]
    },
    {
      "cell_type": "code",
      "execution_count": null,
      "metadata": {
        "colab": {
          "base_uri": "https://localhost:8080/"
        },
        "id": "iQFQIYF_qtek",
        "outputId": "a5842384-49e7-404f-f0ab-f342a1d7cc4d"
      },
      "outputs": [
        {
          "name": "stdout",
          "output_type": "stream",
          "text": [
            "hello,guest\n"
          ]
        }
      ],
      "source": [
        "#default parameters value\n",
        "def greet(name = \"guest\"):\n",
        "  print(f\"hello,{name}\")\n",
        "greet()"
      ]
    },
    {
      "cell_type": "code",
      "execution_count": null,
      "metadata": {
        "colab": {
          "base_uri": "https://localhost:8080/"
        },
        "id": "1a3lX91NrVyy",
        "outputId": "4a211263-c2aa-4766-e95f-2d47fe8abca0"
      },
      "outputs": [
        {
          "name": "stdout",
          "output_type": "stream",
          "text": [
            "hello,prachi\n"
          ]
        }
      ],
      "source": [
        "greet(\"prachi\")"
      ]
    },
    {
      "cell_type": "code",
      "execution_count": null,
      "metadata": {
        "colab": {
          "base_uri": "https://localhost:8080/"
        },
        "id": "79vWV0a1rtEr",
        "outputId": "dfd11d1a-4229-4183-9bcb-72bdb86b0ed5"
      },
      "outputs": [
        {
          "name": "stdout",
          "output_type": "stream",
          "text": [
            "prachi is 17 year old\n"
          ]
        }
      ],
      "source": [
        "#keyword arguments\n",
        "def persons(name , age):\n",
        "  print(f\"{name} is {age} year old\")\n",
        "persons(name = \"prachi\", age = 17)"
      ]
    },
    {
      "cell_type": "markdown",
      "metadata": {
        "id": "1CiJpJOasaMB"
      },
      "source": [
        "Ques-4 What is the purpose of the 'return statement in a python function?"
      ]
    },
    {
      "cell_type": "markdown",
      "metadata": {
        "id": "my-aNDlqtCbv"
      },
      "source": [
        "Purpose of the return Statement\n",
        "Sending Values Back: The primary purpose of the return statement is to provide a way to send results back from a function to the part of the code that called it.\n",
        "\n",
        "Exiting a Function: The return statement also terminates the execution of the function. Any code after a return statement within that function will not be executed."
      ]
    },
    {
      "cell_type": "code",
      "execution_count": null,
      "metadata": {
        "colab": {
          "base_uri": "https://localhost:8080/"
        },
        "id": "j_EruH0hsKaq",
        "outputId": "7bb50058-c45b-417a-a476-13d6e46eaab7"
      },
      "outputs": [
        {
          "name": "stdout",
          "output_type": "stream",
          "text": [
            "Even\n",
            "Odd\n"
          ]
        }
      ],
      "source": [
        "#example\n",
        "def check_even_odd(number):\n",
        "    if number % 2 == 0:\n",
        "        return \"Even\"  # Exit and return if the number is even\n",
        "    return \"Odd\"  # Return if the number is odd\n",
        "\n",
        "print(check_even_odd(4))\n",
        "print(check_even_odd(5))\n"
      ]
    },
    {
      "cell_type": "markdown",
      "metadata": {
        "id": "EByHCo3gtjC9"
      },
      "source": [
        "Ques-5 What are iterators in python and how do they differ from iterables?"
      ]
    },
    {
      "cell_type": "markdown",
      "metadata": {
        "id": "1HWjYib6t8i3"
      },
      "source": [
        "Iterable:\n",
        "\n",
        "An iterable is any Python object that can return its elements one at a time. Common examples of iterables include lists, tuples, dictionaries, and strings. You can iterate over an iterable using a for loop or by using functions like list(), tuple(), etc."
      ]
    },
    {
      "cell_type": "code",
      "execution_count": null,
      "metadata": {
        "colab": {
          "base_uri": "https://localhost:8080/"
        },
        "id": "D11ziPChtXay",
        "outputId": "d70b9731-49e5-4f81-c545-af422591c2e6"
      },
      "outputs": [
        {
          "name": "stdout",
          "output_type": "stream",
          "text": [
            "1\n",
            "2\n",
            "3\n",
            "4\n",
            "5\n"
          ]
        }
      ],
      "source": [
        "#example\n",
        "lis = [ 1, 2, 3, 4 , 5]\n",
        "for items in lis:\n",
        "  print(items)"
      ]
    },
    {
      "cell_type": "markdown",
      "metadata": {
        "id": "83xW0mSkul2a"
      },
      "source": [
        "Iterator:\n",
        "\n",
        "An iterator is an object that implements the iterator protocol, which consists of two methods:\n",
        "\n",
        "__iter__(): This method returns the iterator object itself.\n",
        "__next__(): This method returns the next value from the iterator. When there are no more items to return, it raises the StopIteration exception."
      ]
    },
    {
      "cell_type": "code",
      "execution_count": null,
      "metadata": {
        "colab": {
          "base_uri": "https://localhost:8080/"
        },
        "id": "7_vzWHwvuY4U",
        "outputId": "d65cb5d6-f535-415d-bf83-3b66e49137b4"
      },
      "outputs": [
        {
          "data": {
            "text/plain": [
              "1"
            ]
          },
          "execution_count": 23,
          "metadata": {},
          "output_type": "execute_result"
        }
      ],
      "source": [
        "#example\n",
        "l = iter([1, 2, 3, 44, 5])\n",
        "next(l)"
      ]
    },
    {
      "cell_type": "code",
      "execution_count": null,
      "metadata": {
        "colab": {
          "base_uri": "https://localhost:8080/"
        },
        "id": "FCx4BOkgvSQQ",
        "outputId": "a7f62104-947d-4fbf-8293-e5f789a26be0"
      },
      "outputs": [
        {
          "data": {
            "text/plain": [
              "2"
            ]
          },
          "execution_count": 24,
          "metadata": {},
          "output_type": "execute_result"
        }
      ],
      "source": [
        "next(l)"
      ]
    },
    {
      "cell_type": "markdown",
      "metadata": {
        "id": "OjGxW9Nqvn_W"
      },
      "source": [
        "Ques-6 Explain the concept of generators in python and how they are defined?"
      ]
    },
    {
      "cell_type": "markdown",
      "metadata": {
        "id": "qiG1OH7iwPdD"
      },
      "source": [
        "Generators are a powerful way to create iterators using the yield statement.\n",
        "They provide lazy evaluation and state preservation, making them efficient for handling large or infinite sequences.\n",
        "Generators are defined using functions and can be easily iterated over using loops or the next() function.\n",
        "\n",
        "\n"
      ]
    },
    {
      "cell_type": "code",
      "execution_count": null,
      "metadata": {
        "colab": {
          "base_uri": "https://localhost:8080/"
        },
        "id": "aBtcjoNBvly6",
        "outputId": "ffad55b1-0bd6-437d-d608-7c2091dbcb01"
      },
      "outputs": [
        {
          "name": "stdout",
          "output_type": "stream",
          "text": [
            "1\n",
            "2\n",
            "3\n",
            "4\n",
            "5\n"
          ]
        }
      ],
      "source": [
        "#example\n",
        "def count_up_to(max):\n",
        "    count = 1\n",
        "    while count <= max:\n",
        "        yield count  # Yield the current count\n",
        "        count += 1   # Increment the count\n",
        "\n",
        "# Create a generator object\n",
        "counter = count_up_to(5)\n",
        "\n",
        "# Iterate through the generator\n",
        "for number in counter:\n",
        "    print(number)\n"
      ]
    },
    {
      "cell_type": "markdown",
      "metadata": {
        "id": "CTRcvUtVwudf"
      },
      "source": [
        "Ques-7 What are the advantages of using generators over regular functions?"
      ]
    },
    {
      "cell_type": "markdown",
      "metadata": {
        "id": "wm2iPif16ajD"
      },
      "source": [
        "Generators offer several advantages over regular functions, particularly when it comes to managing memory and handling data streams. Here are the key benefits:\n",
        "\n",
        "1. memory efficiency\n",
        "2. state preservation\n",
        "3. simpler code for iterators\n",
        "4. infinite sequence\n",
        "5. pipelining"
      ]
    },
    {
      "cell_type": "code",
      "execution_count": null,
      "metadata": {
        "id": "8TbtZiDUwp52"
      },
      "outputs": [],
      "source": [
        "def infinite_fibonacci():\n",
        "    a, b = 0, 1\n",
        "    while True:\n",
        "        yield a\n",
        "        a, b = b, a + b\n"
      ]
    },
    {
      "cell_type": "markdown",
      "metadata": {
        "id": "mV0XESnmwtE-"
      },
      "source": [
        "Ques-8 What is a lambda function in python and when is it typically used?"
      ]
    },
    {
      "cell_type": "markdown",
      "metadata": {
        "id": "kYpxhW0W7p5a"
      },
      "source": [
        "A lambda function in Python is a small, anonymous function defined using the lambda keyword. Lambda functions can take any number of arguments but can only have a single expression. They are often used for short, simple operations where defining a full function might be unnecessary.\n",
        "Lambda functions are commonly used in scenarios where you need a small function for a short period, particularly when using functions that require a function as an argument, such as map(), filter(), and sorted(). They are also useful in situations where defining a full function would be verbose and unnecessary."
      ]
    },
    {
      "cell_type": "code",
      "execution_count": null,
      "metadata": {
        "colab": {
          "base_uri": "https://localhost:8080/"
        },
        "id": "h26udXMf7HU_",
        "outputId": "ddabf8f8-7450-40de-baac-b14dac8e44b4"
      },
      "outputs": [
        {
          "name": "stdout",
          "output_type": "stream",
          "text": [
            "8\n"
          ]
        }
      ],
      "source": [
        "add = lambda x,y:x+y\n",
        "result = add(5,3)\n",
        "print(result)"
      ]
    },
    {
      "cell_type": "markdown",
      "metadata": {
        "id": "ehnVgZ9x8jwr"
      },
      "source": [
        "Ques-9 explain the purpose and usage of 'map' function in python?"
      ]
    },
    {
      "cell_type": "markdown",
      "metadata": {
        "id": "ZUvBrLEK9ISb"
      },
      "source": [
        "Purpose of map:\n",
        "\n",
        "Transform Data: The primary purpose of map() is to apply a transformation or function to each item in an iterable.\n",
        "Functional Programming Style: It encourages a functional programming style, making your code cleaner and often more concise by avoiding explicit loops."
      ]
    },
    {
      "cell_type": "code",
      "execution_count": null,
      "metadata": {
        "colab": {
          "base_uri": "https://localhost:8080/"
        },
        "id": "3HR8tL318HVy",
        "outputId": "0b32aaf5-1822-40a4-b0d9-0e2a2a433b6f"
      },
      "outputs": [
        {
          "name": "stdout",
          "output_type": "stream",
          "text": [
            "[1, 4, 9, 16, 25]\n"
          ]
        }
      ],
      "source": [
        "#usage example\n",
        "num = [1, 2, 3,4,5]\n",
        "squarenum = map(lambda x: x**2 , num)\n",
        "print(list(squarenum))"
      ]
    },
    {
      "cell_type": "code",
      "execution_count": null,
      "metadata": {
        "colab": {
          "base_uri": "https://localhost:8080/"
        },
        "id": "LHAiN_l9950d",
        "outputId": "a344daa7-e789-43a0-bd97-6aa8d4478a3d"
      },
      "outputs": [
        {
          "name": "stdout",
          "output_type": "stream",
          "text": [
            "[1, 4, 9, 16, 25]\n"
          ]
        }
      ],
      "source": [
        "#using a defined function\n",
        "def square(x):\n",
        "    return x ** 2\n",
        "\n",
        "numbers = [1, 2, 3, 4, 5]\n",
        "squared_numbers = map(square, numbers)\n",
        "\n",
        "print(list(squared_numbers))\n"
      ]
    },
    {
      "cell_type": "code",
      "execution_count": null,
      "metadata": {
        "colab": {
          "base_uri": "https://localhost:8080/"
        },
        "id": "qKFsokEL-Na4",
        "outputId": "eb2a4f70-ed80-4bae-d181-e41afb71213d"
      },
      "outputs": [
        {
          "name": "stdout",
          "output_type": "stream",
          "text": [
            "[5, 7, 9]\n"
          ]
        }
      ],
      "source": [
        "#mapping with multiple iterator\n",
        "list1 = [1, 2, 3]\n",
        "list2 = [4, 5, 6]\n",
        "\n",
        "result = map(lambda x, y: x + y, list1, list2)\n",
        "\n",
        "print(list(result))\n"
      ]
    },
    {
      "cell_type": "code",
      "execution_count": null,
      "metadata": {
        "colab": {
          "base_uri": "https://localhost:8080/"
        },
        "id": "MnToSb9P-YoF",
        "outputId": "9416b171-db26-4a3e-c6ea-7784f2bbf93d"
      },
      "outputs": [
        {
          "name": "stdout",
          "output_type": "stream",
          "text": [
            "['A', 'B', 'C', 'D']\n"
          ]
        }
      ],
      "source": [
        "#using map with string\n",
        "chars = ['a', 'b', 'c', 'd']\n",
        "upper_chars = map(str.upper, chars)\n",
        "\n",
        "print(list(upper_chars))\n"
      ]
    },
    {
      "cell_type": "markdown",
      "metadata": {
        "id": "qyRKjWLJ-2Zk"
      },
      "source": [
        "\n",
        "Ques-10 what is the difference between 'map()' , reduce(), and 'filter' function in python?"
      ]
    },
    {
      "cell_type": "markdown",
      "metadata": {
        "id": "LRrZnpmX_z4z"
      },
      "source": [
        "1. map()\n",
        "\n",
        "Purpose: Applies a given function to all items in an iterable (like a list or tuple) and returns a new iterable (map object) containing the results.\n",
        "\n",
        "Output: The output is an iterator of the results from applying the function.\n",
        "\n",
        "Use Case: When you want to transform each item in an iterable."
      ]
    },
    {
      "cell_type": "code",
      "execution_count": null,
      "metadata": {
        "colab": {
          "base_uri": "https://localhost:8080/"
        },
        "id": "pTBoBHqD-htq",
        "outputId": "3671d3f0-6476-47de-a70e-fc6b6c08c66f"
      },
      "outputs": [
        {
          "name": "stdout",
          "output_type": "stream",
          "text": [
            "[1, 4, 9, 16, 25]\n"
          ]
        }
      ],
      "source": [
        "nums = [1, 2, 3, 4, 5]\n",
        "squared = map(lambda x: x**2 , nums)\n",
        "print(list(squared))"
      ]
    },
    {
      "cell_type": "markdown",
      "metadata": {
        "id": "QBv6p8QxAgzg"
      },
      "source": [
        "2. filter()\n",
        "\n",
        "Purpose: Applies a given function to each item in an iterable and returns a new iterable containing only the items for which the function returns True.\n",
        "\n",
        "Output: The output is an iterator of items that passed the filter condition.\n",
        "\n",
        "Use Case: When you want to filter out certain items from an iterable based on a condition.\n"
      ]
    },
    {
      "cell_type": "code",
      "execution_count": null,
      "metadata": {
        "colab": {
          "base_uri": "https://localhost:8080/"
        },
        "id": "gjHbwoV9AUpW",
        "outputId": "3b78612c-bc66-493d-d545-a167d4c5f91d"
      },
      "outputs": [
        {
          "name": "stdout",
          "output_type": "stream",
          "text": [
            "[2, 4, 8]\n"
          ]
        }
      ],
      "source": [
        "nums = [1, 2, 3, 4, 5, 7, 8]\n",
        "even = filter(lambda x:x % 2 == 0 , nums)\n",
        "print(list(even))"
      ]
    },
    {
      "cell_type": "markdown",
      "metadata": {
        "id": "vDZzXQyBBSAO"
      },
      "source": [
        "3. reduce()\n",
        "\n",
        "Purpose: Applies a given function cumulatively to the items of an iterable, reducing the iterable to a single value.\n",
        "\n",
        "Output: The output is a single value resulting from applying the function to the items in a cumulative manner.\n",
        "\n",
        "Use Case: When you want to aggregate or combine items in an iterable into a single result, such as summing numbers or finding the product."
      ]
    },
    {
      "cell_type": "code",
      "execution_count": null,
      "metadata": {
        "colab": {
          "base_uri": "https://localhost:8080/"
        },
        "id": "jApdQHDzBCne",
        "outputId": "abbec907-fd42-424c-dd0f-6d5f5f7ca829"
      },
      "outputs": [
        {
          "name": "stdout",
          "output_type": "stream",
          "text": [
            "15\n"
          ]
        }
      ],
      "source": [
        "from functools import reduce\n",
        "\n",
        "numbers = [1, 2, 3, 4, 5]\n",
        "sum_result = reduce(lambda x, y: x + y, numbers)\n",
        "print(sum_result)\n"
      ]
    },
    {
      "cell_type": "markdown",
      "metadata": {
        "id": "N-SuFD-3CL7b"
      },
      "source": [
        "Ques-11 using pen and paper write the internal mechanism for sum operation using reduce funtion on this given list:[47,11,42,13]:"
      ]
    },
    {
      "cell_type": "markdown",
      "metadata": {
        "id": "2T01twV2PppN"
      },
      "source": [
        "In the doc link is present for the answer of this question."
      ]
    },
    {
      "cell_type": "markdown",
      "metadata": {
        "id": "JRmFkswiRlXQ"
      },
      "source": [
        "PRACTICAL QUESTIONS\n"
      ]
    },
    {
      "cell_type": "markdown",
      "metadata": {
        "id": "VxStr7zmRqGG"
      },
      "source": [
        "Ques-1 Write a python function that takes a list of numbers as input return the sum of all even numbers in the list?"
      ]
    },
    {
      "cell_type": "code",
      "execution_count": null,
      "metadata": {
        "colab": {
          "base_uri": "https://localhost:8080/"
        },
        "id": "nEmBtE3CB1jK",
        "outputId": "938488d4-c9ee-4194-980f-d9d1f43f1a26"
      },
      "outputs": [
        {
          "name": "stdout",
          "output_type": "stream",
          "text": [
            "14\n"
          ]
        }
      ],
      "source": [
        "def sumeven(nums):\n",
        "  return sum(num for num in nums if num%2 == 0)\n",
        "nums = [1, 2, 3 , 4, 5, 7, 8]\n",
        "result = sumeven(nums)\n",
        "print(result)"
      ]
    },
    {
      "cell_type": "markdown",
      "metadata": {
        "id": "nbGNoT_r3LnI"
      },
      "source": [
        "Ques-2 Create a python function that accept a string and return the reverse of string?"
      ]
    },
    {
      "cell_type": "code",
      "execution_count": null,
      "metadata": {
        "colab": {
          "base_uri": "https://localhost:8080/"
        },
        "id": "9KF1FiorBlHQ",
        "outputId": "7cf268f2-a694-4df3-8d69-78598f4330e3"
      },
      "outputs": [
        {
          "name": "stdout",
          "output_type": "stream",
          "text": [
            "sllikswp\n"
          ]
        }
      ],
      "source": [
        "def reverse(string):\n",
        "  return string[::-1]\n",
        "s = reverse(\"pwskills\")\n",
        "print(s)"
      ]
    },
    {
      "cell_type": "markdown",
      "metadata": {
        "id": "wE2M0XRC8nnW"
      },
      "source": [
        "Ques-3 Implement a python function that takes a list of integers and returns a new list containing the square of each number?"
      ]
    },
    {
      "cell_type": "code",
      "execution_count": null,
      "metadata": {
        "colab": {
          "base_uri": "https://localhost:8080/"
        },
        "id": "EUZJHek13v2o",
        "outputId": "601ab6a5-ee48-4404-85a3-9a43e971efbe"
      },
      "outputs": [
        {
          "name": "stdout",
          "output_type": "stream",
          "text": [
            "<built-in method append of list object at 0x78c60f4dd440>\n"
          ]
        }
      ],
      "source": [
        "def square(lis):\n",
        "  lis = [1, 2 , 3, 4, 5]\n",
        "  return lis**2\n",
        "lis2 = []\n",
        "lis2 = lis.append\n",
        "print(lis2)"
      ]
    },
    {
      "cell_type": "code",
      "execution_count": null,
      "metadata": {
        "colab": {
          "base_uri": "https://localhost:8080/"
        },
        "id": "teSOumhGKBdu",
        "outputId": "a1a20e92-4c34-43d9-f36e-5d388268afcc"
      },
      "outputs": [
        {
          "name": "stdout",
          "output_type": "stream",
          "text": [
            "[1, 4, 9, 16, 25]\n"
          ]
        }
      ],
      "source": [
        "def square_numbers(numbers):\n",
        "    return [num ** 2 for num in numbers]\n",
        "\n",
        "input_list = [1, 2, 3, 4, 5]\n",
        "result = square_numbers(input_list)\n",
        "print(result)\n"
      ]
    },
    {
      "cell_type": "markdown",
      "metadata": {
        "id": "yA9R2yAySVnO"
      },
      "source": [
        "Ques-4 Write a python function that checks if a given number is prime or not from 1 to 200?"
      ]
    },
    {
      "cell_type": "code",
      "execution_count": null,
      "metadata": {
        "colab": {
          "base_uri": "https://localhost:8080/"
        },
        "id": "9eNSzFG8LCyE",
        "outputId": "5573123a-1898-44ab-b993-35d2a9f22cea"
      },
      "outputs": [
        {
          "name": "stdout",
          "output_type": "stream",
          "text": [
            "the value is a prime number\n"
          ]
        }
      ],
      "source": [
        "def prime(x):\n",
        "    if x % x ==0 :\n",
        "      print(\"the value is a prime number\")\n",
        "    else:\n",
        "        print(\"value is not a prime number\")\n",
        "prime(11)"
      ]
    },
    {
      "cell_type": "markdown",
      "metadata": {
        "id": "Xu-sv9SYUEEn"
      },
      "source": [
        "Ques-5 Create a iterator class in python that generate the fibonacci sequence up to a specified number of terms?"
      ]
    },
    {
      "cell_type": "code",
      "execution_count": null,
      "metadata": {
        "colab": {
          "base_uri": "https://localhost:8080/"
        },
        "id": "NLciEoD3MjZW",
        "outputId": "fbe415e6-7a8c-4b0a-925c-66c6205b71ce"
      },
      "outputs": [
        {
          "name": "stdout",
          "output_type": "stream",
          "text": [
            "0\n",
            "1\n",
            "1\n",
            "2\n",
            "3\n"
          ]
        }
      ],
      "source": [
        "def fiboseries(n):\n",
        "  a = 0\n",
        "  b = 1\n",
        "  for i in range(n):\n",
        "    yield a\n",
        "    temp = a\n",
        "    a = b\n",
        "    b= a+temp\n",
        "for num in fiboseries(5):\n",
        "    print(num)"
      ]
    },
    {
      "cell_type": "markdown",
      "metadata": {
        "id": "iaf-ePnIYpgx"
      },
      "source": [
        "Ques-6 Write a generator function in python that yeilds the power of 2 up to a given exponent?"
      ]
    },
    {
      "cell_type": "code",
      "execution_count": null,
      "metadata": {
        "colab": {
          "base_uri": "https://localhost:8080/"
        },
        "id": "CSKssOFhU7oV",
        "outputId": "b1bc9554-bec7-4635-e29b-572347c307ee"
      },
      "outputs": [
        {
          "name": "stdout",
          "output_type": "stream",
          "text": [
            "1\n",
            "2\n",
            "4\n",
            "8\n",
            "16\n",
            "32\n",
            "64\n"
          ]
        }
      ],
      "source": [
        "def power(x):\n",
        "  for ex in range(x):\n",
        "    yield 2**ex\n",
        "x = 7\n",
        "for powers in power(x):\n",
        "  print(powers)\n",
        "\n"
      ]
    },
    {
      "cell_type": "code",
      "execution_count": null,
      "metadata": {
        "colab": {
          "base_uri": "https://localhost:8080/"
        },
        "id": "mLjU9JXduj08",
        "outputId": "a7eb897c-14c2-4c22-a6d7-72838e2ecc8a"
      },
      "outputs": [
        {
          "name": "stdout",
          "output_type": "stream",
          "text": [
            "1\n",
            "2\n",
            "4\n",
            "8\n",
            "16\n",
            "32\n",
            "64\n"
          ]
        }
      ],
      "source": [
        "\n",
        "def power(num):\n",
        "  for i in range(x):\n",
        "      yield 2**i\n",
        "x = 7\n",
        "for power in power(x):\n",
        "  print(power)"
      ]
    },
    {
      "cell_type": "markdown",
      "metadata": {
        "id": "rSNRT9faaEIT"
      },
      "source": [
        "Ques-7 Implement a generator function that reads a file line by line and yields each line as a string?"
      ]
    },
    {
      "cell_type": "code",
      "execution_count": null,
      "metadata": {
        "colab": {
          "base_uri": "https://localhost:8080/"
        },
        "id": "04MjdA36Z3XQ",
        "outputId": "0b666532-e207-4f51-9570-2ab6dfc2785b"
      },
      "outputs": [
        {
          "name": "stdout",
          "output_type": "stream",
          "text": [
            "(\"'how are you\", \"i am fine'\")\n"
          ]
        }
      ],
      "source": [
        "path =\"'how are you\",\"i am fine'\"\n",
        "def readline(path):\n",
        "  with open(path,\"r\")as file:\n",
        "    for line in file:\n",
        "      yield line(path)"
      ]
    },
    {
      "cell_type": "markdown",
      "metadata": {
        "id": "OHz2IXxqPD75"
      },
      "source": [
        "Ques-8 use a lambda function in python to sort a list of tuples based on the second element of each tuple?"
      ]
    },
    {
      "cell_type": "code",
      "execution_count": null,
      "metadata": {
        "colab": {
          "base_uri": "https://localhost:8080/"
        },
        "id": "cO8aZdQYOXeI",
        "outputId": "94a23a22-85f3-482c-8088-397841159dd1"
      },
      "outputs": [
        {
          "data": {
            "text/plain": [
              "[('aant', 'aaya'), ('arahi', 'vey')]"
            ]
          },
          "execution_count": 33,
          "metadata": {},
          "output_type": "execute_result"
        }
      ],
      "source": [
        "l = [(\"arahi\",\"vey\"),(\"aant\", \"aaya\")]\n",
        "sort = sorted(l ,key = lambda x:x[1])\n",
        "sort"
      ]
    },
    {
      "cell_type": "markdown",
      "metadata": {
        "id": "_LFLrGapRqgc"
      },
      "source": []
    },
    {
      "cell_type": "code",
      "execution_count": null,
      "metadata": {
        "colab": {
          "base_uri": "https://localhost:8080/"
        },
        "id": "d-oEIfFrRZ7o",
        "outputId": "283331fb-acdf-416a-dabc-6518d2cc8839"
      },
      "outputs": [
        {
          "data": {
            "text/plain": [
              "[('pihu', 'kajal'), ('anant', 'reshru')]"
            ]
          },
          "execution_count": 19,
          "metadata": {},
          "output_type": "execute_result"
        }
      ],
      "source": [
        "lis = [(\"anant\", \"reshru\"),(\"pihu\", \"kajal\")]\n",
        "sorte = sorted(lis , key = lambda x:x[1])\n",
        "sorte"
      ]
    },
    {
      "cell_type": "markdown",
      "metadata": {
        "id": "V8sA9uuoxc_e"
      },
      "source": [
        "Ques-9 Write a python program that uses 'map()' to convert a list of temprature from celsius to faharanite?"
      ]
    },
    {
      "cell_type": "code",
      "execution_count": null,
      "metadata": {
        "colab": {
          "base_uri": "https://localhost:8080/"
        },
        "id": "oATcWCUQxYaB",
        "outputId": "75711ba9-e532-4fac-b414-238710607fd4"
      },
      "outputs": [
        {
          "name": "stdout",
          "output_type": "stream",
          "text": [
            "[1, 42, 23, 45, 23]\n",
            "[33.8, 107.6, 73.4, 113.0, 73.4]\n"
          ]
        }
      ],
      "source": [
        "def celsius(c):\n",
        "  return c*9/5+32\n",
        "temp = [1, 42,23, 45,23]\n",
        "farhenite = list(map(celsius , temp))\n",
        "print(temp)\n",
        "print(farhenite)"
      ]
    },
    {
      "cell_type": "markdown",
      "metadata": {
        "id": "3340vVIh0Hea"
      },
      "source": [
        "Ques- 10 create a python function that uses'filter' to remove all the vowels from a given string?\n"
      ]
    },
    {
      "cell_type": "code",
      "source": [
        "def remove_vowels(input_string):\n",
        "    def is_not_vowel(char):\n",
        "        return char.lower() not in 'aeiou'\n",
        "\n",
        "    filtered_chars = filter(is_not_vowel, input_string)\n",
        "\n",
        "    result = ''.join(filtered_chars)\n",
        "    return result\n",
        "\n",
        "# Example usage\n",
        "input_str = \"Hello, World!\"\n",
        "output_str = remove_vowels(input_str)\n",
        "print(output_str)"
      ],
      "metadata": {
        "colab": {
          "base_uri": "https://localhost:8080/"
        },
        "id": "YVNJQz2Y3GZZ",
        "outputId": "c71614f2-64e1-496d-8960-68cf9c8edd72"
      },
      "execution_count": 13,
      "outputs": [
        {
          "output_type": "stream",
          "name": "stdout",
          "text": [
            "Hll, Wrld!\n"
          ]
        }
      ]
    },
    {
      "cell_type": "markdown",
      "source": [
        "Ques-11 imagine an accounting routine used in a book shop. it works on a list with sublists, which look like this:\n",
        "\n",
        "orders = [\n",
        "    (34587, \"Learning Python, Mark Lutz\", 4, 40.95),\n",
        "    (98762, \"Programming Python, Mark Lutz\", 5, 56.80),\n",
        "    (77226, \"Head First Python, Paul Barry\", 3, 32.95),\n",
        "    (88112, \"Einfuhrung in Python3, Bernd Klein\", 3, 24.99),\n",
        "]\n",
        "Write a python program which return a list with two tuples, each tuple consists of order number and product of the price per item and quantity the product should be increased by 10,-c if the value of the order is smaller than 10000 c\n",
        "write"
      ],
      "metadata": {
        "id": "xeGan2MoAzg5"
      }
    },
    {
      "cell_type": "code",
      "source": [
        "def calculate_order_totals(orders):\n",
        "    result = []\n",
        "\n",
        "    for order in orders:\n",
        "        order_number = order[0]\n",
        "        book_title_author = order[1]\n",
        "        quantity = order[2]\n",
        "        price_per_item = order[3]\n",
        "\n",
        "        total_price = price_per_item * quantity\n",
        "\n",
        "        # Check if total price is less than 10,000\n",
        "        if total_price < 10000:\n",
        "            price_per_item += 10  # Increase price per item by 10\n",
        "            total_price = price_per_item * quantity  # Recalculate total price\n",
        "\n",
        "        result.append((order_number, total_price))\n",
        "\n",
        "    return result\n",
        "orders = [\n",
        "    (34587, \"Learning Python, Mark Lutz\", 4, 40.95),\n",
        "    (98762, \"Programming Python, Mark Lutz\", 5, 56.80),\n",
        "    (77226, \"Head First Python, Paul Barry\", 3, 32.95),\n",
        "    (88112, \"Einfuhrung in Python3, Bernd Klein\", 3, 24.99),\n",
        "]\n",
        "\n",
        "# Calculate order totals\n",
        "order_totals = calculate_order_totals(orders)\n",
        "print(order_totals)  # Output: [(34587, 163.8), (98762, 284.0), (77226, 106.85), (88112, 109.97)]\n"
      ],
      "metadata": {
        "colab": {
          "base_uri": "https://localhost:8080/"
        },
        "id": "FVkOLhq53f4a",
        "outputId": "5a0b5557-e8f4-4515-d36a-201fe9f747ae"
      },
      "execution_count": 9,
      "outputs": [
        {
          "output_type": "stream",
          "name": "stdout",
          "text": [
            "[(34587, 203.8), (98762, 334.0), (77226, 128.85000000000002), (88112, 104.96999999999998)]\n"
          ]
        }
      ]
    },
    {
      "cell_type": "code",
      "source": [],
      "metadata": {
        "id": "aFv8yjJmBn8t"
      },
      "execution_count": null,
      "outputs": []
    }
  ],
  "metadata": {
    "colab": {
      "provenance": [],
      "authorship_tag": "ABX9TyOMfK9TIl7jp9rpzYaXLs9G",
      "include_colab_link": true
    },
    "kernelspec": {
      "display_name": "Python 3",
      "name": "python3"
    },
    "language_info": {
      "name": "python"
    }
  },
  "nbformat": 4,
  "nbformat_minor": 0
}