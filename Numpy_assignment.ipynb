{
  "nbformat": 4,
  "nbformat_minor": 0,
  "metadata": {
    "colab": {
      "provenance": [],
      "authorship_tag": "ABX9TyNG4aIvrAsUmdNTAs8tiJUy",
      "include_colab_link": true
    },
    "kernelspec": {
      "name": "python3",
      "display_name": "Python 3"
    },
    "language_info": {
      "name": "python"
    }
  },
  "cells": [
    {
      "cell_type": "markdown",
      "metadata": {
        "id": "view-in-github",
        "colab_type": "text"
      },
      "source": [
        "<a href=\"https://colab.research.google.com/github/prachimethi/assignment/blob/main/Numpy_assignment.ipynb\" target=\"_parent\"><img src=\"https://colab.research.google.com/assets/colab-badge.svg\" alt=\"Open In Colab\"/></a>"
      ]
    },
    {
      "cell_type": "markdown",
      "source": [
        "**Therotical** **Questions**:-"
      ],
      "metadata": {
        "id": "XGVv695I8x9M"
      }
    },
    {
      "cell_type": "markdown",
      "source": [
        "Ques-1 Explain the purpose and advantage of numpy in scientific computing and data analysis. how does it enhance python's capabilities for numerical operations?"
      ],
      "metadata": {
        "id": "a1O_iOBp84ke"
      }
    },
    {
      "cell_type": "markdown",
      "source": [
        "ans- Purpose of NumPy\n",
        "Efficient Storage and Manipulation of Arrays: NumPy provides a powerful N-dimensional array object, ndarray, which allows for efficient storage and manipulation of large datasets.\n",
        "\n",
        "Mathematical Functions: It offers a wide array of mathematical functions to perform operations on arrays, making it easier to conduct complex numerical analyses.\n",
        "\n",
        "Integration with Other Libraries: NumPy serves as the foundational library for many other scientific libraries, such as SciPy, Pandas, and Matplotlib, creating a robust ecosystem for scientific computing.\n",
        "\n",
        "Advantages of NumPy\n",
        "Performance: NumPy is implemented in C, making its operations significantly faster than pure Python, especially for large datasets. Its operations are optimized for performance.\n",
        "\n",
        "Convenience: The ndarray structure supports a variety of operations (e.g., element-wise operations, broadcasting, etc.) that simplify coding and make it more intuitive for users familiar with mathematical notation.\n",
        "\n",
        "Memory Efficiency: NumPy arrays consume less memory compared to Python lists. The homogeneous nature of arrays allows for better memory allocation and performance.\n",
        "\n",
        "Rich Functionality: NumPy provides extensive functionality, including linear algebra operations, Fourier transforms, random number generation, and more, allowing for comprehensive data analysis.\n",
        "\n",
        "Support for Multi-dimensional Data: It easily handles multi-dimensional arrays, enabling complex data structures that are essential for many scientific applications.\n",
        "\n",
        "Broadcasting: This feature allows operations between arrays of different shapes, facilitating more intuitive mathematical operations without the need for explicit loops.\n",
        "\n",
        "Enhancement of Python’s Numerical Capabilities\n",
        "Array Operations: NumPy allows for concise array operations without the need for explicit loops, which not only simplifies the code but also enhances performance.\n",
        "\n",
        "Vectorization: Many operations can be performed on entire arrays rather than individual elements, which reduces execution time and improves readability.\n",
        "\n",
        "Integration with C/C++ and Fortran: NumPy can interface with code written in C, C++, or Fortran, enabling users to optimize performance-critical sections of their applications.\n",
        "\n",
        "Interoperability: NumPy arrays can be easily used with other libraries, enhancing Python's overall numerical capabilities. For instance, arrays can be directly utilized in libraries like SciPy for advanced mathematical computations or Matplotlib for plotting."
      ],
      "metadata": {
        "id": "_xZELxZC9k5O"
      }
    },
    {
      "cell_type": "markdown",
      "source": [
        "Ques-2 compare and contrast np.mean() and np.average() functions in numpy. when would you use one over the other."
      ],
      "metadata": {
        "id": "Bynyt0lS9y1M"
      }
    },
    {
      "cell_type": "markdown",
      "source": [
        "Both np.mean() and np.average() are functions in NumPy used to compute the average of array elements, but they have some key differences in functionality and usage. Here’s a comparison:\n",
        "\n",
        "np.mean()\n",
        "\n",
        "Purpose: Computes the arithmetic mean (average) of the array elements along the specified axis.\n",
        "Syntax: np.mean(a, axis=None, dtype=None, keepdims=False, ...)\n",
        "\n",
        "np.average()\n",
        "\n",
        "Purpose: Computes the weighted average of the array elements. It can also compute the arithmetic mean if no weights are provided.\n",
        "Syntax: np.average(a, axis=None, weights=None, returned=False)"
      ],
      "metadata": {
        "id": "4uIJV9om-WWs"
      }
    },
    {
      "cell_type": "markdown",
      "source": [
        "ques-3 Describe the methods for reversing a NumPy array along different axes. Provide examples for 1D and 2D\n",
        "arrays."
      ],
      "metadata": {
        "id": "GT-AY8Cf-sdH"
      }
    },
    {
      "cell_type": "code",
      "source": [
        "import numpy as np"
      ],
      "metadata": {
        "id": "DlZrRmSA_IP7"
      },
      "execution_count": null,
      "outputs": []
    },
    {
      "cell_type": "code",
      "source": [
        "#reversing a numpy array\n",
        "a= np.array([1, 2, 3, 4, 5])"
      ],
      "metadata": {
        "id": "ks7CrB1R82wQ"
      },
      "execution_count": null,
      "outputs": []
    },
    {
      "cell_type": "code",
      "source": [
        "np.flip(a)"
      ],
      "metadata": {
        "colab": {
          "base_uri": "https://localhost:8080/"
        },
        "id": "xnJk51Np_Q24",
        "outputId": "ad70fb06-07b9-4942-dc8c-e454ee93c241"
      },
      "execution_count": null,
      "outputs": [
        {
          "output_type": "execute_result",
          "data": {
            "text/plain": [
              "array([5, 4, 3, 2, 1])"
            ]
          },
          "metadata": {},
          "execution_count": 3
        }
      ]
    },
    {
      "cell_type": "code",
      "source": [
        "#example of 1 d array\n",
        "ab = np.array((1, 2, 4, 5, 7, 8))\n",
        "ab"
      ],
      "metadata": {
        "colab": {
          "base_uri": "https://localhost:8080/"
        },
        "id": "Xzv0BHMh_T4z",
        "outputId": "1ad19bfa-582e-4cbf-dca3-c6002fcde107"
      },
      "execution_count": null,
      "outputs": [
        {
          "output_type": "execute_result",
          "data": {
            "text/plain": [
              "array([1, 2, 4, 5, 7, 8])"
            ]
          },
          "metadata": {},
          "execution_count": 13
        }
      ]
    },
    {
      "cell_type": "code",
      "source": [
        "#example of 2d array\n",
        "b = np.array(([1, 2, 3],[4, 5, 7]))\n",
        "b"
      ],
      "metadata": {
        "colab": {
          "base_uri": "https://localhost:8080/"
        },
        "id": "6UQBbFx9_d3n",
        "outputId": "70533e7a-1088-4df6-b170-af07622be21d"
      },
      "execution_count": null,
      "outputs": [
        {
          "output_type": "execute_result",
          "data": {
            "text/plain": [
              "array([[1, 2, 3],\n",
              "       [4, 5, 7]])"
            ]
          },
          "metadata": {},
          "execution_count": 14
        }
      ]
    },
    {
      "cell_type": "markdown",
      "source": [
        "Ques-4. How can you determine the data type of elements in a NumPy array? Discuss the importance of data types\n",
        "in memory management and performance."
      ],
      "metadata": {
        "id": "bAh25cvC_-xM"
      }
    },
    {
      "cell_type": "code",
      "source": [
        "b"
      ],
      "metadata": {
        "colab": {
          "base_uri": "https://localhost:8080/"
        },
        "id": "cCPdD8Uz_mJy",
        "outputId": "15fd275b-83be-4afe-845d-e3a382b218f0"
      },
      "execution_count": null,
      "outputs": [
        {
          "output_type": "execute_result",
          "data": {
            "text/plain": [
              "array([[1, 2, 3],\n",
              "       [4, 5, 7]])"
            ]
          },
          "metadata": {},
          "execution_count": 15
        }
      ]
    },
    {
      "cell_type": "code",
      "source": [
        "b.dtype"
      ],
      "metadata": {
        "colab": {
          "base_uri": "https://localhost:8080/"
        },
        "id": "iqaXlZYAAYB2",
        "outputId": "94bd0299-5d9e-4ae6-f5d1-709f7796be6f"
      },
      "execution_count": null,
      "outputs": [
        {
          "output_type": "execute_result",
          "data": {
            "text/plain": [
              "dtype('int64')"
            ]
          },
          "metadata": {},
          "execution_count": 18
        }
      ]
    },
    {
      "cell_type": "markdown",
      "source": [
        "Importance of Data Types in Memory Management and Performance\n",
        "Memory Management:\n",
        "\n",
        "Size: Different data types consume different amounts of memory. For instance, int8 uses 1 byte, int16 uses 2 bytes, and so on. Choosing an appropriate data type can save memory, especially when dealing with large datasets.\n",
        "Type Consistency: Using consistent data types helps avoid errors in computations and improves memory efficiency. For instance, using a float type when you expect decimal values prevents unnecessary type conversion during calculations.\n",
        "\n",
        "Performance:\n",
        "\n",
        "Speed: Operations on smaller data types (e.g., int8 vs. int64) can be faster because they require less memory bandwidth and can take advantage of CPU registers more efficiently.\n",
        "Vectorization: NumPy is optimized for operations on arrays of uniform data types, allowing for efficient use of vectorized operations. Mixed data types can lead to slower performance due to the overhead of type conversion during calculations.\n"
      ],
      "metadata": {
        "id": "bKpnyquUA3Ze"
      }
    },
    {
      "cell_type": "markdown",
      "source": [
        "Ques-5 Define ndarrays in NumPy and explain their key features. How do they differ from standard Python lists?"
      ],
      "metadata": {
        "id": "gPe28nGoBCpw"
      }
    },
    {
      "cell_type": "markdown",
      "source": [
        "ndarrays (N-dimensional arrays) are the central data structure used for storing and manipulating large datasets. They are more efficient and versatile than standard Python lists, making them a cornerstone of numerical computing in Python. Here’s an overview of their key features and how they differ from Python lists:\n",
        "\n",
        "Key Features of ndarrays\n",
        "\n",
        "\n",
        "\n",
        "1. Homogenous data type\n",
        "2. multidimensional\n",
        "3. efficient memory location\n",
        "4. element wise operations\n",
        "5. broadcasting\n",
        ". rich functionality\n",
        "7. shape and size information\n",
        "8. advanced indexing and slicing\n",
        "\n"
      ],
      "metadata": {
        "id": "HbGefihKBWVs"
      }
    },
    {
      "cell_type": "markdown",
      "source": [
        "Ques-6. Analyze the performance benefits of NumPy arrays over Python lists for large-scale numerical operations."
      ],
      "metadata": {
        "id": "zN9GrbPKB7GN"
      }
    },
    {
      "cell_type": "markdown",
      "source": [
        "NumPy arrays provide several performance benefits over Python lists, especially for large-scale numerical operations:\n",
        "\n",
        "1. Memory Efficiency\n",
        "2. speed\n",
        "3. vectorization\n",
        "4. broadcasting\n",
        "5. built in functions\n",
        " . parrellization\n",
        "7. interoperability\n"
      ],
      "metadata": {
        "id": "-vC0E-bfH2tp"
      }
    },
    {
      "cell_type": "markdown",
      "source": [
        "ques-7 Compare vstack() and hstack() functions in NumPy. Provide examples demonstrating their usage and\n",
        "output."
      ],
      "metadata": {
        "id": "XSA13TshIjxB"
      }
    },
    {
      "cell_type": "markdown",
      "source": [
        "In NumPy, vstack() and hstack() are functions used to stack arrays vertically and horizontally, respectively. Here's a detailed comparison along with examples for each."
      ],
      "metadata": {
        "id": "lOXUnJHwI8nu"
      }
    },
    {
      "cell_type": "code",
      "source": [
        "#vstack example\n",
        "import numpy as np\n",
        "array1 = np.array([[1, 2, 3],\n",
        "                   [4, 5, 6]])\n",
        "\n",
        "array2 = np.array([[7, 8, 9],\n",
        "                   [10, 11, 12]])\n",
        "\n",
        "result_vstack = np.vstack((array1, array2))\n",
        "print(result_vstack)\n"
      ],
      "metadata": {
        "id": "swzpIMGIA2jg",
        "colab": {
          "base_uri": "https://localhost:8080/"
        },
        "outputId": "ede6724f-4825-427b-be17-1a8ed43339e3"
      },
      "execution_count": null,
      "outputs": [
        {
          "output_type": "stream",
          "name": "stdout",
          "text": [
            "[[ 1  2  3]\n",
            " [ 4  5  6]\n",
            " [ 7  8  9]\n",
            " [10 11 12]]\n"
          ]
        }
      ]
    },
    {
      "cell_type": "code",
      "source": [
        "#hstack example\n",
        "array1 = np.array([[1, 2, 3],\n",
        "                   [4, 5, 6]])\n",
        "\n",
        "array2 = np.array([[7, 8],\n",
        "                   [9, 10]])\n",
        "\n",
        "# Use hstack to stack them horizontally\n",
        "result_hstack = np.hstack((array1, array2))\n",
        "print(result_hstack)\n",
        "\n"
      ],
      "metadata": {
        "id": "PXRgRBIaAa9m",
        "colab": {
          "base_uri": "https://localhost:8080/"
        },
        "outputId": "24f41cc0-cb14-49f1-bd11-667a76b5512d"
      },
      "execution_count": null,
      "outputs": [
        {
          "output_type": "stream",
          "name": "stdout",
          "text": [
            "[[ 1  2  3  7  8]\n",
            " [ 4  5  6  9 10]]\n"
          ]
        }
      ]
    },
    {
      "cell_type": "markdown",
      "source": [
        "Ques-8  Explain the differences between fliplr() and flipud() methods in NumPy, including their effects on various\n",
        "array dimensions.\n",
        "\n",
        "\n"
      ],
      "metadata": {
        "id": "sI0T1dBOJii3"
      }
    },
    {
      "cell_type": "markdown",
      "source": [
        "In NumPy, the fliplr() and flipud() functions are used to flip arrays along different axes. Here's a breakdown of their differences and effects on various array dimensions:\n",
        "\n",
        "fliplr()\n",
        "Functionality: This function flips an array left to right (along the horizontal axis).\n",
        "\n",
        "Applicable Dimension: Primarily operates on 2D arrays (matrices). When applied to higher-dimensional arrays, it flips the last axis by default."
      ],
      "metadata": {
        "id": "p6lVDTAtxT5P"
      }
    },
    {
      "cell_type": "code",
      "source": [
        "#example\n",
        "import numpy as np\n",
        "arr = np.array([[1, 2, 3],\n",
        "                [4,5,7]])\n",
        "np.fliplr(arr)"
      ],
      "metadata": {
        "id": "C7fTxmYTJeb-",
        "colab": {
          "base_uri": "https://localhost:8080/"
        },
        "outputId": "0e33938b-713c-4c78-db54-8c8f9f210543"
      },
      "execution_count": null,
      "outputs": [
        {
          "output_type": "execute_result",
          "data": {
            "text/plain": [
              "array([[3, 2, 1],\n",
              "       [7, 5, 4]])"
            ]
          },
          "metadata": {},
          "execution_count": 4
        }
      ]
    },
    {
      "cell_type": "markdown",
      "source": [
        "Flipud()\n",
        "Functionality: This function flips an array up to down (along the vertical axis).\n",
        "\n",
        "Applicable Dimension: Similar to fliplr(), it mainly works on 2D arrays. For higher-dimensional arrays, it flips along the first axis by default."
      ],
      "metadata": {
        "id": "XD6EFztKyWx0"
      }
    },
    {
      "cell_type": "code",
      "source": [
        "#example\n",
        "np.flipud(arr)"
      ],
      "metadata": {
        "id": "kWRxuYv-xoyU",
        "colab": {
          "base_uri": "https://localhost:8080/"
        },
        "outputId": "fa39c15b-56ec-4379-be0a-2cc65f9d3220"
      },
      "execution_count": null,
      "outputs": [
        {
          "output_type": "execute_result",
          "data": {
            "text/plain": [
              "array([[4, 5, 7],\n",
              "       [1, 2, 3]])"
            ]
          },
          "metadata": {},
          "execution_count": 5
        }
      ]
    },
    {
      "cell_type": "markdown",
      "source": [
        "Ques-9  Discuss the functionality of the array_split() method in NumPy. How does it handle uneven splits?"
      ],
      "metadata": {
        "id": "VY7v-FPAysb8"
      }
    },
    {
      "cell_type": "code",
      "source": [
        "#The array_split() method in NumPy is used to divide an array into multiple sub-arrays along a specified axis. Here's a detailed look at its functionality,\n",
        "# including how it handles uneven splits.\n",
        "#example\n",
        "arr"
      ],
      "metadata": {
        "colab": {
          "base_uri": "https://localhost:8080/"
        },
        "id": "MqLybFwHyjdS",
        "outputId": "716d01df-1dde-4612-cacd-8b8991807150"
      },
      "execution_count": null,
      "outputs": [
        {
          "output_type": "execute_result",
          "data": {
            "text/plain": [
              "array([[1, 2, 3],\n",
              "       [4, 5, 7]])"
            ]
          },
          "metadata": {},
          "execution_count": 6
        }
      ]
    },
    {
      "cell_type": "code",
      "source": [
        "np.array_split(arr, 2, axis =0)"
      ],
      "metadata": {
        "colab": {
          "base_uri": "https://localhost:8080/"
        },
        "id": "TqNQBKkOzUue",
        "outputId": "0ec57780-3ae3-4048-ba09-2f86ba606202"
      },
      "execution_count": null,
      "outputs": [
        {
          "output_type": "execute_result",
          "data": {
            "text/plain": [
              "[array([[1, 2, 3]]), array([[4, 5, 7]])]"
            ]
          },
          "metadata": {},
          "execution_count": 10
        }
      ]
    },
    {
      "cell_type": "markdown",
      "source": [
        "Ques-10 Explain the concepts of vectorization and broadcasting in NumPy. How do they contribute to efficient array\n",
        "operations?"
      ],
      "metadata": {
        "id": "13wucuSXzjMz"
      }
    },
    {
      "cell_type": "markdown",
      "source": [
        "Vectorization optimizes computations by avoiding explicit loops, leveraging efficient array operations.\n",
        "\n",
        "Broadcasting enables flexible array interactions by automatically aligning shapes, making it easier to perform calculations without extra memory overhead."
      ],
      "metadata": {
        "id": "xdVR5HkMz-gG"
      }
    },
    {
      "cell_type": "markdown",
      "source": [
        "**PRACTICAL** **QUESTIONS**"
      ],
      "metadata": {
        "id": "9bg_d63_0SfJ"
      }
    },
    {
      "cell_type": "markdown",
      "source": [
        "Ques-1  Create a 3x3 NumPy array with random integers between 1 and 100. Then, interchange its rows and columns."
      ],
      "metadata": {
        "id": "_pa4n4JK0vYR"
      }
    },
    {
      "cell_type": "code",
      "source": [
        "import random\n",
        "A = np.random.randint(1,100,(3,3))\n",
        "A"
      ],
      "metadata": {
        "id": "GoKw4nBUzZJD",
        "colab": {
          "base_uri": "https://localhost:8080/"
        },
        "outputId": "95b5cde5-6162-4553-bc16-ff6a0b0354f5"
      },
      "execution_count": 17,
      "outputs": [
        {
          "output_type": "execute_result",
          "data": {
            "text/plain": [
              "array([[40, 43, 66],\n",
              "       [ 8, 90, 49],\n",
              "       [95, 80, 99]])"
            ]
          },
          "metadata": {},
          "execution_count": 17
        }
      ]
    },
    {
      "cell_type": "code",
      "source": [
        "A.T"
      ],
      "metadata": {
        "colab": {
          "base_uri": "https://localhost:8080/"
        },
        "id": "eFV6Vtl63UBC",
        "outputId": "eaa837aa-67f3-4b92-bdb5-c0d31cb85ca9"
      },
      "execution_count": 27,
      "outputs": [
        {
          "output_type": "execute_result",
          "data": {
            "text/plain": [
              "array([[40,  8, 95],\n",
              "       [43, 90, 80],\n",
              "       [66, 49, 99]])"
            ]
          },
          "metadata": {},
          "execution_count": 27
        }
      ]
    },
    {
      "cell_type": "markdown",
      "source": [
        "Ques-2  Generate a 1D NumPy array with 10 elements. Reshape it into a 2x5 array, then into a 5x2 array."
      ],
      "metadata": {
        "id": "NUzb0CGA3xU0"
      }
    },
    {
      "cell_type": "code",
      "source": [
        "  B = np.array([[1,2,3,4,5],[4,5,7,8,9]])\n",
        "  B"
      ],
      "metadata": {
        "colab": {
          "base_uri": "https://localhost:8080/"
        },
        "id": "rfpqvEwP3uVP",
        "outputId": "63146836-1e0b-4386-8bbc-7176964721e0"
      },
      "execution_count": 36,
      "outputs": [
        {
          "output_type": "execute_result",
          "data": {
            "text/plain": [
              "array([[1, 2, 3, 4, 5],\n",
              "       [4, 5, 7, 8, 9]])"
            ]
          },
          "metadata": {},
          "execution_count": 36
        }
      ]
    },
    {
      "cell_type": "code",
      "source": [
        "np.random.randint(1,10,(5,2))\n"
      ],
      "metadata": {
        "colab": {
          "base_uri": "https://localhost:8080/"
        },
        "id": "9K1tjFgC7Wgr",
        "outputId": "e4b14de9-7d63-46f1-cd97-08bfffa29e9b"
      },
      "execution_count": 39,
      "outputs": [
        {
          "output_type": "execute_result",
          "data": {
            "text/plain": [
              "array([[1, 5],\n",
              "       [7, 6],\n",
              "       [5, 3],\n",
              "       [5, 7],\n",
              "       [9, 6]])"
            ]
          },
          "metadata": {},
          "execution_count": 39
        }
      ]
    },
    {
      "cell_type": "code",
      "source": [
        "B.reshape(2,5)"
      ],
      "metadata": {
        "colab": {
          "base_uri": "https://localhost:8080/"
        },
        "id": "PvaGe0ci8qW0",
        "outputId": "2009c945-04f9-4291-c77a-422b5816bf90"
      },
      "execution_count": 40,
      "outputs": [
        {
          "output_type": "execute_result",
          "data": {
            "text/plain": [
              "array([[1, 2, 3, 4, 5],\n",
              "       [4, 5, 7, 8, 9]])"
            ]
          },
          "metadata": {},
          "execution_count": 40
        }
      ]
    },
    {
      "cell_type": "markdown",
      "source": [
        "Ques-3 . Create a 4x4 NumPy array with random float values. Add a border of zeros around it, resulting in a 6x6 array"
      ],
      "metadata": {
        "id": "82Lq4YwV-0rR"
      }
    },
    {
      "cell_type": "code",
      "source": [
        "arrr = np.random.randint(1,10,(4,4))\n",
        "arrr"
      ],
      "metadata": {
        "colab": {
          "base_uri": "https://localhost:8080/"
        },
        "id": "jTUn9FCb90Ei",
        "outputId": "aec687a3-cee0-42f9-ca3d-234559d4d60b"
      },
      "execution_count": 49,
      "outputs": [
        {
          "output_type": "execute_result",
          "data": {
            "text/plain": [
              "array([[2, 2, 6, 4],\n",
              "       [5, 1, 1, 4],\n",
              "       [9, 5, 9, 4],\n",
              "       [2, 3, 8, 4]])"
            ]
          },
          "metadata": {},
          "execution_count": 49
        }
      ]
    },
    {
      "cell_type": "code",
      "source": [
        "bordered_array = np.pad(arrr, pad_width=1, mode='constant', constant_values=0)\n",
        "\n",
        "print(\"\\nArray with a Border of Zeros:\")\n",
        "print(bordered_array)"
      ],
      "metadata": {
        "colab": {
          "base_uri": "https://localhost:8080/"
        },
        "id": "DmqH1qQW_O1d",
        "outputId": "4029d57d-da62-4b14-b542-a831445133c9"
      },
      "execution_count": 50,
      "outputs": [
        {
          "output_type": "stream",
          "name": "stdout",
          "text": [
            "\n",
            "Array with a Border of Zeros:\n",
            "[[0 0 0 0 0 0]\n",
            " [0 2 2 6 4 0]\n",
            " [0 5 1 1 4 0]\n",
            " [0 9 5 9 4 0]\n",
            " [0 2 3 8 4 0]\n",
            " [0 0 0 0 0 0]]\n"
          ]
        }
      ]
    },
    {
      "cell_type": "markdown",
      "source": [
        "Ques-4  Using NumPy, create an array of integers from 10 to 60 with a step of 5"
      ],
      "metadata": {
        "id": "0dPM5zlVBeqH"
      }
    },
    {
      "cell_type": "code",
      "source": [
        "np.arange(10,60,5)"
      ],
      "metadata": {
        "colab": {
          "base_uri": "https://localhost:8080/"
        },
        "id": "qMbdaEJXA3NB",
        "outputId": "032345ff-8b83-471f-e729-5be9728188a1"
      },
      "execution_count": 51,
      "outputs": [
        {
          "output_type": "execute_result",
          "data": {
            "text/plain": [
              "array([10, 15, 20, 25, 30, 35, 40, 45, 50, 55])"
            ]
          },
          "metadata": {},
          "execution_count": 51
        }
      ]
    },
    {
      "cell_type": "markdown",
      "source": [
        "Ques-5  Create a NumPy array of strings ['python', 'numpy', 'pandas']. Apply different case transformations\n",
        "(uppercase, lowercase, title case, etc.) to each element."
      ],
      "metadata": {
        "id": "gOpTMyBfB8N7"
      }
    },
    {
      "cell_type": "code",
      "source": [
        "string = np.array(['python', 'numpy','pandas'])\n",
        "string"
      ],
      "metadata": {
        "colab": {
          "base_uri": "https://localhost:8080/"
        },
        "id": "XyfNam7hB4T4",
        "outputId": "541b4858-0cd6-49c0-ee18-a0a67676bb56"
      },
      "execution_count": 53,
      "outputs": [
        {
          "output_type": "execute_result",
          "data": {
            "text/plain": [
              "array(['python', 'numpy', 'pandas'], dtype='<U6')"
            ]
          },
          "metadata": {},
          "execution_count": 53
        }
      ]
    },
    {
      "cell_type": "code",
      "source": [
        "np.char.upper(string)"
      ],
      "metadata": {
        "colab": {
          "base_uri": "https://localhost:8080/"
        },
        "id": "zlDcdNALCJmm",
        "outputId": "481e0d1c-3752-4b35-aca9-87befec90d79"
      },
      "execution_count": 54,
      "outputs": [
        {
          "output_type": "execute_result",
          "data": {
            "text/plain": [
              "array(['PYTHON', 'NUMPY', 'PANDAS'], dtype='<U6')"
            ]
          },
          "metadata": {},
          "execution_count": 54
        }
      ]
    },
    {
      "cell_type": "code",
      "source": [
        "np.char.capitalize(string)"
      ],
      "metadata": {
        "colab": {
          "base_uri": "https://localhost:8080/"
        },
        "id": "Q3cekW5pChfh",
        "outputId": "e36f2b07-4b7e-4441-b728-e70ea392dfbe"
      },
      "execution_count": 55,
      "outputs": [
        {
          "output_type": "execute_result",
          "data": {
            "text/plain": [
              "array(['Python', 'Numpy', 'Pandas'], dtype='<U6')"
            ]
          },
          "metadata": {},
          "execution_count": 55
        }
      ]
    },
    {
      "cell_type": "code",
      "source": [
        "np.char.lower(string)"
      ],
      "metadata": {
        "colab": {
          "base_uri": "https://localhost:8080/"
        },
        "id": "ty_qyc4gCkvg",
        "outputId": "b31b059d-f307-47c5-ee48-c11a10b08bf7"
      },
      "execution_count": 56,
      "outputs": [
        {
          "output_type": "execute_result",
          "data": {
            "text/plain": [
              "array(['python', 'numpy', 'pandas'], dtype='<U6')"
            ]
          },
          "metadata": {},
          "execution_count": 56
        }
      ]
    },
    {
      "cell_type": "markdown",
      "source": [
        "Ques-6. Generate a NumPy array of words. Insert a space between each character of every word in the array"
      ],
      "metadata": {
        "id": "lw-HDgDpDW3d"
      }
    },
    {
      "cell_type": "code",
      "source": [
        "words= np.array(['hello','mine','teddy'])\n",
        "space = np.array([' '.join(word)for word in words])\n",
        "space"
      ],
      "metadata": {
        "colab": {
          "base_uri": "https://localhost:8080/"
        },
        "id": "hVOAup2LD2Pd",
        "outputId": "711ec5a1-97ff-410a-8a90-60f7778457b9"
      },
      "execution_count": 59,
      "outputs": [
        {
          "output_type": "execute_result",
          "data": {
            "text/plain": [
              "array(['h e l l o', 'm i n e', 't e d d y'], dtype='<U9')"
            ]
          },
          "metadata": {},
          "execution_count": 59
        }
      ]
    },
    {
      "cell_type": "markdown",
      "source": [
        "Ques-7  Create two 2D NumPy arrays and perform element-wise addition, subtraction, multiplication, and division"
      ],
      "metadata": {
        "id": "ArYMUS9oETkR"
      }
    },
    {
      "cell_type": "code",
      "source": [
        "a = np.array(([1, 2, 3, 4, 5]))\n",
        "b = np.array(([7 ,8 , 9, 5 ,4]))"
      ],
      "metadata": {
        "id": "7jyxsLxcENY_"
      },
      "execution_count": 64,
      "outputs": []
    },
    {
      "cell_type": "code",
      "source": [
        "a + b"
      ],
      "metadata": {
        "colab": {
          "base_uri": "https://localhost:8080/"
        },
        "id": "UvwwjeObEvxz",
        "outputId": "838efbe3-41bc-4bc4-e4c1-69828378d039"
      },
      "execution_count": 65,
      "outputs": [
        {
          "output_type": "execute_result",
          "data": {
            "text/plain": [
              "array([ 8, 10, 12,  9,  9])"
            ]
          },
          "metadata": {},
          "execution_count": 65
        }
      ]
    },
    {
      "cell_type": "code",
      "source": [
        "a - b"
      ],
      "metadata": {
        "colab": {
          "base_uri": "https://localhost:8080/"
        },
        "id": "_52QmtSiExVE",
        "outputId": "d1cd7568-07c3-43ef-db1f-35d6ea40d2a3"
      },
      "execution_count": 66,
      "outputs": [
        {
          "output_type": "execute_result",
          "data": {
            "text/plain": [
              "array([-6, -6, -6, -1,  1])"
            ]
          },
          "metadata": {},
          "execution_count": 66
        }
      ]
    },
    {
      "cell_type": "code",
      "source": [
        "a*b"
      ],
      "metadata": {
        "colab": {
          "base_uri": "https://localhost:8080/"
        },
        "id": "Vp1a5BSCFwAR",
        "outputId": "002f8fd9-d009-4f12-8fdc-f86bfe6b7858"
      },
      "execution_count": 67,
      "outputs": [
        {
          "output_type": "execute_result",
          "data": {
            "text/plain": [
              "array([ 7, 16, 27, 20, 20])"
            ]
          },
          "metadata": {},
          "execution_count": 67
        }
      ]
    },
    {
      "cell_type": "code",
      "source": [
        "a / b"
      ],
      "metadata": {
        "colab": {
          "base_uri": "https://localhost:8080/"
        },
        "id": "JcM77c27FyQR",
        "outputId": "ed5eebc9-e5f4-4554-e590-e6512fa14353"
      },
      "execution_count": 68,
      "outputs": [
        {
          "output_type": "execute_result",
          "data": {
            "text/plain": [
              "array([0.14285714, 0.25      , 0.33333333, 0.8       , 1.25      ])"
            ]
          },
          "metadata": {},
          "execution_count": 68
        }
      ]
    },
    {
      "cell_type": "markdown",
      "source": [
        "Ques-8 Use NumPy to create a 5x5 identity matrix, then extract its diagonal elements."
      ],
      "metadata": {
        "id": "60UZx6kqF5fg"
      }
    },
    {
      "cell_type": "code",
      "source": [
        "ab = np.eye(5)\n",
        "ab"
      ],
      "metadata": {
        "colab": {
          "base_uri": "https://localhost:8080/"
        },
        "id": "JhSHnDunF1Zs",
        "outputId": "4a683cf4-5d95-4fb3-835b-7bf1b534cd43"
      },
      "execution_count": 71,
      "outputs": [
        {
          "output_type": "execute_result",
          "data": {
            "text/plain": [
              "array([[1., 0., 0., 0., 0.],\n",
              "       [0., 1., 0., 0., 0.],\n",
              "       [0., 0., 1., 0., 0.],\n",
              "       [0., 0., 0., 1., 0.],\n",
              "       [0., 0., 0., 0., 1.]])"
            ]
          },
          "metadata": {},
          "execution_count": 71
        }
      ]
    },
    {
      "cell_type": "code",
      "source": [
        "np.diagonal(ab)"
      ],
      "metadata": {
        "colab": {
          "base_uri": "https://localhost:8080/"
        },
        "id": "fT8wuiw4JO8-",
        "outputId": "17717d13-8d2c-4d41-85bd-534af006600d"
      },
      "execution_count": 72,
      "outputs": [
        {
          "output_type": "execute_result",
          "data": {
            "text/plain": [
              "array([1., 1., 1., 1., 1.])"
            ]
          },
          "metadata": {},
          "execution_count": 72
        }
      ]
    },
    {
      "cell_type": "markdown",
      "source": [
        "Ques-9  Generate a NumPy array of 100 random integers between 0 and 1000. Find and display all prime numbers in\n",
        "this array."
      ],
      "metadata": {
        "id": "Jp8EX-drJfxZ"
      }
    },
    {
      "cell_type": "code",
      "source": [
        "import numpy as np\n",
        "\n",
        "# Generate a NumPy array of 100 random integers between 0 and 1000\n",
        "random_integers = np.random.randint(0, 1000, size=100)\n",
        "\n",
        "# Function to check if a number is prime\n",
        "def is_prime(num):\n",
        "    if num < 2:\n",
        "        return False\n",
        "    for i in range(2, int(num**0.5) + 1):\n",
        "        if num % i == 0:\n",
        "            return False\n",
        "    return True\n",
        "\n",
        "# Find all prime numbers in the array\n",
        "prime_numbers = np.array([num for num in random_integers if is_prime(num)])\n",
        "\n",
        "# Print the results\n",
        "print(\"Random Integers:\")\n",
        "print(random_integers)\n",
        "\n",
        "print(\"\\nPrime Numbers:\")\n",
        "print(prime_numbers)\n"
      ],
      "metadata": {
        "colab": {
          "base_uri": "https://localhost:8080/"
        },
        "id": "DlAmZyL_O6vW",
        "outputId": "50448946-b4bd-412f-be69-3dec91dd2cc7"
      },
      "execution_count": 91,
      "outputs": [
        {
          "output_type": "stream",
          "name": "stdout",
          "text": [
            "Random Integers:\n",
            "[958 541 101 688 270 687 715 621 740 607 559  34 672 935 450 503 860 999\n",
            " 675 944 470 584 561 258 673 884 757 174 428 830 797 917 813 921 159 321\n",
            " 314 118  39  15 866 328 369 867 902 694 693 646 891 923 244 522 263 628\n",
            " 455 545 547 627 108 968 887 924 978 126 994 816 474 576  57 700 701 697\n",
            " 522 962 253 452 912 740 194  99 151  96 427 614 360 114 590 492 968 868\n",
            " 664 634 272 400   8  64 563 581 954 225]\n",
            "\n",
            "Prime Numbers:\n",
            "[541 101 607 503 673 757 797 263 547 887 701 151 563]\n"
          ]
        }
      ]
    },
    {
      "cell_type": "markdown",
      "source": [
        "Ques-10  Create a NumPy array representing daily temperatures for a month. Calculate and display the weekly\n",
        "averages."
      ],
      "metadata": {
        "id": "YT76NGekQAg8"
      }
    },
    {
      "cell_type": "code",
      "source": [
        "monthly = np.random.uniform(low=15, high=30,size=30)\n",
        "weekly_temperatures = np.reshape(monthly,(5,6))\n",
        "np.mean(weekly_temperatures,axis=1)"
      ],
      "metadata": {
        "colab": {
          "base_uri": "https://localhost:8080/"
        },
        "id": "7wZQDJVQQmoo",
        "outputId": "7a45d729-4c07-4127-fe1d-93a3f9739413"
      },
      "execution_count": 96,
      "outputs": [
        {
          "output_type": "execute_result",
          "data": {
            "text/plain": [
              "array([22.37020532, 23.02477391, 20.64999959, 26.12388667, 22.93042873])"
            ]
          },
          "metadata": {},
          "execution_count": 96
        }
      ]
    },
    {
      "cell_type": "code",
      "source": [],
      "metadata": {
        "id": "YlAfE2cfTZ2I"
      },
      "execution_count": null,
      "outputs": []
    }
  ]
}