{
  "nbformat": 4,
  "nbformat_minor": 0,
  "metadata": {
    "colab": {
      "provenance": [],
      "authorship_tag": "ABX9TyMhe1ot4DGrrEffPoRbB0/B",
      "include_colab_link": true
    },
    "kernelspec": {
      "name": "python3",
      "display_name": "Python 3"
    },
    "language_info": {
      "name": "python"
    }
  },
  "cells": [
    {
      "cell_type": "markdown",
      "metadata": {
        "id": "view-in-github",
        "colab_type": "text"
      },
      "source": [
        "<a href=\"https://colab.research.google.com/github/prachimethi/assignment/blob/main/Feature_Engineering_assignment.ipynb\" target=\"_parent\"><img src=\"https://colab.research.google.com/assets/colab-badge.svg\" alt=\"Open In Colab\"/></a>"
      ]
    },
    {
      "cell_type": "markdown",
      "source": [
        "Ques-1 what is a parameter?"
      ],
      "metadata": {
        "id": "59PKzBFJOdgS"
      }
    },
    {
      "cell_type": "markdown",
      "source": [
        "A parameter is a variable used in programming and mathematics to define or control how a function, system, or model behaves. It provides input values or settings that influence the operation or behavior of the process."
      ],
      "metadata": {
        "id": "iFhgb3WLO6uM"
      }
    },
    {
      "cell_type": "markdown",
      "source": [
        "Ques-2 What is correlation?\n",
        "What does negative correlation mean?"
      ],
      "metadata": {
        "id": "WuVbt4IvO8qO"
      }
    },
    {
      "cell_type": "markdown",
      "source": [
        "Correlation refers to a statistical measure that describes the relationship or association between two or more variables. It indicates the extent to which the variables move in relation to each other. When two variables are correlated, changes in one variable are associated with changes in the other.\n",
        "\n",
        "There are three main types of correlation:\n",
        "\n",
        "1. positive correlation\n",
        "\n",
        "2. Negative correlation\n",
        "\n",
        "3. No correlation\n",
        "\n",
        "Negative correlation describes a relationship between two variables where, as one variable increases, the other variable decreases. This suggests an inverse relationship."
      ],
      "metadata": {
        "id": "1DuFz0f3PXtk"
      }
    },
    {
      "cell_type": "markdown",
      "source": [
        "Ques-3 Define Machine Learning. What are the main components in Machine Learning?"
      ],
      "metadata": {
        "id": "_aDMk7NfPqHX"
      }
    },
    {
      "cell_type": "markdown",
      "source": [
        "Machine Learning (ML) is a field of artificial intelligence (AI) that focuses on creating algorithms and models that allow computers to learn from and make predictions or decisions based on data, without being explicitly programmed to perform specific tasks. In ML, systems automatically improve their performance over time as they are exposed to more data\n",
        "\n",
        "Main components of ml are:\n",
        "\n",
        "1. Data\n",
        "2. Model\n",
        "3. Algorithm\n",
        "4. Training\n",
        "5. Testing and validation\n",
        "\n"
      ],
      "metadata": {
        "id": "syu5L-JCQEVB"
      }
    },
    {
      "cell_type": "markdown",
      "source": [
        "Ques-4 How does loss value help in determining whether the model is good or not?"
      ],
      "metadata": {
        "id": "oougYmIjQZe4"
      }
    },
    {
      "cell_type": "markdown",
      "source": [
        "The loss value (or loss function) is a crucial indicator used in machine learning to determine how well or poorly a model is performing. It measures the difference between the model's predictions and the actual outcomes (or true values) from the data\n",
        "\n",
        " Loss values helps in determining the model performance like : Quantifies model guideleines , models accuracy , help in comparing models , detect overfitting and underfitting .\n"
      ],
      "metadata": {
        "id": "vPL_KucvQ89d"
      }
    },
    {
      "cell_type": "markdown",
      "source": [
        "Ques-5 What are continuous and categorical variables?"
      ],
      "metadata": {
        "id": "odiC1ov1RYQV"
      }
    },
    {
      "cell_type": "markdown",
      "source": [
        "Continuous and Categorical Variables are two primary types of variables used in data analysis and machine learning. Understanding the difference between them is essential for selecting the right model and analysis technique.\n",
        "\n",
        "1. Continuos variable:\n",
        "\n",
        "A continuous variable is a variable that can take an infinite number of values within a given range. These variables can have decimal or fractional values and are typically measured.\n",
        "\n",
        "2. Categorical variable:\n",
        "\n",
        "A categorical variable is a variable that can take one of a limited number of categories or distinct groups. These variables are qualitative and are often used to label data with no inherent numerical meaning."
      ],
      "metadata": {
        "id": "Ur1e3QQNRkvS"
      }
    },
    {
      "cell_type": "markdown",
      "source": [
        "Ques-6  How do we handle categorical variables in Machine Learning? What are the common techniques?"
      ],
      "metadata": {
        "id": "sG_kXGtLR71B"
      }
    },
    {
      "cell_type": "markdown",
      "source": [
        "Handling categorical variables is an important step in preparing data for machine learning models because most machine learning algorithms require numerical input. Categorical variables need to be transformed into a format that the model can understand and process. There are several techniques to handle categorical data, each suitable for different types of data and models.\n",
        "\n",
        "1. Label Encoding\n",
        "2. One-Hot Encoding\n",
        "3. Binary Encoding\n",
        "4. Frequency or Count Encoding\n",
        "5. Target Encoding"
      ],
      "metadata": {
        "id": "cRCfTAfuSjfu"
      }
    },
    {
      "cell_type": "markdown",
      "source": [
        "Qus-7 What do you mean by training and testing a dataset?"
      ],
      "metadata": {
        "id": "Hdhx2CExUK-U"
      }
    },
    {
      "cell_type": "markdown",
      "source": [
        "Training and Testing a Dataset are fundamental concepts in machine learning, representing the processes of preparing and evaluating a model. These processes are essential to building a model that generalizes well to new, unseen data."
      ],
      "metadata": {
        "id": "UaauNouhUnHB"
      }
    },
    {
      "cell_type": "markdown",
      "source": [
        "Ques-8 What is sklearn.preprocessing?"
      ],
      "metadata": {
        "id": "enKve37VU58_"
      }
    },
    {
      "cell_type": "markdown",
      "source": [
        "sklearn.preprocessing is a module in the scikit-learn library that provides several tools for preprocessing data before it is fed into machine learning models. These tools help in transforming the features of the dataset to a format that is better suited for machine learning algorithms, ensuring that the model performs optimally.\n",
        "\n",
        "Preprocessing is an essential step in data preparation, as the raw data often needs to be cleaned, scaled, encoded, or transformed to meet the specific requirements of the model. The sklearn.preprocessing module offers a variety of techniques to handle this.\n",
        "\n",
        "\n",
        "\n",
        "\n"
      ],
      "metadata": {
        "id": "wJOZZqlzYSM9"
      }
    },
    {
      "cell_type": "markdown",
      "source": [
        "Ques-9  What is a Test set?"
      ],
      "metadata": {
        "id": "_W3R7EY5YbtC"
      }
    },
    {
      "cell_type": "markdown",
      "source": [
        "A test set is a subset of a dataset that is used to evaluate the performance of a machine learning model after it has been trained. It is important to note that the test set is separate from the training set, which is the data the model uses to learn patterns and adjust its parameters."
      ],
      "metadata": {
        "id": "n6JskM1cY8dr"
      }
    },
    {
      "cell_type": "markdown",
      "source": [
        "Ques-10 How do we split data for model fitting (training and testing) in Python?\n",
        "How do you approach a Machine Learning problem?"
      ],
      "metadata": {
        "id": "kV4npclnY-TA"
      }
    },
    {
      "cell_type": "markdown",
      "source": [
        "When building machine learning models, it's important to split the available data into training and testing sets to evaluate the model's performance effectively. In Python, the scikit-learn library provides a simple and efficient way to split the data using the train_test_split() function.\n",
        "\n",
        "Approaching a machine learning problem involves several well-defined steps. These steps help ensure that the model you build is robust, generalizes well, and produces accurate predictions. Here’s an outline of how you can approach any machine learning problem:\n",
        "\n",
        "Summary of Steps in a Machine Learning Problem:\n",
        "1. Define the problem.\n",
        "2. Collect and prepare the data.\n",
        "3. Split the data into training and testing sets.\n",
        "4. Choose the model.\n",
        "5. Train the model.\n",
        "5 .Evaluate the model using appropriate metrics.\n",
        "7. Improve the model through techniques like feature engineering, hyperparameter tuning, and model selection.\n",
        "8. Finalize the model and save it for future use.\n",
        "9. Deploy the model"
      ],
      "metadata": {
        "id": "Tb54YVqbZi7K"
      }
    },
    {
      "cell_type": "markdown",
      "source": [
        "Ques-11 Why do we have to perform EDA before fitting a model to the data?"
      ],
      "metadata": {
        "id": "evQtdRMpaM0r"
      }
    },
    {
      "cell_type": "markdown",
      "source": [
        "Exploratory Data Analysis (EDA) is a crucial step in the machine learning pipeline that is performed before fitting a model to the data. It involves analyzing and visualizing the dataset to understand its structure, patterns, and relationships among the variables.EDA is important and should be done before training a model because:\n",
        "\n",
        "1. Understanding the data\n",
        "2. Identifying Missing Values and Outliers\n",
        "3. Understanding Data Distribution\n",
        "4. Identifying Relationships Between Features\n",
        "5. Feature Engineering and Transformation\n",
        "6. Identifying Class Imbalance (For Classification Tasks)\n",
        "7. Determining the Right Model\n",
        "8. Data Quality and Integrity Check\n",
        "9. Reducing the Complexity of the Problem"
      ],
      "metadata": {
        "id": "LzpEACCuaaqR"
      }
    },
    {
      "cell_type": "markdown",
      "source": [
        "Ques-12 What is correlation?"
      ],
      "metadata": {
        "id": "7dpt_OklbRAr"
      }
    },
    {
      "cell_type": "markdown",
      "source": [
        "Correlation is a statistical measure that describes the strength and direction of the relationship between two variables. It indicates whether and how strongly pairs of variables are related to one another. In machine learning and data analysis, understanding correlation can help you make informed decisions about which features to include in a model, detect relationships, and identify potential issues like multicollinearity."
      ],
      "metadata": {
        "id": "ySHEUWCYblac"
      }
    },
    {
      "cell_type": "markdown",
      "source": [
        "Ques-13 What does negative correlation mean?"
      ],
      "metadata": {
        "id": "tQe8874nboMQ"
      }
    },
    {
      "cell_type": "markdown",
      "source": [
        "Negative correlation refers to a relationship between two variables in which one variable decreases as the other increases, or vice versa. In other words, when one variable goes up, the other tends to go down, and this inverse relationship is captured by a negative correlation coefficient."
      ],
      "metadata": {
        "id": "x4LKVft9b4YY"
      }
    },
    {
      "cell_type": "markdown",
      "source": [
        "Ques-14 How can you find correlation between variables in Python?"
      ],
      "metadata": {
        "id": "Feu0acC7b6D3"
      }
    },
    {
      "cell_type": "markdown",
      "source": [
        "To find the correlation between variables in Python, you can use libraries like Pandas and NumPy. The most commonly used method for calculating correlation is through the Pearson correlation coefficient, but you can also calculate other types of correlations like Spearman's rank correlation or Kendall’s tau."
      ],
      "metadata": {
        "id": "rRLk2kTmcPHg"
      }
    },
    {
      "cell_type": "markdown",
      "source": [
        "Ques-15 What is causation? Explain difference between correlation and causation with an example.\n"
      ],
      "metadata": {
        "id": "4TyO8o7jcUCj"
      }
    },
    {
      "cell_type": "markdown",
      "source": [
        "Causation refers to a cause-and-effect relationship between two variables, where one variable directly influences the other. In other words, a change in one variable directly causes a change in the other variable. Causation implies that the relationship between the two variables is not just coincidental, but there is a direct influence of one on the other\n",
        "\n",
        "Correlation Example:\n",
        "\n",
        "Correlation: There is a correlation between the number of ice creams sold and the number of people who go swimming in a month.\n",
        "Interpretation: These two variables may be positively correlated — both increase during the summer months. However, this does not mean that buying ice cream causes people to go swimming, or that swimming causes people to buy ice cream.\n",
        "\n",
        "The underlying factor could be temperature or season (summer), which increases both ice cream consumption and swimming activity."
      ],
      "metadata": {
        "id": "5XALdTbacnZi"
      }
    },
    {
      "cell_type": "markdown",
      "source": [
        "Ques-16 What is an Optimizer? What are different types of optimizers? Explain each with an example."
      ],
      "metadata": {
        "id": "TseYHzuXctm5"
      }
    },
    {
      "cell_type": "markdown",
      "source": [
        "An optimizer is an algorithm or method used in machine learning and deep learning to minimize or maximize a loss (or cost) function, which measures how well a model's predictions match the actual data. The optimizer adjusts the model's weights and parameters iteratively to improve the model's performance.\n",
        "\n",
        "Types of Optimizers:\n",
        "1. Gradient Descent (GD)\n",
        "2. Stochastic Gradient Descent (SGD)\n",
        "3. Mini-Batch Gradient Descent\n",
        "4. Momentum-based Gradient Descent\n",
        "5. Nesterov Accelerated Gradient (NAG)\n",
        "5. AdaGrad\n",
        "7. RMSprop\n",
        "8. Adam (Adaptive Moment Estimation)"
      ],
      "metadata": {
        "id": "OIQyW6KkdeK8"
      }
    },
    {
      "cell_type": "markdown",
      "source": [
        "Ques-17 What is sklearn.linear_model ?"
      ],
      "metadata": {
        "id": "9xjMzemjd4zL"
      }
    },
    {
      "cell_type": "markdown",
      "source": [
        "sklearn.linear_model is a module in scikit-learn, a popular machine learning library in Python. This module includes a collection of linear models used for both regression and classification tasks. Linear models assume a linear relationship between the input features and the target variable, making them simple and interpretable models.\n",
        "\n"
      ],
      "metadata": {
        "id": "9HmEk5z0eP-O"
      }
    },
    {
      "cell_type": "markdown",
      "source": [
        "Ques-18 What does model.fit() do? What arguments must be given?"
      ],
      "metadata": {
        "id": "0hd5ivahf93-"
      }
    },
    {
      "cell_type": "markdown",
      "source": [
        "The method model.fit() in machine learning is used to train a model on a given dataset. It enables the model to learn the relationships between the input features (independent variables) and the target variable (dependent variable) by adjusting the model's parameters (e.g., weights, coefficients)."
      ],
      "metadata": {
        "id": "4VjsG1sEghfu"
      }
    },
    {
      "cell_type": "markdown",
      "source": [
        "Ques-19 What does model.predict() do? What arguments must be given?\n"
      ],
      "metadata": {
        "id": "Zi800CMOhGut"
      }
    },
    {
      "cell_type": "markdown",
      "source": [
        "he method model.predict() is used to make predictions using a trained machine learning model. After a model has been trained with the model.fit() method, the model.predict() method allows you to input new, unseen data (test data) and obtain the model's predictions for that data."
      ],
      "metadata": {
        "id": "AG-H8KbfhS9l"
      }
    },
    {
      "cell_type": "markdown",
      "source": [
        "Ques-20 What are continuous and categorical variables?"
      ],
      "metadata": {
        "id": "QANVjlSlh4fk"
      }
    },
    {
      "cell_type": "markdown",
      "source": [
        "Continuous and Categorical Variables are two primary types of variables used in data analysis and machine learning. Understanding the difference between them is essential for selecting the right model and analysis technique.\n",
        "\n",
        "Continuos variable:\n",
        "A continuous variable is a variable that can take an infinite number of values within a given range. These variables can have decimal or fractional values and are typically measured.\n",
        "\n",
        "Categorical variable:\n",
        "A categorical variable is a variable that can take one of a limited number of categories or distinct groups. These variables are qualitative and are often used to label data with no inherent numerical meaning."
      ],
      "metadata": {
        "id": "Ottz7KCjiFRa"
      }
    },
    {
      "cell_type": "markdown",
      "source": [
        "Ques-21 What is feature scaling? How does it help in Machine Learning?"
      ],
      "metadata": {
        "id": "SNwoDwv9iGrP"
      }
    },
    {
      "cell_type": "markdown",
      "source": [
        "Feature scaling is the process of standardizing or normalizing the range of independent variables (features) in a dataset. It ensures that all features have a similar scale, which can improve the performance and convergence speed of many machine learning algorithms.\n",
        "\n",
        "Feature Scaling Help in Machine Learning:\n",
        "\n",
        "1. Improves Model Performance\n",
        "2. Speeds Up Convergence\n"
      ],
      "metadata": {
        "id": "52cbrN5oiz7h"
      }
    },
    {
      "cell_type": "markdown",
      "source": [
        "Ques-22 How do we perform scaling in Python?"
      ],
      "metadata": {
        "id": "wcJy7UwkXK-F"
      }
    },
    {
      "cell_type": "markdown",
      "source": [
        "Scaling in Python typically refers to the process of transforming data to a specific range or distribution. This is important in machine learning and data analysis to ensure that features have comparable scales. There are several techniques available for scaling data:\n",
        "\n",
        "1. Standardization\n",
        "2. Min Max scaling\n",
        "3. Robust scaling\n",
        "4. Max abs scaling"
      ],
      "metadata": {
        "id": "za3rY1koXdJG"
      }
    },
    {
      "cell_type": "markdown",
      "source": [
        "Ques-23 What is sklearn.preprocessing?"
      ],
      "metadata": {
        "id": "NvK-_BXJXv9-"
      }
    },
    {
      "cell_type": "markdown",
      "source": [
        "sklearn.preprocessing is a module in the scikit-learn library that provides several tools for preprocessing data before it is fed into machine learning models. These tools help in transforming the features of the dataset to a format that is better suited for machine learning algorithms, ensuring that the model performs optimally.\n",
        "\n",
        "Preprocessing is an essential step in data preparation, as the raw data often needs to be cleaned, scaled, encoded, or transformed to meet the specific requirements of the model. The sklearn.preprocessing module offers a variety of techniques to handle this."
      ],
      "metadata": {
        "id": "XtCyBIbyX8cb"
      }
    },
    {
      "cell_type": "markdown",
      "source": [
        "Ques-24 How do we split data for model fitting (training and testing) in Python?"
      ],
      "metadata": {
        "id": "3nTQIqWaX-5O"
      }
    },
    {
      "cell_type": "markdown",
      "source": [
        "When building machine learning models, it's important to split the available data into training and testing sets to evaluate the model's performance effectively. In Python, the scikit-learn library provides a simple and efficient way to split the data using the train_test_split() function.\n",
        "\n",
        "Approaching a machine learning problem involves several well-defined steps. These steps help ensure that the model you build is robust, generalizes well, and produces accurate predictions."
      ],
      "metadata": {
        "id": "b1sEBRj-YPro"
      }
    },
    {
      "cell_type": "markdown",
      "source": [
        "Ques-25 Explain data encoding?"
      ],
      "metadata": {
        "id": "pUvFrWnLYTZX"
      }
    },
    {
      "cell_type": "markdown",
      "source": [
        "Data encoding is the process of transforming categorical data into a numerical format so that it can be used in machine learning algorithms, which typically require numerical inputs. Since most machine learning models work with numerical data, encoding is essential for transforming non-numeric data into a format that can be processed."
      ],
      "metadata": {
        "id": "i-s4dXgUYkVo"
      }
    },
    {
      "cell_type": "code",
      "source": [],
      "metadata": {
        "id": "NOAvy5IJRXMP"
      },
      "execution_count": null,
      "outputs": []
    }
  ]
}