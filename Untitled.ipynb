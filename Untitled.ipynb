{
 "cells": [
  {
   "cell_type": "code",
   "execution_count": null,
   "id": "89c9a6aa-b10c-4495-93cb-447175e85ef0",
   "metadata": {},
   "outputs": [],
   "source": [
    "##   explain the key features of Python that make it a popular choice for programming\n",
    "\n",
    "## Key Features of Python That Make It a Popular Choice for Programming\n",
    "\n",
    "Python is renowned for its simplicity, readability, and versatility. In this notebook, we'll explore the key features \n",
    "that contribute to its popularity among programmers.\n"
   ]
  },
  {
   "cell_type": "code",
   "execution_count": null,
   "id": "bbc205b1-44fd-4eda-8ac5-89c0bf939f14",
   "metadata": {},
   "outputs": [],
   "source": [
    "### 1. Simple and Readable Syntax\n",
    "\n",
    "Python's syntax is clean and easy to understand, which helps programmers write and maintain code more efficiently.\n",
    "The use of indentation to define code blocks instead of braces or keywords is a hallmark of Python's readability.\n"
   ]
  },
  {
   "cell_type": "code",
   "execution_count": 1,
   "id": "ce5f0679-44a9-4559-a672-22d32e573cf1",
   "metadata": {},
   "outputs": [
    {
     "name": "stdout",
     "output_type": "stream",
     "text": [
      "Hello, Alice!\n"
     ]
    }
   ],
   "source": [
    "# Example of Python's simple syntax\n",
    "def greet(name):\n",
    "    return f\"Hello, {name}!\"\n",
    "\n",
    "print(greet(\"Alice\"))\n"
   ]
  },
  {
   "cell_type": "code",
   "execution_count": 7,
   "id": "33cbe23e-e211-45b3-afd5-c0a0ca903ec7",
   "metadata": {},
   "outputs": [
    {
     "name": "stdout",
     "output_type": "stream",
     "text": [
      "dog\n",
      "cat\n",
      "horse\n",
      "Caught a ValueError!\n",
      "Execution finished.\n",
      "Dog makes a sound.\n",
      "4.0\n",
      "25\n",
      "The function returned None.\n"
     ]
    }
   ],
   "source": [
    "## 0 Describe the sole of predefined keywo$ds in Python and p$ovide examples of how they a$e used in a program\n",
    "\n",
    "\n",
    "# Example of predefined keywords in Python\n",
    "\n",
    "# Defining a function with the 'def' keyword\n",
    "def greet(name):\n",
    "    # Using 'if' to make a conditional check\n",
    "    if name:\n",
    "        return Hello, {name}\n",
    "    \n",
    "    else:\n",
    "        return \"Hello World\"\n",
    "\n",
    "# Using the 'for' keyword for iteration\n",
    "names = [ \"dog\" , \"cat\" , \"horse\"]\n",
    "\n",
    "         \n",
    "for name in names:\n",
    "    print((name))\n",
    "\n",
    "# Demonstrating 'try', 'except', 'finally' for exception handling\n",
    "try:\n",
    "    # Using 'raise' to manually raise an exception\n",
    "    x = int(\"not a number\")\n",
    "except ValueError:\n",
    "    print(\"Caught a ValueError!\")\n",
    "finally:\n",
    "    print(\"Execution finished.\")\n",
    "\n",
    "# Using 'class' to define a class\n",
    "class Animal:\n",
    "    def __init__(self, name):\n",
    "        self.name = name\n",
    "\n",
    "    # Using 'def' to define a method within the class\n",
    "    def speak(self):\n",
    "        return f\"{self.name} makes a sound.\"\n",
    "\n",
    "# Creating an instance of the class\n",
    "dog = Animal(\"Dog\")\n",
    "print(dog.speak())\n",
    "\n",
    "# Using 'import' to include a module\n",
    "import math\n",
    "print(math.sqrt(16))\n",
    "\n",
    "# Using 'lambda' to create an anonymous function\n",
    "square = lambda x: x * x\n",
    "print(square(5))\n",
    "\n",
    "# Using 'None' to represent a null value\n",
    "def return_none():\n",
    "    return None\n",
    "\n",
    "result = return_none()\n",
    "if result is None:\n",
    "    print(\"The function returned None.\")\n"
   ]
  },
  {
   "cell_type": "markdown",
   "id": "ed841126-7919-4bd0-9905-677cc353e58c",
   "metadata": {},
   "source": [
    "##   Compare and contrast mutable and immutable objects in Python with examples\n"
   ]
  },
  {
   "cell_type": "code",
   "execution_count": 8,
   "id": "f480c0e3-3112-41b5-8d21-e67d53dfaf34",
   "metadata": {},
   "outputs": [],
   "source": [
    " ## mutable objects"
   ]
  },
  {
   "cell_type": "code",
   "execution_count": 9,
   "id": "c3e2ed80-0239-49fc-a269-e30e39fe323d",
   "metadata": {},
   "outputs": [
    {
     "name": "stdout",
     "output_type": "stream",
     "text": [
      "[1, 2, 3]\n"
     ]
    }
   ],
   "source": [
    "## create a mutable list\n",
    "list= [1,2,3]\n",
    "print(list)"
   ]
  },
  {
   "cell_type": "code",
   "execution_count": 10,
   "id": "be2a0756-5086-4280-9c5b-69a3142edbac",
   "metadata": {},
   "outputs": [
    {
     "name": "stdout",
     "output_type": "stream",
     "text": [
      "[1, 2, 3, 4]\n"
     ]
    }
   ],
   "source": [
    "list.append(4)\n",
    "print(list)"
   ]
  },
  {
   "cell_type": "code",
   "execution_count": 13,
   "id": "e1864467-267e-4d99-8b67-4ee81e9ce232",
   "metadata": {},
   "outputs": [
    {
     "name": "stdout",
     "output_type": "stream",
     "text": [
      "a , b , c, d\n"
     ]
    }
   ],
   "source": [
    "## create a mutable dictoniary\n",
    "\n",
    "d= ( \"a , b , c, d\" )\n",
    "print(d)\n"
   ]
  },
  {
   "cell_type": "code",
   "execution_count": null,
   "id": "b8fb1bd0-55e5-4e06-8fa8-0144e1ad7b54",
   "metadata": {},
   "outputs": [],
   "source": [
    "## create a mutable sets"
   ]
  },
  {
   "cell_type": "code",
   "execution_count": 14,
   "id": "e9076878-25cd-4527-8b20-327885c6e9c7",
   "metadata": {},
   "outputs": [
    {
     "name": "stdout",
     "output_type": "stream",
     "text": [
      "(1, 2, 3)\n"
     ]
    }
   ],
   "source": [
    "s= ( 1,2,3)\n",
    "print(s)"
   ]
  },
  {
   "cell_type": "code",
   "execution_count": null,
   "id": "8d185cd5-d2bf-4621-9f89-7f466943714c",
   "metadata": {},
   "outputs": [],
   "source": [
    "## create a immutable objects\n",
    "\n"
   ]
  },
  {
   "cell_type": "code",
   "execution_count": 19,
   "id": "aaea08a1-2d03-4304-bd24-ea50758fe2b8",
   "metadata": {},
   "outputs": [
    {
     "name": "stdout",
     "output_type": "stream",
     "text": [
      "5\n"
     ]
    }
   ],
   "source": [
    "#ineteger\n",
    "num=5\n",
    "print(num)"
   ]
  },
  {
   "cell_type": "code",
   "execution_count": 20,
   "id": "5c6eef1b-949d-4f78-b958-b7d8287056a2",
   "metadata": {},
   "outputs": [
    {
     "name": "stdout",
     "output_type": "stream",
     "text": [
      "6\n"
     ]
    }
   ],
   "source": [
    "num=num+1\n",
    "print(num)"
   ]
  },
  {
   "cell_type": "code",
   "execution_count": 22,
   "id": "3166cfe2-dd3d-412b-9e0d-4533f7654456",
   "metadata": {},
   "outputs": [
    {
     "name": "stdout",
     "output_type": "stream",
     "text": [
      "hello\n"
     ]
    }
   ],
   "source": [
    "#string\n",
    "str= \"hello\"\n",
    "print(str)\n"
   ]
  },
  {
   "cell_type": "code",
   "execution_count": 24,
   "id": "76827bf6-4664-47c1-afb8-a8ef68a3e46d",
   "metadata": {},
   "outputs": [
    {
     "name": "stdout",
     "output_type": "stream",
     "text": [
      "hello\n"
     ]
    }
   ],
   "source": [
    "str.upper()\n",
    "print(str)"
   ]
  },
  {
   "cell_type": "code",
   "execution_count": null,
   "id": "fc9f561e-1447-401f-b241-8669873fe68f",
   "metadata": {},
   "outputs": [],
   "source": [
    "# tuple\n",
    "\n",
    "t= (\"1 , 2 , 3\""
   ]
  }
 ],
 "metadata": {
  "kernelspec": {
   "display_name": "Python 3 (ipykernel)",
   "language": "python",
   "name": "python3"
  },
  "language_info": {
   "codemirror_mode": {
    "name": "ipython",
    "version": 3
   },
   "file_extension": ".py",
   "mimetype": "text/x-python",
   "name": "python",
   "nbconvert_exporter": "python",
   "pygments_lexer": "ipython3",
   "version": "3.10.8"
  }
 },
 "nbformat": 4,
 "nbformat_minor": 5
}
