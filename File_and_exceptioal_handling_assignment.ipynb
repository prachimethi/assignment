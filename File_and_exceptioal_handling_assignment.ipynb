{
  "nbformat": 4,
  "nbformat_minor": 0,
  "metadata": {
    "colab": {
      "provenance": [],
      "authorship_tag": "ABX9TyOhvA55f+BjhyQ6Hehd8Bh4",
      "include_colab_link": true
    },
    "kernelspec": {
      "name": "python3",
      "display_name": "Python 3"
    },
    "language_info": {
      "name": "python"
    }
  },
  "cells": [
    {
      "cell_type": "markdown",
      "metadata": {
        "id": "view-in-github",
        "colab_type": "text"
      },
      "source": [
        "<a href=\"https://colab.research.google.com/github/prachimethi/assignment/blob/main/File_and_exceptioal_handling_assignment.ipynb\" target=\"_parent\"><img src=\"https://colab.research.google.com/assets/colab-badge.svg\" alt=\"Open In Colab\"/></a>"
      ]
    },
    {
      "cell_type": "markdown",
      "source": [
        "1. Discuss the scenarios where multithreading is preferable to multiprocessing and scenarios where\n",
        "multiprocessing is a better choice."
      ],
      "metadata": {
        "id": "4lxD93rEvmFC"
      }
    },
    {
      "cell_type": "markdown",
      "source": [
        "Scenarios Where Multithreading is Preferable\n",
        "\n",
        "1. I/O-bound Tasks:\n",
        "2. Shared memory\n",
        "3. Light weight context switching\n",
        "4. Limited CPU operations\n",
        "\n",
        "Scenarios where multiprocessing is preferable\n",
        "\n",
        "1. CPU bound task\n",
        "2. Isolation and stability\n",
        "3. Concurrency on multiple cores\n",
        "4. Heavy resourse usage\n",
        "\n",
        "\n"
      ],
      "metadata": {
        "id": "-S4iHMQ2wKzJ"
      }
    },
    {
      "cell_type": "markdown",
      "source": [
        "2. Describe what a process pool is and how it helps in managing multiple processes efficiently."
      ],
      "metadata": {
        "id": "47Qdyvya1mcm"
      }
    },
    {
      "cell_type": "markdown",
      "source": [
        "A process pool is a collection of pre-instantiated, reusable processes that can be used to execute tasks concurrently. It helps manage multiple processes efficiently by providing a structured way to allocate, manage, and reuse a fixed number of processes."
      ],
      "metadata": {
        "id": "COH1RdeI3lqi"
      }
    },
    {
      "cell_type": "markdown",
      "source": [
        "3. Explain what multiprocessing is and why it is used in Python programs."
      ],
      "metadata": {
        "id": "Tx2dB30c3tkw"
      }
    },
    {
      "cell_type": "markdown",
      "source": [
        "Multiprocessing is a programming technique that allows a program to execute multiple processes simultaneously. In Python, the multiprocessing module provides a way to create and manage separate processes, enabling parallel execution of tasks. This is especially useful for CPU-bound operations, where tasks require significant processing power."
      ],
      "metadata": {
        "id": "JNmVpj_64HEF"
      }
    },
    {
      "cell_type": "markdown",
      "source": [
        "4. Write a Python program using multithreading where one thread adds numbers to a list, and another\n",
        "thread removes numbers from the list. Implement a mechanism to avoid race conditions using\n",
        "threading.Lock."
      ],
      "metadata": {
        "id": "XqL2tVO64JtJ"
      }
    },
    {
      "cell_type": "code",
      "source": [
        "import threading\n",
        "import time\n",
        "import random\n",
        "\n",
        "# Shared list and a lock\n",
        "shared_list = []\n",
        "lock = threading.Lock()\n",
        "\n",
        "# Function to add numbers to the list\n",
        "def add_numbers():\n",
        "    for i in range(10):\n",
        "        time.sleep(random.uniform(0.1, 0.5))  # Simulate some delay\n",
        "        with lock:  # Acquire the lock before modifying the list\n",
        "            shared_list.append(i)\n",
        "            print(f\"Added: {i} | Current List: {shared_list}\")\n",
        "\n",
        "# Function to remove numbers from the list\n",
        "def remove_numbers():\n",
        "    for _ in range(10):\n",
        "        time.sleep(random.uniform(0.1, 0.5))  # Simulate some delay\n",
        "        with lock:  # Acquire the lock before modifying the list\n",
        "            if shared_list:\n",
        "                removed = shared_list.pop(0)  # Remove the first element\n",
        "                print(f\"Removed: {removed} | Current List: {shared_list}\")\n",
        "            else:\n",
        "                print(\"No numbers to remove.\")\n",
        "\n",
        "# Create threads\n",
        "adder_thread = threading.Thread(target=add_numbers)\n",
        "remover_thread = threading.Thread(target=remove_numbers)\n",
        "\n",
        "# Start threads\n",
        "adder_thread.start()\n",
        "remover_thread.start()\n",
        "\n",
        "# Wait for both threads to finish\n",
        "adder_thread.join()\n",
        "remover_thread.join()\n",
        "\n",
        "print(\"Final List:\", shared_list)\n"
      ],
      "metadata": {
        "colab": {
          "base_uri": "https://localhost:8080/"
        },
        "id": "spXZap954I2L",
        "outputId": "65262346-df1f-473e-8599-38d071931b63"
      },
      "execution_count": 1,
      "outputs": [
        {
          "output_type": "stream",
          "name": "stdout",
          "text": [
            "No numbers to remove.\n",
            "No numbers to remove.\n",
            "Added: 0 | Current List: [0]\n",
            "Removed: 0 | Current List: []\n",
            "Added: 1 | Current List: [1]\n",
            "Removed: 1 | Current List: []\n",
            "No numbers to remove.\n",
            "Added: 2 | Current List: [2]\n",
            "Removed: 2 | Current List: []\n",
            "Added: 3 | Current List: [3]\n",
            "Removed: 3 | Current List: []\n",
            "Added: 4 | Current List: [4]\n",
            "Removed: 4 | Current List: []\n",
            "Added: 5 | Current List: [5]\n",
            "Removed: 5 | Current List: []\n",
            "Added: 6 | Current List: [6]\n",
            "Removed: 6 | Current List: []\n",
            "Added: 7 | Current List: [7]\n",
            "Added: 8 | Current List: [7, 8]\n",
            "Added: 9 | Current List: [7, 8, 9]\n",
            "Final List: [7, 8, 9]\n"
          ]
        }
      ]
    },
    {
      "cell_type": "markdown",
      "source": [
        "5. Describe the methods and tools available in Python for safely sharing data between threads and\n",
        "processes."
      ],
      "metadata": {
        "id": "UW0KpLTP4nZA"
      }
    },
    {
      "cell_type": "markdown",
      "source": [
        "Methods and Tools for Safely Sharing Data in Python\n",
        "\n",
        "When working with threads and processes in Python, it’s crucial to manage shared data safely to avoid race conditions and ensure data integrity. Here are some key methods and tools available in Python for this purpose:\n",
        "\n",
        "For Threads:\n",
        "\n",
        "1. threading.lock\n",
        "2. threading .Rlock\n",
        "3. Queue\n",
        "4. Condition\n",
        "5. Event\n",
        "\n",
        "For proccess:\n",
        " 1. Multiprocessing queue\n",
        " 2. multiprocessing .pipe\n",
        " 3. multiprocessing.manager\n",
        " 4. Value and array"
      ],
      "metadata": {
        "id": "PU-TePrw6-aM"
      }
    },
    {
      "cell_type": "markdown",
      "source": [
        "6. Discuss why it’s crucial to handle exceptions in concurrent programs and the techniques available for\n",
        "doing so."
      ],
      "metadata": {
        "id": "EdMRRQHq7i7L"
      }
    },
    {
      "cell_type": "markdown",
      "source": [
        "Importance of Exception Handling in Concurrent Programs:\n",
        "\n",
        "1. stability\n",
        "2. Rescoure management\n",
        "3. Debugging\n",
        "4. User experience\n"
      ],
      "metadata": {
        "id": "NDGFQtt77yJ7"
      }
    },
    {
      "cell_type": "markdown",
      "source": [
        "7. Create a program that uses a thread pool to calculate the factorial of numbers from 1 to 10 concurrently.\n",
        "Use concurrent.futures.ThreadPoolExecutor to manage the threads."
      ],
      "metadata": {
        "id": "nsbXfJhJ8BL7"
      }
    },
    {
      "cell_type": "code",
      "source": [
        "import concurrent.futures\n",
        "import math\n",
        "\n",
        "# Function to calculate the factorial of a number\n",
        "def calculate_factorial(n):\n",
        "    return math.factorial(n)\n",
        "\n",
        "# Main function to execute the thread pool\n",
        "def main():\n",
        "    numbers = range(1, 11)  # Numbers from 1 to 10\n",
        "\n",
        "    # Using ThreadPoolExecutor to manage the threads\n",
        "    with concurrent.futures.ThreadPoolExecutor() as executor:\n",
        "        # Submit tasks to the thread pool and collect futures\n",
        "        futures = {executor.submit(calculate_factorial, num): num for num in numbers}\n",
        "\n",
        "        # Retrieve results as they complete\n",
        "        for future in concurrent.futures.as_completed(futures):\n",
        "            num = futures[future]\n",
        "            try:\n",
        "                result = future.result()  # Get the result of the factorial calculation\n",
        "                print(f\"Factorial of {num} is {result}\")\n",
        "            except Exception as e:\n",
        "                print(f\"Error calculating factorial for {num}: {e}\")\n",
        "\n",
        "if __name__ == \"__main__\":\n",
        "    main()\n"
      ],
      "metadata": {
        "colab": {
          "base_uri": "https://localhost:8080/"
        },
        "id": "v9RaVt2p4d5p",
        "outputId": "dc0ba0cd-5e9a-4f87-dbb9-c70f4a1b51a2"
      },
      "execution_count": 2,
      "outputs": [
        {
          "output_type": "stream",
          "name": "stdout",
          "text": [
            "Factorial of 4 is 24\n",
            "Factorial of 6 is 720\n",
            "Factorial of 2 is 2\n",
            "Factorial of 9 is 362880\n",
            "Factorial of 10 is 3628800\n",
            "Factorial of 5 is 120\n",
            "Factorial of 3 is 6\n",
            "Factorial of 8 is 40320\n",
            "Factorial of 1 is 1\n",
            "Factorial of 7 is 5040\n"
          ]
        }
      ]
    },
    {
      "cell_type": "markdown",
      "source": [
        "8. Create a Python program that uses multiprocessing.Pool to compute the square of numbers from 1 to 10 in\n",
        "parallel. Measure the time taken to perform this computation using a pool of different sizes (e.g., 2, 4, 8\n",
        "processes)."
      ],
      "metadata": {
        "id": "RXeyxPj_8SYb"
      }
    },
    {
      "cell_type": "code",
      "source": [
        "import multiprocessing\n",
        "import time\n",
        "\n",
        "# Function to compute the square of a number\n",
        "def compute_square(n):\n",
        "    return n * n\n",
        "\n",
        "# Function to measure time taken to compute squares using a process pool\n",
        "def measure_time(pool_size):\n",
        "    numbers = range(1, 11)  # Numbers from 1 to 10\n",
        "    with multiprocessing.Pool(processes=pool_size) as pool:\n",
        "        start_time = time.time()  # Start the timer\n",
        "        results = pool.map(compute_square, numbers)  # Compute squares in parallel\n",
        "        end_time = time.time()  # End the timer\n",
        "    return results, end_time - start_time\n",
        "\n",
        "def main():\n",
        "    pool_sizes = [2, 4, 8]  # Different pool sizes to test\n",
        "\n",
        "    for size in pool_sizes:\n",
        "        results, elapsed_time = measure_time(size)\n",
        "        print(f\"Pool Size: {size} | Results: {results} | Time taken: {elapsed_time:.4f} seconds\")\n",
        "\n",
        "if __name__ == \"__main__\":\n",
        "    main()\n"
      ],
      "metadata": {
        "colab": {
          "base_uri": "https://localhost:8080/"
        },
        "id": "o31wHY5k8M4Z",
        "outputId": "632862f7-b7f5-47b4-ba34-924832188333"
      },
      "execution_count": 3,
      "outputs": [
        {
          "output_type": "stream",
          "name": "stdout",
          "text": [
            "Pool Size: 2 | Results: [1, 4, 9, 16, 25, 36, 49, 64, 81, 100] | Time taken: 0.0033 seconds\n",
            "Pool Size: 4 | Results: [1, 4, 9, 16, 25, 36, 49, 64, 81, 100] | Time taken: 0.0029 seconds\n",
            "Pool Size: 8 | Results: [1, 4, 9, 16, 25, 36, 49, 64, 81, 100] | Time taken: 0.0025 seconds\n"
          ]
        }
      ]
    },
    {
      "cell_type": "code",
      "source": [],
      "metadata": {
        "id": "nsTmNxVU8Ycq"
      },
      "execution_count": null,
      "outputs": []
    }
  ]
}