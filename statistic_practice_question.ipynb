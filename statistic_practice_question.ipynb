{
  "nbformat": 4,
  "nbformat_minor": 0,
  "metadata": {
    "colab": {
      "provenance": [],
      "authorship_tag": "ABX9TyO0NQ8xgSTsPg2BbSbrX1Zb",
      "include_colab_link": true
    },
    "kernelspec": {
      "name": "python3",
      "display_name": "Python 3"
    },
    "language_info": {
      "name": "python"
    }
  },
  "cells": [
    {
      "cell_type": "markdown",
      "metadata": {
        "id": "view-in-github",
        "colab_type": "text"
      },
      "source": [
        "<a href=\"https://colab.research.google.com/github/prachimethi/assignment/blob/main/statistic_practice_question.ipynb\" target=\"_parent\"><img src=\"https://colab.research.google.com/assets/colab-badge.svg\" alt=\"Open In Colab\"/></a>"
      ]
    },
    {
      "cell_type": "code",
      "execution_count": 2,
      "metadata": {
        "id": "rw3anIDSNwXZ"
      },
      "outputs": [],
      "source": [
        "import numpy as np\n",
        "import pandas as pd\n",
        "import scipy as stats\n",
        "import statistics\n",
        "import warnings\n",
        "warnings.filterwarnings\n",
        "import scipy.stats as stats\n",
        "import matplotlib.pyplot as plt\n",
        "import seaborn as sns"
      ]
    },
    {
      "cell_type": "markdown",
      "source": [
        "Q= Generate a list of 100 integers containing values between 90 to 130 and store it in the variable `int_list`.\n",
        "After generating the list, find the following:\n",
        "\n",
        "  \n",
        "\n",
        "  (i) Write a Python function to calculate the mean of a given list of numbers.\n",
        "\n",
        "Create a function to find the median of a list of numbers.\n",
        "\n",
        "  \n",
        "\n",
        "  (ii) Develop a program to compute the mode of a list of integers.\n",
        "\n",
        "  \n",
        "\n",
        "  (iii) Implement a function to calculate the weighted mean of a list of values and their corresponding weights.\n",
        "\n",
        "  \n",
        "\n",
        "  (iv) Write a Python function to find the geometric mean of a list of positive numbers.\n",
        "\n",
        "  \n",
        "\n",
        "  (v) Create a program to calculate the harmonic mean of a list of values.\n",
        "\n",
        "  \n",
        "\n",
        "  (vi) Build a function to determine the midrange of a list of numbers (average of the minimum and maximum).\n",
        "\n",
        "  \n",
        "\n",
        "  (vii) Implement a Python program to find the trimmed mean of a list, excluding a certain percentage of\n",
        "outliers."
      ],
      "metadata": {
        "id": "q502PqlmOGNf"
      }
    },
    {
      "cell_type": "code",
      "source": [
        "int_list = np.random.randint(90, 130, 100)\n",
        "print(int_list)\n",
        "\n",
        "#mean of data\n",
        "mean= np.mean(int_list)\n",
        "print(\"mean is:\",mean)\n",
        "\n",
        "#median of data\n",
        "median= np.median(int_list)\n",
        "print(\"median is:\", median)\n",
        "\n",
        "#mode of data\n",
        "mode= statistics.mode(int_list)\n",
        "print(\"mode is:\", mode)\n",
        "#function to calculate the weighted mean of a list of values and their corresponding weights.\n",
        "def weighted_mean(values, weights):\n",
        "    # Calculate the weighted mean using the formula\n",
        "    return sum(v * w for v, w in zip(values, weights)) / sum(weights)\n",
        "# Calculate the weighted mean\n",
        "weights = [1, 2, 3, 1, 2, 1, 3, 1, 2, 3, 1, 2, 3, 1, 3, 2, 3, 1, 2, 1,\n",
        "           3, 2, 1, 3, 1, 3, 2, 3, 1, 2, 3, 1, 2, 1, 3, 2, 1, 3, 1, 2,\n",
        "           3, 1, 2, 3, 1, 3, 2, 1, 3, 2, 1, 3, 1, 3, 2, 1, 3, 2, 1, 3,\n",
        "           1, 2, 3, 1, 3, 2, 1, 2, 3, 1, 2, 3, 1, 3, 2, 1, 2, 3, 1, 2,\n",
        "           3, 1, 2, 3]\n",
        "result = weighted_mean(int_list, weights)\n",
        "print(f\"The weighted mean is: {result}\")\n",
        "\n",
        "#Write a Python function to find the geometric mean of a list of positive numbers.\n",
        "\n",
        "import math\n",
        "\n",
        "def geometric_mean(values):\n",
        "    return math.prod(values) ** (1 / len(values))\n",
        "\n",
        "# Example usage:\n",
        "values = [2, 8, 16, 4]\n",
        "\n",
        "# Calculate the geometric mean\n",
        "result = geometric_mean(int_list)\n",
        "print(f\"The geometric mean is: {result}\")\n",
        "\n",
        "#(v) Create a program to calculate the harmonic mean of a list of values.\n",
        "def harmonic_mean(values):\n",
        "    if any(x == 0 for x in values):  # Ensure no zero values\n",
        "        raise ValueError(\"Values must be non-zero for harmonic mean.\")\n",
        "    return len(values) / sum(1 / x for x in values)\n",
        "\n",
        "harmonic_result = harmonic_mean(int_list)\n",
        "print(f\"The harmonic mean is: {harmonic_result}\")\n",
        "\n",
        "#Build a function to determine the midrange of a list of numbers (average of the minimum and maximum).\n",
        "maximum = max(int_list)\n",
        "minimum = min(int_list)\n",
        "print(\"minimum is :\", minimum)\n",
        "print(\"maximum is :\", maximum)\n",
        "\n",
        "#(vii) Implement a Python program to find the trimmed mean of a list, excluding a certain percentage of outliers\n",
        "\n",
        "trimmed_mean = stats.trim_mean(int_list, proportiontocut=0.10)\n",
        "print(\"trimmed means is:\", trimmed_mean)\n",
        "\n"
      ],
      "metadata": {
        "colab": {
          "base_uri": "https://localhost:8080/"
        },
        "id": "vtwRs8cQN_pj",
        "outputId": "641736c0-e1b1-45ee-84f8-c5b4b644f723"
      },
      "execution_count": null,
      "outputs": [
        {
          "output_type": "stream",
          "name": "stdout",
          "text": [
            "[101  97 107  93  90 111 127 121 124 116 101 129 100 112 101 100 103 114\n",
            "  90 109 111 117 125  93 104 101 122  95  96 128 113  92 114 108 122 128\n",
            " 120 118 106 112 129  97 122 128 111 113 121 109 129  99 106 108  93 109\n",
            " 128 104 125 128  93  91 103  99 103  91 108 101 128  94  92 120  98 108\n",
            " 105 129 113 114  93  90 111 122 112 113 113  98 120 118 115 114  90 111\n",
            " 127 119 116 115 108 101 113 110 123 112]\n",
            "mean is: 109.84\n",
            "median is: 111.0\n",
            "mode is: 101\n",
            "The weighted mean is: 109.65269461077844\n",
            "The geometric mean is: 0.0\n",
            "The harmonic mean is: 108.60552797130721\n",
            "minimum is : 90\n",
            "maximum is : 129\n",
            "trimmed means is: 109.85\n"
          ]
        },
        {
          "output_type": "stream",
          "name": "stderr",
          "text": [
            "<ipython-input-2-ef6fb30686d0>:33: RuntimeWarning: overflow encountered in scalar multiply\n",
            "  return math.prod(values) ** (1 / len(values))\n"
          ]
        }
      ]
    },
    {
      "cell_type": "markdown",
      "source": [
        " 2. Generate a list of 500 integers containing values between 200 to 300 and store it in the variable `int_list2`.\n",
        "After generating the list, find the following:\n",
        "\n",
        "\n",
        "  (i) Compare the given list of visualization for the given data:\n",
        "\n",
        "    \n",
        "\n",
        "    1. Frequency & Gaussian distribution\n",
        "\n",
        "    2. Frequency smoothened KDE plot\n",
        "\n",
        "    3. Gaussian distribution & smoothened KDE plot\n",
        "\n",
        "\n",
        "  (ii) Write a Python function to calculate the range of a given list of numbers.\n",
        "\n",
        "\n",
        "  (iii) Create a program to find the variance and standard deviation of a list of numbers.\n",
        "\n",
        "\n",
        "  (iv) Implement a function to compute the interquartile range (IQR) of a list of values.\n",
        "\n",
        "\n",
        "  (v) Build a program to calculate the coefficient of variation for a dataset.\n",
        "\n",
        "  \n",
        "\n",
        "  (vi) Write a Python function to find the mean absolute deviation (MAD) of a list of numbers.\n",
        "\n",
        "\n",
        "  (vii) Create a program to calculate the quartile deviation of a list of values.\n",
        "\n",
        "  \n",
        "\n",
        "  (viii) Implement a function to find the range-based coefficient of dispersion for a dataset."
      ],
      "metadata": {
        "id": "87rTBIUgFXZ3"
      }
    },
    {
      "cell_type": "code",
      "source": [
        "int_list2 = np.random.randint(200,300,500)\n",
        "int_list2\n",
        "\n",
        "#Compare the given list of visualization for the given data:\n",
        "#1. Frequency & Gaussian distribution\n",
        "plt.hist(int_list2, 40)\n",
        "plt.title(\"frequency and gaussian distribution\")\n",
        "plt.show()\n",
        "\n",
        "#2. Frequency smoothened KDE plot\n",
        "plt.subplot(3, 1, 2)\n",
        "sns.kdeplot(int_list2, color='red', fill=True)\n",
        "plt.title('Frequency Smoothed KDE Plot')\n",
        "plt.legend()\n",
        "\n",
        "#3. Gaussian distribution & smoothened KDE plot\n",
        "plt.subplot(3, 1, 3)\n",
        "sns.kdeplot(int_list2, color='red', label='KDE', fill=True)\n",
        "plt.title('Gaussian Distribution & Smoothed KDE Plot')\n",
        "plt.legend()\n",
        "plt.show()\n",
        "\n",
        "#i) Write a Python function to calculate the range of a given list of numbers.\n",
        "range = max(int_list2) - min(int_list2)\n",
        "print(\"range is:\", range)\n",
        "\n",
        "#(iii) Create a program to find the variance and standard deviation of a list of numbers.\n",
        "variance= np.var(int_list2)\n",
        "std = np.std(int_list2)\n",
        "print(\"variance is:\",variance)\n",
        "print(\"standard deviation is:\", std)\n",
        "\n",
        "#Implement a function to compute the interquartile range (IQR) of a list of values\n",
        "q1= np.percentile(int_list2,[25])\n",
        "q2 =np.percentile(int_list2,[75])\n",
        "print(\"interquartile range is:\",q2-q1)\n",
        "\n",
        "#  (v) Build a program to calculate the coefficient of variation for a dataset.\n",
        "def coefficient(x):\n",
        "  var = np.mean(int_list2)\n",
        "  std = np.std(int_list2)\n",
        "  coefficient= var/std *100\n",
        "  return \"coefficient is:\",coefficient\n",
        "\n",
        "coefficient(int_list2)\n",
        "\n",
        "# Write a Python function to find the mean absolute deviation (MAD) of a list of numbers.\n",
        "def Mad(x):\n",
        "  mean = np.mean(int_list2)\n",
        "  mad = np.mean(np.abs(int_list2-mean))\n",
        "  return \"Mean absolute deviation is:\", mad\n",
        "\n",
        "Mad(int_list2)\n",
        "\n",
        "#(vii) Create a program to calculate the quartile deviation of a list of values.\n",
        "\n",
        "def quardevia(x):\n",
        "  q1= np.percentile(int_list2,[25])\n",
        "  q2 =np.percentile(int_list2,[75])\n",
        "  dev = (q2-q1)/2\n",
        "  return \"quartile deviation is:\",dev\n",
        "\n",
        "quardevia(int_list2)\n",
        "\n",
        "#(viii) Implement a function to find the range-based coefficient of dispersion for a dataset.\n",
        "def rangeco (x):\n",
        "  range= max(int_list2)-min(int_list2)\n",
        "  mean= np.mean(int_list2)\n",
        "  cdc = range/mean\n",
        "  return \"range based coefficient is:\",cdc\n",
        "\n",
        "print(coefficient(int_list2))\n",
        "print(Mad(int_list2))\n",
        "print(quardevia(int_list2))\n",
        "print(rangeco(int_list2))"
      ],
      "metadata": {
        "colab": {
          "base_uri": "https://localhost:8080/",
          "height": 943
        },
        "id": "bEoMH1OAOmz1",
        "outputId": "bc275690-6edb-4eec-a623-0c4e039501c9"
      },
      "execution_count": null,
      "outputs": [
        {
          "output_type": "display_data",
          "data": {
            "text/plain": [
              "<Figure size 640x480 with 1 Axes>"
            ],
            "image/png": "[encoded data removed]"
          },
          "metadata": {}
        },
        {
          "output_type": "stream",
          "name": "stderr",
          "text": [
            "WARNING:matplotlib.legend:No artists with labels found to put in legend.  Note that artists whose label start with an underscore are ignored when legend() is called with no argument.\n"
          ]
        },
        {
          "output_type": "display_data",
          "data": {
            "text/plain": [
              "<Figure size 640x480 with 2 Axes>"
            ],
            "image/png": "[encoded data removed]"
          },
          "metadata": {}
        },
        {
          "output_type": "stream",
          "name": "stdout",
          "text": [
            "range is: 99\n",
            "variance is: 793.530816\n",
            "standard deviation is: 28.16967901840559\n",
            "interquartile range is: [49.]\n",
            "('coefficient is:', 887.7346448875304)\n",
            "('Mean absolute deviation is:', 24.459712)\n",
            "('quartile deviation is:', array([24.5]))\n",
            "('range based coefficient is:', 0.3958859848363671)\n"
          ]
        }
      ]
    },
    {
      "cell_type": "markdown",
      "source": [
        "ques-3 Write a Python class representing a discrete random variable with methods to calculate its expected\n",
        "value and variance."
      ],
      "metadata": {
        "id": "LUViojcAerAh"
      }
    },
    {
      "cell_type": "code",
      "source": [
        "class DiscreteRandomVariable:\n",
        "  def __init__(self,values,probability):\n",
        "    self.value = values\n",
        "    self.probabilty= probability\n",
        "\n",
        "  def expected (self):\n",
        "    return np.sum(np.multiply(self.value, self.probabilty))\n",
        "\n",
        "  def variance(self):\n",
        "     expected_val = self.expected()\n",
        "     expected_val_square = sum((value ** 2) * prob for value, prob in zip(self.value, self.probabilty))\n",
        "     return expected_val_square - expected_val ** 2\n",
        "\n",
        "values = [1,2,3]\n",
        "probability = [0.2,0.5,0.3]\n",
        "rv= DiscreteRandomVariable(values,probability)\n",
        "\n",
        "print(f\"Expected Value: {rv.expected()}\")\n",
        "print(f\"Variance: {rv.variance()}\")"
      ],
      "metadata": {
        "id": "QnR7HdyDTRzL",
        "colab": {
          "base_uri": "https://localhost:8080/"
        },
        "outputId": "f4b364d3-c24f-47f7-e7cb-9ae487a05cfe"
      },
      "execution_count": null,
      "outputs": [
        {
          "output_type": "stream",
          "name": "stdout",
          "text": [
            "Expected Value: 2.0999999999999996\n",
            "Variance: 0.490000000000002\n"
          ]
        }
      ]
    },
    {
      "cell_type": "markdown",
      "source": [
        "ques-4 Implement a program to simulate the rolling of a fair six-sided die and calculate the expected value and\n",
        "variance of the outcomes.\n"
      ],
      "metadata": {
        "id": "6EVsrB8arIJg"
      }
    },
    {
      "cell_type": "markdown",
      "source": [
        "ques-5 Create a Python function to generate random samples from a given probability distribution (e.g.,\n",
        "binomial, Poisson) and calculate their mean and variance."
      ],
      "metadata": {
        "id": "nEBTRprTurrZ"
      }
    },
    {
      "cell_type": "code",
      "source": [
        "def randsam(distribution, param,size=100):\n",
        "  if distribution == \"binomial\":\n",
        "    n,p = param\n",
        "    sample= np.random.binomial(n,p,size)\n",
        "    mean = np.mean(sample)\n",
        "    var= np.var(sample)\n",
        "    return f\"binomial, sample:\",sample ,\"mean:\",mean,\"variance:,\",var\n",
        "\n",
        "  elif distribution ==\"poisson\":\n",
        "    lam= param\n",
        "    sample= np.random.poisson(lam,size)\n",
        "    mean = np.mean(sample)\n",
        "    var= np.var(sample)\n",
        "    return f\"poisson, sample:\",sample ,\"mean:\",mean,\"variance:,\",var\n",
        "\n",
        "  else:\n",
        "    raise ValueError(\"invalid distribution type\")\n",
        "\n",
        "randsam(\"poisson\", 10,10)"
      ],
      "metadata": {
        "colab": {
          "base_uri": "https://localhost:8080/"
        },
        "id": "nUYVHembtls3",
        "outputId": "e5ed0dcd-e48d-4816-e5c6-9b4333420e4b"
      },
      "execution_count": null,
      "outputs": [
        {
          "output_type": "execute_result",
          "data": {
            "text/plain": [
              "('poisson, sample:',\n",
              " array([12,  4,  8,  9, 10,  9,  9, 13,  7, 12]),\n",
              " 'mean:',\n",
              " 9.3,\n",
              " 'variance:,',\n",
              " 6.409999999999999)"
            ]
          },
          "metadata": {},
          "execution_count": 6
        }
      ]
    },
    {
      "cell_type": "markdown",
      "source": [
        "ques-six  Write a Python script to generate random numbers from a Gaussian (normal) distribution and compute\n",
        "the mean, variance, and standard deviation of the samples."
      ],
      "metadata": {
        "id": "Ek3SAbBvB5_5"
      }
    },
    {
      "cell_type": "code",
      "source": [
        "def gaussian(mean=0,var=1,std=100):\n",
        "  sample= np.random.normal(mean,var,std)\n",
        "  mean = np.mean(sample)\n",
        "  variance= np.var(sample)\n",
        "  std= np.std(sample)\n",
        "\n",
        "  return{\"samples:\": sample,\n",
        "         \"sample mean:\": mean,\n",
        "         \"sample variance:\": variance,\n",
        "         \"sample standard deviation:\":std}\n",
        "\n",
        "gaussian(2,1,100)"
      ],
      "metadata": {
        "colab": {
          "base_uri": "https://localhost:8080/"
        },
        "id": "yag0OhzU_xrK",
        "outputId": "38d31785-5342-43ea-cb98-8700ad0a274d"
      },
      "execution_count": null,
      "outputs": [
        {
          "output_type": "execute_result",
          "data": {
            "text/plain": [
              "{'samples:': array([ 1.83298191,  1.93952522,  2.69301021,  0.48414424,  0.66388894,\n",
              "         2.46873753,  2.76052787,  0.46048149,  0.05074827,  4.02262108,\n",
              "         2.33807929,  1.74404404,  2.72294747,  2.21746198, -0.1214275 ,\n",
              "         2.62048855,  1.59913384,  0.77299834,  2.79781617,  1.75538462,\n",
              "         3.26844666,  2.4725249 ,  0.59351596,  2.708478  ,  3.0264937 ,\n",
              "         1.73291687,  3.16821937,  3.11874813,  0.62968461,  1.26373898,\n",
              "         3.29038556,  1.40825456,  2.66974269,  0.94829996,  3.08828141,\n",
              "         2.90007132,  0.98535663,  1.28793183,  2.52929607,  3.36461079,\n",
              "         3.64825536,  1.89222471,  2.95566292,  1.66287131,  2.44445537,\n",
              "         2.89017379,  2.02557118,  1.44788021,  2.6007741 ,  2.37047093,\n",
              "         3.60586097,  0.96461157,  2.02975607,  2.05560941,  2.87802235,\n",
              "         3.36820148,  2.9738125 ,  1.92902711,  2.28452753,  0.92913787,\n",
              "         2.112588  ,  1.51431589,  1.77296306,  2.09885808,  1.01815741,\n",
              "         1.81392525,  2.31796074,  1.26506061,  1.48037725,  1.51938144,\n",
              "         2.45434916,  3.08727572,  1.37171627,  2.47194192,  2.29949517,\n",
              "         1.44729161, -1.00867416,  1.22699779,  2.38352583,  2.5744606 ,\n",
              "         2.81674411,  3.68358835,  2.69374924,  2.85205816,  3.28469101,\n",
              "         1.57122368,  1.07504495,  3.05319529,  3.30847885,  0.56321982,\n",
              "         1.29010694,  0.99944041,  1.95320598,  2.08307525,  1.87009449,\n",
              "         1.70831538,  3.33289356,  1.660487  ,  2.6575048 ,  2.51508988]),\n",
              " 'sample mean:': 2.0742967306235487,\n",
              " 'sample variance:': 0.8831261687424548,\n",
              " 'sample standard deviation:': 0.9397479282991024}"
            ]
          },
          "metadata": {},
          "execution_count": 7
        }
      ]
    },
    {
      "cell_type": "markdown",
      "source": [
        "ques-7 Use seaborn library to load tips dataset. Find the following from the dataset for the columns total_bill\n",
        "and tip`:\n",
        "\n",
        "  \n",
        "\n",
        "  (i) Write a Python function that calculates their skewness.\n",
        "\n",
        "\n",
        "  (ii) Create a program that determines whether the columns exhibit positive skewness, negative skewness, or is\n",
        "approximately symmetric.\n",
        "\n",
        "\n",
        "  (iii) Write a function that calculates the covariance between two columns.\n",
        "\n",
        "\n",
        "  (iv) Implement a Python program that calculates the Pearson correlation coefficient between two columns.\n",
        "\n",
        "\n",
        "  (v) Write a script to visualize the correlation between two specific columns in a Pandas DataFrame using\n",
        "scatter plots"
      ],
      "metadata": {
        "id": "7zrPG-MdFMoF"
      }
    },
    {
      "cell_type": "code",
      "source": [
        "import seaborn as sns\n",
        "from scipy.stats import skew\n",
        "\n",
        "#load dataset\n",
        "data= sns.load_dataset(\"tips\")\n",
        "\n",
        "#(i) Write a Python function that calculates their skewness.\n",
        "def skewness(x):\n",
        "  skewed = skew(x)\n",
        "  return skewed\n",
        "\n",
        "totalbill=skewness(data['total_bill'])\n",
        "tip= skewness(data['tip'])\n",
        "\n",
        "print({\"totalbill skewness\":totalbill,\n",
        "      \"tip skewness \":tip})"
      ],
      "metadata": {
        "colab": {
          "base_uri": "https://localhost:8080/"
        },
        "id": "9nE5A_-IDQff",
        "outputId": "a3387ae8-8d86-4beb-abc3-cafb36109404"
      },
      "execution_count": null,
      "outputs": [
        {
          "output_type": "stream",
          "name": "stdout",
          "text": [
            "{'totalbill skewness': 1.1262346334818638, 'tip skewness ': 1.4564266884221506}\n"
          ]
        }
      ]
    },
    {
      "cell_type": "code",
      "source": [
        "#(ii) Create a program that determines whether the columns exhibit positive skewness, negative skewness, or is approximately symmetric.\n",
        "def determine(value):\n",
        "  if value > 0:\n",
        "    print(\"positive skewed\")\n",
        "\n",
        "  elif value < 0:\n",
        "    print(\"negative skewed\")\n",
        "\n",
        "  else:\n",
        "    print(\"approximately symmetric\")\n",
        "\n",
        "determine(1.1262346334818638)\n"
      ],
      "metadata": {
        "colab": {
          "base_uri": "https://localhost:8080/"
        },
        "id": "L1SL-FtIMBUa",
        "outputId": "4c64179a-2816-4fd1-cbd2-74983749c638"
      },
      "execution_count": null,
      "outputs": [
        {
          "output_type": "stream",
          "name": "stdout",
          "text": [
            "positive skewed\n"
          ]
        }
      ]
    },
    {
      "cell_type": "code",
      "source": [
        "# (iii) Write a function that calculates the covariance between two columns.\n",
        "import numpy as np\n",
        "def calccov(x, y):\n",
        "  covariance= np.cov(x,y)\n",
        "  return covariance\n",
        "\n",
        "calccov(data['tip'],data['total_bill'])"
      ],
      "metadata": {
        "colab": {
          "base_uri": "https://localhost:8080/"
        },
        "id": "ixbTIeUyRoB7",
        "outputId": "b2dcec73-d5f8-499d-ed2b-9b83b309fcaf"
      },
      "execution_count": null,
      "outputs": [
        {
          "output_type": "execute_result",
          "data": {
            "text/plain": [
              "array([[ 1.91445464,  8.32350163],\n",
              "       [ 8.32350163, 79.25293861]])"
            ]
          },
          "metadata": {},
          "execution_count": 10
        }
      ]
    },
    {
      "cell_type": "code",
      "source": [
        "# (iv) Implement a Python program that calculates the Pearson correlation coefficient between two columns.\n",
        "from scipy.stats import pearsonr\n",
        "\n",
        "def calcpearson(x,y):\n",
        "  correlation= pearsonr(x,y)\n",
        "  return correlation\n",
        "\n",
        "calcpearson(data['tip'],data['total_bill'])"
      ],
      "metadata": {
        "colab": {
          "base_uri": "https://localhost:8080/"
        },
        "id": "eX6ft_zHTls6",
        "outputId": "9fd3cda4-46f0-4e3b-f02b-e77d14a90810"
      },
      "execution_count": null,
      "outputs": [
        {
          "output_type": "execute_result",
          "data": {
            "text/plain": [
              "PearsonRResult(statistic=0.6757341092113647, pvalue=6.69247064686336e-34)"
            ]
          },
          "metadata": {},
          "execution_count": 11
        }
      ]
    },
    {
      "cell_type": "code",
      "source": [
        "#(v) Write a script to visualize the correlation between two specific columns in a Pandas DataFrame using scatter plots\n",
        "\n",
        "import matplotlib.pyplot as plt\n",
        "\n",
        "col1 = 'total_bill'\n",
        "col2= 'tip'\n",
        "\n",
        "sns.scatterplot(x= col1, y=col2, data=data)\n",
        "plt.title(\"correlation between total bill and tips\")\n",
        "plt.xlabel(f\"totalbill\")\n",
        "plt.ylabel(f\"tips\")\n",
        "plt.show()"
      ],
      "metadata": {
        "colab": {
          "base_uri": "https://localhost:8080/",
          "height": 472
        },
        "id": "NWtEB_raTvH_",
        "outputId": "dc56e6f5-2fbf-4c8a-c251-5e8374599839"
      },
      "execution_count": null,
      "outputs": [
        {
          "output_type": "display_data",
          "data": {
            "text/plain": [
              "<Figure size 640x480 with 1 Axes>"
            ],
            "image/png": "[encoded data removed]"
          },
          "metadata": {}
        }
      ]
    },
    {
      "cell_type": "markdown",
      "source": [
        "ques-8 Write a Python function to calculate the probability density function (PDF) of a continuous random\n",
        "variable for a given normal distribution.\n"
      ],
      "metadata": {
        "id": "Sfo-c6UTmgWV"
      }
    },
    {
      "cell_type": "code",
      "source": [
        "import numpy as np\n",
        "\n",
        "# Function to calculate the PDF of a normal distribution\n",
        "def normal_pdf(x, mu=0, sigma=1):\n",
        "\n",
        "    # Formula for the PDF of a normal distribution\n",
        "    coefficient = 1 / (sigma * np.sqrt(2 * np.pi))\n",
        "    exponent = np.exp(-0.5 * ((x - mu) / sigma) ** 2)\n",
        "    return coefficient * exponent\n",
        "\n",
        "# Example usage\n",
        "x_value = 1  # Point at which to calculate PDF\n",
        "mu = 0  # Mean\n",
        "sigma = 1  # Standard deviation\n",
        "\n",
        "pdf_value = normal_pdf(x_value, mu, sigma)\n",
        "print(f\"The PDF at x = {x_value} for N({mu}, {sigma}^2) is: {pdf_value}\")\n"
      ],
      "metadata": {
        "colab": {
          "base_uri": "https://localhost:8080/"
        },
        "id": "oVH5p8Ukk5Pz",
        "outputId": "b631b5e2-3f52-4660-9e9b-60f3a58243a9"
      },
      "execution_count": null,
      "outputs": [
        {
          "output_type": "stream",
          "name": "stdout",
          "text": [
            "The PDF at x = 1 for N(0, 1^2) is: 0.24197072451914337\n"
          ]
        }
      ]
    },
    {
      "cell_type": "markdown",
      "source": [
        "ques-9 Create a program to calculate the cumulative distribution function (CDF) of exponential distribution."
      ],
      "metadata": {
        "id": "U1IaTyNSjr9S"
      }
    },
    {
      "cell_type": "code",
      "source": [
        "import math\n",
        "\n",
        "# Function to calculate the CDF of an exponential distribution\n",
        "def exponential_cdf(x, lambda_):\n",
        "    return 1 - math.exp(-lambda_ * x)\n",
        "\n",
        "# Example usage\n",
        "lambda_ = 1.0  # Rate parameter (mean = 1 / lambda)\n",
        "x_values = [0, 1, 2, 3, 4, 5]  # Values of x for which we want the CDF\n",
        "\n",
        "# Calculate and print CDF for each x\n",
        "for x in x_values:\n",
        "    print(f\"CDF at x = {x}: {exponential_cdf(x, lambda_):.4f}\")\n"
      ],
      "metadata": {
        "id": "4j4dSVYAnzao",
        "colab": {
          "base_uri": "https://localhost:8080/"
        },
        "outputId": "07646520-6331-43f4-c447-9e2f49297163"
      },
      "execution_count": null,
      "outputs": [
        {
          "output_type": "stream",
          "name": "stdout",
          "text": [
            "CDF at x = 0: 0.0000\n",
            "CDF at x = 1: 0.6321\n",
            "CDF at x = 2: 0.8647\n",
            "CDF at x = 3: 0.9502\n",
            "CDF at x = 4: 0.9817\n",
            "CDF at x = 5: 0.9933\n"
          ]
        }
      ]
    },
    {
      "cell_type": "markdown",
      "source": [
        "ques-10. Write a Python function to calculate the probability mass function (PMF) of Poisson distribution."
      ],
      "metadata": {
        "id": "Kr1hAT11kWSl"
      }
    },
    {
      "cell_type": "code",
      "source": [
        "import math\n",
        "\n",
        "# Function to calculate the PMF of a Poisson distribution\n",
        "def poisson_pmf(k, lambda_):\n",
        "    return (lambda_**k * math.exp(-lambda_)) / math.factorial(k)\n",
        "\n",
        "# Example usage\n",
        "lambda_ = 3.0  # Rate parameter (average number of events)\n",
        "k_values = [0, 1, 2, 3, 4, 5]  # Different values of k (number of events)\n",
        "\n",
        "# Calculate and print PMF for each k\n",
        "for k in k_values:\n",
        "    print(f\"PMF at k = {k}: {poisson_pmf(k, lambda_):.4f}\")\n"
      ],
      "metadata": {
        "colab": {
          "base_uri": "https://localhost:8080/"
        },
        "id": "LA-7PoOlkGoG",
        "outputId": "7ca414a4-ab5d-4867-a445-0bdcd2f095fe"
      },
      "execution_count": null,
      "outputs": [
        {
          "output_type": "stream",
          "name": "stdout",
          "text": [
            "PMF at k = 0: 0.0498\n",
            "PMF at k = 1: 0.1494\n",
            "PMF at k = 2: 0.2240\n",
            "PMF at k = 3: 0.2240\n",
            "PMF at k = 4: 0.1680\n",
            "PMF at k = 5: 0.1008\n"
          ]
        }
      ]
    },
    {
      "cell_type": "markdown",
      "source": [
        "ques-11 ;;M A company wants to test if a new website layout leads to a higher conversion rate (percentage of visitors\n",
        "who make a purchase). They collect data from the old and new layouts to compare.\n",
        "\n",
        "\n",
        "To generate the data use the following command:\n",
        "\n",
        "```python\n",
        "\n",
        "import numpy as np\n",
        "\n",
        "# 50 purchases out of 1000 visitors\n",
        "\n",
        "old_layout = np.array([1] * 50 + [0] * 950)\n",
        "\n",
        "# 70 purchases out of 1000 visitors  \n",
        "\n",
        "new_layout = np.array([1] * 70 + [0] * 930)\n",
        "\n",
        "  ```\n",
        "\n",
        "Apply z-test to find which layout is successful."
      ],
      "metadata": {
        "id": "MNdFjKmC3Yfp"
      }
    },
    {
      "cell_type": "code",
      "source": [
        "import numpy as np\n",
        "from math import sqrt\n",
        "from scipy.stats import norm\n",
        "\n",
        "#data\n",
        "old_layout = np.array([1] * 50 + [0] * 950)\n",
        "new_layout = np.array([1] * 70 + [0] * 930)\n",
        "\n",
        "#conversion rate of data\n",
        "p1 = old_layout.mean()\n",
        "p2 = new_layout.mean()\n",
        "\n",
        "# Sample sizes\n",
        "n1 = len(old_layout)\n",
        "n2 = len(new_layout)\n",
        "\n",
        "# Pooled proportion\n",
        "p_pooled = (np.sum(old_layout) + np.sum(new_layout)) / (n1 + n2)\n",
        "\n",
        "\n",
        "# Standard error\n",
        "SE = sqrt(p_pooled * (1 - p_pooled) * (1/n1 + 1/n2))\n",
        "\n",
        "#zscore\n",
        "z = (p1-p2)/SE\n",
        "\n",
        "# p-value from Z score (two-tailed test)\n",
        "p_value = 2 * (1 - norm.cdf(abs(z)))\n",
        "\n",
        "z, p_value"
      ],
      "metadata": {
        "id": "mvDK6s6ukjVW",
        "colab": {
          "base_uri": "https://localhost:8080/"
        },
        "outputId": "e395cd9c-2ebf-4d7b-84f0-455c6fe2aafe"
      },
      "execution_count": null,
      "outputs": [
        {
          "output_type": "execute_result",
          "data": {
            "text/plain": [
              "(-1.883108942886774, 0.05968560553242619)"
            ]
          },
          "metadata": {},
          "execution_count": 16
        }
      ]
    },
    {
      "cell_type": "markdown",
      "source": [
        "ques-12 A tutoring service claims that its program improves students' exam scores. A sample of students who\n",
        "participated in the program was taken, and their scores before and after the program were recorded.\n",
        "\n",
        "\n",
        "Use the below code to generate samples of respective arrays of marks:\n",
        "\n",
        "```python\n",
        "\n",
        "before_program = np.array([75, 80, 85, 70, 90, 78, 92, 88, 82, 87])\n",
        "\n",
        "after_program = np.array([80, 85, 90, 80, 92, 80, 95, 90, 85, 88])\n",
        "\n",
        "```\n",
        "\n",
        "# Use z-test to find if the claims made by tutor are true or false."
      ],
      "metadata": {
        "id": "XfDsO1xl9rYr"
      }
    },
    {
      "cell_type": "code",
      "source": [
        "import numpy as np\n",
        "from math import sqrt\n",
        "from scipy.stats import norm\n",
        "\n",
        "# Data\n",
        "before_program = np.array([75, 80, 85, 70, 90, 78, 92, 88, 82, 87])\n",
        "after_program = np.array([80, 85, 90, 80, 92, 80, 95, 90, 85, 88])\n",
        "\n",
        "# Calculate differences between after and before scores\n",
        "differences = after_program - before_program\n",
        "\n",
        "# Mean and standard deviation of differences\n",
        "mean_diff = np.mean(differences)\n",
        "std_diff = np.std(differences, ddof=1)  # sample standard deviation\n",
        "\n",
        "# Sample size\n",
        "n = len(before_program)\n",
        "\n",
        "# Standard error of the mean difference\n",
        "SE = std_diff / sqrt(n)\n",
        "\n",
        "# Z-score\n",
        "Z = mean_diff / SE\n",
        "\n",
        "# p-value for two-tailed test\n",
        "p_value = 2 * (1 - norm.cdf(abs(Z)))\n",
        "\n",
        "Z, p_value\n"
      ],
      "metadata": {
        "colab": {
          "base_uri": "https://localhost:8080/"
        },
        "id": "HOP3G-vP_Wd6",
        "outputId": "c44a4de6-07c0-4ce8-bfc9-1a5107d3a1bf"
      },
      "execution_count": null,
      "outputs": [
        {
          "output_type": "execute_result",
          "data": {
            "text/plain": [
              "(4.593190894944668, 4.365194105293568e-06)"
            ]
          },
          "metadata": {},
          "execution_count": 17
        }
      ]
    },
    {
      "cell_type": "markdown",
      "source": [
        "Ques-13  A pharmaceutical company wants to determine if a new drug is effective in reducing blood pressure. They\n",
        "conduct a study and record blood pressure measurements before and after administering the drug.\n",
        "\n",
        "\n",
        "Use the below code to generate samples of respective arrays of blood pressure:\n",
        "\n",
        "\n",
        "```python\n",
        "\n",
        "before_drug = np.array([145, 150, 140, 135, 155, 160, 152, 148, 130, 138])\n",
        "\n",
        "after_drug = np.array([130, 140, 132, 128, 145, 148, 138, 136, 125, 130])\n",
        "\n",
        "  ```\n",
        "\n",
        "\n",
        "Implement z-test to find if the drug really works or not."
      ],
      "metadata": {
        "id": "NDI4fojir1u9"
      }
    },
    {
      "cell_type": "code",
      "source": [
        "import numpy as np\n",
        "import scipy.stats as stats\n",
        "\n",
        "# Blood pressure data before and after the drug\n",
        "before_drug = np.array([145, 150, 140, 135, 155, 160, 152, 148, 130, 138])\n",
        "after_drug = np.array([130, 140, 132, 128, 145, 148, 138, 136, 125, 130])\n",
        "\n",
        "# Step 1: Calculate the mean and standard deviation of differences\n",
        "differences = before_drug - after_drug\n",
        "mean_diff = np.mean(differences)\n",
        "std_diff = np.std(differences, ddof=1)  # Sample standard deviation\n",
        "n = len(differences)\n",
        "\n",
        "# Step 2: Calculate the z-score\n",
        "z_score = mean_diff / (std_diff / np.sqrt(n))\n",
        "\n",
        "# Step 3: Calculate the p-value\n",
        "p_value = 2 * (1 - stats.norm.cdf(np.abs(z_score)))  # two-tailed test\n",
        "\n",
        "# Step 4: Print the results\n",
        "print(f\"Z-Score: {z_score}\")\n",
        "print(f\"P-Value: {p_value}\")\n",
        "\n",
        "# Step 5: Compare p-value with significance level (alpha = 0.05)\n",
        "alpha = 0.05\n",
        "if p_value < alpha:\n",
        "    print(\"Reject the null hypothesis: The drug is effective in reducing blood pressure.\")\n",
        "else:\n",
        "    print(\"Fail to reject the null hypothesis: The drug is not effective.\")\n"
      ],
      "metadata": {
        "id": "8xjuKDoBBMnK",
        "colab": {
          "base_uri": "https://localhost:8080/"
        },
        "outputId": "22193cc1-dcb5-4fed-e3f3-7bc94fef60f4"
      },
      "execution_count": null,
      "outputs": [
        {
          "output_type": "stream",
          "name": "stdout",
          "text": [
            "Z-Score: 10.049875621120888\n",
            "P-Value: 0.0\n",
            "Reject the null hypothesis: The drug is effective in reducing blood pressure.\n"
          ]
        }
      ]
    },
    {
      "cell_type": "markdown",
      "source": [
        "Ques- 14  A customer service department claims that their average response time is less than 5 minutes. A sample\n",
        "of recent customer interactions was taken, and the response times were recorded.\n",
        "\n",
        "\n",
        "Implement the below code to generate the array of response time:\n",
        "\n",
        "```python\n",
        "\n",
        "response_times = np.array([4.3, 3.8, 5.1, 4.9, 4.7, 4.2, 5.2, 4.5, 4.6, 4.4])\n",
        "\n",
        "```\n",
        "\n",
        "Implement z-test to find the claims made by customer service department are tru or false."
      ],
      "metadata": {
        "id": "7oO0rae7pXoE"
      }
    },
    {
      "cell_type": "code",
      "source": [
        "# sample response times\n",
        "response_times = np.array([4.3, 3.8, 5.1, 4.9, 4.7, 4.2, 5.2, 4.5, 4.6, 4.4])\n",
        "\n",
        "#Given values\n",
        "mu = 5 #null hypothesis mean\n",
        "n = len(response_times) # sample size\n",
        "xbar = np.mean(response_times) # sample mean\n",
        "std = np.std(response_times , ddof = 1) #sample std with dof\n",
        "\n",
        "# Z test calculation\n",
        "z = (xbar - mu) / (std / np.sqrt(n))\n",
        "\n",
        "# p value for one tailed test\n",
        "Pvalue = stats.norm.cdf(n)\n",
        "\n",
        "#Display the results\n",
        "print(f\"sample mean : {xbar}\")\n",
        "print(f\"sample standard deviation (s) : {std}\")\n",
        "print(f\"Z score :{z}\")\n",
        "print(f\"Pvalue : {Pvalue}\")\n",
        "\n",
        "#Conclusion based on alpha\n",
        "alpha = 0.05\n",
        "if Pvalue < alpha :\n",
        "  print(\"Reject the null hypothesis\")\n",
        "else:\n",
        "  print(\"Failed to reject the null hypothesis\")"
      ],
      "metadata": {
        "id": "xWn18pSZsWvC",
        "colab": {
          "base_uri": "https://localhost:8080/"
        },
        "outputId": "00ab6b55-2787-41c3-d08c-99c9f9c6408a"
      },
      "execution_count": null,
      "outputs": [
        {
          "output_type": "stream",
          "name": "stdout",
          "text": [
            "sample mean : 4.57\n",
            "sample standard deviation (s) : 0.4270050741306634\n",
            "Z score :-3.184457226042963\n",
            "Pvalue : 1.0\n",
            "Failed to reject the null hypothesis\n"
          ]
        }
      ]
    },
    {
      "cell_type": "markdown",
      "source": [
        "Ques-15  A company is testing two different website layouts to see which one leads to higher click-through rates.\n",
        "Write a Python function to perform an A/B test analysis, including calculating the t-statistic, degrees of\n",
        "freedom, and p-value.\n",
        "\n",
        "\n",
        "Use the following data:\n",
        "\n",
        "```python\n",
        "\n",
        "layout_a_clicks = [28, 32, 33, 29, 31, 34, 30, 35, 36, 37]\n",
        "\n",
        "layout_b_clicks = [40, 41, 38, 42, 39, 44, 43, 41, 45, 47]"
      ],
      "metadata": {
        "id": "8rpX7ZRlF9ia"
      }
    },
    {
      "cell_type": "code",
      "source": [
        "layout_a_clicks = [28, 32, 33, 29, 31, 34, 30, 35, 36, 37]\n",
        "layout_b_clicks = [40, 41, 38, 42, 39, 44, 43, 41, 45, 47]\n",
        "\n",
        "\n",
        "def AnalyseTest(layout_a_clicks , layout_b_clicks):\n",
        "\n",
        "  #sample sizes\n",
        "  NA = len(layout_a_clicks)\n",
        "  NB = len(layout_b_clicks)\n",
        "\n",
        "  # Sample means\n",
        "  meanA = np.mean(layout_a_clicks)\n",
        "  meanB = np.mean(layout_b_clicks)\n",
        "\n",
        "  # Sample standard deviation\n",
        "  stdA = np.std(layout_a_clicks)\n",
        "  stdB = np.std(layout_b_clicks)\n",
        "\n",
        "  # Calculate T statistics\n",
        "  Tstats = (meanA - meanB) / np.sqrt((stdA**2 / NA) + (stdB**2 / NB))\n",
        "\n",
        "  # Calculate degree of Freedom\n",
        "  numerator = (stdA**2 / NA + stdB**2 / NB)**2\n",
        "  denominator = ((stdB**2 / NB)**2 / (NA - 1)) + ((stdB**2 / NB)**2 / (NB - 1))\n",
        "  degrees_of_freedom = numerator / denominator\n",
        "\n",
        "  # Calulate p value0\n",
        "  p_value = 2 * (1 - stats.t.cdf(np.abs(Tstats), df=degrees_of_freedom))\n",
        "\n",
        "  # Display results\n",
        "  print(f\"Mean of Layout A: {meanA}\")\n",
        "  print(f\"Mean of Layout B: {meanB}\")\n",
        "  print(f\"Standard Deviation of Layout A: {stdA}\")\n",
        "  print(f\"Standard Deviation of Layout B: {stdB}\")\n",
        "  print(f\"T-statistic: {Tstats}\")\n",
        "  print(f\"Degrees of Freedom: {degrees_of_freedom}\")\n",
        "  print(f\"P-value: {p_value}\")\n",
        "\n",
        "  # conclusion\n",
        "  alpha = 0.05\n",
        "  if p_value < alpha:\n",
        "    print(\"reject the null hypothesis\")\n",
        "\n",
        "  else:\n",
        "    print(\"failed to reject the null hypothesis\")\n",
        "\n",
        "AnalyseTest(layout_a_clicks , layout_b_clicks)"
      ],
      "metadata": {
        "id": "xhE1hd5dptlA",
        "colab": {
          "base_uri": "https://localhost:8080/"
        },
        "outputId": "872116d6-d92e-4123-af49-02e34692b798"
      },
      "execution_count": 4,
      "outputs": [
        {
          "output_type": "stream",
          "name": "stdout",
          "text": [
            "Mean of Layout A: 32.5\n",
            "Mean of Layout B: 42.0\n",
            "Standard Deviation of Layout A: 2.8722813232690143\n",
            "Standard Deviation of Layout B: 2.6457513110645907\n",
            "T-statistic: -7.692875136699702\n",
            "Degrees of Freedom: 21.35778061224489\n",
            "P-value: 1.3699567036340454e-07\n",
            "reject the null hypothesis\n"
          ]
        }
      ]
    },
    {
      "cell_type": "markdown",
      "source": [
        "Ques - 12 A pharmaceutical company wants to determine if a new drug is more effective than an existing drug in\n",
        "reducing cholesterol levels. Create a program to analyze the clinical trial data and calculate the tstatistic and p-value for the treatment effect.\n",
        "\n",
        "\n",
        "Use the following data of cholestrol level:\n",
        "\n",
        "```python\n",
        "\n",
        "existing_drug_levels = [180, 182, 175, 185, 178, 176, 172, 184, 179, 183]\n",
        "\n",
        "new_drug_levels = [170, 172, 165, 168, 175, 173, 170, 178, 172, 176]"
      ],
      "metadata": {
        "id": "1VnT01ncKOKu"
      }
    },
    {
      "cell_type": "code",
      "source": [
        "existing_drug_levels = [180, 182, 175, 185, 178, 176, 172, 184, 179, 183]\n",
        "new_drug_levels = [170, 172, 165, 168, 175, 173, 170, 178, 172, 176]\n",
        "\n",
        "AnalyseTest(existing_drug_levels , new_drug_levels)"
      ],
      "metadata": {
        "colab": {
          "base_uri": "https://localhost:8080/"
        },
        "id": "oWPVPGBDI1Kt",
        "outputId": "44e2484a-d701-4ade-b078-063efbb73aed"
      },
      "execution_count": 5,
      "outputs": [
        {
          "output_type": "stream",
          "name": "stdout",
          "text": [
            "Mean of Layout A: 179.4\n",
            "Mean of Layout B: 171.9\n",
            "Standard Deviation of Layout A: 4.004996878900157\n",
            "Standard Deviation of Layout B: 3.6728735344413916\n",
            "T-statistic: 4.364450175013195\n",
            "Degrees of Freedom: 21.563314065658833\n",
            "P-value: 0.0002577660664342396\n",
            "reject the null hypothesis\n"
          ]
        }
      ]
    },
    {
      "cell_type": "markdown",
      "source": [
        "Ques -17  A school district introduces an educational intervention program to improve math scores. Write a Python\n",
        "function to analyze pre- and post-intervention test scores, calculating the t-statistic and p-value to\n",
        "determine if the intervention had a significant impact.\n",
        "\n",
        "\n",
        "Use the following data of test score:\n",
        "\n",
        "\n",
        "  ```python\n",
        "\n",
        "  pre_intervention_scores = [80, 85, 90, 75, 88, 82, 92, 78, 85, 87]\n",
        "\n",
        "  post_intervention_scores = [90, 92, 88, 92, 95, 91, 96, 93, 89, 93]"
      ],
      "metadata": {
        "id": "wtSMRWjIK7wx"
      }
    },
    {
      "cell_type": "code",
      "source": [
        "pre_intervention_scores = [80, 85, 90, 75, 88, 82, 92, 78, 85, 87]\n",
        "post_intervention_scores = [90, 92, 88, 92, 95, 91, 96, 93, 89, 93]\n",
        "\n",
        "#Analyzing the intervention by previous code\n",
        "AnalyseTest(pre_intervention_scores , post_intervention_scores)"
      ],
      "metadata": {
        "colab": {
          "base_uri": "https://localhost:8080/"
        },
        "id": "kvOKjgo-KliP",
        "outputId": "70a94cca-a5c2-4412-819e-30b2fbd88004"
      },
      "execution_count": 6,
      "outputs": [
        {
          "output_type": "stream",
          "name": "stdout",
          "text": [
            "Mean of Layout A: 84.2\n",
            "Mean of Layout B: 91.9\n",
            "Standard Deviation of Layout A: 5.134199061197375\n",
            "Standard Deviation of Layout B: 2.3853720883753127\n",
            "T-statistic: -4.301071955780182\n",
            "Degrees of Freedom: 142.77233051541106\n",
            "P-value: 3.133704433433415e-05\n",
            "reject the null hypothesis\n"
          ]
        }
      ]
    },
    {
      "cell_type": "markdown",
      "source": [
        "Ques-18  An HR department wants to investigate if there's a gender-based salary gap within the company. Develop\n",
        "a program to analyze salary data, calculate the t-statistic, and determine if there's a statistically\n",
        "significant difference between the average salaries of male and female employees.\n",
        "\n",
        "\n",
        "Use the below code to generate synthetic data:\n",
        "\n",
        "\n",
        "```python\n",
        "\n",
        "# Generate synthetic salary data for male and female employees\n",
        "\n",
        "np.random.seed(0)  # For reproducibility\n",
        "\n",
        "male_salaries = np.random.normal(loc=50000, scale=10000, size=20)\n",
        "\n",
        "female_salaries = np.random.normal(loc=55000, scale=9000, size=20)"
      ],
      "metadata": {
        "id": "oXbtswSiLpxP"
      }
    },
    {
      "cell_type": "code",
      "source": [
        "np.random.seed(0) # For reproducibility\n",
        "male_salaries = np.random.normal(loc=50000, scale=10000, size=20)\n",
        "female_salaries = np.random.normal(loc=55000, scale=9000, size=20)\n",
        "\n",
        "AnalyseTest(male_salaries , female_salaries)"
      ],
      "metadata": {
        "id": "bb_UVanuLhW_",
        "colab": {
          "base_uri": "https://localhost:8080/"
        },
        "outputId": "46fde9f8-1053-4899-8f37-a5c15c134127"
      },
      "execution_count": 7,
      "outputs": [
        {
          "output_type": "stream",
          "name": "stdout",
          "text": [
            "Mean of Layout A: 55693.345929456365\n",
            "Mean of Layout B: 55501.753181380416\n",
            "Standard Deviation of Layout A: 8501.828003994657\n",
            "Standard Deviation of Layout B: 10690.38600059262\n",
            "T-statistic: 0.06273046042966673\n",
            "Degrees of Freedom: 25.317010162127836\n",
            "P-value: 0.9504737897800912\n",
            "failed to reject the null hypothesis\n"
          ]
        }
      ]
    },
    {
      "cell_type": "markdown",
      "source": [
        "Ques- 19 A manufacturer produces two different versions of a product and wants to compare their quality scores.\n",
        "Create a Python function to analyze quality assessment data, calculate the t-statistic, and decide\n",
        "whether there's a significant difference in quality between the two versions.\n",
        "\n",
        "\n",
        "Use the following data:\n",
        "\n",
        "\n",
        "```python\n",
        "\n",
        "version1_scores = [85, 88, 82, 89, 87, 84, 90, 88, 85, 86, 91, 83, 87, 84, 89, 86, 84, 88, 85, 86, 89, 90, 87, 88, 85]\n",
        "\n",
        "version2_scores = [80, 78, 83, 81, 79, 82, 76, 80, 78, 81, 77, 82, 80, 79, 82, 79, 80, 81, 79, 82, 79, 78, 80, 81, 82]"
      ],
      "metadata": {
        "id": "ThhsY5zLQiUD"
      }
    },
    {
      "cell_type": "code",
      "source": [
        "version1_scores = [85, 88, 82, 89, 87, 84, 90, 88, 85, 86, 91, 83, 87, 84, 89, 86, 84, 88, 85, 86, 89, 90, 87, 88, 85]\n",
        "version2_scores = [80, 78, 83, 81, 79, 82, 76, 80, 78, 81, 77, 82, 80, 79, 82, 79, 80, 81, 79, 82, 79, 78, 80, 81, 82]\n",
        "\n",
        "AnalyseTest(version1_scores , version2_scores)"
      ],
      "metadata": {
        "id": "aYi9mgKVQtTK",
        "colab": {
          "base_uri": "https://localhost:8080/"
        },
        "outputId": "455fd285-faf4-497f-cf46-8bf68cacfe62"
      },
      "execution_count": 9,
      "outputs": [
        {
          "output_type": "stream",
          "name": "stdout",
          "text": [
            "Mean of Layout A: 86.64\n",
            "Mean of Layout B: 79.96\n",
            "Standard Deviation of Layout A: 2.313093167168154\n",
            "Standard Deviation of Layout B: 1.731588865753069\n",
            "T-statistic: 11.55937726521971\n",
            "Degrees of Freedom: 93.03582700528155\n",
            "P-value: 0.0\n",
            "reject the null hypothesis\n"
          ]
        }
      ]
    },
    {
      "cell_type": "markdown",
      "source": [
        " 20. A restaurant chain collects customer satisfaction scores for two different branches. Write a program to\n",
        "analyze the scores, calculate the t-statistic, and determine if there's a statistically significant difference in\n",
        "customer satisfaction between the branches.\n",
        "\n",
        "\n",
        "Use the below data of scores:\n",
        "\n",
        "  ```python\n",
        "\n",
        "branch_a_scores = [4, 5, 3, 4, 5, 4, 5, 3, 4, 4, 5, 4, 4, 3, 4, 5, 5, 4, 3, 4, 5, 4, 3, 5, 4, 4, 5, 3, 4, 5, 4]\n",
        "\n",
        "branch_b_scores = [3, 4, 2, 3, 4, 3, 4, 2, 3, 3, 4, 3, 3, 2, 3, 4, 4, 3, 2, 3, 4, 3, 2, 4, 3, 3, 4, 2, 3, 4, 3]\n",
        "\n"
      ],
      "metadata": {
        "id": "IcXwOAAOU3Od"
      }
    },
    {
      "cell_type": "code",
      "source": [
        "branch_a_scores = [4, 5, 3, 4, 5, 4, 5, 3, 4, 4, 5, 4, 4, 3, 4, 5, 5, 4, 3, 4, 5, 4, 3, 5, 4, 4, 5, 3, 4, 5, 4]\n",
        "branch_b_scores = [3, 4, 2, 3, 4, 3, 4, 2, 3, 3, 4, 3, 3, 2, 3, 4, 4, 3, 2, 3, 4, 3, 2, 4, 3, 3, 4, 2, 3, 4, 3]\n",
        "\n",
        "AnalyseTest(branch_a_scores , branch_b_scores)"
      ],
      "metadata": {
        "id": "_ziX16DIRCHK",
        "colab": {
          "base_uri": "https://localhost:8080/"
        },
        "outputId": "b1a10b2b-2c97-4c65-c097-7f0503e3e2b7"
      },
      "execution_count": 10,
      "outputs": [
        {
          "output_type": "stream",
          "name": "stdout",
          "text": [
            "Mean of Layout A: 4.129032258064516\n",
            "Mean of Layout B: 3.129032258064516\n",
            "Standard Deviation of Layout A: 0.7067387838776338\n",
            "Standard Deviation of Layout B: 0.7067387838776338\n",
            "T-statistic: 5.570663485319021\n",
            "Degrees of Freedom: 60.00000000000001\n",
            "P-value: 6.320764851519556e-07\n",
            "reject the null hypothesis\n"
          ]
        }
      ]
    },
    {
      "cell_type": "markdown",
      "source": [
        "Ques-21  A political analyst wants to determine if there is a significant association between age groups and voter\n",
        "preferences (Candidate A or Candidate B). They collect data from a sample of 500 voters and classify\n",
        "them into different age groups and candidate preferences. Perform a Chi-Square test to determine if\n",
        "there is a significant association between age groups and voter preferences.\n",
        "\n",
        "\n",
        "Use the below code to generate data:\n",
        "\n",
        "```python\n",
        "\n",
        "np.random.seed(0)\n",
        "\n",
        "age_groups = np.random.choice([ 18 30 , 31 50 , 51+', 51+'], size=30)\n",
        "\n",
        "voter_preferences = np.random.choice(['Candidate A', 'Candidate B'], size=30)"
      ],
      "metadata": {
        "id": "bvM5IVDaebzZ"
      }
    },
    {
      "cell_type": "code",
      "source": [
        "np.random.seed(0)\n",
        "age_groups = np.random.choice([ 18 , 30 , 31 , 50 , '51+', '51+'], size=30)\n",
        "\n",
        "voter_preferences = np.random.choice(['Candidate A', 'Candidate B'], size=30)\n",
        "\n",
        "import numpy as np\n",
        "import pandas as pd\n",
        "import scipy.stats as stats\n",
        "\n",
        "# Generate data\n",
        "np.random.seed(0)\n",
        "\n",
        "# Simulate age groups and voter preferences\n",
        "age_groups = np.random.choice(['18-30', '31-50', '51+'], size=500)\n",
        "voter_preferences = np.random.choice(['Candidate A', 'Candidate B'], size=500)\n",
        "\n",
        "# Create a DataFrame for easy visualization\n",
        "data = pd.DataFrame({\n",
        "    'Age Group': age_groups,\n",
        "    'Voter Preference': voter_preferences\n",
        "})\n",
        "\n",
        "# Create a contingency table\n",
        "contingency_table = pd.crosstab(data['Age Group'], data['Voter Preference'])\n",
        "\n",
        "# Perform the Chi-Square test\n",
        "chi2_stat, p_value, dof, expected = stats.chi2_contingency(contingency_table)\n",
        "\n",
        "# Display results\n",
        "print(\"Contingency Table:\")\n",
        "print(contingency_table)\n",
        "print(\"\\nChi-Square Statistic:\", chi2_stat)\n",
        "print(\"Degrees of Freedom:\", dof)\n",
        "print(\"Expected Frequencies:\")\n",
        "print(expected)\n",
        "print(\"P-value:\", p_value)\n",
        "\n",
        "# Conclusion based on significance level (alpha = 0.05)\n",
        "alpha = 0.05\n",
        "if p_value < alpha:\n",
        "    print(\"\\nReject the null hypothesis: There is a significant association between age groups and voter preferences.\")\n",
        "else:\n",
        "    print(\"\\nFail to reject the null hypothesis: There is no significant association between age groups and voter preferences.\")\n"
      ],
      "metadata": {
        "colab": {
          "base_uri": "https://localhost:8080/"
        },
        "id": "Tt96oF6CeYug",
        "outputId": "36d386be-f083-4ad4-f898-113e03abc09f"
      },
      "execution_count": 19,
      "outputs": [
        {
          "output_type": "stream",
          "name": "stdout",
          "text": [
            "Contingency Table:\n",
            "Voter Preference  Candidate A  Candidate B\n",
            "Age Group                                 \n",
            "18-30                      95           87\n",
            "31-50                      87           82\n",
            "51+                        84           65\n",
            "\n",
            "Chi-Square Statistic: 0.8779923945254768\n",
            "Degrees of Freedom: 2\n",
            "Expected Frequencies:\n",
            "[[96.824 85.176]\n",
            " [89.908 79.092]\n",
            " [79.268 69.732]]\n",
            "P-value: 0.6446832311860852\n",
            "\n",
            "Fail to reject the null hypothesis: There is no significant association between age groups and voter preferences.\n"
          ]
        }
      ]
    },
    {
      "cell_type": "markdown",
      "source": [
        " 22. A company conducted a customer satisfaction survey to determine if there is a significant relationship\n",
        "between product satisfaction levels (Satisfied, Neutral, Dissatisfied) and the region where customers are\n",
        "located (East, West, North, South). The survey data is summarized in a contingency table. Conduct a ChiSquare test to determine if there is a significant relationship between product satisfaction levels and\n",
        "customer regions.\n",
        "\n",
        "\n",
        "Sample data:\n",
        "\n",
        "```python\n",
        "\n",
        "#Sample data: Product satisfaction levels (rows) vs. Customer regions (columns)\n",
        "\n",
        "data = np.array([[50, 30, 40, 20], [30, 40, 30, 50], [20, 30, 40, 30]]"
      ],
      "metadata": {
        "id": "DGZAfC6Vfhfe"
      }
    },
    {
      "cell_type": "code",
      "source": [
        "data = np.array([[50, 30, 40, 20], [30, 40, 30, 50], [20, 30, 40, 30]])\n",
        "\n",
        "import numpy as np\n",
        "import scipy.stats as stats\n",
        "\n",
        "# Sample data: Product satisfaction levels vs. Customer regions\n",
        "data = np.array([[50, 30, 40, 20],   # Satisfied\n",
        "                 [30, 40, 30, 50],   # Neutral\n",
        "                 [20, 30, 40, 30]])  # Dissatisfied\n",
        "\n",
        "# Perform the Chi-Square test\n",
        "chi2_stat, p_value, dof, expected = stats.chi2_contingency(data)\n",
        "\n",
        "# Display results\n",
        "print(\"Contingency Table (Observed frequencies):\")\n",
        "print(data)\n",
        "print(\"\\nChi-Square Statistic:\", chi2_stat)\n",
        "print(\"Degrees of Freedom:\", dof)\n",
        "print(\"Expected Frequencies:\")\n",
        "print(expected)\n",
        "print(\"P-value:\", p_value)\n",
        "\n",
        "# Conclusion based on significance level (alpha = 0.05)\n",
        "alpha = 0.05\n",
        "if p_value < alpha:\n",
        "    print(\"\\nReject the null hypothesis: There is a significant relationship between product satisfaction levels and customer regions.\")\n",
        "else:\n",
        "    print(\"\\nFail to reject the null hypothesis: There is no significant relationship between product satisfaction levels and customer regions.\")\n"
      ],
      "metadata": {
        "colab": {
          "base_uri": "https://localhost:8080/"
        },
        "id": "wy-tfkTVezq9",
        "outputId": "a85164e1-ac06-49f8-918e-4df4989f4187"
      },
      "execution_count": 21,
      "outputs": [
        {
          "output_type": "stream",
          "name": "stdout",
          "text": [
            "Contingency Table (Observed frequencies):\n",
            "[[50 30 40 20]\n",
            " [30 40 30 50]\n",
            " [20 30 40 30]]\n",
            "\n",
            "Chi-Square Statistic: 27.777056277056275\n",
            "Degrees of Freedom: 6\n",
            "Expected Frequencies:\n",
            "[[34.14634146 34.14634146 37.56097561 34.14634146]\n",
            " [36.58536585 36.58536585 40.24390244 36.58536585]\n",
            " [29.26829268 29.26829268 32.19512195 29.26829268]]\n",
            "P-value: 0.00010349448486004387\n",
            "\n",
            "Reject the null hypothesis: There is a significant relationship between product satisfaction levels and customer regions.\n"
          ]
        }
      ]
    },
    {
      "cell_type": "markdown",
      "source": [
        "Ques-23  A company implemented an employee training program to improve job performance (Effective, Neutral,\n",
        "Ineffective). After the training, they collected data from a sample of employees and classified them based\n",
        "on their job performance before and after the training. Perform a Chi-Square test to determine if there is a\n",
        "significant difference between job performance levels before and after the training.\n",
        "\n",
        "\n",
        "Sample data:\n",
        "\n",
        "```python\n",
        "\n",
        "# Sample data: Job performance levels before (rows) and after (columns) training\n",
        "\n",
        "data = np.array([[50, 30, 20], [30, 40, 30], [20, 30, 40]])"
      ],
      "metadata": {
        "id": "ScFc_Ay1f49s"
      }
    },
    {
      "cell_type": "code",
      "source": [
        "import numpy as np\n",
        "import scipy.stats as stats\n",
        "\n",
        "# Sample data: Job performance levels before and after the training\n",
        "# Rows: Before training (Effective, Neutral, Ineffective)\n",
        "# Columns: After training (Effective, Neutral, Ineffective)\n",
        "data = np.array([[50, 30, 20],  # Before training: Effective, Neutral, Ineffective\n",
        "                 [30, 40, 30],  # Before training: Effective, Neutral, Ineffective\n",
        "                 [20, 30, 40]])  # Before training: Effective, Neutral, Ineffective\n",
        "\n",
        "# Perform the Chi-Square test\n",
        "chi2_stat, p_value, dof, expected = stats.chi2_contingency(data)\n",
        "\n",
        "# Display results\n",
        "print(\"Contingency Table (Observed frequencies):\")\n",
        "print(data)\n",
        "print(\"\\nChi-Square Statistic:\", chi2_stat)\n",
        "print(\"Degrees of Freedom:\", dof)\n",
        "print(\"Expected Frequencies:\")\n",
        "print(expected)\n",
        "print(\"P-value:\", p_value)\n",
        "\n",
        "# Conclusion based on significance level (alpha = 0.05)\n",
        "alpha = 0.05\n",
        "if p_value < alpha:\n",
        "    print(\"/n Reject the null hypothesis: There is a significant difference between jo\")\n"
      ],
      "metadata": {
        "colab": {
          "base_uri": "https://localhost:8080/"
        },
        "id": "S-y_Ja-VgsDk",
        "outputId": "84cd0e08-8b56-4cba-c653-4ff778a80ad9"
      },
      "execution_count": 28,
      "outputs": [
        {
          "output_type": "stream",
          "name": "stdout",
          "text": [
            "Contingency Table (Observed frequencies):\n",
            "[[50 30 20]\n",
            " [30 40 30]\n",
            " [20 30 40]]\n",
            "\n",
            "Chi-Square Statistic: 22.161728395061726\n",
            "Degrees of Freedom: 4\n",
            "Expected Frequencies:\n",
            "[[34.48275862 34.48275862 31.03448276]\n",
            " [34.48275862 34.48275862 31.03448276]\n",
            " [31.03448276 31.03448276 27.93103448]]\n",
            "P-value: 0.00018609719479882557\n",
            "/n Reject the null hypothesis: There is a significant difference between jo\n"
          ]
        }
      ]
    },
    {
      "cell_type": "markdown",
      "source": [
        "Ques-24  A company produces three different versions of a product: Standard, Premium, and Deluxe. The\n",
        "company wants to determine if there is a significant difference in customer satisfaction scores among the\n",
        "three product versions. They conducted a survey and collected customer satisfaction scores for each\n",
        "version from a random sample of customers. Perform an ANOVA test to determine if there is a significant\n",
        "difference in customer satisfaction scores.\n",
        "\n",
        "\n",
        "  Use the following data:\n",
        "\n",
        "  ```python\n",
        "\n",
        "  # Sample data: Customer satisfaction scores for each product version\n",
        "\n",
        "  standard_scores = [80, 85, 90, 78, 88, 82, 92, 78, 85, 87]\n",
        "\n",
        "  premium_scores = [90, 92, 88, 92, 95, 91, 96, 93, 89, 93]\n",
        "\n",
        "  deluxe_scores = [95, 98, 92, 97, 96, 94, 98, 97, 92, 99]"
      ],
      "metadata": {
        "id": "bCsmmuiTgB58"
      }
    },
    {
      "cell_type": "code",
      "source": [
        "import numpy as np\n",
        "import scipy.stats as stats\n",
        "\n",
        "# Sample data: Job performance levels before and after the training\n",
        "# Rows: Before training (Effective, Neutral, Ineffective)\n",
        "# Columns: After training (Effective, Neutral, Ineffective)\n",
        "data = np.array([[50, 30, 20],  # Before training: Effective, Neutral, Ineffective\n",
        "                 [30, 40, 30],  # Before training: Effective, Neutral, Ineffective\n",
        "                 [20, 30, 40]])  # Before training: Effective, Neutral, Ineffective\n",
        "\n",
        "# Perform the Chi-Square test\n",
        "chi2_stat, p_value, dof, expected = stats.chi2_contingency(data)\n",
        "\n",
        "# Display results\n",
        "print(\"Contingency Table (Observed frequencies):\")\n",
        "print(data)\n",
        "print(\"\\nChi-Square Statistic:\", chi2_stat)\n",
        "print(\"Degrees of Freedom:\", dof)\n",
        "print(\"Expected Frequencies:\")\n",
        "print(expected)\n",
        "print(\"P-value:\", p_value)\n",
        "\n",
        "# Conclusion based on significance level (alpha = 0.05)\n",
        "alpha = 0.05\n",
        "if p_value < alpha:\n",
        "    print(\"\\nReject the null hypothesis: There is a significant difference between job performance levels before and after the training.\")\n",
        "else:\n",
        "    print(\"\\nFail to reject the null hypothesis: There is no significant difference betw\")\n"
      ],
      "metadata": {
        "colab": {
          "base_uri": "https://localhost:8080/"
        },
        "id": "sk78WpzcgMCg",
        "outputId": "824d32a2-789f-42b1-8ca1-de7600537905"
      },
      "execution_count": 26,
      "outputs": [
        {
          "output_type": "stream",
          "name": "stdout",
          "text": [
            "Contingency Table (Observed frequencies):\n",
            "[[50 30 20]\n",
            " [30 40 30]\n",
            " [20 30 40]]\n",
            "\n",
            "Chi-Square Statistic: 22.161728395061726\n",
            "Degrees of Freedom: 4\n",
            "Expected Frequencies:\n",
            "[[34.48275862 34.48275862 31.03448276]\n",
            " [34.48275862 34.48275862 31.03448276]\n",
            " [31.03448276 31.03448276 27.93103448]]\n",
            "P-value: 0.00018609719479882557\n",
            "\n",
            "Reject the null hypothesis: There is a significant difference between job performance levels before and after the training.\n"
          ]
        }
      ]
    },
    {
      "cell_type": "code",
      "source": [],
      "metadata": {
        "id": "xU8tDz8yg-av"
      },
      "execution_count": null,
      "outputs": []
    }
  ]
}