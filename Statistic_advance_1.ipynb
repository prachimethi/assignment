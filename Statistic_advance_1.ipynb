{
  "nbformat": 4,
  "nbformat_minor": 0,
  "metadata": {
    "colab": {
      "provenance": [],
      "authorship_tag": "ABX9TyOkPV+wbeX2wEMRD/hH6sbK",
      "include_colab_link": true
    },
    "kernelspec": {
      "name": "python3",
      "display_name": "Python 3"
    },
    "language_info": {
      "name": "python"
    }
  },
  "cells": [
    {
      "cell_type": "markdown",
      "metadata": {
        "id": "view-in-github",
        "colab_type": "text"
      },
      "source": [
        "<a href=\"https://colab.research.google.com/github/prachimethi/assignment/blob/main/Statistic_advance_1.ipynb\" target=\"_parent\"><img src=\"https://colab.research.google.com/assets/colab-badge.svg\" alt=\"Open In Colab\"/></a>"
      ]
    },
    {
      "cell_type": "markdown",
      "source": [
        "ques-1. Explain the properties of the F-distribution."
      ],
      "metadata": {
        "id": "IPHziydN6DTZ"
      }
    },
    {
      "cell_type": "markdown",
      "source": [
        "The F-distribution is defined as the ratio of two independent chi-square distributions, each divided by their respective degrees of freedom. It is used to model the ratio of variances.\n",
        "Mathematically, if\n",
        "𝑋\n",
        "1\n",
        "∼\n",
        "𝜒\n",
        "𝑑\n",
        "1\n",
        "2\n",
        "X\n",
        "1\n",
        "​\n",
        " ∼χ\n",
        "d\n",
        "1\n",
        "​\n",
        "\n",
        "2\n",
        "​\n",
        "  and\n",
        "𝑋\n",
        "2\n",
        "∼\n",
        "𝜒\n",
        "𝑑\n",
        "2\n",
        "2\n",
        "X\n",
        "2\n",
        "​\n",
        " ∼χ\n",
        "d\n",
        "2\n",
        "​\n",
        "\n",
        "2\n",
        "​\n",
        "  are two independent chi-square random variables, then the F-distribution is defined as:\n",
        "𝐹\n",
        "=\n",
        "(\n",
        "𝑋\n",
        "1\n",
        "/\n",
        "𝑑\n",
        "1\n",
        ")\n",
        "(\n",
        "𝑋\n",
        "2\n",
        "/\n",
        "𝑑\n",
        "2\n",
        ")\n",
        "F=\n",
        "(X\n",
        "2\n",
        "​\n",
        " /d\n",
        "2\n",
        "​\n",
        " )\n",
        "(X\n",
        "1\n",
        "​\n",
        " /d\n",
        "1\n",
        "​\n",
        " )\n",
        "​\n",
        "\n",
        "where\n",
        "𝑑\n",
        "1\n",
        "d\n",
        "1\n",
        "​\n",
        "  and\n",
        "𝑑\n",
        "2\n",
        "d\n",
        "2\n",
        "​\n",
        "  are the degrees of freedom associated with\n",
        "𝑋\n",
        "1\n",
        "X\n",
        "1\n",
        "​\n",
        "  and\n",
        "𝑋\n",
        "2\n",
        "X\n",
        "2\n",
        "​\n",
        " , respectively.\n",
        "The F-distribution is continuous, positively skewed, and non-negative (i.e., it only takes values greater than or equal to 0)."
      ],
      "metadata": {
        "id": "jCuPbidy6Ywt"
      }
    },
    {
      "cell_type": "markdown",
      "source": [
        "ques-2. In which types of statistical tests is the F-distribution used, and why is it appropriate for these tests?"
      ],
      "metadata": {
        "id": "kvZY6N7c6hSB"
      }
    },
    {
      "cell_type": "markdown",
      "source": [
        "The F-distribution is used in several types of statistical tests, primarily in situations where the ratio of variances is of interest. It is particularly valuable for comparing the variances of two or more groups and testing hypotheses related to regression models and analysis of variance (ANOVA)."
      ],
      "metadata": {
        "id": "2mKkWwnP7Blj"
      }
    },
    {
      "cell_type": "markdown",
      "source": [
        "ques-3. What are the key assumptions required for conducting an F-test to compare the variances of two\n",
        "populations?"
      ],
      "metadata": {
        "id": "yoNeB_pO7Flt"
      }
    },
    {
      "cell_type": "markdown",
      "source": [
        "Assumptions of conducting an F-test:\n",
        "\n",
        "\n",
        "1. The population from which sample are drawn should be normally distributed.\n",
        "2. The sample should be independent of each other / random.\n",
        "3. Absence of outliers.\n",
        "4. Homogenity of variance\n",
        "\n"
      ],
      "metadata": {
        "id": "X4-WHU9J7fa8"
      }
    },
    {
      "cell_type": "markdown",
      "source": [
        "ques-4  What is the purpose of ANOVA, and how does it differ from a t-test?"
      ],
      "metadata": {
        "id": "7JQfscd18KZd"
      }
    },
    {
      "cell_type": "markdown",
      "source": [
        "ANOVA (Analysis of Variance) is used to compare the means of three or more groups to determine if there is a statistically significant difference between them. It tests the null hypothesis that all group means are equal by comparing the variance between groups to the variance within groups. In contrast, a t-test is used to compare the means of two groups. While both tests assess group mean differences, the t-test is limited to two groups, and ANOVA can handle multiple groups at once without increasing the risk of Type I error. If ANOVA finds significant differences, post-hoc tests are often used to identify which specific groups differ.\n",
        "\n",
        "\n",
        "\n"
      ],
      "metadata": {
        "id": "c475X5038jth"
      }
    },
    {
      "cell_type": "markdown",
      "source": [
        "ques-5 Explain when and why you would use a one-way ANOVA instead of multiple t-tests when comparing more\n",
        "than two groups."
      ],
      "metadata": {
        "id": "PPQJJRvq8lZk"
      }
    },
    {
      "cell_type": "markdown",
      "source": [
        "we should use a one-way ANOVA instead of multiple t-tests when comparing more than two groups because ANOVA is specifically designed to handle comparisons involving three or more groups while controlling for the Type I error rate."
      ],
      "metadata": {
        "id": "C7t2jDJv9pH4"
      }
    },
    {
      "cell_type": "markdown",
      "source": [
        "6. Explain how variance is partitioned in ANOVA into between-group variance and within-group variance.\n",
        "How does this partitioning contribute to the calculation of the F-statistic?"
      ],
      "metadata": {
        "id": "4uHPwmZE9v5Y"
      }
    },
    {
      "cell_type": "markdown",
      "source": [
        "In ANOVA (Analysis of Variance), the total variance in the data is partitioned into two components: between-group variance and within-group variance. This partitioning is essential for calculating the F-statistic, which determines if there are significant differences between group means.\n",
        "\n",
        "1. Between-Group Variance:\n",
        "The between-group variance (also called the mean square between or MSB) represents the variability between the group means. It quantifies how much the group means differ from the overall mean.\n",
        "\n",
        "2. Within group variance:\n",
        "The within-group variance (also called the mean square within or MSW) represents the variability within each group. It measures how much individual data points differ from their respective group means."
      ],
      "metadata": {
        "id": "e1tEK6Cu-gSJ"
      }
    },
    {
      "cell_type": "markdown",
      "source": [
        "ques-7. Compare the classical (frequentist) approach to ANOVA with the Bayesian approach. What are the key\n",
        "differences in terms of how they handle uncertainty, parameter estimation, and hypothesis testing?"
      ],
      "metadata": {
        "id": "gdEdk-Tg-6cC"
      }
    },
    {
      "cell_type": "markdown",
      "source": [
        "The classical (frequentist) approach and the Bayesian approach to ANOVA both aim to assess whether there are significant differences between group means, but they differ in their treatment of uncertainty, parameter estimation, and hypothesis testing.\n",
        "\n",
        "1. Handling Uncertainty:\n",
        "\n",
        "Frequentist Approach:\n",
        "In the frequentist framework, uncertainty is typically handled through the sampling distribution of the statistic (e.g., F-statistic). The results are interpreted in terms of p-values and confidence intervals.\n",
        "\n",
        "Bayesian Approach:\n",
        "The Bayesian approach treats parameters as random variables, which means they have a distribution (called a prior distribution) that reflects any prior knowledge or beliefs about the parameters before seeing the data."
      ],
      "metadata": {
        "id": "qI3uyqJu_s6y"
      }
    },
    {
      "cell_type": "markdown",
      "source": [
        "ques-8. Question: You have two sets of data representing the incomes of two different professions:\n",
        "\n",
        " Profession A: [48, 52, 55, 60, 62']\n",
        "\n",
        " Profession B: [45, 50, 55, 52, 47]\n",
        "\n",
        " Perform an F-test to determine if the variances of the two professions'\n",
        "incomes are equal. What are your conclusions based on the F-test?\n",
        "\n",
        "Task: Use Python to calculate the F-statistic and p-value for the given data.\n",
        "\n",
        "Objective: Gain experience in performing F-tests and interpreting the results in terms of variance comparison."
      ],
      "metadata": {
        "id": "IuqbF1Uc_77l"
      }
    },
    {
      "cell_type": "code",
      "source": [
        "import numpy as np\n",
        "from scipy import stats\n",
        "\n",
        "Professiona = [48, 52, 55, 60, 62]\n",
        "Professionb= [45, 50, 55, 52, 47]"
      ],
      "metadata": {
        "id": "1wxiSHD66HYT"
      },
      "execution_count": 20,
      "outputs": []
    },
    {
      "cell_type": "code",
      "source": [
        "#first calculate the variance\n",
        "fstats = np.var(Professiona) / np.var(Professionb)\n",
        "\n",
        "#calculate degree of freedom\n",
        "df = len(Professiona)-1\n",
        "df1 = len(Professionb)-1\n",
        "\n",
        "#set the significance\n",
        "alpha = 0.05\n",
        "\n",
        "#critical value for fstats\n",
        "crival = stats.f.ppf(q=1-alpha, dfn=df, dfd=df1)\n",
        "\n",
        "#hypothesis testing\n",
        "if fstats > crival:\n",
        "  print(\"reject the null hypothesis\",\"both the professins income are equal\")\n",
        "else:\n",
        "  print(\"failed to reject the null hypothesis, both the professins income are not equal\")\n"
      ],
      "metadata": {
        "colab": {
          "base_uri": "https://localhost:8080/"
        },
        "id": "GewRuNwlAfVA",
        "outputId": "fc2b6a2b-b444-467f-f3f2-ea1673f963a5"
      },
      "execution_count": 21,
      "outputs": [
        {
          "output_type": "stream",
          "name": "stdout",
          "text": [
            "failed to reject the null hypothesis, both the professins income are not equal\n"
          ]
        }
      ]
    },
    {
      "cell_type": "markdown",
      "source": [
        "ques-9. Question: Conduct a one-way ANOVA to test whether there are any statistically significant differences in\n",
        "average heights between three different regions with the following data:\n",
        "\n",
        " Region A: [160, 162, 165, 158, 164]\n",
        "\n",
        " Region B: [172, 175, 170, 168, 174]\n",
        "\n",
        " Region C: [180, 182, 179, 185, 183]\n",
        "\n",
        " Task: Write Python code to perform the one-way ANOVA and interpret the results.\n",
        "\n",
        " Objective: Learn how to perform one-way ANOVA using Python and interpret F-statistic and p-value"
      ],
      "metadata": {
        "id": "7wL6Iw2mFcXr"
      }
    },
    {
      "cell_type": "code",
      "source": [
        "Regiona= [160, 162, 165, 158, 164]\n",
        "Regionb= [172, 175, 170, 168, 174]\n",
        "Regionc= [180, 182, 179, 185, 183]"
      ],
      "metadata": {
        "id": "A7gsfzsZEqvZ"
      },
      "execution_count": 22,
      "outputs": []
    },
    {
      "cell_type": "code",
      "source": [
        "fstats, pval = stats.f_oneway(Regiona, Regionb, Regionc)\n",
        "\n",
        "if pval<= 0.05:\n",
        "  print(\"reject the null hypothesis\")\n",
        "else:\n",
        "  print(\"failed to reject the null hypothesis\")\n"
      ],
      "metadata": {
        "colab": {
          "base_uri": "https://localhost:8080/"
        },
        "id": "Gh04s0rqF-0Q",
        "outputId": "bb51a239-f217-41ea-feaa-3acc3f87ce05"
      },
      "execution_count": 24,
      "outputs": [
        {
          "output_type": "stream",
          "name": "stdout",
          "text": [
            "reject the null hypothesis\n"
          ]
        }
      ]
    },
    {
      "cell_type": "code",
      "source": [],
      "metadata": {
        "id": "AINVYHZCI3Dy"
      },
      "execution_count": null,
      "outputs": []
    }
  ]
}