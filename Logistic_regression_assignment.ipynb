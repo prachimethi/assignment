{
  "nbformat": 4,
  "nbformat_minor": 0,
  "metadata": {
    "colab": {
      "provenance": [],
      "authorship_tag": "ABX9TyPQPunhQh4RqCkjVGhnRWAy",
      "include_colab_link": true
    },
    "kernelspec": {
      "name": "python3",
      "display_name": "Python 3"
    },
    "language_info": {
      "name": "python"
    }
  },
  "cells": [
    {
      "cell_type": "markdown",
      "metadata": {
        "id": "view-in-github",
        "colab_type": "text"
      },
      "source": [
        "<a href=\"https://colab.research.google.com/github/prachimethi/assignment/blob/main/Logistic_regression_assignment.ipynb\" target=\"_parent\"><img src=\"https://colab.research.google.com/assets/colab-badge.svg\" alt=\"Open In Colab\"/></a>"
      ]
    },
    {
      "cell_type": "markdown",
      "source": [
        "#**THEORITICAL QUESTIONS**"
      ],
      "metadata": {
        "id": "xMum6pMCJ8GA"
      }
    },
    {
      "cell_type": "markdown",
      "source": [
        "Ques-1 What is Logistic Regression, and how does it differ from Linear Regression?"
      ],
      "metadata": {
        "id": "nRlMK6Z0KJ4y"
      }
    },
    {
      "cell_type": "markdown",
      "source": [
        "Logistic Regression and Linear Regression are both statistical techniques used in machine learning and data analysis, but they serve different purposes and are based on different mathematical models.\n",
        "\n",
        "Linear Regression:\n",
        "\n",
        " It is used to predict a continuous numerical outcome (dependent variable) based on one or more independent variables. The model assumes a linear relationship between the dependent variable\n",
        "𝑦\n",
        "y and the independent variable(s)\n",
        "𝑥\n",
        "x. It tries to fit a straight line to the data.\n",
        "\n",
        "Logistic Regression:\n",
        "\n",
        "It is used for classification tasks, especially when the dependent variable is categorical (often binary, i.e., 0 or 1).Logistic regression predicts probabilities that an instance belongs to a particular class (e.g., 0 or 1), rather than predicting a continuous value."
      ],
      "metadata": {
        "id": "ZCcAlpAmKPeO"
      }
    },
    {
      "cell_type": "markdown",
      "source": [
        "Ques-2  What is the mathematical equation of Logistic Regression ?"
      ],
      "metadata": {
        "id": "OckqRxw_K1Rz"
      }
    },
    {
      "cell_type": "markdown",
      "source": [
        "The equation is similar to linear regression but passed through a logistic (sigmoid) function to map the result between 0 and 1:\n",
        "\n",
        "𝑝\n",
        "=\n",
        "1\n",
        "1\n",
        "+\n",
        "𝑒\n",
        "−\n",
        "(\n",
        "𝛽\n",
        "0\n",
        "+\n",
        "𝛽\n",
        "1\n",
        "𝑥\n",
        "1\n",
        "+\n",
        "𝛽\n",
        "2\n",
        "𝑥\n",
        "2\n",
        "+\n",
        "⋯\n",
        "+\n",
        "𝛽\n",
        "𝑛\n",
        "𝑥\n",
        "𝑛\n",
        ")\n",
        "p=\n",
        "1+e\n",
        "−(β\n",
        "0\n",
        "​\n",
        " +β\n",
        "1\n",
        "​\n",
        " x\n",
        "1\n",
        "​\n",
        " +β\n",
        "2\n",
        "​\n",
        " x\n",
        "2\n",
        "​\n",
        " +⋯+β\n",
        "n\n",
        "​\n",
        " x\n",
        "n\n",
        "​\n",
        " )\n",
        "\n",
        "1\n",
        "​\n",
        "\n",
        "Where:\n",
        "\n",
        "𝑝\n",
        "p is the predicted probability of the class being 1,\n",
        "\n",
        "\n",
        "𝛽\n",
        "0\n",
        ",\n",
        "𝛽\n",
        "1\n",
        ",\n",
        "…\n",
        "β\n",
        "0\n",
        "​\n",
        " ,β\n",
        "1\n",
        "​\n",
        " ,… are the model parameters,\n",
        "\n",
        "\n",
        "𝑥\n",
        "1\n",
        ",\n",
        "𝑥\n",
        "2\n",
        ",\n",
        "…\n",
        "x\n",
        "1\n",
        "​\n",
        " ,x\n",
        "2\n",
        "​\n",
        " ,… are the independent variables."
      ],
      "metadata": {
        "id": "N8_1VPcQK6_L"
      }
    },
    {
      "cell_type": "markdown",
      "source": [
        "Ques-3 Why do we use the Sigmoid function in Logistic Regression ?"
      ],
      "metadata": {
        "id": "vmcn7BpiLNxh"
      }
    },
    {
      "cell_type": "markdown",
      "source": [
        "We use the sigmoid function in logistic regression because it allows us to model the probability that an observation belongs to a particular class, which is crucial for classification tasks. The sigmoid function transforms the output of the linear regression equation into a value between 0 and 1, making it interpretable as a probability."
      ],
      "metadata": {
        "id": "TEbx6-8RL0Wz"
      }
    },
    {
      "cell_type": "markdown",
      "source": [
        "Ques-4 What is the cost function of Logistic Regression?"
      ],
      "metadata": {
        "id": "LWEMugb0MDKa"
      }
    },
    {
      "cell_type": "markdown",
      "source": [
        "In logistic regression, the cost function (also called the loss function) is used to measure how well the model's predictions match the actual outcomes (or labels) in the training dataset. The goal of logistic regression is to minimize this cost function, thus making the model's predictions as accurate as possible.\n",
        "\n",
        "For logistic regression, the cost function is based on the log-likelihood or cross-entropy between the predicted probabilities and the true class labels. The most common cost function used for logistic regression."
      ],
      "metadata": {
        "id": "5hr3nZUuMsy9"
      }
    },
    {
      "cell_type": "markdown",
      "source": [
        "Ques-5 What is Regularization in Logistic Regression? Why is it needed?"
      ],
      "metadata": {
        "id": "xAbn8_6gM4LY"
      }
    },
    {
      "cell_type": "markdown",
      "source": [
        "Regularization in logistic regression is a technique used to prevent the model from overfitting, especially when the model has many features or when the data is noisy. Regularization modifies the cost function to penalize large coefficients (weights) in the model, discouraging the model from becoming overly complex or sensitive to the training data.\n",
        "\n",
        "Regularization is Needed:\n",
        "1. Overfitting Prevention\n",
        "2. Feature selection\n",
        "3. Handling multicollinearity\n"
      ],
      "metadata": {
        "id": "r44OQ8QeM9Cj"
      }
    },
    {
      "cell_type": "markdown",
      "source": [
        "Ques-six  Explain the difference between Lasso, Ridge, and Elastic Net regression?"
      ],
      "metadata": {
        "id": "2e6_RLGENhiT"
      }
    },
    {
      "cell_type": "markdown",
      "source": [
        "In linear regression, Lasso, Ridge, and Elastic Net are all regularization techniques that add penalties to the cost function to prevent overfitting and encourage simpler models. Each of these methods applies different regularization strategies, which can affect how the model behaves and how it handles the features in the data.\n",
        "\n",
        "1. Ridge Regression (L2 Regularization):\n",
        "Penalty Term: The penalty in Ridge regression is based on the sum of the squares of the model coefficients.\n",
        "𝐽\n",
        "(\n",
        "𝜃\n",
        ")\n",
        "=\n",
        "Cost Function\n",
        "+\n",
        "𝜆\n",
        "∑\n",
        "𝑗\n",
        "=\n",
        "1\n",
        "𝑛\n",
        "𝜃\n",
        "𝑗\n",
        "2\n",
        "J(θ)=Cost Function+λ\n",
        "j=1\n",
        "∑\n",
        "n\n",
        "​\n",
        " θ\n",
        "j\n",
        "2\n",
        "​\n",
        "\n",
        "Where:\n",
        "𝜆\n",
        "λ is the regularization parameter,\n",
        "𝜃\n",
        "𝑗\n",
        "θ\n",
        "j\n",
        "​\n",
        "  are the coefficients of the features,\n",
        "The penalty term\n",
        "𝜆\n",
        "∑\n",
        "𝑗\n",
        "=\n",
        "1\n",
        "𝑛\n",
        "𝜃\n",
        "𝑗\n",
        "2\n",
        "λ∑\n",
        "j=1\n",
        "n\n",
        "​\n",
        " θ\n",
        "j\n",
        "2\n",
        "​\n",
        "  is called the L2 penalty.\n",
        "Effect: Ridge regression shrinks the coefficients, making them smaller but does not eliminate them. It prevents large weights, but keeps all features in the model.\n",
        "When to Use: Ridge is useful when you have many features and suspect that most of them contribute to the prediction. It works well when the features are highly correlated or when there is a lot of noise in the data.\n",
        "Main Goal: Minimize the coefficients without forcing any of them to zero. The model retains all features, but their impact is limited.\n",
        "2. Lasso Regression (L1 Regularization):\n",
        "Penalty Term: The penalty in Lasso regression is based on the sum of the absolute values of the model coefficients.\n",
        "𝐽\n",
        "(\n",
        "𝜃\n",
        ")\n",
        "=\n",
        "Cost Function\n",
        "+\n",
        "𝜆\n",
        "∑\n",
        "𝑗\n",
        "=\n",
        "1\n",
        "𝑛\n",
        "∣\n",
        "𝜃\n",
        "𝑗\n",
        "∣\n",
        "J(θ)=Cost Function+λ\n",
        "j=1\n",
        "∑\n",
        "n\n",
        "​\n",
        " ∣θ\n",
        "j\n",
        "​\n",
        " ∣\n",
        "Where:\n",
        "𝜆\n",
        "λ is the regularization parameter,\n",
        "𝜃\n",
        "𝑗\n",
        "θ\n",
        "j\n",
        "​\n",
        "  are the model coefficients,\n",
        "The penalty term\n",
        "𝜆\n",
        "∑\n",
        "𝑗\n",
        "=\n",
        "1\n",
        "𝑛\n",
        "∣\n",
        "𝜃\n",
        "𝑗\n",
        "∣\n",
        "λ∑\n",
        "j=1\n",
        "n\n",
        "​\n",
        " ∣θ\n",
        "j\n",
        "​\n",
        " ∣ is called the L1 penalty.\n",
        "Effect: Lasso regression encourages sparsity, meaning that it shrinks some coefficients to exactly zero, effectively removing the corresponding features from the model.\n",
        "When to Use: Lasso is useful when you suspect that only a subset of the features is important for the prediction. It is particularly useful for feature selection, as it automatically sets the coefficients of irrelevant features to zero.\n",
        "Main Goal: Perform feature selection by shrinking some feature coefficients to zero while keeping others.\n",
        "3. Elastic Net Regression:\n",
        "Penalty Term: Elastic Net is a combination of both L1 (Lasso) and L2 (Ridge) penalties.\n",
        "𝐽\n",
        "(\n",
        "𝜃\n",
        ")\n",
        "=\n",
        "Cost Function\n",
        "+\n",
        "𝜆\n",
        "1\n",
        "∑\n",
        "𝑗\n",
        "=\n",
        "1\n",
        "𝑛\n",
        "∣\n",
        "𝜃\n",
        "𝑗\n",
        "∣\n",
        "+\n",
        "𝜆\n",
        "2\n",
        "2\n",
        "∑\n",
        "𝑗\n",
        "=\n",
        "1\n",
        "𝑛\n",
        "𝜃\n",
        "𝑗\n",
        "2\n",
        "J(θ)=Cost Function+λ\n",
        "1\n",
        "​\n",
        "  \n",
        "j=1\n",
        "∑\n",
        "n\n",
        "​\n",
        " ∣θ\n",
        "j\n",
        "​\n",
        " ∣+\n",
        "2\n",
        "λ\n",
        "2\n",
        "​\n",
        "\n",
        "​\n",
        "  \n",
        "j=1\n",
        "∑\n",
        "n\n",
        "​\n",
        " θ\n",
        "j\n",
        "2\n",
        "​\n",
        "\n",
        "Where:\n",
        "𝜆\n",
        "1\n",
        "λ\n",
        "1\n",
        "​\n",
        "  controls the strength of the L1 penalty (Lasso),\n",
        "𝜆\n",
        "2\n",
        "λ\n",
        "2\n",
        "​\n",
        "  controls the strength of the L2 penalty (Ridge),\n",
        "𝜃\n",
        "𝑗\n",
        "θ\n",
        "j\n",
        "​\n",
        "  are the model coefficients.\n",
        "Effect: Elastic Net combines the strengths of both Lasso and Ridge:\n",
        "It allows for sparsity (like Lasso), but also shrinks coefficients (like Ridge).\n",
        "It can handle situations where there are highly correlated features, something that pure Lasso can struggle with.\n",
        "When to Use: Elastic Net is useful when you have many features, some of which may be correlated, and you want to combine the benefits of both Lasso and Ridge. It is particularly helpful when the number of features is greater than the number of observations or when features are highly correlated.\n",
        "Main Goal: Combine the advantages of feature selection (from Lasso) and regularization (from Ridge)."
      ],
      "metadata": {
        "id": "vGj4B9HrNoV3"
      }
    },
    {
      "cell_type": "markdown",
      "source": [
        "Ques-7  When should we use Elastic Net instead of Lasso or Ridge ?"
      ],
      "metadata": {
        "id": "kL3goWB1OdIH"
      }
    },
    {
      "cell_type": "markdown",
      "source": [
        "We should use elastic net instead of lasso and ridge:\n",
        "1. when features are highly correlated\n",
        "2. when you have more features then samples\n",
        "3. when lasso alone does not perform well\n",
        "4. when you need a balance between lasso and ridge\n",
        "5. when you want a more stable model and reduced bias\n",
        "6. When You Want Feature Selection and Regularization Simultaneously\n",
        "7. when there is no clear preference between lasso and ridge\n"
      ],
      "metadata": {
        "id": "0kQ6MGQdOjqX"
      }
    },
    {
      "cell_type": "markdown",
      "source": [
        "Ques-8 What is the impact of the regularization parameter (λ) in Logistic Regression ?"
      ],
      "metadata": {
        "id": "-JjwYxbmPqC5"
      }
    },
    {
      "cell_type": "markdown",
      "source": [
        "The regularization parameter\n",
        "𝜆\n",
        "λ (lambda) plays a crucial role in Logistic Regression with regularization (whether using L1 (Lasso), L2 (Ridge), or Elastic Net). It controls the strength of the regularization applied to the model, which directly impacts the model's performance, complexity, and generalization ability.\n"
      ],
      "metadata": {
        "id": "825HmsnwPxC1"
      }
    },
    {
      "cell_type": "markdown",
      "source": [
        "Ques-9 What are the key assumptions of Logistic Regression ?"
      ],
      "metadata": {
        "id": "SvAqy1ltQHiO"
      }
    },
    {
      "cell_type": "markdown",
      "source": [
        "Logistic regression, like any other statistical model, comes with a set of assumptions that are important for ensuring the model’s validity and reliability. While logistic regression is less restrictive compared to linear regression, it still relies on certain assumptions to produce meaningful results. Here are the key assumptions of logistic regression:\n",
        "\n",
        "1. Binary Outcome (Dependent Variable)\n",
        "2. Independence of observations\n",
        "3. Linearity of log ods\n",
        "4. no or little multicollinearity\n",
        "5. No high leverage outliers\n",
        "6. Large Sample Size\n",
        "7. No significant Measurment error for predictors\n",
        "8. the log-likelihood is maximum"
      ],
      "metadata": {
        "id": "WXAYxIGPQcMA"
      }
    },
    {
      "cell_type": "markdown",
      "source": [
        "Ques-10 What are some alternatives to Logistic Regression for classification tasks ?"
      ],
      "metadata": {
        "id": "-uQIyUbLQ-yE"
      }
    },
    {
      "cell_type": "markdown",
      "source": [
        "For classification tasks, there are several alternatives to Logistic Regression. These models vary in complexity and performance depending on the nature of the data and the problem at hand. Some popular alternatives include:\n",
        "\n",
        "1. Decision Trees\n",
        "2. Random Forest\n",
        "3. Support vector machine\n",
        "4. k- Nearest neighbours\n",
        "5. naive bayes\n",
        "6. Neural Networks\n",
        "7. Gradient boosting machines\n",
        "8. ada boost\n",
        "9. Linear Discriminant Analysis (LDA)"
      ],
      "metadata": {
        "id": "3vxO5G_rRsek"
      }
    },
    {
      "cell_type": "markdown",
      "source": [
        "Ques-11 What are Classification Evaluation Metrics ?"
      ],
      "metadata": {
        "id": "hh3zabtqSN1o"
      }
    },
    {
      "cell_type": "markdown",
      "source": [
        "Classification evaluation metrics are used to assess the performance of classification models. These metrics help to understand how well a model is predicting the correct class labels. Depending on the nature of the task (binary or multi-class classification) and the dataset, different metrics are more appropriate for evaluating performance."
      ],
      "metadata": {
        "id": "0UQfJBQvQOMF"
      }
    },
    {
      "cell_type": "markdown",
      "source": [
        "Ques-12 How does class imbalance affect Logistic Regression ?"
      ],
      "metadata": {
        "id": "9YYCvceCSfVY"
      }
    },
    {
      "cell_type": "markdown",
      "source": [
        "Class imbalance can have a significant effect on the performance of Logistic Regression (and many other machine learning models). Here’s how it affects the model, as well as some potential solutions to address the problem:\n",
        "\n",
        "Impact of Class Imbalance on Logistic Regression\n",
        "1. Bias Toward the Majority Class\n",
        "2. poor evaluation metrics\n",
        "3. underestimated probability of minority class\n",
        "4. decision boundaries issue\n"
      ],
      "metadata": {
        "id": "vLFtX6OsSzCJ"
      }
    },
    {
      "cell_type": "markdown",
      "source": [
        "Ques-13 What is Hyperparameter Tuning in Logistic Regression ?"
      ],
      "metadata": {
        "id": "Xar-0qBRTOgI"
      }
    },
    {
      "cell_type": "markdown",
      "source": [
        "Hyperparameter tuning in Logistic Regression refers to the process of selecting the optimal set of hyperparameters (parameters that are set before the model is trained) to improve the model’s performance. These hyperparameters are not learned from the data directly, but rather are manually set prior to training the model, and they can significantly affect the accuracy and generalizability of the model."
      ],
      "metadata": {
        "id": "UZKx5pOdTT_A"
      }
    },
    {
      "cell_type": "markdown",
      "source": [
        "Ques-14 What are different solvers in Logistic Regression? Which one should be used ?"
      ],
      "metadata": {
        "id": "kA_7nWigThSm"
      }
    },
    {
      "cell_type": "markdown",
      "source": [
        "In Logistic Regression, the choice of solver refers to the algorithm used to optimize the cost function (log-likelihood) and find the model's coefficients (weights). Logistic Regression is typically optimized by iterative optimization algorithms, and the solver you choose can affect the speed of convergence, model accuracy, and scalability to large datasets.\n",
        "\n",
        "Here are the different solvers available in Logistic Regression, particularly in popular libraries like scikit-learn, and the scenarios in which each should be used:\n",
        "\n",
        "1. Newton-CG (Newton's Conjugate Gradient)\n",
        "2. LBFGS (Limited-memory Broyden–Fletcher–Goldfarb–Shanno)\n",
        "3. Liblinear\n",
        "4. SAGA\n",
        "5. Sag (Stochastic Average Gradient)"
      ],
      "metadata": {
        "id": "KI--YpkbTqTz"
      }
    },
    {
      "cell_type": "markdown",
      "source": [
        "Ques-15 How is Logistic Regression extended for multiclass classification ?"
      ],
      "metadata": {
        "id": "bwH4yBNjUIoF"
      }
    },
    {
      "cell_type": "markdown",
      "source": [
        "Logistic Regression, by default, is a binary classifier, meaning it predicts one of two possible outcomes (e.g., class 0 or class 1). However, many real-world problems require multiclass classification, where there are more than two possible classes.\n",
        "\n",
        "To handle multiclass classification in Logistic Regression, several strategies can be used to extend the binary logistic regression model. The two most common approaches are One-vs-Rest (OvR) and Multinomial Logistic Regression."
      ],
      "metadata": {
        "id": "BpJLtPpoUaqn"
      }
    },
    {
      "cell_type": "markdown",
      "source": [
        "Ques-  What are the advantages and disadvantages of Logistic Regression?"
      ],
      "metadata": {
        "id": "je7Ad3c7Uk-K"
      }
    },
    {
      "cell_type": "markdown",
      "source": [
        "Logistic Regression is a popular and widely used model for binary and multiclass classification tasks. It has several advantages, but also some limitations. Below is a breakdown of the advantages and disadvantages of Logistic Regression:\n",
        "\n",
        "Advantages of Logistic Regression\n",
        "1. Simple to Implement and Interpret:\n",
        "\n",
        "2. Interpretability\n",
        "3. Efficiency\n",
        "\n",
        "4. Fast Training\n",
        "5. Probabilistic Output:\n",
        "6. Less Prone to Overfitting\n",
        "7. Multiclass Classification:\n",
        "\n",
        "8. Works Well for Linearly Separable Classes:\n",
        "\n",
        "\n",
        "Disadvantages of Logistic Regression\n",
        "1. Assumption of Linearity:\n",
        "\n",
        "2. Sensitive to Outliers:\n",
        "\n",
        "3. Cannot Model Complex Relationships:\n",
        "4. Limited Flexibility for Multiclass Problems:\n",
        "5. Poor Performance on Highly Imbalanced Data:\n",
        "6. Feature Engineering Required:\n",
        "7. Inability to Handle Large Feature Spaces Without Regularization:\n",
        "\n"
      ],
      "metadata": {
        "id": "u0VIu2rVVC_b"
      }
    },
    {
      "cell_type": "markdown",
      "source": [
        "Ques-17 What are some use cases of Logistic Regression?"
      ],
      "metadata": {
        "id": "fLvbypvtWWDj"
      }
    },
    {
      "cell_type": "markdown",
      "source": [
        "Logistic regression is a versatile statistical method used for various purposes, especially in binary classification problems. Here are some common use cases:\n",
        "\n",
        "1. Spam Detection (Email Classification)\n",
        "2. Medical diagonsis\n",
        "3. Credit Scoring and Risk Assessment\n",
        "4. Marketing Campaign Effectiveness\n",
        "5. customer churn protection\n",
        "6. Fraud Detection\n",
        "7. Political science and voting behaviour"
      ],
      "metadata": {
        "id": "v9-0ysoYWa0e"
      }
    },
    {
      "cell_type": "markdown",
      "source": [
        "Ques-18 What is the difference between Softmax Regression and Logistic Regression ?"
      ],
      "metadata": {
        "id": "6f4FOeHzb9KL"
      }
    },
    {
      "cell_type": "markdown",
      "source": [
        "Both Softmax Regression and Logistic Regression are widely used for classification tasks, but they differ in the following ways:\n",
        "\n",
        "1. Type of Classification:\n",
        "Logistic Regression:\n",
        "It is used for binary classification, meaning the output can take only two values (e.g., \"yes\" or \"no,\" \"spam\" or \"not spam\"). The model predicts the probability of the positive class (usually denoted as 1) and uses the sigmoid function to map the output to a range between 0 and 1.\n",
        "Softmax Regression (Multinomial Logistic Regression):\n",
        "It is used for multiclass classification (more than two classes). Softmax regression generalizes logistic regression to handle multiple classes. Instead of predicting just one probability, it predicts a probability distribution across multiple classes, ensuring that the sum of all class probabilities is 1.\n",
        "2. Output:\n",
        "Logistic Regression:\n",
        "The output is a single probability (for the positive class). For binary classification, the model predicts the probability of the class being 1, and the probability of the other class (0) is simply 1 minus this probability.\n",
        "Softmax Regression:\n",
        "The output is a vector of probabilities for each class. For each class, the model predicts the probability that the input belongs to that class, and the sum of all these probabilities is 1.\n",
        "3. Mathematical Formulation:\n",
        "Logistic Regression:\n",
        "\n",
        "Logistic regression uses the sigmoid function for binary classification:\n",
        "𝑃\n",
        "(\n",
        "𝑦\n",
        "=\n",
        "1\n",
        "∣\n",
        "𝑋\n",
        ")\n",
        "=\n",
        "1\n",
        "1\n",
        "+\n",
        "𝑒\n",
        "−\n",
        "𝑧\n",
        "P(y=1∣X)=\n",
        "1+e\n",
        "−z\n",
        "\n",
        "1\n",
        "​\n",
        "\n",
        "where\n",
        "𝑧\n",
        "=\n",
        "𝑤\n",
        "𝑇\n",
        "𝑋\n",
        "+\n",
        "𝑏\n",
        "z=w\n",
        "T\n",
        " X+b is the linear combination of input features\n",
        "𝑋\n",
        "X with the weights\n",
        "𝑤\n",
        "w and bias\n",
        "𝑏\n",
        "b.\n",
        "\n",
        "Softmax Regression:\n",
        "\n",
        "Softmax regression uses the softmax function for multiclass classification:\n",
        "𝑃\n",
        "(\n",
        "𝑦\n",
        "=\n",
        "𝑘\n",
        "∣\n",
        "𝑋\n",
        ")\n",
        "=\n",
        "𝑒\n",
        "𝑧\n",
        "𝑘\n",
        "∑\n",
        "𝑖\n",
        "=\n",
        "1\n",
        "𝐾\n",
        "𝑒\n",
        "𝑧\n",
        "𝑖\n",
        "P(y=k∣X)=\n",
        "∑\n",
        "i=1\n",
        "K\n",
        "​\n",
        " e\n",
        "z\n",
        "i\n",
        "​\n",
        "\n",
        "\n",
        "e\n",
        "z\n",
        "k\n",
        "​\n",
        "\n",
        "\n",
        "​\n",
        "\n",
        "where\n",
        "𝑧\n",
        "𝑘\n",
        "z\n",
        "k\n",
        "​\n",
        "  is the score for class\n",
        "𝑘\n",
        "k (a linear combination of inputs like in logistic regression) and\n",
        "𝐾\n",
        "K is the number of classes. The softmax function ensures the output probabilities for each class sum to 1.\n",
        "\n",
        "4. Number of Parameters:\n",
        "Logistic Regression:\n",
        "Logistic regression has a single set of weights for the binary classification problem (one set of weights\n",
        "𝑤\n",
        "w and bias\n",
        "𝑏\n",
        "b).\n",
        "Softmax Regression:\n",
        "Softmax regression has a separate set of weights for each class (i.e., a weight vector\n",
        "𝑤\n",
        "𝑘\n",
        "w\n",
        "k\n",
        "​\n",
        "  for each class\n",
        "𝑘\n",
        "k in the case of\n",
        "𝐾\n",
        "K classes). So, for\n",
        "𝐾\n",
        "K classes, there will be\n",
        "𝐾\n",
        "K sets of weights and biases.\n",
        "5. Loss Function:\n",
        "Logistic Regression:\n",
        "The loss function is binary cross-entropy (also known as log loss), which measures the difference between the predicted probability and the actual class label.\n",
        "Softmax Regression:\n",
        "The loss function is categorical cross-entropy (also known as multi-class log loss), which compares the predicted class probabilities across all classes to the actual class label.\n",
        "6. Applicability:\n",
        "Logistic Regression:\n",
        "Suitable for problems where you have only two classes (binary classification).\n",
        "Softmax Regression:\n",
        "Suitable for problems with more than two classes (multiclass classification). It generalizes logistic regression to handle multiple categories simultaneously.\n",
        "7. Example Use Cases:\n",
        "Logistic Regression:\n",
        "Spam detection, medical diagnosis (e.g., predicting if a patient has a disease or not).\n",
        "Softmax Regression:\n",
        "Image classification (e.g., classifying images into categories such as \"cat,\" \"dog,\" or \"bird\"), speech recognition, handwriting recognition, or any task where there are multiple categories to predict."
      ],
      "metadata": {
        "id": "nebchKu4cU61"
      }
    },
    {
      "cell_type": "markdown",
      "source": [
        "Ques-19  How do we choose between One-vs-Rest (OvR) and Softmax for multiclass classification ?"
      ],
      "metadata": {
        "id": "hv4cpWhkcpAJ"
      }
    },
    {
      "cell_type": "markdown",
      "source": [
        "When choosing between One-vs-Rest (OvR) and Softmax for multiclass classification, the decision depends on several factors related to the dataset, model, and the problem at hand. Both techniques are widely used, but they approach multiclass classification in different ways. Let's look at both methods and consider when to use each.\n",
        "\n",
        "1. Softmax Regression\n",
        "How it works: Softmax is a single classifier that directly models the probability distribution over all classes. It outputs a probability for each class, and these probabilities sum to 1. The class with the highest probability is chosen as the predicted class.\n",
        "\n",
        "Pros:\n",
        "\n",
        "End-to-end approach: Softmax directly models multiclass classification as a single problem, optimizing the parameters for all classes together.\n",
        "Simplicity: Since it's a single classifier, there is less complexity in training and model management.\n",
        "Coherent probability distribution: The output is a valid probability distribution, meaning the sum of the probabilities for all classes is 1.\n",
        "Interpretability: The probabilities represent the model's confidence in each class, which can be valuable for decision-making.\n",
        "Cons:\n",
        "\n",
        "Class imbalance: Softmax may not perform well when the classes are highly imbalanced, as it might struggle to correctly classify underrepresented classes.\n",
        "Multi-class problems: It can become computationally expensive when you have a very large number of classes since the model has to output a probability for each class.\n",
        "When to use Softmax:\n",
        "\n",
        "When you have multiple classes (3 or more) and want to model them directly in a single classifier.\n",
        "When probabilities for each class are important and you want the sum of probabilities to equal 1.\n",
        "When the classes are not heavily imbalanced, or the model is robust enough to handle class imbalance.\n",
        "When your dataset is large enough to allow for the direct modeling of all classes together.\n",
        "2. One-vs-Rest (OvR)\n",
        "How it works: One-vs-Rest (OvR) is an approach where multiple binary classifiers are trained, one for each class. For each class, the classifier is trained to distinguish that class from all the others. During prediction, each classifier outputs a probability, and the class with the highest probability across all classifiers is chosen.\n",
        "\n",
        "Pros:\n",
        "\n",
        "Flexibility: OvR allows you to use binary classifiers (like logistic regression) for each class, and you can use any model that works well for binary classification.\n",
        "Better for imbalanced classes: OvR can handle class imbalance more easily because each classifier focuses on distinguishing one class from the others, which means the classifiers do not face the same class imbalance as a multi-class classifier.\n",
        "Easy to extend: It is easy to extend OvR to many classes by simply adding one classifier for each new class.\n",
        "Cons:\n",
        "\n",
        "Multiple classifiers: OvR requires training multiple binary classifiers, which can increase computational complexity and memory requirements, especially when there are many classes.\n",
        "No coherent probability distribution: Each classifier outputs a separate probability, so the probabilities do not necessarily sum to 1. This can make interpreting the results as a probability distribution more challenging.\n",
        "Potential for conflicting predictions: Since each classifier is independent, there is a possibility that more than one classifier could predict the same class as the most likely, leading to conflicts in predictions.\n",
        "When to use One-vs-Rest (OvR):\n",
        "\n",
        "When you need to use binary classifiers that work well for each individual class (e.g., logistic regression, SVM).\n",
        "When dealing with class imbalance, since OvR isolates each class from the others and can focus on the minority class more effectively.\n",
        "When the number of classes is large, and you prefer a more modular approach, where each binary classifier handles a specific class.\n",
        "When probability coherence is not critical (i.e., you're okay with the outputs being separate and not forming a proper probability distribution)."
      ],
      "metadata": {
        "id": "wV5te7FAc8JO"
      }
    },
    {
      "cell_type": "markdown",
      "source": [
        "Ques-20 How do we interpret coefficients in Logistic Regression?"
      ],
      "metadata": {
        "id": "leo8zhmwc-8_"
      }
    },
    {
      "cell_type": "markdown",
      "source": [
        "Interpreting the coefficients in Logistic Regression is essential to understand the relationship between the predictors (features) and the outcome (target variable). The coefficients represent how the predictors influence the log-odds of the target class, but interpreting them directly can be tricky since the outcome is not linear but instead relates to the logistic function."
      ],
      "metadata": {
        "id": "SwBIQmEsdR6t"
      }
    },
    {
      "cell_type": "markdown",
      "source": [
        "# **PRACTICAL QUESTIONS**"
      ],
      "metadata": {
        "id": "iQykdzvjWupx"
      }
    },
    {
      "cell_type": "markdown",
      "source": [
        "QUES-1 Write a Python program that loads a dataset, splits it into training and testing sets, applies Logistic\n",
        "Regression, and prints the model accuracy?"
      ],
      "metadata": {
        "id": "Q9R9igoQgwuH"
      }
    },
    {
      "cell_type": "code",
      "source": [
        "import pandas as pd\n",
        "\n",
        "#load the dataset ,make a dataframe and devide into x and y\n",
        "from sklearn.datasets import load_iris\n",
        "data = load_iris()\n",
        "x = pd.DataFrame(data.data, columns=data.feature_names)\n",
        "y = pd.Series(data.target)\n",
        "\n",
        "#train test split\n",
        "from sklearn.model_selection import train_test_split\n",
        "xtrain , xtest, ytrain , ytest = train_test_split(x ,y, test_size=0.3 , random_state= 42)\n",
        "\n",
        "# Initialize the Logistic Regression model\n",
        "from sklearn.linear_model import LogisticRegression\n",
        "model = LogisticRegression(max_iter=200)\n",
        "\n",
        "# Train the model\n",
        "model.fit(xtrain, ytrain)\n",
        "\n",
        "# Make predictions\n",
        "ypred = model.predict(xtest)\n",
        "\n",
        "# Calculate accuracy\n",
        "from sklearn.metrics import accuracy_score\n",
        "accuracy = accuracy_score(ytest, ypred)\n",
        "\n",
        "# Print the accuracy\n",
        "print(f\"Model Accuracy: {accuracy:.4f}\")\n"
      ],
      "metadata": {
        "colab": {
          "base_uri": "https://localhost:8080/"
        },
        "id": "PB2CCDeDgu0A",
        "outputId": "7638d2b2-8a87-438c-cf6c-3c5d569e75bc"
      },
      "execution_count": null,
      "outputs": [
        {
          "output_type": "stream",
          "name": "stdout",
          "text": [
            "Model Accuracy: 1.0000\n"
          ]
        }
      ]
    },
    {
      "cell_type": "markdown",
      "source": [
        "Ques-2 Write a Python program to apply L1 regularization (Lasso) on a dataset using LogisticRegression(penalty='l1')\n",
        "and print the model accuracy?"
      ],
      "metadata": {
        "id": "gyzA6h0Ais7K"
      }
    },
    {
      "cell_type": "code",
      "source": [
        "# Import necessary libraries\n",
        "from sklearn.datasets import load_iris\n",
        "from sklearn.model_selection import train_test_split\n",
        "from sklearn.linear_model import LogisticRegression\n",
        "from sklearn.metrics import accuracy_score\n",
        "from sklearn.preprocessing import StandardScaler\n",
        "\n",
        "# Load the Iris dataset\n",
        "data = load_iris()\n",
        "X = data.data\n",
        "y = data.target\n",
        "\n",
        "# For simplicity, let's focus on binary classification (class 0 vs class 1)\n",
        "X = X[y != 2]  # Only keep classes 0 and 1\n",
        "y = y[y != 2]  # Only keep classes 0 and 1\n",
        "\n",
        "# Split the dataset into training and testing sets\n",
        "X_train, X_test, y_train, y_test = train_test_split(X, y, test_size=0.3, random_state=42)\n",
        "\n",
        "# Standardize the data (important for regularization)\n",
        "scaler = StandardScaler()\n",
        "X_train = scaler.fit_transform(X_train)\n",
        "X_test = scaler.transform(X_test)\n",
        "\n",
        "# Create Logistic Regression model with L1 regularization (Lasso)\n",
        "model = LogisticRegression(penalty='l1', solver='liblinear')\n",
        "\n",
        "# Train the model\n",
        "model.fit(X_train, y_train)\n",
        "\n",
        "# Make predictions\n",
        "y_pred = model.predict(X_test)\n",
        "\n",
        "# Calculate accuracy\n",
        "accuracy = accuracy_score(y_test, y_pred)\n",
        "\n",
        "# Print the model's accuracy\n",
        "print(f'Model Accuracy with L1 Regularization (Lasso): {accuracy * 100:.2f}%')\n",
        "\n",
        "# Print the coefficients of the model (for interpretation)\n",
        "print(\"Model Coefficients (L1 Regularization):\")\n",
        "print(model.coef_)\n"
      ],
      "metadata": {
        "colab": {
          "base_uri": "https://localhost:8080/"
        },
        "id": "17_Eyq6WgYW5",
        "outputId": "db293ff4-35a4-4838-c194-f545a8e021c0"
      },
      "execution_count": null,
      "outputs": [
        {
          "output_type": "stream",
          "name": "stdout",
          "text": [
            "Model Accuracy with L1 Regularization (Lasso): 100.00%\n",
            "Model Coefficients (L1 Regularization):\n",
            "[[ 0.         -0.75916806  2.13830164  1.8255581 ]]\n"
          ]
        }
      ]
    },
    {
      "cell_type": "markdown",
      "source": [
        "Ques-3 Write a Python program to train Logistic Regression with L2 regularization (Ridge) using\n",
        "LogisticRegression(penalty='l2'). Print model accuracy and coefficients ?"
      ],
      "metadata": {
        "id": "wppVltFkgd6G"
      }
    },
    {
      "cell_type": "code",
      "source": [
        "# Import necessary libraries\n",
        "from sklearn.datasets import load_iris\n",
        "from sklearn.model_selection import train_test_split\n",
        "from sklearn.linear_model import LogisticRegression\n",
        "from sklearn.metrics import accuracy_score\n",
        "from sklearn.preprocessing import StandardScaler\n",
        "\n",
        "# Load the Iris dataset\n",
        "data = load_iris()\n",
        "X = data.data\n",
        "y = data.target\n",
        "\n",
        "# For simplicity, let's focus on binary classification (class 0 vs class 1)\n",
        "X = X[y != 2]  # Only keep classes 0 and 1\n",
        "y = y[y != 2]  # Only keep classes 0 and 1\n",
        "\n",
        "# Split the dataset into training and testing sets\n",
        "X_train, X_test, y_train, y_test = train_test_split(X, y, test_size=0.3, random_state=42)\n",
        "\n",
        "# Standardize the data (important for regularization)\n",
        "scaler = StandardScaler()\n",
        "X_train = scaler.fit_transform(X_train)\n",
        "X_test = scaler.transform(X_test)\n",
        "\n",
        "# Create Logistic Regression model with L2 regularization (Ridge)\n",
        "model = LogisticRegression(penalty='l2', solver='liblinear')\n",
        "\n",
        "# Train the model\n",
        "model.fit(X_train, y_train)\n",
        "\n",
        "# Make predictions\n",
        "y_pred = model.predict(X_test)\n",
        "\n",
        "# Calculate accuracy\n",
        "accuracy = accuracy_score(y_test, y_pred)\n",
        "\n",
        "# Print the model's accuracy\n",
        "print(f'Model Accuracy with L2 Regularization (Ridge): {accuracy * 100:.2f}%')\n",
        "\n",
        "# Print the coefficients of the model (for interpretation)\n",
        "print(\"Model Coefficients (L2 Regularization):\")\n",
        "print(model.coef_)\n"
      ],
      "metadata": {
        "id": "BFQPg7SahaoO",
        "colab": {
          "base_uri": "https://localhost:8080/"
        },
        "outputId": "64a3bb6b-b5a1-493d-bd99-8f0ca2e1588a"
      },
      "execution_count": null,
      "outputs": [
        {
          "output_type": "stream",
          "name": "stdout",
          "text": [
            "Model Accuracy with L2 Regularization (Ridge): 100.00%\n",
            "Model Coefficients (L2 Regularization):\n",
            "[[ 0.74798703 -1.06767754  1.41584728  1.43119506]]\n"
          ]
        }
      ]
    },
    {
      "cell_type": "markdown",
      "source": [
        "Ques-4 Write a Python program to train Logistic Regression with Elastic Net Regularization (penalty='elasticnet') ?"
      ],
      "metadata": {
        "id": "ZR1guHrbgxyL"
      }
    },
    {
      "cell_type": "code",
      "source": [
        "# Import necessary libraries\n",
        "from sklearn.datasets import load_iris\n",
        "from sklearn.model_selection import train_test_split\n",
        "from sklearn.linear_model import LogisticRegression\n",
        "from sklearn.metrics import accuracy_score\n",
        "from sklearn.preprocessing import StandardScaler\n",
        "\n",
        "# Load the Iris dataset\n",
        "data = load_iris()\n",
        "X = data.data\n",
        "y = data.target\n",
        "\n",
        "# For simplicity, let's focus on binary classification (class 0 vs class 1)\n",
        "X = X[y != 2]  # Only keep classes 0 and 1\n",
        "y = y[y != 2]  # Only keep classes 0 and 1\n",
        "\n",
        "# Split the dataset into training and testing sets\n",
        "X_train, X_test, y_train, y_test = train_test_split(X, y, test_size=0.3, random_state=42)\n",
        "\n",
        "# Standardize the data (important for regularization)\n",
        "scaler = StandardScaler()\n",
        "X_train = scaler.fit_transform(X_train)\n",
        "X_test = scaler.transform(X_test)\n",
        "\n",
        "# Create Logistic Regression model with Elastic Net regularization\n",
        "# ElasticNet uses a combination of L1 and L2 regularization (l1_ratio controls the mix).\n",
        "model = LogisticRegression(penalty='elasticnet', solver='saga', l1_ratio=0.5)  # l1_ratio=0.5 is a 50-50 mix of L1 and L2\n",
        "\n",
        "# Train the model\n",
        "model.fit(X_train, y_train)\n",
        "\n",
        "# Make predictions\n",
        "y_pred = model.predict(X_test)\n",
        "\n",
        "# Calculate accuracy\n",
        "accuracy = accuracy_score(y_test, y_pred)\n",
        "\n",
        "# Print the model's accuracy\n",
        "print(f'Model Accuracy with Elastic Net Regularization: {accuracy * 100:.2f}%')\n",
        "\n",
        "# Print the coefficients of the model (for interpretation)\n",
        "print(\"Model Coefficients (Elastic Net Regularization):\")\n",
        "print(model.coef_)\n"
      ],
      "metadata": {
        "colab": {
          "base_uri": "https://localhost:8080/"
        },
        "id": "OOUxApuMgvn9",
        "outputId": "c02f98f6-3d8b-45f9-87e8-4ddc66c6566c"
      },
      "execution_count": null,
      "outputs": [
        {
          "output_type": "stream",
          "name": "stdout",
          "text": [
            "Model Accuracy with Elastic Net Regularization: 100.00%\n",
            "Model Coefficients (Elastic Net Regularization):\n",
            "[[ 0.53042926 -0.93594084  1.60456651  1.58486271]]\n"
          ]
        }
      ]
    },
    {
      "cell_type": "markdown",
      "source": [
        "Ques-5 Write a Python program to train a Logistic Regression model for multiclass classification using\n",
        "multi_class='ovr' ?"
      ],
      "metadata": {
        "id": "W5lVXdhAhsoP"
      }
    },
    {
      "cell_type": "code",
      "source": [
        "# Import necessary libraries\n",
        "from sklearn.datasets import load_iris\n",
        "from sklearn.model_selection import train_test_split\n",
        "from sklearn.linear_model import LogisticRegression\n",
        "from sklearn.metrics import accuracy_score\n",
        "from sklearn.preprocessing import StandardScaler\n",
        "\n",
        "# Load the Iris dataset\n",
        "data = load_iris()\n",
        "X = data.data\n",
        "y = data.target\n",
        "\n",
        "# Split the dataset into training and testing sets\n",
        "X_train, X_test, y_train, y_test = train_test_split(X, y, test_size=0.3, random_state=42)\n",
        "\n",
        "# Standardize the data (important for regularization)\n",
        "scaler = StandardScaler()\n",
        "X_train = scaler.fit_transform(X_train)\n",
        "X_test = scaler.transform(X_test)\n",
        "\n",
        "# Create Logistic Regression model with One-vs-Rest strategy (multi_class='ovr')\n",
        "model = LogisticRegression(multi_class='ovr', solver='liblinear')\n",
        "\n",
        "# Train the model\n",
        "model.fit(X_train, y_train)\n",
        "\n",
        "# Make predictions\n",
        "y_pred = model.predict(X_test)\n",
        "\n",
        "# Calculate accuracy\n",
        "accuracy = accuracy_score(y_test, y_pred)\n",
        "\n",
        "# Print the model's accuracy\n",
        "print(f'Model Accuracy with One-vs-Rest Strategy: {accuracy * 100:.2f}%')\n",
        "\n",
        "# Print the coefficients of the model (for interpretation)\n",
        "print(\"Model Coefficients (One-vs-Rest Strategy):\")\n",
        "print(model.coef_)\n"
      ],
      "metadata": {
        "colab": {
          "base_uri": "https://localhost:8080/"
        },
        "id": "vPbk3_ILhr8N",
        "outputId": "e5b0e753-54ec-4df8-ed14-b966bf1ab99e"
      },
      "execution_count": null,
      "outputs": [
        {
          "output_type": "stream",
          "name": "stdout",
          "text": [
            "Model Accuracy with One-vs-Rest Strategy: 91.11%\n",
            "Model Coefficients (One-vs-Rest Strategy):\n",
            "[[-0.68663736  1.31356156 -1.53218577 -1.33167409]\n",
            " [ 0.12843288 -1.36457652  0.51126967 -0.68227209]\n",
            " [ 0.10252227 -0.05605024  1.72030107  2.31388888]]\n"
          ]
        },
        {
          "output_type": "stream",
          "name": "stderr",
          "text": [
            "/usr/local/lib/python3.11/dist-packages/sklearn/linear_model/_logistic.py:1256: FutureWarning: 'multi_class' was deprecated in version 1.5 and will be removed in 1.7. Use OneVsRestClassifier(LogisticRegression(..)) instead. Leave it to its default value to avoid this warning.\n",
            "  warnings.warn(\n"
          ]
        }
      ]
    },
    {
      "cell_type": "markdown",
      "source": [
        "Ques-  Write a Python program to apply GridSearchCV to tune the hyperparameters (C and penalty) of Logistic\n",
        "Regression. Print the best parameters and accuracy ?"
      ],
      "metadata": {
        "id": "dhvv_pshh72b"
      }
    },
    {
      "cell_type": "code",
      "source": [
        "# Import necessary libraries\n",
        "from sklearn.datasets import load_iris\n",
        "from sklearn.model_selection import train_test_split, GridSearchCV\n",
        "from sklearn.linear_model import LogisticRegression\n",
        "from sklearn.metrics import accuracy_score\n",
        "from sklearn.preprocessing import StandardScaler\n",
        "\n",
        "# Load the Iris dataset\n",
        "data = load_iris()\n",
        "X = data.data\n",
        "y = data.target\n",
        "\n",
        "# Split the dataset into training and testing sets\n",
        "X_train, X_test, y_train, y_test = train_test_split(X, y, test_size=0.3, random_state=42)\n",
        "\n",
        "# Standardize the data (important for regularization)\n",
        "scaler = StandardScaler()\n",
        "X_train = scaler.fit_transform(X_train)\n",
        "X_test = scaler.transform(X_test)\n",
        "\n",
        "# Define Logistic Regression model\n",
        "log_reg = LogisticRegression(max_iter=200)\n",
        "\n",
        "# Set up the hyperparameter grid for GridSearchCV\n",
        "param_grid = {\n",
        "    'C': [0.001, 0.01, 0.1, 1, 10, 100],  # Regularization strength\n",
        "    'penalty': ['l1', 'l2']  # Type of regularization\n",
        "}\n",
        "\n",
        "# Set up GridSearchCV\n",
        "grid_search = GridSearchCV(estimator=log_reg, param_grid=param_grid, cv=5, verbose=1, n_jobs=-1)\n",
        "\n",
        "# Train the model with GridSearchCV\n",
        "grid_search.fit(X_train, y_train)\n",
        "\n",
        "# Get the best parameters and the best accuracy score\n",
        "best_params = grid_search.best_params_\n",
        "best_accuracy = grid_search.best_score_\n",
        "\n",
        "# Print the best parameters and accuracy\n",
        "print(f\"Best Hyperparameters: {best_params}\")\n",
        "print(f\"Best Cross-Validation Accuracy: {best_accuracy * 100:.2f}%\")\n",
        "\n",
        "# Test the model with the best parameters on the test set\n",
        "best_model = grid_search.best_estimator_\n",
        "y_pred = best_model.predict(X_test)\n",
        "\n",
        "# Calculate and print accuracy on the test set\n",
        "test_accuracy = accuracy_score(y_test, y_pred)\n",
        "print(f\"Test Set Accuracy: {test_accuracy * 100:.2f}%\")\n"
      ],
      "metadata": {
        "colab": {
          "base_uri": "https://localhost:8080/"
        },
        "id": "VQpX6Cz5h6TD",
        "outputId": "78ffcacd-1f63-486d-a58c-4af659e2b92a"
      },
      "execution_count": null,
      "outputs": [
        {
          "output_type": "stream",
          "name": "stdout",
          "text": [
            "Fitting 5 folds for each of 12 candidates, totalling 60 fits\n",
            "Best Hyperparameters: {'C': 100, 'penalty': 'l2'}\n",
            "Best Cross-Validation Accuracy: 95.24%\n",
            "Test Set Accuracy: 100.00%\n"
          ]
        },
        {
          "output_type": "stream",
          "name": "stderr",
          "text": [
            "/usr/local/lib/python3.11/dist-packages/sklearn/model_selection/_validation.py:528: FitFailedWarning: \n",
            "30 fits failed out of a total of 60.\n",
            "The score on these train-test partitions for these parameters will be set to nan.\n",
            "If these failures are not expected, you can try to debug them by setting error_score='raise'.\n",
            "\n",
            "Below are more details about the failures:\n",
            "--------------------------------------------------------------------------------\n",
            "30 fits failed with the following error:\n",
            "Traceback (most recent call last):\n",
            "  File \"/usr/local/lib/python3.11/dist-packages/sklearn/model_selection/_validation.py\", line 866, in _fit_and_score\n",
            "    estimator.fit(X_train, y_train, **fit_params)\n",
            "  File \"/usr/local/lib/python3.11/dist-packages/sklearn/base.py\", line 1389, in wrapper\n",
            "    return fit_method(estimator, *args, **kwargs)\n",
            "           ^^^^^^^^^^^^^^^^^^^^^^^^^^^^^^^^^^^^^^\n",
            "  File \"/usr/local/lib/python3.11/dist-packages/sklearn/linear_model/_logistic.py\", line 1193, in fit\n",
            "    solver = _check_solver(self.solver, self.penalty, self.dual)\n",
            "             ^^^^^^^^^^^^^^^^^^^^^^^^^^^^^^^^^^^^^^^^^^^^^^^^^^^\n",
            "  File \"/usr/local/lib/python3.11/dist-packages/sklearn/linear_model/_logistic.py\", line 63, in _check_solver\n",
            "    raise ValueError(\n",
            "ValueError: Solver lbfgs supports only 'l2' or None penalties, got l1 penalty.\n",
            "\n",
            "  warnings.warn(some_fits_failed_message, FitFailedWarning)\n",
            "/usr/local/lib/python3.11/dist-packages/sklearn/model_selection/_search.py:1108: UserWarning: One or more of the test scores are non-finite: [       nan 0.64761905        nan 0.84761905        nan 0.9047619\n",
            "        nan 0.94285714        nan 0.94285714        nan 0.95238095]\n",
            "  warnings.warn(\n"
          ]
        }
      ]
    },
    {
      "cell_type": "markdown",
      "source": [
        "Ques-7 Write a Python program to evaluate Logistic Regression using Stratified K-Fold Cross-Validation. Print the\n",
        "average accuracy ?"
      ],
      "metadata": {
        "id": "k5vV7wU3jPBX"
      }
    },
    {
      "cell_type": "code",
      "source": [
        "# Import necessary libraries\n",
        "from sklearn.datasets import load_iris\n",
        "from sklearn.model_selection import train_test_split, GridSearchCV\n",
        "from sklearn.linear_model import LogisticRegression\n",
        "from sklearn.metrics import accuracy_score\n",
        "from sklearn.preprocessing import StandardScaler\n",
        "\n",
        "# Load the Iris dataset\n",
        "data = load_iris()\n",
        "X = data.data\n",
        "y = data.target\n",
        "\n",
        "# Split the dataset into training and testing sets\n",
        "X_train, X_test, y_train, y_test = train_test_split(X, y, test_size=0.3, random_state=42)\n",
        "\n",
        "# Standardize the data (important for regularization)\n",
        "scaler = StandardScaler()\n",
        "X_train = scaler.fit_transform(X_train)\n",
        "X_test = scaler.transform(X_test)\n",
        "\n",
        "# Define the Logistic Regression model\n",
        "model = LogisticRegression(solver='liblinear', multi_class='ovr')\n",
        "\n",
        "# Define the hyperparameters to tune\n",
        "param_grid = {\n",
        "    'C': [0.01, 0.1, 1, 10, 100],  # Regularization strength\n",
        "    'penalty': ['l1', 'l2']  # Regularization type (L1 or L2)\n",
        "}\n",
        "\n",
        "# Apply GridSearchCV to find the best hyperparameters\n",
        "grid_search = GridSearchCV(estimator=model, param_grid=param_grid, cv=5, scoring='accuracy')\n",
        "\n",
        "# Train the model using GridSearchCV\n",
        "grid_search.fit(X_train, y_train)\n",
        "\n",
        "# Get the best parameters\n",
        "best_params = grid_search.best_params_\n",
        "\n",
        "# Print the best hyperparameters\n",
        "print(f\"Best Hyperparameters: {best_params}\")\n",
        "\n",
        "# Make predictions with the best model\n",
        "y_pred = grid_search.best_estimator_.predict(X_test)\n",
        "\n",
        "# Calculate accuracy\n",
        "accuracy = accuracy_score(y_test, y_pred)\n",
        "\n",
        "# Print the accuracy of the best model\n",
        "print(f\"Accuracy of the Best Model: {accuracy * 100:.2f}%\")\n"
      ],
      "metadata": {
        "colab": {
          "base_uri": "https://localhost:8080/"
        },
        "id": "KkJ_at92jM57",
        "outputId": "a5bb3fa8-7115-4c1e-87af-b8664138329f"
      },
      "execution_count": null,
      "outputs": [
        {
          "output_type": "stream",
          "name": "stderr",
          "text": [
            "/usr/local/lib/python3.11/dist-packages/sklearn/linear_model/_logistic.py:1256: FutureWarning: 'multi_class' was deprecated in version 1.5 and will be removed in 1.7. Use OneVsRestClassifier(LogisticRegression(..)) instead. Leave it to its default value to avoid this warning.\n",
            "  warnings.warn(\n",
            "/usr/local/lib/python3.11/dist-packages/sklearn/linear_model/_logistic.py:1256: FutureWarning: 'multi_class' was deprecated in version 1.5 and will be removed in 1.7. Use OneVsRestClassifier(LogisticRegression(..)) instead. Leave it to its default value to avoid this warning.\n",
            "  warnings.warn(\n",
            "/usr/local/lib/python3.11/dist-packages/sklearn/linear_model/_logistic.py:1256: FutureWarning: 'multi_class' was deprecated in version 1.5 and will be removed in 1.7. Use OneVsRestClassifier(LogisticRegression(..)) instead. Leave it to its default value to avoid this warning.\n",
            "  warnings.warn(\n",
            "/usr/local/lib/python3.11/dist-packages/sklearn/linear_model/_logistic.py:1256: FutureWarning: 'multi_class' was deprecated in version 1.5 and will be removed in 1.7. Use OneVsRestClassifier(LogisticRegression(..)) instead. Leave it to its default value to avoid this warning.\n",
            "  warnings.warn(\n",
            "/usr/local/lib/python3.11/dist-packages/sklearn/linear_model/_logistic.py:1256: FutureWarning: 'multi_class' was deprecated in version 1.5 and will be removed in 1.7. Use OneVsRestClassifier(LogisticRegression(..)) instead. Leave it to its default value to avoid this warning.\n",
            "  warnings.warn(\n",
            "/usr/local/lib/python3.11/dist-packages/sklearn/linear_model/_logistic.py:1256: FutureWarning: 'multi_class' was deprecated in version 1.5 and will be removed in 1.7. Use OneVsRestClassifier(LogisticRegression(..)) instead. Leave it to its default value to avoid this warning.\n",
            "  warnings.warn(\n",
            "/usr/local/lib/python3.11/dist-packages/sklearn/linear_model/_logistic.py:1256: FutureWarning: 'multi_class' was deprecated in version 1.5 and will be removed in 1.7. Use OneVsRestClassifier(LogisticRegression(..)) instead. Leave it to its default value to avoid this warning.\n",
            "  warnings.warn(\n",
            "/usr/local/lib/python3.11/dist-packages/sklearn/linear_model/_logistic.py:1256: FutureWarning: 'multi_class' was deprecated in version 1.5 and will be removed in 1.7. Use OneVsRestClassifier(LogisticRegression(..)) instead. Leave it to its default value to avoid this warning.\n",
            "  warnings.warn(\n",
            "/usr/local/lib/python3.11/dist-packages/sklearn/linear_model/_logistic.py:1256: FutureWarning: 'multi_class' was deprecated in version 1.5 and will be removed in 1.7. Use OneVsRestClassifier(LogisticRegression(..)) instead. Leave it to its default value to avoid this warning.\n",
            "  warnings.warn(\n",
            "/usr/local/lib/python3.11/dist-packages/sklearn/linear_model/_logistic.py:1256: FutureWarning: 'multi_class' was deprecated in version 1.5 and will be removed in 1.7. Use OneVsRestClassifier(LogisticRegression(..)) instead. Leave it to its default value to avoid this warning.\n",
            "  warnings.warn(\n",
            "/usr/local/lib/python3.11/dist-packages/sklearn/linear_model/_logistic.py:1256: FutureWarning: 'multi_class' was deprecated in version 1.5 and will be removed in 1.7. Use OneVsRestClassifier(LogisticRegression(..)) instead. Leave it to its default value to avoid this warning.\n",
            "  warnings.warn(\n",
            "/usr/local/lib/python3.11/dist-packages/sklearn/linear_model/_logistic.py:1256: FutureWarning: 'multi_class' was deprecated in version 1.5 and will be removed in 1.7. Use OneVsRestClassifier(LogisticRegression(..)) instead. Leave it to its default value to avoid this warning.\n",
            "  warnings.warn(\n",
            "/usr/local/lib/python3.11/dist-packages/sklearn/linear_model/_logistic.py:1256: FutureWarning: 'multi_class' was deprecated in version 1.5 and will be removed in 1.7. Use OneVsRestClassifier(LogisticRegression(..)) instead. Leave it to its default value to avoid this warning.\n",
            "  warnings.warn(\n",
            "/usr/local/lib/python3.11/dist-packages/sklearn/linear_model/_logistic.py:1256: FutureWarning: 'multi_class' was deprecated in version 1.5 and will be removed in 1.7. Use OneVsRestClassifier(LogisticRegression(..)) instead. Leave it to its default value to avoid this warning.\n",
            "  warnings.warn(\n",
            "/usr/local/lib/python3.11/dist-packages/sklearn/linear_model/_logistic.py:1256: FutureWarning: 'multi_class' was deprecated in version 1.5 and will be removed in 1.7. Use OneVsRestClassifier(LogisticRegression(..)) instead. Leave it to its default value to avoid this warning.\n",
            "  warnings.warn(\n",
            "/usr/local/lib/python3.11/dist-packages/sklearn/linear_model/_logistic.py:1256: FutureWarning: 'multi_class' was deprecated in version 1.5 and will be removed in 1.7. Use OneVsRestClassifier(LogisticRegression(..)) instead. Leave it to its default value to avoid this warning.\n",
            "  warnings.warn(\n",
            "/usr/local/lib/python3.11/dist-packages/sklearn/linear_model/_logistic.py:1256: FutureWarning: 'multi_class' was deprecated in version 1.5 and will be removed in 1.7. Use OneVsRestClassifier(LogisticRegression(..)) instead. Leave it to its default value to avoid this warning.\n",
            "  warnings.warn(\n",
            "/usr/local/lib/python3.11/dist-packages/sklearn/linear_model/_logistic.py:1256: FutureWarning: 'multi_class' was deprecated in version 1.5 and will be removed in 1.7. Use OneVsRestClassifier(LogisticRegression(..)) instead. Leave it to its default value to avoid this warning.\n",
            "  warnings.warn(\n",
            "/usr/local/lib/python3.11/dist-packages/sklearn/linear_model/_logistic.py:1256: FutureWarning: 'multi_class' was deprecated in version 1.5 and will be removed in 1.7. Use OneVsRestClassifier(LogisticRegression(..)) instead. Leave it to its default value to avoid this warning.\n",
            "  warnings.warn(\n",
            "/usr/local/lib/python3.11/dist-packages/sklearn/linear_model/_logistic.py:1256: FutureWarning: 'multi_class' was deprecated in version 1.5 and will be removed in 1.7. Use OneVsRestClassifier(LogisticRegression(..)) instead. Leave it to its default value to avoid this warning.\n",
            "  warnings.warn(\n",
            "/usr/local/lib/python3.11/dist-packages/sklearn/linear_model/_logistic.py:1256: FutureWarning: 'multi_class' was deprecated in version 1.5 and will be removed in 1.7. Use OneVsRestClassifier(LogisticRegression(..)) instead. Leave it to its default value to avoid this warning.\n",
            "  warnings.warn(\n",
            "/usr/local/lib/python3.11/dist-packages/sklearn/linear_model/_logistic.py:1256: FutureWarning: 'multi_class' was deprecated in version 1.5 and will be removed in 1.7. Use OneVsRestClassifier(LogisticRegression(..)) instead. Leave it to its default value to avoid this warning.\n",
            "  warnings.warn(\n",
            "/usr/local/lib/python3.11/dist-packages/sklearn/linear_model/_logistic.py:1256: FutureWarning: 'multi_class' was deprecated in version 1.5 and will be removed in 1.7. Use OneVsRestClassifier(LogisticRegression(..)) instead. Leave it to its default value to avoid this warning.\n",
            "  warnings.warn(\n",
            "/usr/local/lib/python3.11/dist-packages/sklearn/linear_model/_logistic.py:1256: FutureWarning: 'multi_class' was deprecated in version 1.5 and will be removed in 1.7. Use OneVsRestClassifier(LogisticRegression(..)) instead. Leave it to its default value to avoid this warning.\n",
            "  warnings.warn(\n",
            "/usr/local/lib/python3.11/dist-packages/sklearn/linear_model/_logistic.py:1256: FutureWarning: 'multi_class' was deprecated in version 1.5 and will be removed in 1.7. Use OneVsRestClassifier(LogisticRegression(..)) instead. Leave it to its default value to avoid this warning.\n",
            "  warnings.warn(\n",
            "/usr/local/lib/python3.11/dist-packages/sklearn/linear_model/_logistic.py:1256: FutureWarning: 'multi_class' was deprecated in version 1.5 and will be removed in 1.7. Use OneVsRestClassifier(LogisticRegression(..)) instead. Leave it to its default value to avoid this warning.\n",
            "  warnings.warn(\n",
            "/usr/local/lib/python3.11/dist-packages/sklearn/linear_model/_logistic.py:1256: FutureWarning: 'multi_class' was deprecated in version 1.5 and will be removed in 1.7. Use OneVsRestClassifier(LogisticRegression(..)) instead. Leave it to its default value to avoid this warning.\n",
            "  warnings.warn(\n",
            "/usr/local/lib/python3.11/dist-packages/sklearn/linear_model/_logistic.py:1256: FutureWarning: 'multi_class' was deprecated in version 1.5 and will be removed in 1.7. Use OneVsRestClassifier(LogisticRegression(..)) instead. Leave it to its default value to avoid this warning.\n",
            "  warnings.warn(\n",
            "/usr/local/lib/python3.11/dist-packages/sklearn/linear_model/_logistic.py:1256: FutureWarning: 'multi_class' was deprecated in version 1.5 and will be removed in 1.7. Use OneVsRestClassifier(LogisticRegression(..)) instead. Leave it to its default value to avoid this warning.\n",
            "  warnings.warn(\n",
            "/usr/local/lib/python3.11/dist-packages/sklearn/linear_model/_logistic.py:1256: FutureWarning: 'multi_class' was deprecated in version 1.5 and will be removed in 1.7. Use OneVsRestClassifier(LogisticRegression(..)) instead. Leave it to its default value to avoid this warning.\n",
            "  warnings.warn(\n",
            "/usr/local/lib/python3.11/dist-packages/sklearn/linear_model/_logistic.py:1256: FutureWarning: 'multi_class' was deprecated in version 1.5 and will be removed in 1.7. Use OneVsRestClassifier(LogisticRegression(..)) instead. Leave it to its default value to avoid this warning.\n",
            "  warnings.warn(\n",
            "/usr/local/lib/python3.11/dist-packages/sklearn/linear_model/_logistic.py:1256: FutureWarning: 'multi_class' was deprecated in version 1.5 and will be removed in 1.7. Use OneVsRestClassifier(LogisticRegression(..)) instead. Leave it to its default value to avoid this warning.\n",
            "  warnings.warn(\n",
            "/usr/local/lib/python3.11/dist-packages/sklearn/linear_model/_logistic.py:1256: FutureWarning: 'multi_class' was deprecated in version 1.5 and will be removed in 1.7. Use OneVsRestClassifier(LogisticRegression(..)) instead. Leave it to its default value to avoid this warning.\n",
            "  warnings.warn(\n",
            "/usr/local/lib/python3.11/dist-packages/sklearn/linear_model/_logistic.py:1256: FutureWarning: 'multi_class' was deprecated in version 1.5 and will be removed in 1.7. Use OneVsRestClassifier(LogisticRegression(..)) instead. Leave it to its default value to avoid this warning.\n",
            "  warnings.warn(\n",
            "/usr/local/lib/python3.11/dist-packages/sklearn/linear_model/_logistic.py:1256: FutureWarning: 'multi_class' was deprecated in version 1.5 and will be removed in 1.7. Use OneVsRestClassifier(LogisticRegression(..)) instead. Leave it to its default value to avoid this warning.\n",
            "  warnings.warn(\n",
            "/usr/local/lib/python3.11/dist-packages/sklearn/linear_model/_logistic.py:1256: FutureWarning: 'multi_class' was deprecated in version 1.5 and will be removed in 1.7. Use OneVsRestClassifier(LogisticRegression(..)) instead. Leave it to its default value to avoid this warning.\n",
            "  warnings.warn(\n",
            "/usr/local/lib/python3.11/dist-packages/sklearn/linear_model/_logistic.py:1256: FutureWarning: 'multi_class' was deprecated in version 1.5 and will be removed in 1.7. Use OneVsRestClassifier(LogisticRegression(..)) instead. Leave it to its default value to avoid this warning.\n",
            "  warnings.warn(\n",
            "/usr/local/lib/python3.11/dist-packages/sklearn/linear_model/_logistic.py:1256: FutureWarning: 'multi_class' was deprecated in version 1.5 and will be removed in 1.7. Use OneVsRestClassifier(LogisticRegression(..)) instead. Leave it to its default value to avoid this warning.\n",
            "  warnings.warn(\n",
            "/usr/local/lib/python3.11/dist-packages/sklearn/linear_model/_logistic.py:1256: FutureWarning: 'multi_class' was deprecated in version 1.5 and will be removed in 1.7. Use OneVsRestClassifier(LogisticRegression(..)) instead. Leave it to its default value to avoid this warning.\n",
            "  warnings.warn(\n",
            "/usr/local/lib/python3.11/dist-packages/sklearn/linear_model/_logistic.py:1256: FutureWarning: 'multi_class' was deprecated in version 1.5 and will be removed in 1.7. Use OneVsRestClassifier(LogisticRegression(..)) instead. Leave it to its default value to avoid this warning.\n",
            "  warnings.warn(\n",
            "/usr/local/lib/python3.11/dist-packages/sklearn/linear_model/_logistic.py:1256: FutureWarning: 'multi_class' was deprecated in version 1.5 and will be removed in 1.7. Use OneVsRestClassifier(LogisticRegression(..)) instead. Leave it to its default value to avoid this warning.\n",
            "  warnings.warn(\n"
          ]
        },
        {
          "output_type": "stream",
          "name": "stdout",
          "text": [
            "Best Hyperparameters: {'C': 100, 'penalty': 'l1'}\n",
            "Accuracy of the Best Model: 100.00%\n"
          ]
        },
        {
          "output_type": "stream",
          "name": "stderr",
          "text": [
            "/usr/local/lib/python3.11/dist-packages/sklearn/linear_model/_logistic.py:1256: FutureWarning: 'multi_class' was deprecated in version 1.5 and will be removed in 1.7. Use OneVsRestClassifier(LogisticRegression(..)) instead. Leave it to its default value to avoid this warning.\n",
            "  warnings.warn(\n",
            "/usr/local/lib/python3.11/dist-packages/sklearn/linear_model/_logistic.py:1256: FutureWarning: 'multi_class' was deprecated in version 1.5 and will be removed in 1.7. Use OneVsRestClassifier(LogisticRegression(..)) instead. Leave it to its default value to avoid this warning.\n",
            "  warnings.warn(\n",
            "/usr/local/lib/python3.11/dist-packages/sklearn/linear_model/_logistic.py:1256: FutureWarning: 'multi_class' was deprecated in version 1.5 and will be removed in 1.7. Use OneVsRestClassifier(LogisticRegression(..)) instead. Leave it to its default value to avoid this warning.\n",
            "  warnings.warn(\n",
            "/usr/local/lib/python3.11/dist-packages/sklearn/linear_model/_logistic.py:1256: FutureWarning: 'multi_class' was deprecated in version 1.5 and will be removed in 1.7. Use OneVsRestClassifier(LogisticRegression(..)) instead. Leave it to its default value to avoid this warning.\n",
            "  warnings.warn(\n",
            "/usr/local/lib/python3.11/dist-packages/sklearn/linear_model/_logistic.py:1256: FutureWarning: 'multi_class' was deprecated in version 1.5 and will be removed in 1.7. Use OneVsRestClassifier(LogisticRegression(..)) instead. Leave it to its default value to avoid this warning.\n",
            "  warnings.warn(\n",
            "/usr/local/lib/python3.11/dist-packages/sklearn/linear_model/_logistic.py:1256: FutureWarning: 'multi_class' was deprecated in version 1.5 and will be removed in 1.7. Use OneVsRestClassifier(LogisticRegression(..)) instead. Leave it to its default value to avoid this warning.\n",
            "  warnings.warn(\n",
            "/usr/local/lib/python3.11/dist-packages/sklearn/linear_model/_logistic.py:1256: FutureWarning: 'multi_class' was deprecated in version 1.5 and will be removed in 1.7. Use OneVsRestClassifier(LogisticRegression(..)) instead. Leave it to its default value to avoid this warning.\n",
            "  warnings.warn(\n",
            "/usr/local/lib/python3.11/dist-packages/sklearn/linear_model/_logistic.py:1256: FutureWarning: 'multi_class' was deprecated in version 1.5 and will be removed in 1.7. Use OneVsRestClassifier(LogisticRegression(..)) instead. Leave it to its default value to avoid this warning.\n",
            "  warnings.warn(\n",
            "/usr/local/lib/python3.11/dist-packages/sklearn/linear_model/_logistic.py:1256: FutureWarning: 'multi_class' was deprecated in version 1.5 and will be removed in 1.7. Use OneVsRestClassifier(LogisticRegression(..)) instead. Leave it to its default value to avoid this warning.\n",
            "  warnings.warn(\n",
            "/usr/local/lib/python3.11/dist-packages/sklearn/linear_model/_logistic.py:1256: FutureWarning: 'multi_class' was deprecated in version 1.5 and will be removed in 1.7. Use OneVsRestClassifier(LogisticRegression(..)) instead. Leave it to its default value to avoid this warning.\n",
            "  warnings.warn(\n"
          ]
        }
      ]
    },
    {
      "cell_type": "markdown",
      "source": [
        "Ques-8 Write a Python program to load a dataset from a CSV file, apply Logistic Regression, and evaluate its\n",
        "accuracy ?\n"
      ],
      "metadata": {
        "id": "3t__NJTXjiUq"
      }
    },
    {
      "cell_type": "code",
      "source": [
        "# Import necessary libraries\n",
        "import pandas as pd\n",
        "from sklearn.datasets import load_iris\n",
        "from sklearn.model_selection import train_test_split\n",
        "from sklearn.linear_model import LogisticRegression\n",
        "from sklearn.metrics import accuracy_score\n",
        "from sklearn.preprocessing import StandardScaler\n",
        "\n",
        "# Let's use the Iris dataset as an example\n",
        "# Load the dataset\n",
        "data = load_iris()\n",
        "df = pd.DataFrame(data.data, columns=data.feature_names)\n",
        "df['target'] = data.target\n",
        "\n",
        "# Print the first few rows of the dataset\n",
        "print(\"Dataset (first 5 rows):\")\n",
        "print(df.head())\n",
        "\n",
        "# Assume the last column is the target (y) and the rest are features (X)\n",
        "X = df.iloc[:, :-1].values  # All columns except the last one (features)\n",
        "y = df.iloc[:, -1].values   # The last column (target)\n",
        "\n",
        "# Split the dataset into training and testing sets\n",
        "X_train, X_test, y_train, y_test = train_test_split(X, y, test_size=0.3, random_state=42)\n",
        "\n",
        "# Standardize the data (important for regularization)\n",
        "scaler = StandardScaler()\n",
        "X_train = scaler.fit_transform(X_train)\n",
        "X_test = scaler.transform(X_test)\n",
        "\n",
        "# Create and train a Logistic Regression model\n",
        "model = LogisticRegression(solver='liblinear', multi_class='ovr')  # 'liblinear' solver works well for small datasets\n",
        "\n",
        "# Fit the model on the training data\n",
        "model.fit(X_train, y_train)\n",
        "\n",
        "# Make predictions on the test set\n",
        "y_pred = model.predict(X_test)\n",
        "\n",
        "# Calculate the accuracy of the model\n",
        "accuracy = accuracy_score(y_test, y_pred)\n",
        "\n",
        "# Print the accuracy of the model\n",
        "print(f'Model Accuracy: {accuracy * 100:.2f}%')\n",
        "\n",
        "# Optionally, you can print the coefficients of the model\n",
        "print(\"Model Coefficients:\")\n",
        "print(model.coef_)\n"
      ],
      "metadata": {
        "colab": {
          "base_uri": "https://localhost:8080/"
        },
        "id": "m7Z3K2CjjyCE",
        "outputId": "c0543612-1e2b-43c1-ed2f-9e6d4b219c0c"
      },
      "execution_count": null,
      "outputs": [
        {
          "output_type": "stream",
          "name": "stdout",
          "text": [
            "Dataset (first 5 rows):\n",
            "   sepal length (cm)  sepal width (cm)  petal length (cm)  petal width (cm)  target\n",
            "0                5.1               3.5                1.4               0.2       0\n",
            "1                4.9               3.0                1.4               0.2       0\n",
            "2                4.7               3.2                1.3               0.2       0\n",
            "3                4.6               3.1                1.5               0.2       0\n",
            "4                5.0               3.6                1.4               0.2       0\n",
            "Model Accuracy: 91.11%\n",
            "Model Coefficients:\n",
            "[[-0.68663736  1.31356156 -1.53218577 -1.33167409]\n",
            " [ 0.12843288 -1.36457652  0.51126967 -0.68227209]\n",
            " [ 0.10252227 -0.05605024  1.72030107  2.31388888]]\n"
          ]
        },
        {
          "output_type": "stream",
          "name": "stderr",
          "text": [
            "/usr/local/lib/python3.11/dist-packages/sklearn/linear_model/_logistic.py:1256: FutureWarning: 'multi_class' was deprecated in version 1.5 and will be removed in 1.7. Use OneVsRestClassifier(LogisticRegression(..)) instead. Leave it to its default value to avoid this warning.\n",
            "  warnings.warn(\n"
          ]
        }
      ]
    },
    {
      "cell_type": "markdown",
      "source": [
        "Ques-9 Write a Python program to apply RandomizedSearchCV for tuning hyperparameters (C, penalty, solver) in\n",
        "Logistic Regression. Print the best parameters and accuracy ?"
      ],
      "metadata": {
        "id": "TZ4iIwNjkKFm"
      }
    },
    {
      "cell_type": "code",
      "source": [
        "# Import necessary libraries\n",
        "import pandas as pd\n",
        "from sklearn.datasets import load_iris\n",
        "from sklearn.model_selection import train_test_split, RandomizedSearchCV\n",
        "from sklearn.linear_model import LogisticRegression\n",
        "from sklearn.metrics import accuracy_score\n",
        "from sklearn.preprocessing import StandardScaler\n",
        "from scipy.stats import uniform\n",
        "\n",
        "# Load the Iris dataset\n",
        "data = load_iris()\n",
        "df = pd.DataFrame(data.data, columns=data.feature_names)\n",
        "df['target'] = data.target\n",
        "\n",
        "# Print the first few rows of the dataset\n",
        "print(\"Dataset (first 5 rows):\")\n",
        "print(df.head())\n",
        "\n",
        "# Assume the last column is the target (y) and the rest are features (X)\n",
        "X = df.iloc[:, :-1].values  # All columns except the last one (features)\n",
        "y = df.iloc[:, -1].values   # The last column (target)\n",
        "\n",
        "# Split the dataset into training and testing sets\n",
        "X_train, X_test, y_train, y_test = train_test_split(X, y, test_size=0.3, random_state=42)\n",
        "\n",
        "# Standardize the data (important for regularization)\n",
        "scaler = StandardScaler()\n",
        "X_train = scaler.fit_transform(X_train)\n",
        "X_test = scaler.transform(X_test)\n",
        "\n",
        "# Define the Logistic Regression model\n",
        "model = LogisticRegression(multi_class='ovr', max_iter=100)\n",
        "\n",
        "# Define the hyperparameters to tune\n",
        "param_dist = {\n",
        "    'C': uniform(0.001, 10),  # Regularization strength\n",
        "    'penalty': ['l1', 'l2'],  # Regularization type\n",
        "    'solver': ['liblinear', 'saga']  # Solvers that support L1 regularization\n",
        "}\n",
        "\n",
        "# Apply RandomizedSearchCV to find the best hyperparameters\n",
        "random_search = RandomizedSearchCV(estimator=model, param_distributions=param_dist,\n",
        "                                   n_iter=100, cv=5, scoring='accuracy', random_state=42, n_jobs=-1)\n",
        "\n",
        "# Train the model using RandomizedSearchCV\n",
        "random_search.fit(X_train, y_train)\n",
        "\n",
        "# Get the best parameters from the RandomizedSearchCV\n",
        "best_params = random_search.best_params_\n",
        "\n",
        "# Print the best hyperparameters\n",
        "print(f\"Best Hyperparameters: {best_params}\")\n",
        "\n",
        "# Make predictions with the best model\n",
        "y_pred = random_search.best_estimator_.predict(X_test)\n",
        "\n",
        "# Calculate accuracy\n",
        "accuracy = accuracy_score(y_test, y_pred)\n",
        "\n",
        "# Print the accuracy of the best model\n",
        "print(f\"Accuracy of the Best Model: {accuracy * 100:.2f}%\")\n"
      ],
      "metadata": {
        "colab": {
          "base_uri": "https://localhost:8080/"
        },
        "id": "tfOpN5GFkGwU",
        "outputId": "5c246470-5649-4235-d74b-41d8bfdc0648"
      },
      "execution_count": null,
      "outputs": [
        {
          "output_type": "stream",
          "name": "stdout",
          "text": [
            "Dataset (first 5 rows):\n",
            "   sepal length (cm)  sepal width (cm)  petal length (cm)  petal width (cm)  target\n",
            "0                5.1               3.5                1.4               0.2       0\n",
            "1                4.9               3.0                1.4               0.2       0\n",
            "2                4.7               3.2                1.3               0.2       0\n",
            "3                4.6               3.1                1.5               0.2       0\n",
            "4                5.0               3.6                1.4               0.2       0\n",
            "Best Hyperparameters: {'C': 7.320939418114051, 'penalty': 'l1', 'solver': 'liblinear'}\n",
            "Accuracy of the Best Model: 100.00%\n"
          ]
        },
        {
          "output_type": "stream",
          "name": "stderr",
          "text": [
            "/usr/local/lib/python3.11/dist-packages/sklearn/linear_model/_logistic.py:1256: FutureWarning: 'multi_class' was deprecated in version 1.5 and will be removed in 1.7. Use OneVsRestClassifier(LogisticRegression(..)) instead. Leave it to its default value to avoid this warning.\n",
            "  warnings.warn(\n"
          ]
        }
      ]
    },
    {
      "cell_type": "markdown",
      "source": [
        "Ques-10 Write a Python program to implement One-vs-One (OvO) Multiclass Logistic Regression and print accuracy ?"
      ],
      "metadata": {
        "id": "KmCGCH_Xkfgn"
      }
    },
    {
      "cell_type": "code",
      "source": [
        "# Import necessary libraries\n",
        "import pandas as pd\n",
        "from sklearn.datasets import load_iris\n",
        "from sklearn.model_selection import train_test_split\n",
        "from sklearn.linear_model import LogisticRegression\n",
        "from sklearn.metrics import accuracy_score\n",
        "from sklearn.preprocessing import StandardScaler\n",
        "from sklearn.multiclass import OneVsOneClassifier\n",
        "\n",
        "# Load the Iris dataset\n",
        "data = load_iris()\n",
        "df = pd.DataFrame(data.data, columns=data.feature_names)\n",
        "df['target'] = data.target\n",
        "\n",
        "# Print the first few rows of the dataset\n",
        "print(\"Dataset (first 5 rows):\")\n",
        "print(df.head())\n",
        "\n",
        "# Assume the last column is the target (y) and the rest are features (X)\n",
        "X = df.iloc[:, :-1].values  # All columns except the last one (features)\n",
        "y = df.iloc[:, -1].values   # The last column (target)\n",
        "\n",
        "# Split the dataset into training and testing sets\n",
        "X_train, X_test, y_train, y_test = train_test_split(X, y, test_size=0.3, random_state=42)\n",
        "\n",
        "# Standardize the data (important for regularization)\n",
        "scaler = StandardScaler()\n",
        "X_train = scaler.fit_transform(X_train)\n",
        "X_test = scaler.transform(X_test)\n",
        "\n",
        "# Define the base Logistic Regression model\n",
        "log_reg = LogisticRegression(solver='liblinear', max_iter=100)\n",
        "\n",
        "# Create an One-vs-One classifier\n",
        "ovo_classifier = OneVsOneClassifier(log_reg)\n",
        "\n",
        "# Train the One-vs-One classifier\n",
        "ovo_classifier.fit(X_train, y_train)\n",
        "\n",
        "# Make predictions on the test set\n",
        "y_pred = ovo_classifier.predict(X_test)\n",
        "\n",
        "# Calculate the accuracy of the model\n",
        "accuracy = accuracy_score(y_test, y_pred)\n",
        "\n",
        "# Print the accuracy of the model\n",
        "print(f\"Accuracy of One-vs-One (OvO) Multiclass Logistic Regression: {accuracy * 100:.2f}%\")\n"
      ],
      "metadata": {
        "colab": {
          "base_uri": "https://localhost:8080/"
        },
        "id": "LdxvG5CLkaGg",
        "outputId": "2ace3074-f64c-4eb5-c0f3-e3d97562c9ae"
      },
      "execution_count": null,
      "outputs": [
        {
          "output_type": "stream",
          "name": "stdout",
          "text": [
            "Dataset (first 5 rows):\n",
            "   sepal length (cm)  sepal width (cm)  petal length (cm)  petal width (cm)  target\n",
            "0                5.1               3.5                1.4               0.2       0\n",
            "1                4.9               3.0                1.4               0.2       0\n",
            "2                4.7               3.2                1.3               0.2       0\n",
            "3                4.6               3.1                1.5               0.2       0\n",
            "4                5.0               3.6                1.4               0.2       0\n",
            "Accuracy of One-vs-One (OvO) Multiclass Logistic Regression: 100.00%\n"
          ]
        }
      ]
    },
    {
      "cell_type": "markdown",
      "source": [
        "Ques-11 Write a Python program to train a Logistic Regression model and visualize the confusion matrix for binary\n",
        "classification ?"
      ],
      "metadata": {
        "id": "pUcDQZHBkzJD"
      }
    },
    {
      "cell_type": "code",
      "source": [
        "# Import necessary libraries\n",
        "import pandas as pd\n",
        "from sklearn.datasets import make_classification\n",
        "from sklearn.model_selection import train_test_split\n",
        "from sklearn.linear_model import LogisticRegression\n",
        "from sklearn.metrics import confusion_matrix, accuracy_score\n",
        "import seaborn as sns\n",
        "import matplotlib.pyplot as plt\n",
        "\n",
        "# Generate a synthetic binary classification dataset\n",
        "X, y = make_classification(n_samples=1000, n_features=10, n_classes=2, random_state=42)\n",
        "\n",
        "# Split the dataset into training and testing sets\n",
        "X_train, X_test, y_train, y_test = train_test_split(X, y, test_size=0.3, random_state=42)\n",
        "\n",
        "# Create a Logistic Regression model\n",
        "model = LogisticRegression()\n",
        "\n",
        "# Train the model\n",
        "model.fit(X_train, y_train)\n",
        "\n",
        "# Make predictions on the test set\n",
        "y_pred = model.predict(X_test)\n",
        "\n",
        "# Calculate accuracy\n",
        "accuracy = accuracy_score(y_test, y_pred)\n",
        "print(f\"Model Accuracy: {accuracy * 100:.2f}%\")\n",
        "\n",
        "# Compute the confusion matrix\n",
        "cm = confusion_matrix(y_test, y_pred)\n",
        "\n",
        "# Visualize the confusion matrix using seaborn heatmap\n",
        "plt.figure(figsize=(6, 4))\n",
        "sns.heatmap(cm, annot=True, fmt='d', cmap='Blues', xticklabels=['Predicted 0', 'Predicted 1'], yticklabels=['Actual 0', 'Actual 1'])\n",
        "plt.title('Confusion Matrix')\n",
        "plt.xlabel('Predicted')\n",
        "plt.ylabel('Actual')\n",
        "plt.show()\n"
      ],
      "metadata": {
        "colab": {
          "base_uri": "https://localhost:8080/",
          "height": 427
        },
        "id": "aU8yVkDFkx_o",
        "outputId": "730dffec-475b-4f05-ece6-a928618d6c0a"
      },
      "execution_count": null,
      "outputs": [
        {
          "output_type": "stream",
          "name": "stdout",
          "text": [
            "Model Accuracy: 84.67%\n"
          ]
        },
        {
          "output_type": "display_data",
          "data": {
            "text/plain": [
              "<Figure size 600x400 with 2 Axes>"
            ],
            "image/png": "[encoded data removed]"
          },
          "metadata": {}
        }
      ]
    },
    {
      "cell_type": "markdown",
      "source": [
        "Ques-12 Write a Python program to train a Logistic Regression model and evaluate its performance using Precision,\n",
        "Recall, and F1-Score ?"
      ],
      "metadata": {
        "id": "Gvv0J_8FlHc4"
      }
    },
    {
      "cell_type": "code",
      "source": [
        "# Import necessary libraries\n",
        "import pandas as pd\n",
        "from sklearn.datasets import make_classification\n",
        "from sklearn.model_selection import train_test_split\n",
        "from sklearn.linear_model import LogisticRegression\n",
        "from sklearn.metrics import precision_score, recall_score, f1_score, accuracy_score\n",
        "\n",
        "# Generate a synthetic binary classification dataset\n",
        "X, y = make_classification(n_samples=1000, n_features=10, n_classes=2, random_state=42)\n",
        "\n",
        "# Split the dataset into training and testing sets\n",
        "X_train, X_test, y_train, y_test = train_test_split(X, y, test_size=0.3, random_state=42)\n",
        "\n",
        "# Create a Logistic Regression model\n",
        "model = LogisticRegression()\n",
        "\n",
        "# Train the model\n",
        "model.fit(X_train, y_train)\n",
        "\n",
        "# Make predictions on the test set\n",
        "y_pred = model.predict(X_test)\n",
        "\n",
        "# Calculate accuracy\n",
        "accuracy = accuracy_score(y_test, y_pred)\n",
        "print(f\"Model Accuracy: {accuracy * 100:.2f}%\")\n",
        "\n",
        "# Calculate Precision, Recall, and F1-Score\n",
        "precision = precision_score(y_test, y_pred)\n",
        "recall = recall_score(y_test, y_pred)\n",
        "f1 = f1_score(y_test, y_pred)\n",
        "\n",
        "# Print the performance metrics\n",
        "print(f\"Precision: {precision:.2f}\")\n",
        "print(f\"Recall: {recall:.2f}\")\n",
        "print(f\"F1-Score: {f1:.2f}\")\n"
      ],
      "metadata": {
        "colab": {
          "base_uri": "https://localhost:8080/"
        },
        "id": "f9rR-kArk_lQ",
        "outputId": "22c29462-194d-4154-cd27-02cb07f0b1b5"
      },
      "execution_count": null,
      "outputs": [
        {
          "output_type": "stream",
          "name": "stdout",
          "text": [
            "Model Accuracy: 84.67%\n",
            "Precision: 0.89\n",
            "Recall: 0.82\n",
            "F1-Score: 0.86\n"
          ]
        }
      ]
    },
    {
      "cell_type": "markdown",
      "source": [
        "Ques-13 Write a Python program to train a Logistic Regression model on imbalanced data and apply class weights to\n",
        "improve model performance ?"
      ],
      "metadata": {
        "id": "dtP0T-owlXHu"
      }
    },
    {
      "cell_type": "code",
      "source": [
        "# Import necessary libraries\n",
        "import numpy as np\n",
        "from sklearn.datasets import make_classification\n",
        "from sklearn.model_selection import train_test_split\n",
        "from sklearn.linear_model import LogisticRegression\n",
        "from sklearn.metrics import accuracy_score, precision_score, recall_score, f1_score\n",
        "\n",
        "# Generate an imbalanced synthetic binary classification dataset\n",
        "X, y = make_classification(n_samples=1000, n_features=10, n_classes=2,\n",
        "                           weights=[0.9, 0.1], random_state=42)\n",
        "\n",
        "# Check the distribution of the target variable (imbalanced)\n",
        "print(f\"Class distribution in the dataset: {np.bincount(y)}\")\n",
        "\n",
        "# Split the dataset into training and testing sets\n",
        "X_train, X_test, y_train, y_test = train_test_split(X, y, test_size=0.3, random_state=42)\n",
        "\n",
        "# Create a Logistic Regression model with class weights\n",
        "model = LogisticRegression(class_weight='balanced', random_state=42)\n",
        "\n",
        "# Train the model\n",
        "model.fit(X_train, y_train)\n",
        "\n",
        "# Make predictions on the test set\n",
        "y_pred = model.predict(X_test)\n",
        "\n",
        "# Calculate accuracy, precision, recall, and F1-score\n",
        "accuracy = accuracy_score(y_test, y_pred)\n",
        "precision = precision_score(y_test, y_pred)\n",
        "recall = recall_score(y_test, y_pred)\n",
        "f1 = f1_score(y_test, y_pred)\n",
        "\n",
        "# Print the performance metrics\n",
        "print(f\"Model Accuracy: {accuracy * 100:.2f}%\")\n",
        "print(f\"Precision: {precision:.2f}\")\n",
        "print(f\"Recall: {recall:.2f}\")\n",
        "print(f\"F1-Score: {f1:.2f}\")\n"
      ],
      "metadata": {
        "colab": {
          "base_uri": "https://localhost:8080/"
        },
        "id": "rQyvFG8VlTj2",
        "outputId": "9aec6a6e-44d8-4af3-f39f-5819a0d37a10"
      },
      "execution_count": null,
      "outputs": [
        {
          "output_type": "stream",
          "name": "stdout",
          "text": [
            "Class distribution in the dataset: [897 103]\n",
            "Model Accuracy: 87.33%\n",
            "Precision: 0.50\n",
            "Recall: 0.84\n",
            "F1-Score: 0.63\n"
          ]
        }
      ]
    },
    {
      "cell_type": "markdown",
      "source": [
        "Ques-14 Write a Python program to train Logistic Regression on the Titanic dataset, handle missing values, and\n",
        "evaluate performance ?"
      ],
      "metadata": {
        "id": "uz7MZDwIl1Tz"
      }
    },
    {
      "cell_type": "code",
      "source": [
        "import pandas as pd\n",
        "from sklearn.model_selection import train_test_split\n",
        "from sklearn.preprocessing import StandardScaler\n",
        "from sklearn.linear_model import LogisticRegression\n",
        "from sklearn.metrics import accuracy_score\n",
        "\n",
        "# Load Titanic dataset\n",
        "url = \"https://web.stanford.edu/class/archive/cs/cs109/cs109.1166/stuff/titanic.csv\"\n",
        "df = pd.read_csv(url)\n",
        "\n",
        "# Print column names to check for issues\n",
        "print(\"Columns in the dataset:\", df.columns)\n",
        "\n",
        "# Handle missing values\n",
        "df['Age'] = df['Age'].fillna(df['Age'].mean())  # Fill missing 'Age' with mean\n",
        "\n",
        "# Encode categorical data (we will encode 'Sex')\n",
        "df['Sex'] = df['Sex'].map({'male': 0, 'female': 1})  # Male: 0, Female: 1\n",
        "\n",
        "# Select features (X) and target (y)\n",
        "X = df[['Pclass', 'Sex', 'Age', 'Fare']]  # Features\n",
        "y = df['Survived']  # Target\n",
        "\n",
        "# Split the data into training and testing sets\n",
        "X_train, X_test, y_train, y_test = train_test_split(X, y, test_size=0.2, random_state=42)\n",
        "\n",
        "# Scale the features\n",
        "scaler = StandardScaler()\n",
        "X_train_scaled = scaler.fit_transform(X_train)\n",
        "X_test_scaled = scaler.transform(X_test)\n",
        "\n",
        "# Train the Logistic Regression model\n",
        "model = LogisticRegression(random_state=42)\n",
        "model.fit(X_train_scaled, y_train)\n",
        "\n",
        "# Make predictions\n",
        "y_pred = model.predict(X_test_scaled)\n",
        "\n",
        "# Evaluate the model's performance\n",
        "accuracy = accuracy_score(y_test, y_pred)\n",
        "print(f\"Accuracy of the Logistic Regression model: {accuracy:.4f}\")\n"
      ],
      "metadata": {
        "colab": {
          "base_uri": "https://localhost:8080/"
        },
        "id": "HMd91VjVq_pD",
        "outputId": "678575ab-d190-4441-ab16-8b70ff13c202"
      },
      "execution_count": 37,
      "outputs": [
        {
          "output_type": "stream",
          "name": "stdout",
          "text": [
            "Columns in the dataset: Index(['Survived', 'Pclass', 'Name', 'Sex', 'Age', 'Siblings/Spouses Aboard',\n",
            "       'Parents/Children Aboard', 'Fare'],\n",
            "      dtype='object')\n",
            "Accuracy of the Logistic Regression model: 0.7584\n"
          ]
        }
      ]
    },
    {
      "cell_type": "markdown",
      "source": [
        "Ques-15 Write a Python program to apply feature scaling (Standardization) before training a Logistic Regression\n",
        "model. Evaluate its accuracy and compare results with and without scaling ?"
      ],
      "metadata": {
        "id": "MsCJ19RmrTVN"
      }
    },
    {
      "cell_type": "code",
      "source": [
        "import pandas as pd\n",
        "from sklearn.model_selection import train_test_split\n",
        "from sklearn.linear_model import LogisticRegression\n",
        "from sklearn.preprocessing import StandardScaler\n",
        "from sklearn.metrics import accuracy_score\n",
        "\n",
        "# Load Titanic dataset\n",
        "url = \"https://web.stanford.edu/class/archive/cs/cs109/cs109.1166/stuff/titanic.csv\"\n",
        "df = pd.read_csv(url)\n",
        "\n",
        "# Handle missing values\n",
        "df['Age'] = df['Age'].fillna(df['Age'].mean())  # Fill missing 'Age' with mean\n",
        "df['Sex'] = df['Sex'].map({'male': 0, 'female': 1})  # Encode 'Sex' column: Male = 0, Female = 1\n",
        "\n",
        "# Select features (X) and target (y)\n",
        "X = df[['Pclass', 'Sex', 'Age', 'Fare']]  # Features\n",
        "y = df['Survived']  # Target\n",
        "\n",
        "# Split the data into training and testing sets\n",
        "X_train, X_test, y_train, y_test = train_test_split(X, y, test_size=0.2, random_state=42)\n",
        "\n",
        "# ----------- Logistic Regression without Feature Scaling -----------\n",
        "\n",
        "# Train Logistic Regression without scaling\n",
        "model_no_scaling = LogisticRegression(random_state=42)\n",
        "model_no_scaling.fit(X_train, y_train)\n",
        "\n",
        "# Make predictions and evaluate the model's performance without scaling\n",
        "y_pred_no_scaling = model_no_scaling.predict(X_test)\n",
        "accuracy_no_scaling = accuracy_score(y_test, y_pred_no_scaling)\n",
        "print(f\"Accuracy without feature scaling: {accuracy_no_scaling:.4f}\")\n",
        "\n",
        "# ----------- Logistic Regression with Feature Scaling (Standardization) -----------\n",
        "\n",
        "# Apply Standardization (Feature Scaling)\n",
        "scaler = StandardScaler()\n",
        "X_train_scaled = scaler.fit_transform(X_train)\n",
        "X_test_scaled = scaler.transform(X_test)\n",
        "\n",
        "# Train Logistic Regression with scaling\n",
        "model_with_scaling = LogisticRegression(random_state=42)\n",
        "model_with_scaling.fit(X_train_scaled, y_train)\n",
        "\n",
        "# Make predictions and evaluate the model's performance with scaling\n",
        "y_pred_with_scaling = model_with_scaling.predict(X_test_scaled)\n",
        "accuracy_with_scaling = accuracy_score(y_test, y_pred_with_scaling)\n",
        "print(f\"Accuracy with feature scaling: {accuracy_with_scaling:.4f}\")\n"
      ],
      "metadata": {
        "colab": {
          "base_uri": "https://localhost:8080/"
        },
        "id": "Hxbw1pWHrRZ8",
        "outputId": "2d99e567-24d8-42f1-f055-986ae760961d"
      },
      "execution_count": 38,
      "outputs": [
        {
          "output_type": "stream",
          "name": "stdout",
          "text": [
            "Accuracy without feature scaling: 0.7640\n",
            "Accuracy with feature scaling: 0.7584\n"
          ]
        }
      ]
    },
    {
      "cell_type": "markdown",
      "source": [
        "Ques- Write a Python program to train Logistic Regression and evaluate its performance using ROC-AUC score ?"
      ],
      "metadata": {
        "id": "G7hat2BCrmJq"
      }
    },
    {
      "cell_type": "code",
      "source": [
        "import pandas as pd\n",
        "from sklearn.model_selection import train_test_split\n",
        "from sklearn.linear_model import LogisticRegression\n",
        "from sklearn.preprocessing import StandardScaler\n",
        "from sklearn.metrics import roc_auc_score, roc_curve\n",
        "import matplotlib.pyplot as plt\n",
        "\n",
        "# Load Titanic dataset\n",
        "url = \"https://web.stanford.edu/class/archive/cs/cs109/cs109.1166/stuff/titanic.csv\"\n",
        "df = pd.read_csv(url)\n",
        "\n",
        "# Handle missing values\n",
        "df['Age'] = df['Age'].fillna(df['Age'].mean())  # Fill missing 'Age' with mean\n",
        "df['Sex'] = df['Sex'].map({'male': 0, 'female': 1})  # Encode 'Sex' column: Male = 0, Female = 1\n",
        "\n",
        "# Select features (X) and target (y)\n",
        "X = df[['Pclass', 'Sex', 'Age', 'Fare']]  # Features\n",
        "y = df['Survived']  # Target\n",
        "\n",
        "# Split the data into training and testing sets\n",
        "X_train, X_test, y_train, y_test = train_test_split(X, y, test_size=0.2, random_state=42)\n",
        "\n",
        "# Apply Standardization (Feature Scaling)\n",
        "scaler = StandardScaler()\n",
        "X_train_scaled = scaler.fit_transform(X_train)\n",
        "X_test_scaled = scaler.transform(X_test)\n",
        "\n",
        "# Train Logistic Regression model\n",
        "model = LogisticRegression(random_state=42)\n",
        "model.fit(X_train_scaled, y_train)\n",
        "\n",
        "# Predict probabilities (needed for ROC-AUC score)\n",
        "y_prob = model.predict_proba(X_test_scaled)[:, 1]  # Get the probability for the positive class\n",
        "\n",
        "# Calculate ROC-AUC score\n",
        "roc_auc = roc_auc_score(y_test, y_prob)\n",
        "print(f\"ROC-AUC score: {roc_auc:.4f}\")\n",
        "\n",
        "# Plot ROC Curve\n",
        "fpr, tpr, thresholds = roc_curve(y_test, y_prob)\n",
        "\n",
        "plt.figure(figsize=(8, 6))\n",
        "plt.plot(fpr, tpr, color='blue', label=f'ROC curve (AUC = {roc_auc:.4f})')\n",
        "plt.plot([0, 1], [0, 1], color='gray', linestyle='--')  # Diagonal line for random classifier\n",
        "plt.xlabel('False Positive Rate')\n",
        "plt.ylabel('True Positive Rate')\n",
        "plt.title('ROC Curve')\n",
        "plt.legend(loc='lower right')\n",
        "plt.show()\n"
      ],
      "metadata": {
        "colab": {
          "base_uri": "https://localhost:8080/",
          "height": 581
        },
        "id": "9nu1kN_SrkJ4",
        "outputId": "c26ce70c-c0e1-466f-c776-733a48f3ad53"
      },
      "execution_count": 39,
      "outputs": [
        {
          "output_type": "stream",
          "name": "stdout",
          "text": [
            "ROC-AUC score: 0.8133\n"
          ]
        },
        {
          "output_type": "display_data",
          "data": {
            "text/plain": [
              "<Figure size 800x600 with 1 Axes>"
            ],
            "image/png": "[encoded data removed]"
          },
          "metadata": {}
        }
      ]
    },
    {
      "cell_type": "markdown",
      "source": [
        "Ques-17 Write a Python program to train Logistic Regression using a custom learning rate (C=0.5) and evaluate\n",
        "accuracy ?"
      ],
      "metadata": {
        "id": "KXFkjkrrr8MK"
      }
    },
    {
      "cell_type": "code",
      "source": [
        "import pandas as pd\n",
        "from sklearn.model_selection import train_test_split\n",
        "from sklearn.linear_model import LogisticRegression\n",
        "from sklearn.preprocessing import StandardScaler\n",
        "from sklearn.metrics import accuracy_score\n",
        "\n",
        "# Load Titanic dataset\n",
        "url = \"https://web.stanford.edu/class/archive/cs/cs109/cs109.1166/stuff/titanic.csv\"\n",
        "df = pd.read_csv(url)\n",
        "\n",
        "# Handle missing values\n",
        "df['Age'] = df['Age'].fillna(df['Age'].mean())  # Fill missing 'Age' with mean\n",
        "df['Sex'] = df['Sex'].map({'male': 0, 'female': 1})  # Encode 'Sex' column: Male = 0, Female = 1\n",
        "\n",
        "# Select features (X) and target (y)\n",
        "X = df[['Pclass', 'Sex', 'Age', 'Fare']]  # Features\n",
        "y = df['Survived']  # Target\n",
        "\n",
        "# Split the data into training and testing sets\n",
        "X_train, X_test, y_train, y_test = train_test_split(X, y, test_size=0.2, random_state=42)\n",
        "\n",
        "# Apply Standardization (Feature Scaling)\n",
        "scaler = StandardScaler()\n",
        "X_train_scaled = scaler.fit_transform(X_train)\n",
        "X_test_scaled = scaler.transform(X_test)\n",
        "\n",
        "# Train Logistic Regression with custom learning rate (C=0.5)\n",
        "model = LogisticRegression(C=0.5, random_state=42)  # C is the inverse of the regularization strength\n",
        "model.fit(X_train_scaled, y_train)\n",
        "\n",
        "# Make predictions and evaluate the model's performance\n",
        "y_pred = model.predict(X_test_scaled)\n",
        "accuracy = accuracy_score(y_test, y_pred)\n",
        "\n",
        "print(f\"Accuracy of Logistic Regression model with C=0.5: {accuracy:.4f}\")\n"
      ],
      "metadata": {
        "colab": {
          "base_uri": "https://localhost:8080/"
        },
        "id": "4jpssuM3r5N3",
        "outputId": "48a5bfea-5912-4f64-eeae-e16fdf7b6065"
      },
      "execution_count": 40,
      "outputs": [
        {
          "output_type": "stream",
          "name": "stdout",
          "text": [
            "Accuracy of Logistic Regression model with C=0.5: 0.7584\n"
          ]
        }
      ]
    },
    {
      "cell_type": "markdown",
      "source": [
        "Ques-18 Write a Python program to train Logistic Regression and identify important features based on model\n",
        "coefficients ?"
      ],
      "metadata": {
        "id": "-1fS6IpFsbCG"
      }
    },
    {
      "cell_type": "code",
      "source": [
        "import pandas as pd\n",
        "from sklearn.model_selection import train_test_split\n",
        "from sklearn.linear_model import LogisticRegression\n",
        "from sklearn.preprocessing import StandardScaler\n",
        "import numpy as np\n",
        "\n",
        "# Load Titanic dataset\n",
        "url = \"https://web.stanford.edu/class/archive/cs/cs109/cs109.1166/stuff/titanic.csv\"\n",
        "df = pd.read_csv(url)\n",
        "\n",
        "# Handle missing values\n",
        "df['Age'] = df['Age'].fillna(df['Age'].mean())  # Fill missing 'Age' with mean\n",
        "df['Sex'] = df['Sex'].map({'male': 0, 'female': 1})  # Encode 'Sex' column: Male = 0, Female = 1\n",
        "\n",
        "# Select features (X) and target (y)\n",
        "X = df[['Pclass', 'Sex', 'Age', 'Fare']]  # Features\n",
        "y = df['Survived']  # Target\n",
        "\n",
        "# Split the data into training and testing sets\n",
        "X_train, X_test, y_train, y_test = train_test_split(X, y, test_size=0.2, random_state=42)\n",
        "\n",
        "# Apply Standardization (Feature Scaling)\n",
        "scaler = StandardScaler()\n",
        "X_train_scaled = scaler.fit_transform(X_train)\n",
        "X_test_scaled = scaler.transform(X_test)\n",
        "\n",
        "# Train Logistic Regression model\n",
        "model = LogisticRegression(random_state=42)\n",
        "model.fit(X_train_scaled, y_train)\n",
        "\n",
        "# Get model coefficients and the corresponding feature names\n",
        "coefficients = model.coef_[0]  # Get the coefficients for the features\n",
        "feature_names = X.columns  # Get the feature names\n",
        "\n",
        "# Combine the feature names with their coefficients\n",
        "feature_importance = pd.DataFrame({\n",
        "    'Feature': feature_names,\n",
        "    'Coefficient': coefficients,\n",
        "    'Importance': np.abs(coefficients)  # The higher the absolute coefficient, the more important the feature\n",
        "})\n",
        "\n",
        "# Sort the features by importance\n",
        "feature_importance = feature_importance.sort_values(by='Importance', ascending=False)\n",
        "\n",
        "# Print the feature importance\n",
        "print(\"Feature Importance based on Logistic Regression Coefficients:\")\n",
        "print(feature_importance)\n",
        "\n"
      ],
      "metadata": {
        "colab": {
          "base_uri": "https://localhost:8080/"
        },
        "id": "GxAgEJVwsVg6",
        "outputId": "c73addae-9e5e-4a1e-cd4a-f7b01c146eb4"
      },
      "execution_count": 41,
      "outputs": [
        {
          "output_type": "stream",
          "name": "stdout",
          "text": [
            "Feature Importance based on Logistic Regression Coefficients:\n",
            "  Feature  Coefficient  Importance\n",
            "1     Sex     1.282458    1.282458\n",
            "0  Pclass    -0.960348    0.960348\n",
            "2     Age    -0.395350    0.395350\n",
            "3    Fare     0.055853    0.055853\n"
          ]
        }
      ]
    },
    {
      "cell_type": "markdown",
      "source": [
        "Ques-19 Write a Python program to train Logistic Regression and evaluate its performance using Cohen’s Kappa\n",
        "Score?"
      ],
      "metadata": {
        "id": "Ds2l5q7ItUZk"
      }
    },
    {
      "cell_type": "code",
      "source": [
        "import pandas as pd\n",
        "from sklearn.model_selection import train_test_split\n",
        "from sklearn.linear_model import LogisticRegression\n",
        "from sklearn.preprocessing import StandardScaler\n",
        "from sklearn.metrics import cohen_kappa_score, accuracy_score\n",
        "\n",
        "# Load Titanic dataset\n",
        "url = \"https://web.stanford.edu/class/archive/cs/cs109/cs109.1166/stuff/titanic.csv\"\n",
        "df = pd.read_csv(url)\n",
        "\n",
        "# Handle missing values\n",
        "df['Age'] = df['Age'].fillna(df['Age'].mean())  # Fill missing 'Age' with mean\n",
        "df['Sex'] = df['Sex'].map({'male': 0, 'female': 1})  # Encode 'Sex' column: Male = 0, Female = 1\n",
        "\n",
        "# Select features (X) and target (y)\n",
        "X = df[['Pclass', 'Sex', 'Age', 'Fare']]  # Features\n",
        "y = df['Survived']  # Target\n",
        "\n",
        "# Split the data into training and testing sets\n",
        "X_train, X_test, y_train, y_test = train_test_split(X, y, test_size=0.2, random_state=42)\n",
        "\n",
        "# Apply Standardization (Feature Scaling)\n",
        "scaler = StandardScaler()\n",
        "X_train_scaled = scaler.fit_transform(X_train)\n",
        "X_test_scaled = scaler.transform(X_test)\n",
        "\n",
        "# Train Logistic Regression model\n",
        "model = LogisticRegression(random_state=42)\n",
        "model.fit(X_train_scaled, y_train)\n",
        "\n",
        "# Make predictions\n",
        "y_pred = model.predict(X_test_scaled)\n",
        "\n",
        "# Evaluate the model's performance using Cohen's Kappa score\n",
        "kappa_score = cohen_kappa_score(y_test, y_pred)\n",
        "accuracy = accuracy_score(y_test, y_pred)\n",
        "\n",
        "print(f\"Accuracy of Logistic Regression model: {accuracy:.4f}\")\n",
        "print(f\"Cohen's Kappa score: {kappa_score:.4f}\")\n"
      ],
      "metadata": {
        "colab": {
          "base_uri": "https://localhost:8080/"
        },
        "id": "4ZT_ZYcis4uA",
        "outputId": "64f0620f-b372-4949-c822-37b727bbe967"
      },
      "execution_count": 42,
      "outputs": [
        {
          "output_type": "stream",
          "name": "stdout",
          "text": [
            "Accuracy of Logistic Regression model: 0.7584\n",
            "Cohen's Kappa score: 0.4648\n"
          ]
        }
      ]
    },
    {
      "cell_type": "markdown",
      "source": [
        "Ques-20 Write a Python program to train Logistic Regression and visualize the Precision-Recall Curve for binary\n",
        "classification ?"
      ],
      "metadata": {
        "id": "dOcjKVU6tkU_"
      }
    },
    {
      "cell_type": "code",
      "source": [
        "import pandas as pd\n",
        "from sklearn.model_selection import train_test_split\n",
        "from sklearn.linear_model import LogisticRegression\n",
        "from sklearn.preprocessing import StandardScaler\n",
        "from sklearn.metrics import precision_recall_curve\n",
        "import matplotlib.pyplot as plt\n",
        "\n",
        "# Load Titanic dataset\n",
        "url = \"https://web.stanford.edu/class/archive/cs/cs109/cs109.1166/stuff/titanic.csv\"\n",
        "df = pd.read_csv(url)\n",
        "\n",
        "# Handle missing values\n",
        "df['Age'] = df['Age'].fillna(df['Age'].mean())  # Fill missing 'Age' with mean\n",
        "df['Sex'] = df['Sex'].map({'male': 0, 'female': 1})  # Encode 'Sex' column: Male = 0, Female = 1\n",
        "\n",
        "# Select features (X) and target (y)\n",
        "X = df[['Pclass', 'Sex', 'Age', 'Fare']]  # Features\n",
        "y = df['Survived']  # Target\n",
        "\n",
        "# Split the data into training and testing sets\n",
        "X_train, X_test, y_train, y_test = train_test_split(X, y, test_size=0.2, random_state=42)\n",
        "\n",
        "# Apply Standardization (Feature Scaling)\n",
        "scaler = StandardScaler()\n",
        "X_train_scaled = scaler.fit_transform(X_train)\n",
        "X_test_scaled = scaler.transform(X_test)\n",
        "\n",
        "# Train Logistic Regression model\n",
        "model = LogisticRegression(random_state=42)\n",
        "model.fit(X_train_scaled, y_train)\n",
        "\n",
        "# Get predicted probabilities for the positive class\n",
        "y_prob = model.predict_proba(X_test_scaled)[:, 1]  # Probabilities for class 1 (survived)\n",
        "\n",
        "# Compute Precision-Recall curve\n",
        "precision, recall, thresholds = precision_recall_curve(y_test, y_prob)\n",
        "\n",
        "# Plot the Precision-Recall curve\n",
        "plt.figure(figsize=(8, 6))\n",
        "plt.plot(recall, precision, color='blue', label='Precision-Recall curve')\n",
        "plt.xlabel('Recall')\n",
        "plt.ylabel('Precision')\n",
        "plt.title('Precision-Recall Curve for Logistic Regression')\n",
        "plt.legend(loc='best')\n",
        "plt.grid(True)\n",
        "plt.show()\n"
      ],
      "metadata": {
        "colab": {
          "base_uri": "https://localhost:8080/",
          "height": 564
        },
        "id": "gUCjy8ebtijE",
        "outputId": "f712df4a-8002-4458-8f15-5fd16bf4583b"
      },
      "execution_count": 43,
      "outputs": [
        {
          "output_type": "display_data",
          "data": {
            "text/plain": [
              "<Figure size 800x600 with 1 Axes>"
            ],
            "image/png": "[encoded data removed]"
          },
          "metadata": {}
        }
      ]
    },
    {
      "cell_type": "markdown",
      "source": [
        "Ques-21 Write a Python program to train Logistic Regression with different solvers (liblinear, saga, lbfgs) and compare\n",
        "their accuracy ?"
      ],
      "metadata": {
        "id": "uWrP7Dwht2jD"
      }
    },
    {
      "cell_type": "code",
      "source": [
        "import pandas as pd\n",
        "from sklearn.model_selection import train_test_split\n",
        "from sklearn.linear_model import LogisticRegression\n",
        "from sklearn.preprocessing import StandardScaler\n",
        "from sklearn.metrics import accuracy_score\n",
        "\n",
        "# Load Titanic dataset\n",
        "url = \"https://web.stanford.edu/class/archive/cs/cs109/cs109.1166/stuff/titanic.csv\"\n",
        "df = pd.read_csv(url)\n",
        "\n",
        "# Handle missing values\n",
        "df['Age'] = df['Age'].fillna(df['Age'].mean())  # Fill missing 'Age' with mean\n",
        "df['Sex'] = df['Sex'].map({'male': 0, 'female': 1})  # Encode 'Sex' column: Male = 0, Female = 1\n",
        "\n",
        "# Select features (X) and target (y)\n",
        "X = df[['Pclass', 'Sex', 'Age', 'Fare']]  # Features\n",
        "y = df['Survived']  # Target\n",
        "\n",
        "# Split the data into training and testing sets\n",
        "X_train, X_test, y_train, y_test = train_test_split(X, y, test_size=0.2, random_state=42)\n",
        "\n",
        "# Apply Standardization (Feature Scaling)\n",
        "scaler = StandardScaler()\n",
        "X_train_scaled = scaler.fit_transform(X_train)\n",
        "X_test_scaled = scaler.transform(X_test)\n",
        "\n",
        "# List of solvers to test\n",
        "solvers = ['liblinear', 'saga', 'lbfgs']\n",
        "\n",
        "# Store results\n",
        "results = {}\n",
        "\n",
        "# Train Logistic Regression with different solvers and evaluate accuracy\n",
        "for solver in solvers:\n",
        "    model = LogisticRegression(solver=solver, random_state=42)\n",
        "    model.fit(X_train_scaled, y_train)\n",
        "\n",
        "    # Make predictions\n",
        "    y_pred = model.predict(X_test_scaled)\n",
        "\n",
        "    # Evaluate accuracy\n",
        "    accuracy = accuracy_score(y_test, y_pred)\n",
        "    results[solver] = accuracy\n",
        "\n",
        "# Print accuracy comparison\n",
        "print(\"Accuracy Comparison for different solvers:\")\n",
        "for solver, accuracy in results.items():\n",
        "    print(f\"Solver: {solver}, Accuracy: {accuracy:.4f}\")\n"
      ],
      "metadata": {
        "colab": {
          "base_uri": "https://localhost:8080/"
        },
        "id": "q4MlgjRjtyK0",
        "outputId": "f3bfa601-f432-4992-d4a2-d1fbf6ee8ba7"
      },
      "execution_count": 44,
      "outputs": [
        {
          "output_type": "stream",
          "name": "stdout",
          "text": [
            "Accuracy Comparison for different solvers:\n",
            "Solver: liblinear, Accuracy: 0.7584\n",
            "Solver: saga, Accuracy: 0.7584\n",
            "Solver: lbfgs, Accuracy: 0.7584\n"
          ]
        }
      ]
    },
    {
      "cell_type": "markdown",
      "source": [
        "Ques-22 Write a Python program to train Logistic Regression and evaluate its performance using Matthews\n",
        "Correlation Coefficient (MCC) ?"
      ],
      "metadata": {
        "id": "Yz9bk_XLuLCM"
      }
    },
    {
      "cell_type": "code",
      "source": [
        "import pandas as pd\n",
        "from sklearn.model_selection import train_test_split\n",
        "from sklearn.linear_model import LogisticRegression\n",
        "from sklearn.preprocessing import StandardScaler\n",
        "from sklearn.metrics import matthews_corrcoef\n",
        "\n",
        "# Load Titanic dataset\n",
        "url = \"https://web.stanford.edu/class/archive/cs/cs109/cs109.1166/stuff/titanic.csv\"\n",
        "df = pd.read_csv(url)\n",
        "\n",
        "# Handle missing values\n",
        "df['Age'] = df['Age'].fillna(df['Age'].mean())  # Fill missing 'Age' with mean\n",
        "df['Sex'] = df['Sex'].map({'male': 0, 'female': 1})  # Encode 'Sex' column: Male = 0, Female = 1\n",
        "\n",
        "# Select features (X) and target (y)\n",
        "X = df[['Pclass', 'Sex', 'Age', 'Fare']]  # Features\n",
        "y = df['Survived']  # Target\n",
        "\n",
        "# Split the data into training and testing sets\n",
        "X_train, X_test, y_train, y_test = train_test_split(X, y, test_size=0.2, random_state=42)\n",
        "\n",
        "# Apply Standardization (Feature Scaling)\n",
        "scaler = StandardScaler()\n",
        "X_train_scaled = scaler.fit_transform(X_train)\n",
        "X_test_scaled = scaler.transform(X_test)\n",
        "\n",
        "# Train Logistic Regression model\n",
        "model = LogisticRegression(random_state=42)\n",
        "model.fit(X_train_scaled, y_train)\n",
        "\n",
        "# Make predictions\n",
        "y_pred = model.predict(X_test_scaled)\n",
        "\n",
        "# Evaluate the model using Matthews Correlation Coefficient (MCC)\n",
        "mcc = matthews_corrcoef(y_test, y_pred)\n",
        "\n",
        "print(f\"Matthews Correlation Coefficient (MCC): {mcc:.4f}\")\n"
      ],
      "metadata": {
        "colab": {
          "base_uri": "https://localhost:8080/"
        },
        "id": "a_CCemMVuKUA",
        "outputId": "87598b74-4523-4339-810f-42d820b6cd47"
      },
      "execution_count": 45,
      "outputs": [
        {
          "output_type": "stream",
          "name": "stdout",
          "text": [
            "Matthews Correlation Coefficient (MCC): 0.4710\n"
          ]
        }
      ]
    },
    {
      "cell_type": "markdown",
      "source": [
        "Ques-23 Write a Python program to train Logistic Regression on both raw and standardized data. Compare their\n",
        "accuracy to see the impact of feature scaling ?"
      ],
      "metadata": {
        "id": "1WUweiUdubKk"
      }
    },
    {
      "cell_type": "code",
      "source": [
        "import pandas as pd\n",
        "from sklearn.model_selection import train_test_split\n",
        "from sklearn.linear_model import LogisticRegression\n",
        "from sklearn.preprocessing import StandardScaler\n",
        "from sklearn.metrics import accuracy_score\n",
        "\n",
        "# Load Titanic dataset\n",
        "url = \"https://web.stanford.edu/class/archive/cs/cs109/cs109.1166/stuff/titanic.csv\"\n",
        "df = pd.read_csv(url)\n",
        "\n",
        "# Handle missing values\n",
        "df['Age'] = df['Age'].fillna(df['Age'].mean())  # Fill missing 'Age' with mean\n",
        "df['Sex'] = df['Sex'].map({'male': 0, 'female': 1})  # Encode 'Sex' column: Male = 0, Female = 1\n",
        "\n",
        "# Select features (X) and target (y)\n",
        "X = df[['Pclass', 'Sex', 'Age', 'Fare']]  # Features\n",
        "y = df['Survived']  # Target\n",
        "\n",
        "# Split the data into training and testing sets\n",
        "X_train, X_test, y_train, y_test = train_test_split(X, y, test_size=0.2, random_state=42)\n",
        "\n",
        "# Train Logistic Regression on raw data\n",
        "model_raw = LogisticRegression(random_state=42)\n",
        "model_raw.fit(X_train, y_train)\n",
        "\n",
        "# Make predictions on the raw data\n",
        "y_pred_raw = model_raw.predict(X_test)\n",
        "\n",
        "# Evaluate accuracy on raw data\n",
        "accuracy_raw = accuracy_score(y_test, y_pred_raw)\n",
        "\n",
        "# Apply Standardization (Feature Scaling)\n",
        "scaler = StandardScaler()\n",
        "X_train_scaled = scaler.fit_transform(X_train)\n",
        "X_test_scaled = scaler.transform(X_test)\n",
        "\n",
        "# Train Logistic Regression on standardized data\n",
        "model_scaled = LogisticRegression(random_state=42)\n",
        "model_scaled.fit(X_train_scaled, y_train)\n",
        "\n",
        "# Make predictions on the standardized data\n",
        "y_pred_scaled = model_scaled.predict(X_test_scaled)\n",
        "\n",
        "# Evaluate accuracy on standardized data\n",
        "accuracy_scaled = accuracy_score(y_test, y_pred_scaled)\n",
        "\n",
        "# Print accuracy comparison\n",
        "print(f\"Accuracy on Raw Data: {accuracy_raw:.4f}\")\n",
        "print(f\"Accuracy on Standardized Data: {accuracy_scaled:.4f}\")\n"
      ],
      "metadata": {
        "colab": {
          "base_uri": "https://localhost:8080/"
        },
        "id": "xhNf6A6cuaA8",
        "outputId": "2401336f-0e3f-41e1-a0c0-fd1514e6279e"
      },
      "execution_count": 46,
      "outputs": [
        {
          "output_type": "stream",
          "name": "stdout",
          "text": [
            "Accuracy on Raw Data: 0.7640\n",
            "Accuracy on Standardized Data: 0.7584\n"
          ]
        }
      ]
    },
    {
      "cell_type": "markdown",
      "source": [
        "Ques-24 Write a Python program to train Logistic Regression and find the optimal C (regularization strength) using\n",
        "cross-validation ?"
      ],
      "metadata": {
        "id": "wDdaviNnurX0"
      }
    },
    {
      "cell_type": "code",
      "source": [
        "import pandas as pd\n",
        "from sklearn.model_selection import train_test_split, GridSearchCV\n",
        "from sklearn.linear_model import LogisticRegression\n",
        "from sklearn.preprocessing import StandardScaler\n",
        "from sklearn.metrics import accuracy_score\n",
        "\n",
        "# Load Titanic dataset\n",
        "url = \"https://web.stanford.edu/class/archive/cs/cs109/cs109.1166/stuff/titanic.csv\"\n",
        "df = pd.read_csv(url)\n",
        "\n",
        "# Handle missing values\n",
        "df['Age'] = df['Age'].fillna(df['Age'].mean())  # Fill missing 'Age' with mean\n",
        "df['Sex'] = df['Sex'].map({'male': 0, 'female': 1})  # Encode 'Sex' column: Male = 0, Female = 1\n",
        "\n",
        "# Select features (X) and target (y)\n",
        "X = df[['Pclass', 'Sex', 'Age', 'Fare']]  # Features\n",
        "y = df['Survived']  # Target\n",
        "\n",
        "# Split the data into training and testing sets\n",
        "X_train, X_test, y_train, y_test = train_test_split(X, y, test_size=0.2, random_state=42)\n",
        "\n",
        "# Apply Standardization (Feature Scaling)\n",
        "scaler = StandardScaler()\n",
        "X_train_scaled = scaler.fit_transform(X_train)\n",
        "X_test_scaled = scaler.transform(X_test)\n",
        "\n",
        "# Create a Logistic Regression model\n",
        "log_reg = LogisticRegression(solver='liblinear', random_state=42)\n",
        "\n",
        "# Set up the parameter grid for C\n",
        "param_grid = {'C': [0.01, 0.1, 1, 10, 100]}\n",
        "\n",
        "# Perform GridSearchCV with 5-fold cross-validation to find the optimal C\n",
        "grid_search = GridSearchCV(log_reg, param_grid, cv=5, scoring='accuracy')\n",
        "grid_search.fit(X_train_scaled, y_train)\n",
        "\n",
        "# Print the best value of C and the corresponding accuracy\n",
        "print(f\"Optimal C: {grid_search.best_params_['C']}\")\n",
        "print(f\"Best cross-validation accuracy: {grid_search.best_score_:.4f}\")\n",
        "\n",
        "# Use the best model to make predictions on the test set\n",
        "best_model = grid_search.best_estimator_\n",
        "y_pred = best_model.predict(X_test_scaled)\n",
        "\n",
        "# Evaluate accuracy on the test set\n",
        "accuracy = accuracy_score(y_test, y_pred)\n",
        "print(f\"Accuracy on test set: {accuracy:.4f}\")\n"
      ],
      "metadata": {
        "colab": {
          "base_uri": "https://localhost:8080/"
        },
        "id": "S8IVVyn3upfx",
        "outputId": "160954c1-24e9-4e5c-c768-b739ceb33485"
      },
      "execution_count": 47,
      "outputs": [
        {
          "output_type": "stream",
          "name": "stdout",
          "text": [
            "Optimal C: 10\n",
            "Best cross-validation accuracy: 0.8054\n",
            "Accuracy on test set: 0.7697\n"
          ]
        }
      ]
    },
    {
      "cell_type": "markdown",
      "source": [
        "Ques-25 Write a Python program to train Logistic Regression, save the trained model using joblib, and load it again to\n",
        "make predictions ?"
      ],
      "metadata": {
        "id": "hlrmOXxDu8wl"
      }
    },
    {
      "cell_type": "code",
      "source": [
        "import pandas as pd\n",
        "from sklearn.model_selection import train_test_split\n",
        "from sklearn.linear_model import LogisticRegression\n",
        "from sklearn.preprocessing import StandardScaler\n",
        "from sklearn.metrics import accuracy_score\n",
        "import joblib  # For saving and loading models\n",
        "\n",
        "# Load Titanic dataset\n",
        "url = \"https://web.stanford.edu/class/archive/cs/cs109/cs109.1166/stuff/titanic.csv\"\n",
        "df = pd.read_csv(url)\n",
        "\n",
        "# Handle missing values\n",
        "df['Age'] = df['Age'].fillna(df['Age'].mean())  # Fill missing 'Age' with mean\n",
        "df['Sex'] = df['Sex'].map({'male': 0, 'female': 1})  # Encode 'Sex' column: Male = 0, Female = 1\n",
        "\n",
        "# Select features (X) and target (y)\n",
        "X = df[['Pclass', 'Sex', 'Age', 'Fare']]  # Features\n",
        "y = df['Survived']  # Target\n",
        "\n",
        "# Split the data into training and testing sets\n",
        "X_train, X_test, y_train, y_test = train_test_split(X, y, test_size=0.2, random_state=42)\n",
        "\n",
        "# Apply Standardization (Feature Scaling)\n",
        "scaler = StandardScaler()\n",
        "X_train_scaled = scaler.fit_transform(X_train)\n",
        "X_test_scaled = scaler.transform(X_test)\n",
        "\n",
        "# Train Logistic Regression model\n",
        "model = LogisticRegression(random_state=42)\n",
        "model.fit(X_train_scaled, y_train)\n",
        "\n",
        "# Save the trained model using joblib\n",
        "joblib.dump(model, 'logistic_regression_model.joblib')\n",
        "\n",
        "# Save the scaler as well for future predictions (scaling the data in the same way)\n",
        "joblib.dump(scaler, 'scaler.joblib')\n",
        "\n",
        "# Load the trained model from the disk\n",
        "loaded_model = joblib.load('logistic_regression_model.joblib')\n",
        "loaded_scaler = joblib.load('scaler.joblib')\n",
        "\n",
        "# Use the loaded model to make predictions\n",
        "X_test_scaled_loaded = loaded_scaler.transform(X_test)  # Ensure to scale the test data in the same way\n",
        "y_pred = loaded_model.predict(X_test_scaled_loaded)\n",
        "\n",
        "# Evaluate accuracy of the loaded model\n",
        "accuracy = accuracy_score(y_test, y_pred)\n",
        "\n",
        "print(f\"Accuracy of the loaded model: {accuracy:.4f}\")\n"
      ],
      "metadata": {
        "colab": {
          "base_uri": "https://localhost:8080/"
        },
        "id": "U8Xtd6Eou6ux",
        "outputId": "ae468f70-99c7-454b-b894-50c88291400e"
      },
      "execution_count": 48,
      "outputs": [
        {
          "output_type": "stream",
          "name": "stdout",
          "text": [
            "Accuracy of the loaded model: 0.7584\n"
          ]
        }
      ]
    },
    {
      "cell_type": "code",
      "source": [],
      "metadata": {
        "id": "qqFC_iZdvNhH"
      },
      "execution_count": null,
      "outputs": []
    }
  ]
}