{
  "nbformat": 4,
  "nbformat_minor": 0,
  "metadata": {
    "colab": {
      "provenance": [],
      "authorship_tag": "ABX9TyNXxelBzqz/fPnNSA97CNQA",
      "include_colab_link": true
    },
    "kernelspec": {
      "name": "python3",
      "display_name": "Python 3"
    },
    "language_info": {
      "name": "python"
    }
  },
  "cells": [
    {
      "cell_type": "markdown",
      "metadata": {
        "id": "view-in-github",
        "colab_type": "text"
      },
      "source": [
        "<a href=\"https://colab.research.google.com/github/prachimethi/assignment/blob/main/Decision_Tree_assignment.ipynb\" target=\"_parent\"><img src=\"https://colab.research.google.com/assets/colab-badge.svg\" alt=\"Open In Colab\"/></a>"
      ]
    },
    {
      "cell_type": "markdown",
      "source": [
        "# **Theoritical Questions**"
      ],
      "metadata": {
        "id": "rUIjqI4O9vDS"
      }
    },
    {
      "cell_type": "markdown",
      "source": [
        "Ques-1 What is a Decision Tree, and how does it work?"
      ],
      "metadata": {
        "id": "hJSAjZKr93Do"
      }
    },
    {
      "cell_type": "markdown",
      "source": [
        "A Decision Tree is a popular machine learning algorithm used for both classification and regression tasks. It's a tree-like structure where each internal node represents a \"decision\" based on a feature, each branch represents the outcome of that decision, and each leaf node represents a prediction or a decision outcome.\n",
        "\n",
        "How a Decision Tree Works:\n",
        "1. Starting Point (Root Node):\n",
        "\n",
        "The decision tree starts with a root node, which holds all the data points in the dataset.\n",
        "2. Splitting:\n",
        "\n",
        "The tree splits the data into subsets based on the feature values. The goal is to split the data in such a way that the subsets are as pure as possible (i.e., most data points in the subset belong to the same class for classification or are close in value for regression).\n",
        "The splitting criteria differ depending on the type of task:\n",
        "Classification: For classification tasks, the decision tree typically uses criteria like Gini impurity or Entropy (Information Gain) to decide the best way to split the data.\n",
        "Regression: For regression tasks, Mean Squared Error (MSE) or Mean Absolute Error (MAE) is often used.\n",
        "3. Recursion (Branching):\n",
        "\n",
        "The process of splitting is applied recursively to each resulting subset or branch, creating child nodes. The splitting continues until a stopping criterion is met, such as:\n",
        "Reaching a maximum tree depth.\n",
        "No further improvements in the splits.\n",
        "Reaching a node that can't be split any further (e.g., a node contains data points that are all the same class or value).\n",
        "4. Leaf Nodes:\n",
        "\n",
        "When the splitting process reaches a point where no further splitting is needed, the leaf node is formed. For classification, this leaf represents the most common class for the data points in that branch. For regression, the leaf typically represents the average value of the target variable for those points.\n",
        "5. Prediction:\n",
        "\n",
        "To make predictions, a new data point is passed through the tree, starting from the root node. At each decision node, the algorithm compares the value of the feature and follows the corresponding branch. This continues until the data point reaches a leaf node, where the final prediction is made.\n"
      ],
      "metadata": {
        "id": "Q3raqaHe-dTZ"
      }
    },
    {
      "cell_type": "markdown",
      "source": [
        "Ques-2 What are impurity measures in Decision Trees\t?"
      ],
      "metadata": {
        "id": "1C0OWjxP-5hO"
      }
    },
    {
      "cell_type": "markdown",
      "source": [
        "Impurity measures are used in decision trees to assess the quality of a split at each node during the tree-building process. These measures help decide how to partition the data at each decision point. The goal is to split the data in a way that results in subsets that are as pure (or homogeneous) as possible. A \"pure\" node is one where the data points belong to a single class (in classification) or have minimal variance in their target values (in regression).\n",
        "\n",
        "There are several types of impurity measures, depending on whether the decision tree is used for classification or regression tasks.\n",
        "\n",
        "1. Impurity Measures for Classification:\n",
        "In classification, the goal is to classify data points into predefined classes. The impurity measures used for classification evaluate how mixed the classes are in each node.\n",
        "\n",
        "a) Gini Impurity (Most commonly used in classification):\n",
        "The Gini impurity is a measure of how often a randomly chosen element from the set would be incorrectly classified. It ranges from 0 to 1, where 0 represents a perfectly pure node (only one class in the node), and 1 represents a completely impure node (equal distribution of all classes).\n",
        "\n",
        "The formula for Gini impurity is:\n",
        "\n",
        "𝐺\n",
        "𝑖\n",
        "𝑛\n",
        "𝑖\n",
        "(\n",
        "𝑡\n",
        ")\n",
        "=\n",
        "1\n",
        "−\n",
        "∑\n",
        "𝑖\n",
        "=\n",
        "1\n",
        "𝑘\n",
        "𝑝\n",
        "𝑖\n",
        "2\n",
        "Gini(t)=1−\n",
        "i=1\n",
        "∑\n",
        "k\n",
        "​\n",
        " p\n",
        "i\n",
        "2\n",
        "​\n",
        "\n",
        "Where:\n",
        "\n",
        "𝑡\n",
        "t is the node (or set of data points).\n",
        "\n",
        "𝑘\n",
        "k is the number of classes.\n",
        "\n",
        "𝑝\n",
        "𝑖\n",
        "p\n",
        "i\n",
        "​\n",
        "  is the proportion of data points in the node that belong to class\n",
        "𝑖\n",
        "i.\n",
        "\n",
        "Example: If a node contains 70% class A and 30% class B, the Gini impurity would be:\n",
        "\n",
        "𝐺\n",
        "𝑖\n",
        "𝑛\n",
        "𝑖\n",
        "(\n",
        "𝑡\n",
        ")\n",
        "=\n",
        "1\n",
        "−\n",
        "(\n",
        "0.7\n",
        "2\n",
        "+\n",
        "0.3\n",
        "2\n",
        ")\n",
        "=\n",
        "1\n",
        "−\n",
        "(\n",
        "0.49\n",
        "+\n",
        "0.09\n",
        ")\n",
        "=\n",
        "1\n",
        "−\n",
        "0.58\n",
        "=\n",
        "0.42\n",
        "Gini(t)=1−(0.7\n",
        "2\n",
        " +0.3\n",
        "2\n",
        " )=1−(0.49+0.09)=1−0.58=0.42\n",
        "b) Entropy (Information Gain):\n",
        "Entropy is another measure of impurity that originates from information theory. It is based on the idea of \"information gain\" – how much information is gained by splitting the data based on a feature. Entropy ranges from 0 (pure node) to\n",
        "log\n",
        "⁡\n",
        "(\n",
        "𝑘\n",
        ")\n",
        "log(k) (impure node, where\n",
        "𝑘\n",
        "k is the number of classes).\n",
        "\n",
        "The formula for Entropy is:\n",
        "\n",
        "𝐸\n",
        "𝑛\n",
        "𝑡\n",
        "𝑟\n",
        "𝑜\n",
        "𝑝\n",
        "𝑦\n",
        "(\n",
        "𝑡\n",
        ")\n",
        "=\n",
        "−\n",
        "∑\n",
        "𝑖\n",
        "=\n",
        "1\n",
        "𝑘\n",
        "𝑝\n",
        "𝑖\n",
        "log\n",
        "⁡\n",
        "2\n",
        "(\n",
        "𝑝\n",
        "𝑖\n",
        ")\n",
        "Entropy(t)=−\n",
        "i=1\n",
        "∑\n",
        "k\n",
        "​\n",
        " p\n",
        "i\n",
        "​\n",
        " log\n",
        "2\n",
        "​\n",
        " (p\n",
        "i\n",
        "​\n",
        " )\n",
        "Where:\n",
        "\n",
        "𝑝\n",
        "𝑖\n",
        "p\n",
        "i\n",
        "​\n",
        "  is the probability of class\n",
        "𝑖\n",
        "i in the node.\n",
        "𝑘\n",
        "k is the number of classes.\n",
        "The Information Gain is then calculated as the difference between the entropy before and after the split:\n",
        "\n",
        "𝐼\n",
        "𝑛\n",
        "𝑓\n",
        "𝑜\n",
        "𝑟\n",
        "𝑚\n",
        "𝑎\n",
        "𝑡\n",
        "𝑖\n",
        "𝑜\n",
        "𝑛\n",
        "𝐺\n",
        "𝑎\n",
        "𝑖\n",
        "𝑛\n",
        "=\n",
        "𝐸\n",
        "𝑛\n",
        "𝑡\n",
        "𝑟\n",
        "𝑜\n",
        "𝑝\n",
        "𝑦\n",
        "(\n",
        "parent\n",
        ")\n",
        "−\n",
        "∑\n",
        "𝑖\n",
        "𝑁\n",
        "𝑖\n",
        "𝑁\n",
        "parent\n",
        "⋅\n",
        "𝐸\n",
        "𝑛\n",
        "𝑡\n",
        "𝑟\n",
        "𝑜\n",
        "𝑝\n",
        "𝑦\n",
        "(\n",
        "child\n",
        "𝑖\n",
        ")\n",
        "InformationGain=Entropy(parent)−\n",
        "i\n",
        "∑\n",
        "​\n",
        "  \n",
        "N\n",
        "parent\n",
        "​\n",
        "\n",
        "N\n",
        "i\n",
        "​\n",
        "\n",
        "​\n",
        " ⋅Entropy(child\n",
        "i\n",
        "​\n",
        " )\n",
        "Where:\n",
        "\n",
        "𝑁\n",
        "𝑖\n",
        "N\n",
        "i\n",
        "​\n",
        "  is the number of samples in the child node.\n",
        "\n",
        "𝑁\n",
        "parent\n",
        "N\n",
        "parent\n",
        "​\n",
        "  is the number of samples in the parent node.\n",
        "\n",
        "Example: If a parent node has equal probabilities for each class, the entropy will be high (maximum disorder), and a good split will reduce this entropy, making the resulting child nodes more pure.\n",
        "\n",
        "c) Classification Error:\n",
        "The classification error is a simple measure of impurity and is often used in decision trees for classification problems, though it is less common than Gini impurity or entropy. It is calculated as:\n",
        "\n",
        "𝐶\n",
        "𝑙\n",
        "𝑎\n",
        "𝑠\n",
        "𝑠\n",
        "𝑖\n",
        "𝑓\n",
        "𝑖\n",
        "𝑐\n",
        "𝑎\n",
        "𝑡\n",
        "𝑖\n",
        "𝑜\n",
        "𝑛\n",
        "\n",
        "𝐸\n",
        "𝑟\n",
        "𝑟\n",
        "𝑜\n",
        "𝑟\n",
        "=\n",
        "1\n",
        "−\n",
        "Max\n",
        "(\n",
        "𝑝\n",
        "𝑖\n",
        ")\n",
        "ClassificationError=1−Max(p\n",
        "i\n",
        "​\n",
        " )"
      ],
      "metadata": {
        "id": "18bgTCgZ_WuK"
      }
    },
    {
      "cell_type": "markdown",
      "source": [
        "Ques-3 What is the mathematical formula for Gini Impurity\t?"
      ],
      "metadata": {
        "id": "mlUPhDQ9AH28"
      }
    },
    {
      "cell_type": "markdown",
      "source": [
        "The Gini Impurity is a measure of how often a randomly chosen element from the set would be incorrectly classified if it was randomly labeled according to the distribution of labels in the set. It's used primarily in decision trees for classification tasks to determine how to split data at each node.\n",
        "\n",
        "The mathematical formula for Gini Impurity is:\n",
        "\n",
        "𝐺\n",
        "𝑖\n",
        "𝑛\n",
        "𝑖\n",
        "(\n",
        "𝐷\n",
        ")\n",
        "=\n",
        "1\n",
        "−\n",
        "∑\n",
        "𝑖\n",
        "=\n",
        "1\n",
        "𝑘\n",
        "𝑝\n",
        "𝑖\n",
        "2\n",
        "Gini(D)=1−\n",
        "i=1\n",
        "∑\n",
        "k\n",
        "​\n",
        " p\n",
        "i\n",
        "2\n",
        "​\n",
        "\n",
        "Where:\n",
        "\n",
        "𝐷\n",
        "D is the dataset (or subset) at the node.\n",
        "𝑘\n",
        "k is the number of distinct classes in the dataset.\n",
        "𝑝\n",
        "𝑖\n",
        "p\n",
        "i\n",
        "​\n",
        "  is the proportion of elements in class\n",
        "𝑖\n",
        "i for the dataset\n",
        "𝐷\n",
        "D."
      ],
      "metadata": {
        "id": "7VJQaZMVAewh"
      }
    },
    {
      "cell_type": "markdown",
      "source": [
        "Ques-4 What is the mathematical formula for Entropy\t?"
      ],
      "metadata": {
        "id": "tyENXeIIArRj"
      }
    },
    {
      "cell_type": "markdown",
      "source": [
        "The Entropy is another impurity measure used in decision trees, particularly in classification tasks. It is derived from information theory and measures the amount of uncertainty or disorder in a dataset. The goal in decision trees is to reduce entropy as much as possible by finding splits that result in more homogeneous (less uncertain) subsets.\n",
        "\n",
        "Mathematical Formula for Entropy:\n",
        "For a dataset\n",
        "𝐷\n",
        "D with\n",
        "𝑘\n",
        "k classes, the entropy is calculated as:\n",
        "\n",
        "𝐸\n",
        "𝑛\n",
        "𝑡\n",
        "𝑟\n",
        "𝑜\n",
        "𝑝\n",
        "𝑦\n",
        "(\n",
        "𝐷\n",
        ")\n",
        "=\n",
        "−\n",
        "∑\n",
        "𝑖\n",
        "=\n",
        "1\n",
        "𝑘\n",
        "𝑝\n",
        "𝑖\n",
        "log\n",
        "⁡\n",
        "2\n",
        "(\n",
        "𝑝\n",
        "𝑖\n",
        ")\n",
        "Entropy(D)=−\n",
        "i=1\n",
        "∑\n",
        "k\n",
        "​\n",
        " p\n",
        "i\n",
        "​\n",
        " log\n",
        "2\n",
        "​\n",
        " (p\n",
        "i\n",
        "​\n",
        " )"
      ],
      "metadata": {
        "id": "eGeWGC88BIAx"
      }
    },
    {
      "cell_type": "markdown",
      "source": [
        "Ques-5 What is Information Gain, and how is it used in Decision Trees\t?"
      ],
      "metadata": {
        "id": "18wCUDUiBMUG"
      }
    },
    {
      "cell_type": "markdown",
      "source": [
        "Information Gain is a measure used in decision trees to determine the effectiveness of a particular feature in classifying data. It quantifies how much information a feature gives about the class labels. Specifically, it is the reduction in entropy (or impurity) after a dataset is split on a particular feature.\n",
        "\n",
        "In decision trees, the goal is to find the feature that provides the most information about the class labels at each step. The feature that maximizes Information Gain is chosen for the split at each node in the tree."
      ],
      "metadata": {
        "id": "FDy-UjPsB02K"
      }
    },
    {
      "cell_type": "markdown",
      "source": [
        "Ques- What is the difference between Gini Impurity and Entropy ?"
      ],
      "metadata": {
        "id": "FZ9X0PysB7nz"
      }
    },
    {
      "cell_type": "markdown",
      "source": [
        "The Gini Impurity and Entropy are both measures of impurity or disorder used to evaluate how well a dataset is split in decision tree algorithms, but they have different characteristics and are calculated differently. Below are the key differences:\n",
        "\n",
        "1. Definition and Formula:\n",
        "Gini Impurity:\n",
        "\n",
        "Gini measures the \"impurity\" or \"impurity\" of a dataset. A lower Gini value indicates a more homogeneous dataset.\n",
        "Formula:\n",
        "𝐺\n",
        "𝑖\n",
        "𝑛\n",
        "𝑖\n",
        "(\n",
        "𝐷\n",
        ")\n",
        "=\n",
        "1\n",
        "−\n",
        "∑\n",
        "𝑖\n",
        "=\n",
        "1\n",
        "𝑘\n",
        "𝑝\n",
        "𝑖\n",
        "2\n",
        "Gini(D)=1−\n",
        "i=1\n",
        "∑\n",
        "k\n",
        "​\n",
        " p\n",
        "i\n",
        "2\n",
        "​\n",
        "\n",
        "Where\n",
        "𝑝\n",
        "𝑖\n",
        "p\n",
        "i\n",
        "​\n",
        "  is the proportion of elements in class\n",
        "𝑖\n",
        "i within the dataset\n",
        "𝐷\n",
        "D.\n",
        "Entropy:\n",
        "\n",
        "Entropy is a measure of the uncertainty or unpredictability of the data. Higher entropy means more uncertainty about the class labels.\n",
        "Formula:\n",
        "𝐸\n",
        "𝑛\n",
        "𝑡\n",
        "𝑟\n",
        "𝑜\n",
        "𝑝\n",
        "𝑦\n",
        "(\n",
        "𝐷\n",
        ")\n",
        "=\n",
        "−\n",
        "∑\n",
        "𝑖\n",
        "=\n",
        "1\n",
        "𝑘\n",
        "𝑝\n",
        "𝑖\n",
        "log\n",
        "⁡\n",
        "2\n",
        "(\n",
        "𝑝\n",
        "𝑖\n",
        ")\n",
        "Entropy(D)=−\n",
        "i=1\n",
        "∑\n",
        "k\n",
        "​\n",
        " p\n",
        "i\n",
        "​\n",
        " log\n",
        "2\n",
        "​\n",
        " (p\n",
        "i\n",
        "​\n",
        " )\n",
        "Where\n",
        "𝑝\n",
        "𝑖\n",
        "p\n",
        "i\n",
        "​\n",
        "  is the proportion of elements in class\n",
        "𝑖\n",
        "i within the dataset\n",
        "𝐷\n",
        "D.\n",
        "2. Interpretation:\n",
        "Gini Impurity:\n",
        "Ranges from 0 to 1, with 0 representing perfect purity (i.e., all elements in a node belong to a single class) and 1 representing maximal impurity.\n",
        "It is often interpreted as the probability of a randomly chosen element being misclassified if it was randomly labeled according to the distribution of labels in the node.\n",
        "Entropy:\n",
        "Ranges from 0 to\n",
        "log\n",
        "⁡\n",
        "2\n",
        "(\n",
        "𝑘\n",
        ")\n",
        "log\n",
        "2\n",
        "​\n",
        " (k), where\n",
        "𝑘\n",
        "k is the number of classes. For binary classification, entropy ranges from 0 to 1.\n",
        "It measures the amount of disorder or uncertainty in the dataset. A value of 0 means no uncertainty (perfectly pure), while a value of 1 means maximum uncertainty (equal distribution of classes).\n",
        "3. Behavior and Sensitivity:\n",
        "Gini Impurity:\n",
        "Gini Impurity tends to be less sensitive to changes in class distribution than entropy. It tends to favor splits that result in more even class distributions.\n",
        "It is computationally less expensive than entropy since it does not require computing logarithms.\n",
        "Entropy:\n",
        "Entropy is more sensitive to changes in the class distribution, especially when classes are unevenly distributed. It tends to produce deeper trees than Gini, as it maximizes information gain.\n",
        "Entropy involves logarithmic calculations, which can make it slightly more computationally expensive than Gini.\n",
        "4. Choice in Decision Trees:\n",
        "Gini Impurity:\n",
        "Often used in CART (Classification and Regression Trees) algorithms for classification tasks.\n",
        "Tends to produce slightly simpler trees (fewer nodes).\n",
        "Entropy:\n",
        "Commonly used in ID3 and C4.5 decision tree algorithms.\n",
        "Tends to create more complex trees than Gini, since entropy tends to choose features that offer a more balanced split, especially when there are many classes.\n",
        "5. Split Criterion:\n",
        "Gini Impurity:\n",
        "\n",
        "The goal is to minimize the Gini Impurity, i.e., make the classes as pure as possible after the split.\n",
        "A split with a lower Gini Impurity is preferred.\n",
        "Entropy:\n",
        "\n",
        "The goal is to maximize Information Gain, which is the reduction in entropy when splitting the data.\n",
        "A higher information gain means the feature chosen for the split results in a greater reduction in uncertainty.\n",
        "6. Impact on the Tree:\n",
        "Gini Impurity: Tends to result in balanced trees with fewer splits.\n",
        "Entropy: Tends to result in deeper trees, as it tries to maximize the information gain by splitting more often."
      ],
      "metadata": {
        "id": "6qS5LZR8DAvz"
      }
    },
    {
      "cell_type": "markdown",
      "source": [
        "Ques-7 What is the mathematical explanation behind Decision Trees\t?"
      ],
      "metadata": {
        "id": "RUIchuMADE7B"
      }
    },
    {
      "cell_type": "markdown",
      "source": [
        "Mathematical Explanation Behind Decision Trees:\n",
        "Decision trees are a type of supervised machine learning algorithm used for both classification and regression tasks. The mathematical explanation behind decision trees revolves around splitting the data at each node in a way that minimizes impurity (for classification) or error (for regression). The main goal is to divide the dataset into smaller and purer subsets at each level of the tree.\n",
        "\n",
        "Here’s a step-by-step explanation of the mathematics behind decision trees:\n",
        "\n",
        "1. Tree Structure:\n",
        "A decision tree consists of:\n",
        "\n",
        "Root Node: The top node where the data is first split based on a feature.\n",
        "Internal Nodes: The nodes that split the data further based on other features.\n",
        "Leaf Nodes: The final nodes that give the prediction or class label (in classification) or a continuous value (in regression).\n",
        "Each internal node represents a decision based on a feature, and each branch (edge) represents an outcome of that decision. Each leaf node represents a prediction.\n",
        "\n",
        "2. Mathematical Notation:\n",
        "Let's denote:\n",
        "\n",
        "𝐷\n",
        "D as the dataset.\n",
        "𝑓\n",
        "f as the feature that is chosen to split the data.\n",
        "𝐷\n",
        "1\n",
        ",\n",
        "𝐷\n",
        "2\n",
        ",\n",
        ".\n",
        ".\n",
        ".\n",
        ",\n",
        "𝐷\n",
        "𝑘\n",
        "D\n",
        "1\n",
        "​\n",
        " ,D\n",
        "2\n",
        "​\n",
        " ,...,D\n",
        "k\n",
        "​\n",
        "  as the subsets of\n",
        "𝐷\n",
        "D created by splitting based on\n",
        "𝑓\n",
        "f.\n",
        "At each node, the decision tree chooses a feature\n",
        "𝑓\n",
        "f and a threshold value\n",
        "𝑡\n",
        "t such that:\n",
        "\n",
        "𝑓\n",
        "(\n",
        "𝑥\n",
        ")\n",
        "≤\n",
        "𝑡\n",
        "or\n",
        "𝑓\n",
        "(\n",
        "𝑥\n",
        ")\n",
        ">\n",
        "𝑡\n",
        "f(x)≤torf(x)>t\n",
        "Where\n",
        "𝑥\n",
        "x represents an instance from the dataset.\n",
        "\n",
        "3. Splitting Criteria:\n",
        "The tree construction is based on splitting the dataset at each internal node to reduce impurity or increase information gain.there are several criteria for how well a data split\n"
      ],
      "metadata": {
        "id": "pijjuZH0D341"
      }
    },
    {
      "cell_type": "markdown",
      "source": [
        "Ques-8  What is Pre-Pruning in Decision Trees\t?"
      ],
      "metadata": {
        "id": "KY3haPFiEDuC"
      }
    },
    {
      "cell_type": "markdown",
      "source": [
        "Pre-pruning (also called early stopping) is a technique used to prevent a decision tree from growing too large or overfitting the training data by stopping the tree-building process early. In pre-pruning, the algorithm halts the growth of the tree at an early stage, before it reaches its maximum depth or before it creates leaf nodes with too few instances."
      ],
      "metadata": {
        "id": "NeyssCACEbQJ"
      }
    },
    {
      "cell_type": "markdown",
      "source": [
        "Ques-9 What is Post-Pruning in Decision Trees\t?"
      ],
      "metadata": {
        "id": "LiTofj80Eq6z"
      }
    },
    {
      "cell_type": "markdown",
      "source": [
        "Post-pruning (also known as cost-complexity pruning) is a technique used to trim a decision tree after it has been fully grown in order to prevent overfitting and improve generalization. In post-pruning, the decision tree is first allowed to grow as deep as possible (without any early stopping criteria), and then pruning is applied to remove branches or nodes that do not significantly contribute to the model's predictive power.\n",
        "\n",
        "The goal of post-pruning is to simplify the tree by removing parts that may have been overly specific to the training data, thus reducing the complexity of the tree and making it more likely to generalize well to unseen data."
      ],
      "metadata": {
        "id": "a9KglXUoE9W-"
      }
    },
    {
      "cell_type": "markdown",
      "source": [
        "Ques-10 What is the difference between Pre-Pruning and Post-Pruning ?"
      ],
      "metadata": {
        "id": "dp1U3H2hE-pT"
      }
    },
    {
      "cell_type": "markdown",
      "source": [
        "Pre-pruning is about limiting the tree's growth early, imposing constraints to prevent overfitting.\n",
        "Post-pruning allows the tree to grow fully first and then prunes unnecessary parts to simplify the model.\n",
        "Both methods help with generalization by reducing model complexity, but the approach and trade-offs are different. Pre-pruning may be more efficient but risks underfitting, while post-pruning can result in a more complex initial model but often provides better flexibility and refinement."
      ],
      "metadata": {
        "id": "B8PKpuz_FbHh"
      }
    },
    {
      "cell_type": "markdown",
      "source": [
        "Ques-11 What is a Decision Tree Regressor\t?"
      ],
      "metadata": {
        "id": "iNFG75t0FcRY"
      }
    },
    {
      "cell_type": "markdown",
      "source": [
        "A Decision Tree Regressor is a type of regression model that uses a decision tree algorithm to predict continuous values (e.g., real numbers). Unlike a Decision Tree Classifier, which is used for classification tasks (predicting discrete labels), a decision tree regressor predicts numerical outcomes based on input features."
      ],
      "metadata": {
        "id": "N5GyL1B0Ftmd"
      }
    },
    {
      "cell_type": "markdown",
      "source": [
        "Ques-12 What are the advantages and disadvantages of Decision Trees\t ?"
      ],
      "metadata": {
        "id": "sWQ5i0NZFu2x"
      }
    },
    {
      "cell_type": "markdown",
      "source": [
        "ADVANTAGE OF DECISION TREE:\n",
        "\n",
        "1. Easy to Interpret and Visualize\n",
        "2. Non linearity\n",
        "3. Handles Both Categorical and Numerical Data\n",
        "4. No need for scaling\n",
        "5. Works Well with Missing Data\n",
        "\n",
        "DISADVANTAGE OF DECISION TREE\n",
        "1. overfitting\n",
        "2. instability\n",
        "3. Bias Towards Features with More Categories\n",
        "4. Poor Performance with Linear Boundaries\n"
      ],
      "metadata": {
        "id": "Z2Bx2p4WGE4Z"
      }
    },
    {
      "cell_type": "markdown",
      "source": [
        "Ques-13 How does a Decision Tree handle missing values?"
      ],
      "metadata": {
        "id": "RgIH5ndOGyBW"
      }
    },
    {
      "cell_type": "markdown",
      "source": [
        "Decision trees are relatively robust to missing data and can handle missing values in various ways. The approach to handling missing values depends on the specific implementation of the decision tree algorithm (e.g., in libraries like Scikit-learn), but there are some common strategies that decision trees generally use to handle missing values effectively.\n",
        "\n",
        "1. Surrogate splits\n",
        "2. Assigning Missing Values to the Most Frequent Split Direction\n",
        "3. Ignoring Missing Values (Simple Approach)\n",
        "4. Imputation before training\n",
        "5. Weighted splits\n",
        "6. Multiple Imputation and Bootstrapping (Advanced)"
      ],
      "metadata": {
        "id": "D24HwET7HRtC"
      }
    },
    {
      "cell_type": "markdown",
      "source": [
        "Ques-14  How does a Decision Tree handle categorical features\t?"
      ],
      "metadata": {
        "id": "lIWtA17zHwz2"
      }
    },
    {
      "cell_type": "markdown",
      "source": [
        "Handling Categorical Features in Decision Trees\n",
        "Decision trees can handle categorical features effectively by incorporating the feature's categories into the decision-making process when constructing the tree. The way a decision tree handles categorical features depends on whether the feature is ordinal (having a natural order) or nominal (having no intrinsic order). Below is an explanation of how decision trees deal with both types of categorical features.\n",
        "\n",
        "1. Categorical Features in General\n",
        "A categorical feature has a set of distinct values or categories, and these values can either be ordered (ordinal) or unordered (nominal). Examples include:\n",
        "\n",
        "Nominal: Gender (Male, Female), Color (Red, Green, Blue)\n",
        "Ordinal: Education Level (High School, College, Postgraduate)\n",
        "When using decision trees with categorical features, the goal is to split the data in such a way that each subset has similar outcomes (target values), ideally leading to pure leaf nodes.\n",
        "\n",
        "2. Decision Trees and Categorical Features: Splitting Process\n",
        "When splitting a dataset based on a categorical feature, decision trees consider the different possible splits based on the values of the categorical feature. Here’s how decision trees handle it:\n",
        "\n",
        "a) Splitting with Nominal Features (Unordered Categorical Data)\n",
        "For nominal (unordered) features, the decision tree can choose to split the data based on a particular category or combination of categories.\n",
        "\n",
        "Example:\n",
        "If you have a categorical feature Color with values {Red, Green, Blue}, a decision tree might split the data like this:\n",
        "\n",
        "Split 1: Color = Red\n",
        "Split 2: Color = Green or Blue (grouping categories together)\n",
        "Decision trees handle such splits by evaluating the impurity (e.g., Gini impurity or entropy) after each potential split. The goal is to choose the split that minimizes the impurity or maximizes the information gain.\n",
        "\n",
        "For nominal features with more categories, decision trees might try different combinations of categories to determine the most effective split. The tree does not require the categories to have any meaningful ordering.\n",
        "\n",
        "b) Splitting with Ordinal Features (Ordered Categorical Data)\n",
        "For ordinal (ordered) features, decision trees can treat the feature as either categorical or numerical depending on the algorithm and how it interprets the values.\n",
        "\n",
        "If the feature is ordinal, the decision tree may treat the feature in an ordered way. It could split the data based on less-than or greater-than comparisons between the category values, similar to how it handles numerical features.\n",
        "\n",
        "Example:\n",
        "Consider an ordinal feature Education Level with values {High School, College, Postgraduate}. A decision tree might split the data as follows:\n",
        "\n",
        "Split 1: Education Level ≤ College (i.e., High School or College)\n",
        "Split 2: Education Level > College (i.e., Postgraduate)\n",
        "By treating the ordinal categories as ordered, the decision tree can perform more meaningful splits. However, in some implementations, decision trees might still treat it as categorical, grouping all categories together without considering their natural order.\n",
        "\n",
        "3. One-Hot Encoding (For Some Implementations)\n",
        "Some decision tree algorithms, especially those in libraries like Scikit-learn, may require one-hot encoding for categorical features, where each category is transformed into a binary feature. This is common when the algorithm treats categorical variables as if they were continuous.\n",
        "\n",
        "Example:\n",
        "For a feature Color with three categories {Red, Green, Blue}, one-hot encoding would convert it into three binary features:\n",
        "\n",
        "Is Red? (1 if Red, 0 otherwise)\n",
        "Is Green? (1 if Green, 0 otherwise)\n",
        "Is Blue? (1 if Blue, 0 otherwise)\n",
        "The decision tree would then use these binary features in the same way it handles numerical features, selecting the best split based on the presence or absence of each category.\n",
        "\n",
        "4. Decision Tree Algorithms and Categorical Handling\n",
        "a) CART (Classification and Regression Trees)\n",
        "The CART algorithm (used in Scikit-learn's DecisionTreeClassifier and DecisionTreeRegressor) handles categorical features by treating them as either single categories (for nominal features) or grouped categories (if there are many categories). The decision tree will choose the best split based on the Gini impurity or mean squared error for regression tasks.\n",
        "\n",
        "For nominal categorical features, CART evaluates all possible splits (including combinations of categories) and chooses the one that minimizes the impurity.\n",
        "\n",
        "b) ID3 and C4.5 Algorithms\n",
        "The ID3 and C4.5 algorithms (older decision tree algorithms) can handle categorical features more directly. C4.5, for example, would consider the entropy for each category and choose the split that maximizes information gain. It naturally supports splits based on categorical features and even handles missing data.\n",
        "\n",
        "5. Challenges with Categorical Features\n",
        "High Cardinality:\n",
        "\n",
        "When a categorical feature has a large number of distinct categories (e.g., product IDs or ZIP codes), decision trees can become complex and computationally expensive.\n",
        "To mitigate this, decision trees may group certain categories together or use feature engineering techniques to reduce the number of categories (e.g., using clustering or grouping similar categories).\n",
        "Overfitting:\n",
        "\n",
        "Decision trees can overfit when dealing with high-cardinality categorical features, particularly if the tree grows too deep and splits based on relatively rare categories that don't generalize well.\n",
        "Handling Rare Categories:\n",
        "\n",
        "If a categorical feature contains many rare categories, it could cause the decision tree to overfit to these rare categories, potentially leading to poor generalization. This can be mitigated by limiting the depth of the tree or setting a minimum sample size per leaf."
      ],
      "metadata": {
        "id": "vbeOpbQxIPLt"
      }
    },
    {
      "cell_type": "markdown",
      "source": [
        "Ques-15 What are some real-world applications of Decision Trees?"
      ],
      "metadata": {
        "id": "U9uy6gf5IQ4Q"
      }
    },
    {
      "cell_type": "markdown",
      "source": [
        "Decision trees are widely used in many real-world applications due to their simplicity, interpretability, and ability to handle both numerical and categorical data. Here are some real-world applications of decision trees across various industries:\n",
        "\n",
        "1. Healthcare: Disease Diagnosis and Prediction\n",
        "Medical Diagnosis: Decision trees can help in diagnosing diseases based on patient symptoms and medical history. By evaluating various features such as age, gender, lifestyle, and test results, decision trees can predict whether a patient is likely to have a certain condition (e.g., diabetes, cancer, heart disease).\n",
        "\n",
        "Example: A decision tree might be used to predict whether a patient has heart disease based on attributes like cholesterol levels, age, blood pressure, and exercise habits.\n",
        "\n",
        "Treatment Recommendation: In personalized medicine, decision trees can be used to recommend treatment options based on patient characteristics, the severity of the condition, and past treatment outcomes.\n",
        "\n",
        "2. Finance: Credit Scoring and Risk Assessment\n",
        "Credit Scoring: Decision trees are widely used by banks and financial institutions to assess the creditworthiness of individuals or businesses. Based on financial features like income, credit history, employment status, and loan amount, a decision tree can predict the likelihood of a borrower defaulting on a loan.\n",
        "\n",
        "Example: A bank may use a decision tree model to classify loan applicants into categories like \"high risk\" or \"low risk\" based on their financial background and transaction history.\n",
        "\n",
        "Fraud Detection: Financial institutions also use decision trees to detect fraudulent activities, such as credit card fraud or insurance fraud, by evaluating patterns in transactions and comparing them with historical fraud patterns.\n",
        "\n",
        "3. Marketing: Customer Segmentation and Targeting\n",
        "Customer Segmentation: Decision trees are commonly used in marketing to segment customers based on various attributes such as purchasing behavior, demographics, and preferences. This allows businesses to target specific customer groups with personalized offers and promotions.\n",
        "\n",
        "Example: A company may use a decision tree to segment customers into different groups (e.g., \"high-value customers\" and \"discount-seeking customers\") based on factors like purchase frequency, spending amount, and product preferences.\n",
        "\n",
        "Churn Prediction: Decision trees are used to predict customer churn, i.e., the likelihood that a customer will stop using a product or service. By analyzing historical data on customer behavior, companies can take proactive steps to retain customers who are at risk of leaving.\n",
        "\n",
        "4. Retail: Sales Forecasting and Inventory Management\n",
        "Sales Forecasting: Retailers use decision trees to predict future sales based on historical sales data, seasonal trends, promotions, and other factors. This helps businesses plan inventory, staff, and marketing strategies.\n",
        "\n",
        "Example: A retailer could use a decision tree to forecast holiday season sales based on past sales during similar periods, product categories, and promotional activities.\n",
        "\n",
        "Inventory Management: Decision trees help optimize inventory by predicting which products are likely to sell well and which ones might require discounts or clearance. This helps retailers maintain an optimal stock level, reducing overstock or stockouts.\n",
        "\n",
        "5. E-commerce: Personalization and Recommendation Systems\n",
        "Product Recommendations: E-commerce platforms like Amazon and Netflix use decision trees as part of their recommendation engines. By analyzing user behavior, preferences, past purchases, and product ratings, decision trees can help recommend products or services that a customer is likely to be interested in.\n",
        "\n",
        "Example: A decision tree might suggest products based on a user's past purchases, browsing history, and preferences, such as recommending books, electronics, or clothing items.\n",
        "\n",
        "Dynamic Pricing: Decision trees can be used to set dynamic prices for products based on various factors like demand, competition, and seasonality. Retailers can adjust prices in real-time based on these inputs to maximize revenue.\n",
        "\n",
        "6. Agriculture: Crop Yield Prediction and Disease Management\n",
        "Crop Yield Prediction: Decision trees can predict crop yield based on environmental factors such as weather conditions, soil type, water usage, and crop type. This helps farmers optimize their practices and plan for harvests.\n",
        "\n",
        "Example: A decision tree model can predict the yield of a wheat crop by considering factors like temperature, rainfall, and soil moisture content.\n",
        "\n",
        "Pest and Disease Detection: In agriculture, decision trees can be used to detect pest infestations or crop diseases. By analyzing patterns in the field such as pest population, soil health, and environmental conditions, farmers can take timely action.\n",
        "\n",
        "7. Manufacturing: Quality Control and Predictive Maintenance\n",
        "Quality Control: In manufacturing, decision trees help monitor product quality and detect defects in the production process. They can analyze attributes like product dimensions, material quality, and production parameters to identify items that don't meet quality standards.\n",
        "\n",
        "Example: A decision tree could be used to predict whether a manufactured item will pass or fail quality checks based on features such as size, weight, and material composition.\n",
        "\n",
        "Predictive Maintenance: Decision trees can be used in predictive maintenance to assess the likelihood of machinery failure based on data such as operating conditions, usage patterns, and previous maintenance history. This allows for proactive repairs, reducing downtime and maintenance costs.\n",
        "\n",
        "8. Telecommunications: Customer Support and Network Optimization\n",
        "Customer Support: Decision trees help telecom companies predict customer issues and assist in troubleshooting customer complaints. By analyzing data from support tickets, chat logs, and call centers, decision trees can guide support agents to the right solutions.\n",
        "\n",
        "Example: A decision tree might predict whether a customer is likely experiencing a network outage or technical issue based on the customer's recent activity, service plan, and location.\n",
        "\n",
        "Network Optimization: Telecom providers use decision trees to optimize network traffic and improve service delivery. By analyzing call data records, bandwidth usage, and customer satisfaction, they can make data-driven decisions to improve network efficiency.\n",
        "\n",
        "9. Energy: Load Forecasting and Resource Management\n",
        "Energy Load Forecasting: Decision trees are used by energy providers to predict future electricity demand based on factors like weather, historical consumption patterns, and time of day. Accurate load forecasting helps utilities balance supply and demand and optimize energy generation.\n",
        "\n",
        "Example: A utility company could use decision trees to forecast electricity demand during summer months by considering weather patterns, consumer habits, and historical usage data.\n",
        "\n",
        "Resource Allocation: Decision trees can also assist in resource management by helping energy providers decide when and where to deploy resources (e.g., power plants or renewable energy sources) based on projected demand and environmental factors.\n",
        "\n",
        "10. Sports: Performance Prediction and Strategy Optimization\n",
        "Performance Prediction: Decision trees can predict the performance of athletes based on historical data such as training routines, past performance, and physical measurements (e.g., weight, height, speed).\n",
        "\n",
        "Example: A sports team might use decision trees to predict whether a player is likely to perform well in an upcoming match based on past performances, fitness levels, and other factors.\n",
        "\n",
        "Strategy Optimization: Decision trees can be used to optimize team strategies, such as deciding on the best game formation, lineups, or tactics, based on opponent analysis, player statistics, and match history."
      ],
      "metadata": {
        "id": "ypAIYv4OI3W1"
      }
    },
    {
      "cell_type": "markdown",
      "source": [
        "# **PRACTICAL QUESTIONS**"
      ],
      "metadata": {
        "id": "WrJ3L4iYTt6N"
      }
    },
    {
      "cell_type": "markdown",
      "source": [
        "Ques-1 Write a Python program to train a Decision Tree Classifier on the Iris dataset and print the model accuracy ?"
      ],
      "metadata": {
        "id": "jNL_jCsUT2dD"
      }
    },
    {
      "cell_type": "code",
      "execution_count": 4,
      "metadata": {
        "colab": {
          "base_uri": "https://localhost:8080/"
        },
        "id": "-IMnJo239p24",
        "outputId": "909e65b0-cc26-4841-d1e9-04c074020eb6"
      },
      "outputs": [
        {
          "output_type": "stream",
          "name": "stdout",
          "text": [
            " Model Accuracy is : {0.9666666666666667}\n"
          ]
        }
      ],
      "source": [
        "#importing neccessary libraries\n",
        "import pandas as pd\n",
        "import numpy as np\n",
        "import seaborn as sns\n",
        "import matplotlib.pyplot as plt\n",
        "\n",
        "#Loading the dataset\n",
        "from sklearn.datasets import load_iris\n",
        "data = load_iris()\n",
        "df = pd.DataFrame(data.data, columns = data.feature_names)\n",
        "\n",
        "#Devide x and y\n",
        "x = df\n",
        "y = data.target\n",
        "\n",
        "#train test split\n",
        "from sklearn.model_selection import train_test_split\n",
        "xtrain, xtest, ytrain, ytest = train_test_split(x,y , test_size=0.2 , random_state=1)\n",
        "\n",
        "#Model Training\n",
        "from sklearn.tree import DecisionTreeClassifier\n",
        "model = DecisionTreeClassifier()\n",
        "model.fit(xtrain , ytrain)\n",
        "ypred = model.predict(xtest)\n",
        "\n",
        "#Model evaluation\n",
        "from sklearn.metrics import accuracy_score\n",
        "Accuracy = accuracy_score(ypred , ytest)\n",
        "print(\" Model Accuracy is :\",{Accuracy})"
      ]
    },
    {
      "cell_type": "markdown",
      "source": [
        "Ques-17 Write a Python program to train a Decision Tree Classifier using Gini Impurity as the criterion and print the\n",
        "feature importances ?"
      ],
      "metadata": {
        "id": "qDjaoMEEe3rS"
      }
    },
    {
      "cell_type": "code",
      "source": [
        "from sklearn.tree import DecisionTreeClassifier\n",
        "from sklearn.datasets import load_iris\n",
        "from sklearn.model_selection import train_test_split\n",
        "\n",
        "# Load the iris dataset (as an example)\n",
        "data = load_iris()\n",
        "X = data.data  # Features\n",
        "y = data.target  # Target labels\n",
        "\n",
        "# Split the data into training and testing sets\n",
        "X_train, X_test, y_train, y_test = train_test_split(X, y, test_size=0.2, random_state=42)\n",
        "\n",
        "# Create and train the Decision Tree Classifier using Gini Impurity\n",
        "model = DecisionTreeClassifier(criterion='gini', random_state=42)\n",
        "model.fit(X_train, y_train)\n",
        "\n",
        "# Print the feature importances\n",
        "print(\"Feature importances:\")\n",
        "for feature, importance in zip(data.feature_names, model.feature_importances_):\n",
        "    print(f\"{feature}: {importance}\")\n"
      ],
      "metadata": {
        "id": "4Iovnf-8U-ez",
        "colab": {
          "base_uri": "https://localhost:8080/"
        },
        "outputId": "2a5f9b3f-166f-4845-db01-87975cdd8033"
      },
      "execution_count": 5,
      "outputs": [
        {
          "output_type": "stream",
          "name": "stdout",
          "text": [
            "Feature importances:\n",
            "sepal length (cm): 0.0\n",
            "sepal width (cm): 0.016670139612419255\n",
            "petal length (cm): 0.9061433868879218\n",
            "petal width (cm): 0.07718647349965893\n"
          ]
        }
      ]
    },
    {
      "cell_type": "markdown",
      "source": [
        "Ques-18 Write a Python program to train a Decision Tree Classifier using Entropy as the splitting criterion and print the\n",
        "model accuracy ?"
      ],
      "metadata": {
        "id": "x4sbHhmifDo1"
      }
    },
    {
      "cell_type": "code",
      "source": [
        "# Load the dataset\n",
        "from sklearn.datasets import load_iris\n",
        "data = load_iris()\n",
        "df = pd.DataFrame(data.data , columns = data.feature_names)\n",
        "\n",
        "#Devide x and y\n",
        "x = df\n",
        "y = data.target\n",
        "\n",
        "#Train test split\n",
        "from sklearn.model_selection import train_test_split\n",
        "xtrain , xtest, ytrain , ytest = train_test_split(x ,y , test_size=0.2 , random_state=1)\n",
        "\n",
        "#Model training\n",
        "from sklearn.tree import DecisionTreeClassifier\n",
        "classifier = DecisionTreeClassifier(criterion = 'entropy', random_state=1)\n",
        "classifier.fit(xtrain , ytrain)\n",
        "\n",
        "#Prediction on test data\n",
        "ypred = classifier.predict(xtest)\n",
        "\n",
        "#Model evaluation\n",
        "from sklearn.metrics import accuracy_score\n",
        "Accuracy = accuracy_score(ypred, ytest)\n",
        "print(\"Accuracy of the model:\",{Accuracy})\n"
      ],
      "metadata": {
        "colab": {
          "base_uri": "https://localhost:8080/"
        },
        "id": "Vf4TAEIqfCeW",
        "outputId": "a3cacdd1-863c-4ab7-e7a4-93d5764be9a3"
      },
      "execution_count": 7,
      "outputs": [
        {
          "output_type": "stream",
          "name": "stdout",
          "text": [
            "Accuracy of the model: {0.9666666666666667}\n"
          ]
        }
      ]
    },
    {
      "cell_type": "markdown",
      "source": [
        "Ques-19  Write a Python program to train a Decision Tree Regressor on a housing dataset and evaluate using Mean\n",
        "Squared Error (MSE) ?"
      ],
      "metadata": {
        "id": "c5hvh9SohDAl"
      }
    },
    {
      "cell_type": "code",
      "source": [
        "from sklearn.tree import DecisionTreeRegressor\n",
        "from sklearn.model_selection import train_test_split\n",
        "from sklearn.metrics import mean_squared_error\n",
        "from sklearn.datasets import fetch_openml\n",
        "from sklearn.preprocessing import OneHotEncoder\n",
        "from sklearn.compose import ColumnTransformer\n",
        "from sklearn.pipeline import Pipeline\n",
        "from sklearn.impute import SimpleImputer\n",
        "\n",
        "# Load the housing dataset (from OpenML as an example)\n",
        "data = fetch_openml(name='house_prices', version=1)\n",
        "X = data.data  # Features\n",
        "y = data.target  # Target labels (house prices)\n",
        "\n",
        "# Specify categorical columns (assuming you know which columns are categorical)\n",
        "# Example: 'MSZoning' might be a categorical column. Replace with actual categorical columns from your dataset.\n",
        "categorical_columns = X.select_dtypes(include=['object']).columns.tolist()\n",
        "\n",
        "# Create a pipeline with preprocessing and modeling\n",
        "preprocessor = ColumnTransformer(\n",
        "    transformers=[\n",
        "        ('cat', OneHotEncoder(handle_unknown='ignore'), categorical_columns),\n",
        "        ('num', SimpleImputer(strategy='mean'), X.select_dtypes(exclude=['object']).columns.tolist())\n",
        "    ])\n",
        "\n",
        "# Create a DecisionTreeRegressor model\n",
        "model = Pipeline(steps=[\n",
        "    ('preprocessor', preprocessor),\n",
        "    ('regressor', DecisionTreeRegressor(random_state=42))\n",
        "])\n",
        "\n",
        "# Split the data into training and testing sets\n",
        "X_train, X_test, y_train, y_test = train_test_split(X, y, test_size=0.2, random_state=42)\n",
        "\n",
        "# Train the model\n",
        "model.fit(X_train, y_train)\n",
        "\n",
        "# Make predictions on the test set\n",
        "y_pred = model.predict(X_test)\n",
        "\n",
        "# Calculate Mean Squared Error (MSE)\n",
        "mse = mean_squared_error(y_test, y_pred)\n",
        "print(f\"Mean Squared Error (MSE): {mse:.2f}\")\n"
      ],
      "metadata": {
        "colab": {
          "base_uri": "https://localhost:8080/"
        },
        "id": "NhIDxSI8hS_8",
        "outputId": "ef52dacc-9e27-4d21-84e2-e31ecea77f26"
      },
      "execution_count": 9,
      "outputs": [
        {
          "output_type": "stream",
          "name": "stdout",
          "text": [
            "Mean Squared Error (MSE): 1830829527.16\n"
          ]
        }
      ]
    },
    {
      "cell_type": "markdown",
      "source": [
        "Ques-20 Write a Python program to train a Decision Tree Classifier and visualize the tree using graphviz ?"
      ],
      "metadata": {
        "id": "jRJkHS4thkG6"
      }
    },
    {
      "cell_type": "code",
      "source": [
        "import graphviz\n",
        "from sklearn.datasets import load_iris\n",
        "from sklearn.model_selection import train_test_split\n",
        "from sklearn.tree import DecisionTreeClassifier, export_graphviz\n",
        "from sklearn import tree\n",
        "\n",
        "# Load the iris dataset (as an example)\n",
        "data = load_iris()\n",
        "X = data.data  # Features\n",
        "y = data.target  # Target labels\n",
        "\n",
        "# Split the data into training and testing sets\n",
        "X_train, X_test, y_train, y_test = train_test_split(X, y, test_size=0.2, random_state=42)\n",
        "\n",
        "# Create and train the Decision Tree Classifier\n",
        "model = DecisionTreeClassifier(random_state=42)\n",
        "model.fit(X_train, y_train)\n",
        "\n",
        "# Evaluate the model accuracy\n",
        "accuracy = model.score(X_test, y_test)\n",
        "print(f\"Model Accuracy: {accuracy * 100:.2f}%\")\n",
        "\n",
        "# Visualize the decision tree using export_graphviz\n",
        "dot_data = export_graphviz(\n",
        "    model,\n",
        "    out_file=None,\n",
        "    feature_names=data.feature_names,\n",
        "    class_names=data.target_names,\n",
        "    filled=True,\n",
        "    rounded=True,\n",
        "    special_characters=True\n",
        ")\n",
        "\n",
        "# Create a Graphviz source object and render it as a PNG image\n",
        "graph = graphviz.Source(dot_data)\n",
        "graph.render(\"decision_tree\", format=\"png\")  # Saves the visualization to a PNG file\n",
        "\n",
        "# Alternatively, you can view the tree directly in Jupyter Notebooks or IPython\n",
        "graph.view()\n"
      ],
      "metadata": {
        "colab": {
          "base_uri": "https://localhost:8080/",
          "height": 53
        },
        "id": "CJK262jzhgHO",
        "outputId": "1709773c-f4d1-44ee-a826-772f7427ce03"
      },
      "execution_count": 10,
      "outputs": [
        {
          "output_type": "stream",
          "name": "stdout",
          "text": [
            "Model Accuracy: 100.00%\n"
          ]
        },
        {
          "output_type": "execute_result",
          "data": {
            "text/plain": [
              "'decision_tree.pdf'"
            ],
            "application/vnd.google.colaboratory.intrinsic+json": {
              "type": "string"
            }
          },
          "metadata": {},
          "execution_count": 10
        }
      ]
    },
    {
      "cell_type": "markdown",
      "source": [
        "Ques-21 Write a Python program to train a Decision Tree Classifier with a maximum depth of 3 and compare its\n",
        "accuracy with a fully grown tree ?"
      ],
      "metadata": {
        "id": "tYrlGHrph4X6"
      }
    },
    {
      "cell_type": "code",
      "source": [
        "from sklearn.datasets import load_iris\n",
        "from sklearn.model_selection import train_test_split\n",
        "from sklearn.tree import DecisionTreeClassifier\n",
        "from sklearn.metrics import accuracy_score\n",
        "\n",
        "# Load the iris dataset (as an example)\n",
        "data = load_iris()\n",
        "X = data.data  # Features\n",
        "y = data.target  # Target labels\n",
        "\n",
        "# Split the data into training and testing sets\n",
        "X_train, X_test, y_train, y_test = train_test_split(X, y, test_size=0.2, random_state=42)\n",
        "\n",
        "# Train a Decision Tree Classifier with a maximum depth of 3\n",
        "model_depth_3 = DecisionTreeClassifier(max_depth=3, random_state=42)\n",
        "model_depth_3.fit(X_train, y_train)\n",
        "\n",
        "# Train a fully grown Decision Tree Classifier (no max depth)\n",
        "model_full_tree = DecisionTreeClassifier(random_state=42)\n",
        "model_full_tree.fit(X_train, y_train)\n",
        "\n",
        "# Make predictions and calculate accuracy for both models\n",
        "y_pred_depth_3 = model_depth_3.predict(X_test)\n",
        "y_pred_full_tree = model_full_tree.predict(X_test)\n",
        "\n",
        "accuracy_depth_3 = accuracy_score(y_test, y_pred_depth_3)\n",
        "accuracy_full_tree = accuracy_score(y_test, y_pred_full_tree)\n",
        "\n",
        "# Print the accuracy of both models\n",
        "print(f\"Accuracy with max depth 3: {accuracy_depth_3 * 100:.2f}%\")\n",
        "print(f\"Accuracy with fully grown tree: {accuracy_full_tree * 100:.2f}%\")\n"
      ],
      "metadata": {
        "colab": {
          "base_uri": "https://localhost:8080/"
        },
        "id": "gEWUpdZgh1GC",
        "outputId": "c96cbdd0-1356-4786-a97f-daabae7309e6"
      },
      "execution_count": 11,
      "outputs": [
        {
          "output_type": "stream",
          "name": "stdout",
          "text": [
            "Accuracy with max depth 3: 100.00%\n",
            "Accuracy with fully grown tree: 100.00%\n"
          ]
        }
      ]
    },
    {
      "cell_type": "markdown",
      "source": [
        "Ques22 Write a Python program to train a Decision Tree Classifier using min_samples_split=5 and compare its\n",
        "accuracy with a default tree ?"
      ],
      "metadata": {
        "id": "Lz-4csA7iIHr"
      }
    },
    {
      "cell_type": "code",
      "source": [
        "from sklearn.datasets import load_iris\n",
        "from sklearn.model_selection import train_test_split\n",
        "from sklearn.tree import DecisionTreeClassifier\n",
        "from sklearn.metrics import accuracy_score\n",
        "\n",
        "# Load the iris dataset (as an example)\n",
        "data = load_iris()\n",
        "X = data.data  # Features\n",
        "y = data.target  # Target labels\n",
        "\n",
        "# Split the data into training and testing sets\n",
        "X_train, X_test, y_train, y_test = train_test_split(X, y, test_size=0.2, random_state=42)\n",
        "\n",
        "# Train a Decision Tree Classifier with min_samples_split=5\n",
        "model_min_samples_split_5 = DecisionTreeClassifier(min_samples_split=5, random_state=42)\n",
        "model_min_samples_split_5.fit(X_train, y_train)\n",
        "\n",
        "# Train a default Decision Tree Classifier (no min_samples_split specified)\n",
        "model_default = DecisionTreeClassifier(random_state=42)\n",
        "model_default.fit(X_train, y_train)\n",
        "\n",
        "# Make predictions and calculate accuracy for both models\n",
        "y_pred_min_samples_split_5 = model_min_samples_split_5.predict(X_test)\n",
        "y_pred_default = model_default.predict(X_test)\n",
        "\n",
        "accuracy_min_samples_split_5 = accuracy_score(y_test, y_pred_min_samples_split_5)\n",
        "accuracy_default = accuracy_score(y_test, y_pred_default)\n",
        "\n",
        "# Print the accuracy of both models\n",
        "print(f\"Accuracy with min_samples_split=5: {accuracy_min_samples_split_5 * 100:.2f}%\")\n",
        "print(f\"Accuracy with default tree: {accuracy_default * 100:.2f}%\")\n"
      ],
      "metadata": {
        "colab": {
          "base_uri": "https://localhost:8080/"
        },
        "id": "CPqKv-hsiGPV",
        "outputId": "626cb8ff-aca1-4f2f-f5b6-522f3e473db4"
      },
      "execution_count": 12,
      "outputs": [
        {
          "output_type": "stream",
          "name": "stdout",
          "text": [
            "Accuracy with min_samples_split=5: 100.00%\n",
            "Accuracy with default tree: 100.00%\n"
          ]
        }
      ]
    },
    {
      "cell_type": "markdown",
      "source": [
        "Ques-23 Write a Python program to apply feature scaling before training a Decision Tree Classifier and compare its\n",
        "accuracy with unscaled data ?"
      ],
      "metadata": {
        "id": "N9IIwBGqiWhJ"
      }
    },
    {
      "cell_type": "code",
      "source": [
        "from sklearn.datasets import load_iris\n",
        "from sklearn.model_selection import train_test_split\n",
        "from sklearn.tree import DecisionTreeClassifier\n",
        "from sklearn.preprocessing import StandardScaler\n",
        "from sklearn.metrics import accuracy_score\n",
        "\n",
        "# Load the iris dataset (as an example)\n",
        "data = load_iris()\n",
        "X = data.data  # Features\n",
        "y = data.target  # Target labels\n",
        "\n",
        "# Split the data into training and testing sets\n",
        "X_train, X_test, y_train, y_test = train_test_split(X, y, test_size=0.2, random_state=42)\n",
        "\n",
        "# Apply feature scaling (Standardization) using StandardScaler\n",
        "scaler = StandardScaler()\n",
        "X_train_scaled = scaler.fit_transform(X_train)\n",
        "X_test_scaled = scaler.transform(X_test)\n",
        "\n",
        "# Train a Decision Tree Classifier on unscaled data\n",
        "model_unscaled = DecisionTreeClassifier(random_state=42)\n",
        "model_unscaled.fit(X_train, y_train)\n",
        "\n",
        "# Train a Decision Tree Classifier on scaled data\n",
        "model_scaled = DecisionTreeClassifier(random_state=42)\n",
        "model_scaled.fit(X_train_scaled, y_train)\n",
        "\n",
        "# Make predictions and calculate accuracy for both models\n",
        "y_pred_unscaled = model_unscaled.predict(X_test)\n",
        "y_pred_scaled = model_scaled.predict(X_test_scaled)\n",
        "\n",
        "accuracy_unscaled = accuracy_score(y_test, y_pred_unscaled)\n",
        "accuracy_scaled = accuracy_score(y_test, y_pred_scaled)\n",
        "\n",
        "# Print the accuracy of both models\n",
        "print(f\"Accuracy with unscaled data: {accuracy_unscaled * 100:.2f}%\")\n",
        "print(f\"Accuracy with scaled data: {accuracy_scaled * 100:.2f}%\")\n"
      ],
      "metadata": {
        "colab": {
          "base_uri": "https://localhost:8080/"
        },
        "id": "jOXqElM3iVWu",
        "outputId": "6f7556a7-f88c-4905-b11a-d2999cc2ae75"
      },
      "execution_count": 13,
      "outputs": [
        {
          "output_type": "stream",
          "name": "stdout",
          "text": [
            "Accuracy with unscaled data: 100.00%\n",
            "Accuracy with scaled data: 100.00%\n"
          ]
        }
      ]
    },
    {
      "cell_type": "markdown",
      "source": [
        "Ques-24 Write a Python program to train a Decision Tree Classifier using One-vs-Rest (OvR) strategy for multiclass\n",
        "classification ?"
      ],
      "metadata": {
        "id": "64Lqf1wLipwS"
      }
    },
    {
      "cell_type": "code",
      "source": [
        "from sklearn.datasets import load_iris\n",
        "from sklearn.model_selection import train_test_split\n",
        "from sklearn.tree import DecisionTreeClassifier\n",
        "from sklearn.multiclass import OneVsRestClassifier\n",
        "from sklearn.metrics import accuracy_score\n",
        "\n",
        "# Load the iris dataset (which is a multiclass dataset)\n",
        "data = load_iris()\n",
        "X = data.data  # Features\n",
        "y = data.target  # Target labels (3 classes)\n",
        "\n",
        "# Split the data into training and testing sets\n",
        "X_train, X_test, y_train, y_test = train_test_split(X, y, test_size=0.2, random_state=42)\n",
        "\n",
        "# Create a Decision Tree Classifier\n",
        "dt_classifier = DecisionTreeClassifier(random_state=42)\n",
        "\n",
        "# Apply One-vs-Rest (OvR) strategy using OneVsRestClassifier\n",
        "ovr_classifier = OneVsRestClassifier(dt_classifier)\n",
        "\n",
        "# Train the model\n",
        "ovr_classifier.fit(X_train, y_train)\n",
        "\n",
        "# Make predictions on the test set\n",
        "y_pred = ovr_classifier.predict(X_test)\n",
        "\n",
        "# Calculate the accuracy of the model\n",
        "accuracy = accuracy_score(y_test, y_pred)\n",
        "\n",
        "# Print the accuracy\n",
        "print(f\"Accuracy using One-vs-Rest strategy: {accuracy * 100:.2f}%\")\n"
      ],
      "metadata": {
        "colab": {
          "base_uri": "https://localhost:8080/"
        },
        "id": "c58R9jiHiof9",
        "outputId": "f52a4ec1-2e2f-4f00-cb6a-2e622f98c235"
      },
      "execution_count": 14,
      "outputs": [
        {
          "output_type": "stream",
          "name": "stdout",
          "text": [
            "Accuracy using One-vs-Rest strategy: 100.00%\n"
          ]
        }
      ]
    },
    {
      "cell_type": "markdown",
      "source": [
        "Ques-25 Write a Python program to train a Decision Tree Classifier and display the feature importance scores ?"
      ],
      "metadata": {
        "id": "LgphJOlFi3Pa"
      }
    },
    {
      "cell_type": "code",
      "source": [
        "from sklearn.datasets import load_iris\n",
        "from sklearn.model_selection import train_test_split\n",
        "from sklearn.tree import DecisionTreeClassifier\n",
        "import pandas as pd\n",
        "\n",
        "# Load the iris dataset (as an example)\n",
        "data = load_iris()\n",
        "X = data.data  # Features\n",
        "y = data.target  # Target labels\n",
        "\n",
        "# Create a DataFrame for better visualization\n",
        "features = data.feature_names\n",
        "X_df = pd.DataFrame(X, columns=features)\n",
        "\n",
        "# Split the data into training and testing sets\n",
        "X_train, X_test, y_train, y_test = train_test_split(X_df, y, test_size=0.2, random_state=42)\n",
        "\n",
        "# Create and train a Decision Tree Classifier\n",
        "model = DecisionTreeClassifier(random_state=42)\n",
        "model.fit(X_train, y_train)\n",
        "\n",
        "# Get feature importance scores\n",
        "importance_scores = model.feature_importances_\n",
        "\n",
        "# Display the feature importance scores\n",
        "print(\"Feature Importance Scores:\")\n",
        "for feature, score in zip(features, importance_scores):\n",
        "    print(f\"{feature}: {score:.4f}\")\n",
        "\n",
        "# Optionally, visualize the feature importances as a bar plot\n",
        "import matplotlib.pyplot as plt\n",
        "\n",
        "plt.bar(features, importance_scores)\n",
        "plt.xlabel('Features')\n",
        "plt.ylabel('Importance Score')\n",
        "plt.title('Feature Importance Scores for Decision Tree Classifier')\n",
        "plt.show()\n"
      ],
      "metadata": {
        "colab": {
          "base_uri": "https://localhost:8080/",
          "height": 559
        },
        "id": "tgUM3Tjqi1sQ",
        "outputId": "e87d1cdc-1965-4370-e713-778759957674"
      },
      "execution_count": 15,
      "outputs": [
        {
          "output_type": "stream",
          "name": "stdout",
          "text": [
            "Feature Importance Scores:\n",
            "sepal length (cm): 0.0000\n",
            "sepal width (cm): 0.0167\n",
            "petal length (cm): 0.9061\n",
            "petal width (cm): 0.0772\n"
          ]
        },
        {
          "output_type": "display_data",
          "data": {
            "text/plain": [
              "<Figure size 640x480 with 1 Axes>"
            ],
            "image/png": "[encoded data removed]"
          },
          "metadata": {}
        }
      ]
    },
    {
      "cell_type": "markdown",
      "source": [
        "Ques- Write a Python program to train a Decision Tree Regressor with max_depth=5 and compare its performance\n",
        "with an unrestricted tree ?"
      ],
      "metadata": {
        "id": "G2CKDsnRjDw3"
      }
    },
    {
      "cell_type": "code",
      "source": [
        "from sklearn.datasets import fetch_california_housing\n",
        "from sklearn.model_selection import train_test_split\n",
        "from sklearn.tree import DecisionTreeRegressor\n",
        "from sklearn.metrics import mean_squared_error\n",
        "\n",
        "# Load the California housing dataset (as an example)\n",
        "data = fetch_california_housing()\n",
        "X = data.data  # Features\n",
        "y = data.target  # Target (house prices)\n",
        "\n",
        "# Split the data into training and testing sets\n",
        "X_train, X_test, y_train, y_test = train_test_split(X, y, test_size=0.2, random_state=42)\n",
        "\n",
        "# Train a Decision Tree Regressor with max_depth=5\n",
        "model_max_depth_5 = DecisionTreeRegressor(max_depth=5, random_state=42)\n",
        "model_max_depth_5.fit(X_train, y_train)\n",
        "\n",
        "# Train a fully grown Decision Tree Regressor (no max depth specified)\n",
        "model_full_tree = DecisionTreeRegressor(random_state=42)\n",
        "model_full_tree.fit(X_train, y_train)\n",
        "\n",
        "# Make predictions and calculate Mean Squared Error (MSE) for both models\n",
        "y_pred_max_depth_5 = model_max_depth_5.predict(X_test)\n",
        "y_pred_full_tree = model_full_tree.predict(X_test)\n",
        "\n",
        "mse_max_depth_5 = mean_squared_error(y_test, y_pred_max_depth_5)\n",
        "mse_full_tree = mean_squared_error(y_test, y_pred_full_tree)\n",
        "\n",
        "# Print the Mean Squared Error for both models\n",
        "print(f\"Mean Squared Error with max_depth=5: {mse_max_depth_5:.4f}\")\n",
        "print(f\"Mean Squared Error with fully grown tree: {mse_full_tree:.4f}\")\n"
      ],
      "metadata": {
        "colab": {
          "base_uri": "https://localhost:8080/"
        },
        "id": "Hmx4jZkijNvP",
        "outputId": "3d5ec45e-0391-4538-faa5-638f47467459"
      },
      "execution_count": 17,
      "outputs": [
        {
          "output_type": "stream",
          "name": "stdout",
          "text": [
            "Mean Squared Error with max_depth=5: 0.5245\n",
            "Mean Squared Error with fully grown tree: 0.4952\n"
          ]
        }
      ]
    },
    {
      "cell_type": "markdown",
      "source": [
        "Ques-27 Write a Python program to train a Decision Tree Classifier, apply Cost Complexity Pruning (CCP), and\n",
        "visualize its effect on accuracy ?"
      ],
      "metadata": {
        "id": "cf1QRjrUjZzx"
      }
    },
    {
      "cell_type": "code",
      "source": [
        "import matplotlib.pyplot as plt\n",
        "from sklearn.datasets import load_iris\n",
        "from sklearn.model_selection import train_test_split\n",
        "from sklearn.tree import DecisionTreeClassifier\n",
        "from sklearn.tree import plot_tree\n",
        "from sklearn.metrics import accuracy_score\n",
        "import numpy as np\n",
        "\n",
        "# Load the iris dataset (as an example)\n",
        "data = load_iris()\n",
        "X = data.data  # Features\n",
        "y = data.target  # Target labels\n",
        "\n",
        "# Split the data into training and testing sets\n",
        "X_train, X_test, y_train, y_test = train_test_split(X, y, test_size=0.2, random_state=42)\n",
        "\n",
        "# Train a Decision Tree Classifier without pruning\n",
        "model_no_pruning = DecisionTreeClassifier(random_state=42)\n",
        "model_no_pruning.fit(X_train, y_train)\n",
        "\n",
        "# Make predictions and calculate accuracy for the unpruned tree\n",
        "y_pred_no_pruning = model_no_pruning.predict(X_test)\n",
        "accuracy_no_pruning = accuracy_score(y_test, y_pred_no_pruning)\n",
        "\n",
        "# Cost Complexity Pruning: Determine the effective alphas for pruning\n",
        "path = model_no_pruning.cost_complexity_pruning_path(X_train, y_train)\n",
        "ccp_alphas = path.ccp_alphas\n",
        "impurities = path.impurities\n",
        "\n",
        "# Train trees for different values of ccp_alpha and store their accuracies\n",
        "accuracies = []\n",
        "for alpha in ccp_alphas:\n",
        "    model_pruned = DecisionTreeClassifier(random_state=42, ccp_alpha=alpha)\n",
        "    model_pruned.fit(X_train, y_train)\n",
        "    y_pred_pruned = model_pruned.predict(X_test)\n",
        "    accuracies.append(accuracy_score(y_test, y_pred_pruned))\n",
        "\n",
        "# Plot the effect of pruning on accuracy\n",
        "plt.plot(ccp_alphas, accuracies, label=\"Accuracy vs. ccp_alpha\", color='blue', marker='o')\n",
        "plt.axvline(x=0, linestyle=\"--\", color='gray')\n",
        "plt.xlabel(\"Effective Alpha (ccp_alpha)\")\n",
        "plt.ylabel(\"Accuracy\")\n",
        "plt.title(\"Effect of Cost Complexity Pruning on Accuracy\")\n",
        "plt.grid(True)\n",
        "plt.show()\n",
        "\n",
        "# Print the accuracy of the unpruned tree\n",
        "print(f\"Accuracy without pruning: {accuracy_no_pruning * 100:.2f}%\")\n",
        "\n",
        "# Find the best ccp_alpha with the highest accuracy\n",
        "best_alpha = ccp_alphas[np.argmax(accuracies)]\n",
        "print(f\"Best alpha value: {best_alpha:.5f}\")\n"
      ],
      "metadata": {
        "colab": {
          "base_uri": "https://localhost:8080/",
          "height": 507
        },
        "id": "z-Kkp2BejYXl",
        "outputId": "9be43b42-1ac4-40e5-8781-561cc6cb67f0"
      },
      "execution_count": 18,
      "outputs": [
        {
          "output_type": "display_data",
          "data": {
            "text/plain": [
              "<Figure size 640x480 with 1 Axes>"
            ],
            "image/png": "[encoded data removed]"
          },
          "metadata": {}
        },
        {
          "output_type": "stream",
          "name": "stdout",
          "text": [
            "Accuracy without pruning: 100.00%\n",
            "Best alpha value: 0.00000\n"
          ]
        }
      ]
    },
    {
      "cell_type": "markdown",
      "source": [
        "Ques-28 Write a Python program to train a Decision Tree Classifier and evaluate its performance using Precision,\n",
        "Recall, and F1-Score ?"
      ],
      "metadata": {
        "id": "mQ6K2I27jqf2"
      }
    },
    {
      "cell_type": "code",
      "source": [
        "from sklearn.datasets import load_iris\n",
        "from sklearn.model_selection import train_test_split\n",
        "from sklearn.tree import DecisionTreeClassifier\n",
        "from sklearn.metrics import precision_score, recall_score, f1_score, accuracy_score\n",
        "\n",
        "# Load the Iris dataset (as an example)\n",
        "data = load_iris()\n",
        "X = data.data  # Features\n",
        "y = data.target  # Target labels (three classes)\n",
        "\n",
        "# Split the data into training and testing sets\n",
        "X_train, X_test, y_train, y_test = train_test_split(X, y, test_size=0.2, random_state=42)\n",
        "\n",
        "# Train a Decision Tree Classifier\n",
        "model = DecisionTreeClassifier(random_state=42)\n",
        "model.fit(X_train, y_train)\n",
        "\n",
        "# Make predictions on the test set\n",
        "y_pred = model.predict(X_test)\n",
        "\n",
        "# Calculate Precision, Recall, F1-Score (one-vs-rest for multiclass classification)\n",
        "precision = precision_score(y_test, y_pred, average='weighted')  # Weighted average for multiclass\n",
        "recall = recall_score(y_test, y_pred, average='weighted')  # Weighted average for multiclass\n",
        "f1 = f1_score(y_test, y_pred, average='weighted')  # Weighted average for multiclass\n",
        "accuracy = accuracy_score(y_test, y_pred)\n",
        "\n",
        "# Print the evaluation metrics\n",
        "print(f\"Accuracy: {accuracy * 100:.2f}%\")\n",
        "print(f\"Precision (Weighted): {precision:.4f}\")\n",
        "print(f\"Recall (Weighted): {recall:.4f}\")\n",
        "print(f\"F1-Score (Weighted): {f1:.4f}\")\n",
        "\n"
      ],
      "metadata": {
        "colab": {
          "base_uri": "https://localhost:8080/"
        },
        "id": "l1Nrd_lwjp1H",
        "outputId": "ca41e82e-ef64-4eb6-9121-635dab166f46"
      },
      "execution_count": 19,
      "outputs": [
        {
          "output_type": "stream",
          "name": "stdout",
          "text": [
            "Accuracy: 100.00%\n",
            "Precision (Weighted): 1.0000\n",
            "Recall (Weighted): 1.0000\n",
            "F1-Score (Weighted): 1.0000\n"
          ]
        }
      ]
    },
    {
      "cell_type": "markdown",
      "source": [
        "Ques-29 Write a Python program to train a Decision Tree Classifier and visualize the confusion matrix using seaborn ?"
      ],
      "metadata": {
        "id": "qZgQLoTij3RD"
      }
    },
    {
      "cell_type": "code",
      "source": [
        "import seaborn as sns\n",
        "import matplotlib.pyplot as plt\n",
        "from sklearn.datasets import load_iris\n",
        "from sklearn.model_selection import train_test_split\n",
        "from sklearn.tree import DecisionTreeClassifier\n",
        "from sklearn.metrics import confusion_matrix\n",
        "import numpy as np\n",
        "\n",
        "# Load the Iris dataset (as an example)\n",
        "data = load_iris()\n",
        "X = data.data  # Features\n",
        "y = data.target  # Target labels (3 classes)\n",
        "\n",
        "# Split the data into training and testing sets\n",
        "X_train, X_test, y_train, y_test = train_test_split(X, y, test_size=0.2, random_state=42)\n",
        "\n",
        "# Train a Decision Tree Classifier\n",
        "model = DecisionTreeClassifier(random_state=42)\n",
        "model.fit(X_train, y_train)\n",
        "\n",
        "# Make predictions on the test set\n",
        "y_pred = model.predict(X_test)\n",
        "\n",
        "# Compute the confusion matrix\n",
        "cm = confusion_matrix(y_test, y_pred)\n",
        "\n",
        "# Plot the confusion matrix using Seaborn heatmap\n",
        "plt.figure(figsize=(8, 6))\n",
        "sns.heatmap(cm, annot=True, fmt='g', cmap='Blues', xticklabels=data.target_names, yticklabels=data.target_names)\n",
        "plt.xlabel('Predicted Labels')\n",
        "plt.ylabel('True Labels')\n",
        "plt.title('Confusion Matrix for Decision Tree Classifier')\n",
        "plt.show()\n"
      ],
      "metadata": {
        "colab": {
          "base_uri": "https://localhost:8080/",
          "height": 564
        },
        "id": "ugD3F5Wdj179",
        "outputId": "4d56eaad-0f28-41fb-af69-be825cc7d318"
      },
      "execution_count": 20,
      "outputs": [
        {
          "output_type": "display_data",
          "data": {
            "text/plain": [
              "<Figure size 800x600 with 2 Axes>"
            ],
            "image/png": "[encoded data removed]"
          },
          "metadata": {}
        }
      ]
    },
    {
      "cell_type": "markdown",
      "source": [
        "Ques-30 Write a Python program to train a Decision Tree Classifier and use GridSearchCV to find the optimal values\n",
        "for max_depth and min_samples_split ?"
      ],
      "metadata": {
        "id": "ALyMbLSLkE1w"
      }
    },
    {
      "cell_type": "code",
      "source": [
        "from sklearn.datasets import load_iris\n",
        "from sklearn.model_selection import train_test_split, GridSearchCV\n",
        "from sklearn.tree import DecisionTreeClassifier\n",
        "from sklearn.metrics import accuracy_score\n",
        "\n",
        "# Load the Iris dataset (as an example)\n",
        "data = load_iris()\n",
        "X = data.data  # Features\n",
        "y = data.target  # Target labels\n",
        "\n",
        "# Split the data into training and testing sets\n",
        "X_train, X_test, y_train, y_test = train_test_split(X, y, test_size=0.2, random_state=42)\n",
        "\n",
        "# Initialize the Decision Tree Classifier\n",
        "dt_classifier = DecisionTreeClassifier(random_state=42)\n",
        "\n",
        "# Define the parameter grid for max_depth and min_samples_split\n",
        "param_grid = {\n",
        "    'max_depth': [3, 5, 10, None],  # Example values for max_depth\n",
        "    'min_samples_split': [2, 5, 10]  # Example values for min_samples_split\n",
        "}\n",
        "\n",
        "# Use GridSearchCV to find the best combination of parameters\n",
        "grid_search = GridSearchCV(estimator=dt_classifier, param_grid=param_grid, cv=5, n_jobs=-1)\n",
        "grid_search.fit(X_train, y_train)\n",
        "\n",
        "# Print the best parameters found by GridSearchCV\n",
        "print(f\"Best parameters: {grid_search.best_params_}\")\n",
        "\n",
        "# Train the model using the best parameters\n",
        "best_model = grid_search.best_estimator_\n",
        "\n",
        "# Make predictions on the test set\n",
        "y_pred = best_model.predict(X_test)\n",
        "\n",
        "# Evaluate the model\n",
        "accuracy = accuracy_score(y_test, y_pred)\n",
        "print(f\"Test Accuracy: {accuracy * 100:.2f}%\")\n"
      ],
      "metadata": {
        "colab": {
          "base_uri": "https://localhost:8080/"
        },
        "id": "_t0tBEkSkEAB",
        "outputId": "2872a4c8-d692-4973-a62b-4953e6d96978"
      },
      "execution_count": 21,
      "outputs": [
        {
          "output_type": "stream",
          "name": "stdout",
          "text": [
            "Best parameters: {'max_depth': 10, 'min_samples_split': 2}\n",
            "Test Accuracy: 100.00%\n"
          ]
        }
      ]
    },
    {
      "cell_type": "code",
      "source": [],
      "metadata": {
        "id": "wyA6bkqokTqw"
      },
      "execution_count": null,
      "outputs": []
    }
  ]
}