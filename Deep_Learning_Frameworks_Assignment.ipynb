{
  "nbformat": 4,
  "nbformat_minor": 0,
  "metadata": {
    "colab": {
      "provenance": [],
      "authorship_tag": "ABX9TyMXdXB9rebqyejBf8wbdLO4",
      "include_colab_link": true
    },
    "kernelspec": {
      "name": "python3",
      "display_name": "Python 3"
    },
    "language_info": {
      "name": "python"
    }
  },
  "cells": [
    {
      "cell_type": "markdown",
      "metadata": {
        "id": "view-in-github",
        "colab_type": "text"
      },
      "source": [
        "<a href=\"https://colab.research.google.com/github/prachimethi/assignment/blob/main/Deep_Learning_Frameworks_Assignment.ipynb\" target=\"_parent\"><img src=\"https://colab.research.google.com/assets/colab-badge.svg\" alt=\"Open In Colab\"/></a>"
      ]
    },
    {
      "cell_type": "markdown",
      "source": [
        "# **THEORITICAL QUESTIONS**"
      ],
      "metadata": {
        "id": "R77xiaLEqjP6"
      }
    },
    {
      "cell_type": "markdown",
      "source": [
        "Ques-1 What is TensorFlow 2.0, and how is it different from TensorFlow 1.x ?"
      ],
      "metadata": {
        "id": "-vSio79Rqxs0"
      }
    },
    {
      "cell_type": "markdown",
      "source": [
        "TensorFlow 2.0 is a major upgrade to TensorFlow, the open-source machine learning library developed by Google. It was officially released in late 2019 and brought significant improvements over TensorFlow 1.x to make it more user-friendly, flexible, and easier to debug and deploy."
      ],
      "metadata": {
        "id": "wbK97uThrUqd"
      }
    },
    {
      "cell_type": "markdown",
      "source": [
        "Ques-2 How do you install TensorFlow 2.0 ?"
      ],
      "metadata": {
        "id": "_I1FC7lbraSH"
      }
    },
    {
      "cell_type": "markdown",
      "source": [
        "Using : pip install tensorflow==2.0.0\n"
      ],
      "metadata": {
        "id": "GM3lmE6frq2C"
      }
    },
    {
      "cell_type": "markdown",
      "source": [
        "Ques-3 What is the primary function of the tf.function in TensorFlow 2.0 ?"
      ],
      "metadata": {
        "id": "Okuny8Xmrwyj"
      }
    },
    {
      "cell_type": "markdown",
      "source": [
        "The primary function of tf.function in TensorFlow 2.0 is to convert a Python function into a TensorFlow computation graph, which improves performance and enables efficient deployment."
      ],
      "metadata": {
        "id": "_4Ki0c4hsXfC"
      }
    },
    {
      "cell_type": "markdown",
      "source": [
        "Ques-4 What is the purpose of the Model class in TensorFlow 2.0 ?"
      ],
      "metadata": {
        "id": "7b-L7nIbsZqQ"
      }
    },
    {
      "cell_type": "markdown",
      "source": [
        "The Model class in TensorFlow 2.0—specifically tf.keras.Model—is a core class used to define and train machine learning models. It serves as the base class for building both simple and complex models in TensorFlow using the Keras API."
      ],
      "metadata": {
        "id": "sZHTuKr7tZIm"
      }
    },
    {
      "cell_type": "markdown",
      "source": [
        "Ques-5 How do you create a neural network using TensorFlow 2.0 ?"
      ],
      "metadata": {
        "id": "uCfvG4jEtfpv"
      }
    },
    {
      "cell_type": "markdown",
      "source": [
        "Creating a neural network in TensorFlow 2.0 is super smooth, especially thanks to the tf.keras ."
      ],
      "metadata": {
        "id": "SyhzeCcst1dU"
      }
    },
    {
      "cell_type": "markdown",
      "source": [
        "Ques-6 What is the importance of Tensor Space in TensorFlow ?"
      ],
      "metadata": {
        "id": "22qyK_Y8t7ZR"
      }
    },
    {
      "cell_type": "markdown",
      "source": [
        "The concept of Tensor Space in TensorFlow (and deep learning in general) is fundamental—it underlies how data and computations are represented and performed."
      ],
      "metadata": {
        "id": "2H6dPkzmuYt6"
      }
    },
    {
      "cell_type": "markdown",
      "source": [
        "Ques-7 How can TensorBoard be integrated with TensorFlow 2.0 ?"
      ],
      "metadata": {
        "id": "Q3Cpo2NvukMF"
      }
    },
    {
      "cell_type": "markdown",
      "source": [
        "TensorBoard is the go-to tool for visualizing and debugging your TensorFlow 2.0 models. It helps you monitor training metrics, visualize model architecture, and even track embeddings or activation histograms."
      ],
      "metadata": {
        "id": "drVgfHLEvadN"
      }
    },
    {
      "cell_type": "markdown",
      "source": [
        "Ques-8 What is the purpose of TensorFlow Playground ?"
      ],
      "metadata": {
        "id": "osqnNoWsv3Zi"
      }
    },
    {
      "cell_type": "markdown",
      "source": [
        "TensorFlow Playground is a web-based interactive visualization tool designed to help you understand how neural networks work, especially if you're new to deep learning.\n",
        "\n",
        "While not technically part of TensorFlow’s core library, it’s a super helpful learning tool for grasping concepts."
      ],
      "metadata": {
        "id": "HJZsCbRdv2Iy"
      }
    },
    {
      "cell_type": "markdown",
      "source": [
        "Ques-9  What is Netron, and how is it useful for deep learning models ?"
      ],
      "metadata": {
        "id": "KE_56sZ_wcN8"
      }
    },
    {
      "cell_type": "markdown",
      "source": [
        " Netron is a visual model viewer for deep learning, and it's incredibly useful for inspecting and understanding the structure of your trained models—especially when you're dealing with large, complex architectures."
      ],
      "metadata": {
        "id": "9FBuItoewxAB"
      }
    },
    {
      "cell_type": "markdown",
      "source": [
        "Ques-10 What is the difference between TensorFlow and PyTorch ?"
      ],
      "metadata": {
        "id": "cu_7G_oPw1Rz"
      }
    },
    {
      "cell_type": "markdown",
      "source": [
        "TensorFlow and PyTorch are the two most widely used deep learning frameworks today, and while they both help you build and train neural networks, they have some key philosophical, technical, and community differences."
      ],
      "metadata": {
        "id": "1ub3FOoZxIa8"
      }
    },
    {
      "cell_type": "markdown",
      "source": [
        "Ques-11 How do you install PyTorch ?"
      ],
      "metadata": {
        "id": "YF3HS29uxJvm"
      }
    },
    {
      "cell_type": "markdown",
      "source": [
        "To install **PyTorch**, you can use either `pip` or `conda`. If you are using `pip`, for a **CPU-only version**, run the command `pip install torch torchvision torchaudio`. For **GPU support** with CUDA, use `pip install torch torchvision torchaudio cudatoolkit=11.3`. If you are using `conda` with Anaconda or Miniconda, for a **CPU-only version**, run `conda install pytorch torchvision torchaudio cpuonly -c pytorch`, and for **GPU support** with CUDA, use `conda install pytorch torchvision torchaudio cudatoolkit=11.3 -c pytorch`. After installation, you can verify it by running a simple Python script to check if PyTorch was installed correctly and whether GPU support is available by using the following code: `import torch` and `print(\"CUDA Available:\", torch.cuda.is_available())` along with `print(\"PyTorch version:\", torch.__version__)`."
      ],
      "metadata": {
        "id": "QcNod8nNxu1v"
      }
    },
    {
      "cell_type": "markdown",
      "source": [
        "Ques-12 What is the basic structure of a PyTorch neural network ?"
      ],
      "metadata": {
        "id": "6Xke_aIyySpY"
      }
    },
    {
      "cell_type": "markdown",
      "source": [
        "The basic structure of a PyTorch neural network typically involves defining a class that inherits from torch.nn.Module, where you specify the layers of the network and define the forward pass"
      ],
      "metadata": {
        "id": "QubcwsxkysnX"
      }
    },
    {
      "cell_type": "markdown",
      "source": [
        "Ques-13 What is the significance of tensors in PyTorch ?"
      ],
      "metadata": {
        "id": "SjAs3Rh_zRgc"
      }
    },
    {
      "cell_type": "markdown",
      "source": [
        "Tensors are the core data structure in PyTorch, and they play a crucial role in almost every aspect of deep learning, from representing data to performing computations."
      ],
      "metadata": {
        "id": "0kujofArz4h5"
      }
    },
    {
      "cell_type": "markdown",
      "source": [
        "Ques-14 What is the difference between torch.Tensor and torch.cuda.Tensor in PyTorch ?"
      ],
      "metadata": {
        "id": "oD87Ek9Cz7hR"
      }
    },
    {
      "cell_type": "markdown",
      "source": [
        "In PyTorch, both torch.Tensor and torch.cuda.Tensor represent tensors, but they differ mainly in terms of where the tensor is stored and processed."
      ],
      "metadata": {
        "id": "k34ieW9I0bnN"
      }
    },
    {
      "cell_type": "markdown",
      "source": [
        "Ques-15 What is the purpose of the torch.optim module in PyTorch ?"
      ],
      "metadata": {
        "id": "CacETRo10deU"
      }
    },
    {
      "cell_type": "markdown",
      "source": [
        "The torch.optim module in PyTorch is responsible for implementing optimization algorithms, which are crucial for training machine learning models, particularly deep learning models. The purpose of this module is to provide various optimization techniques that help adjust the parameters of a model (like weights and biases) to minimize the loss function during training."
      ],
      "metadata": {
        "id": "rgyPqy6z0-6x"
      }
    },
    {
      "cell_type": "markdown",
      "source": [
        "Ques-16 What are some common activation functions used in neural networks ?"
      ],
      "metadata": {
        "id": "TKwhQBt71D0P"
      }
    },
    {
      "cell_type": "markdown",
      "source": [
        "Sigmoid: Maps input to the range (0, 1), useful for binary classification.\n",
        "\n",
        "Tanh: Maps input to the range (-1, 1), better than sigmoid for some tasks.\n",
        "\n",
        "ReLU: Outputs input for positive values, 0 for negative, widely used.\n",
        "\n",
        "Leaky ReLU: Similar to ReLU, but allows a small negative slope to avoid dead neurons.\n",
        "\n",
        "PReLU: Like Leaky ReLU, but the negative slope is learned during training.\n",
        "\n",
        "Softmax: Converts output into a probability distribution, used in multi-class classification.\n",
        "\n",
        "Swish: A smooth, non-monotonic function that often outperforms ReLU.\n",
        "\n",
        "ELU: Similar to ReLU but with smoother behavior for negative inputs."
      ],
      "metadata": {
        "id": "m27JkXaM15ww"
      }
    },
    {
      "cell_type": "markdown",
      "source": [
        "Ques-17 What is the difference between torch.nn.Module and torch.nn.Sequential in PyTorch ?"
      ],
      "metadata": {
        "id": "6rvD-Nd82GyH"
      }
    },
    {
      "cell_type": "markdown",
      "source": [
        "torch.nn.Module is the base class for creating custom neural network models in PyTorch, offering full flexibility to define complex architectures with custom layers and forward passes. It allows more control and is suitable for advanced models. On the other hand, torch.nn.Sequential is a simpler container that allows you to stack layers sequentially, ideal for straightforward models where layers are applied in a fixed order. It is less flexible but quicker to implement for simple architectures."
      ],
      "metadata": {
        "id": "ie6j8dnu2W4y"
      }
    },
    {
      "cell_type": "markdown",
      "source": [
        "Ques-18 How can you monitor training progress in TensorFlow 2.0 ?"
      ],
      "metadata": {
        "id": "2xj01VSj2uy3"
      }
    },
    {
      "cell_type": "markdown",
      "source": [
        "In TensorFlow 2.0, you can monitor training progress using TensorBoard for real-time visualizations of metrics like loss and accuracy. Additionally, you can use callbacks such as EarlyStopping to automate actions during training or track progress with the History object returned by model.fit(). For simple progress updates, you can adjust the verbose parameter in model.fit() to print detailed logs to the console. These tools help you effectively track and visualize the model's performance during training."
      ],
      "metadata": {
        "id": "iGiHbJRi3O03"
      }
    },
    {
      "cell_type": "markdown",
      "source": [
        "Ques-19 How does the Keras API fit into TensorFlow 2.0 ?"
      ],
      "metadata": {
        "id": "gTv14RbT3Qpr"
      }
    },
    {
      "cell_type": "markdown",
      "source": [
        "In TensorFlow 2.0, the Keras API is fully integrated as the primary high-level API for building and training deep learning models. Keras provides a user-friendly interface that simplifies the process of creating, training, and evaluating neural networks. It abstracts away much of the complexity of TensorFlow, making it more accessible for both beginners and experienced developers."
      ],
      "metadata": {
        "id": "msFEyymJ3gf_"
      }
    },
    {
      "cell_type": "markdown",
      "source": [
        "Ques-20 What is an example of a deep learning project that can be implemented using TensorFlow 2.0 ?"
      ],
      "metadata": {
        "id": "IhHG6sqj3ims"
      }
    },
    {
      "cell_type": "markdown",
      "source": [
        "A great example of a deep learning project that can be implemented using TensorFlow 2.0 is an image classification model using the CIFAR-10 dataset. This dataset consists of 60,000 32x32 color images across 10 classes, with 6,000 images per class. It’s a well-known benchmark for image classification tasks."
      ],
      "metadata": {
        "id": "YgWdKuhw33Zq"
      }
    },
    {
      "cell_type": "markdown",
      "source": [
        "Ques-21 What is the main advantage of using pre-trained models in TensorFlow and PyTorch ?"
      ],
      "metadata": {
        "id": "NG9x19oE34_F"
      }
    },
    {
      "cell_type": "markdown",
      "source": [
        "The main advantage of using pre-trained models in TensorFlow and PyTorch is transfer learning, which allows you to leverage models trained on large datasets. This results in faster training, improved performance, and better generalization when working with limited data. Pre-trained models also require less computational power and make experimentation easier by providing a solid starting point for fine-tuning."
      ],
      "metadata": {
        "id": "mV-E8xoU4CxG"
      }
    },
    {
      "cell_type": "markdown",
      "source": [
        "# **PRACTICAL QUESTIONS**"
      ],
      "metadata": {
        "id": "74XzOOPP4Nmq"
      }
    },
    {
      "cell_type": "markdown",
      "source": [
        "Ques-1 How do you install and verify that TensorFlow 2.0 was installed successfully ?"
      ],
      "metadata": {
        "id": "LLE5gFil4UQ2"
      }
    },
    {
      "cell_type": "markdown",
      "source": [
        "TensorFlow is already available in Colab, but you can install or switch versions easily using pip, making Colab a convenient platform for deep learning with TensorFlow."
      ],
      "metadata": {
        "id": "anA7WHXGvJAq"
      }
    },
    {
      "cell_type": "code",
      "execution_count": null,
      "metadata": {
        "id": "ICYLBI3_qWhP",
        "colab": {
          "base_uri": "https://localhost:8080/"
        },
        "outputId": "727a9d7f-677a-4851-a5a3-40d053d39e8b"
      },
      "outputs": [
        {
          "output_type": "stream",
          "name": "stdout",
          "text": [
            "2.18.0\n"
          ]
        }
      ],
      "source": [
        "#If we want to install it\n",
        "#!pip install tensorflow\n",
        "\n",
        "#Installing and printing tensor flow version\n",
        "import tensorflow as tf\n",
        "print(tf.__version__)"
      ]
    },
    {
      "cell_type": "markdown",
      "source": [
        "Ques-2  How can you define a simple function in TensorFlow 2.0 to perform addition ?"
      ],
      "metadata": {
        "id": "l8zZEw_Pvmdh"
      }
    },
    {
      "cell_type": "code",
      "source": [
        "#Importing tensor flow\n",
        "import tensorflow as tf\n",
        "\n",
        "#Define a tf function\n",
        "@tf.function\n",
        "def AddNumbers(x ,y ):\n",
        "  return x + y\n",
        "\n",
        "#Deining the constant\n",
        "a = tf.constant(5)\n",
        "b = tf.constant(3)\n",
        "\n",
        "#Printing the result\n",
        "result = AddNumbers(a ,b)\n",
        "print(f\"Result : {result.numpy()}\")"
      ],
      "metadata": {
        "colab": {
          "base_uri": "https://localhost:8080/"
        },
        "id": "8aX5tmwqvTw2",
        "outputId": "0885fdd2-ab97-4a0d-8207-044f3981c5b8"
      },
      "execution_count": null,
      "outputs": [
        {
          "output_type": "stream",
          "name": "stdout",
          "text": [
            "Result : 8\n"
          ]
        }
      ]
    },
    {
      "cell_type": "markdown",
      "source": [
        "Ques-3 How can you create a simple neural network in TensorFlow 2.0 with one hidden layer ?"
      ],
      "metadata": {
        "id": "JjEjkCn0wpgu"
      }
    },
    {
      "cell_type": "code",
      "source": [
        "import tensorflow as tf\n",
        "from tensorflow.keras import layers , models\n",
        "\n",
        "#Create the model\n",
        "model = models.Sequential([\n",
        "    layers.Dense(8 , activation= 'relu' , input_shape=(4,)), #Hidden layer with 8 neuron\n",
        "    layers.Dense(1) #Output layer with 1 neuron\n",
        "])\n",
        "\n",
        "# 2. Compile the model\n",
        "model.compile(optimizer='adam',\n",
        "              loss='mse',           # Use 'binary_crossentropy' for binary classification\n",
        "              metrics=['mae'])     # Mean Absolute Error\n",
        "\n",
        "# 3. Summary of the model\n",
        "model.summary()"
      ],
      "metadata": {
        "id": "KVMiEgiIwTFU",
        "colab": {
          "base_uri": "https://localhost:8080/",
          "height": 259
        },
        "outputId": "5f4d1e96-a5ed-4799-fe1a-067a56726100"
      },
      "execution_count": null,
      "outputs": [
        {
          "output_type": "stream",
          "name": "stderr",
          "text": [
            "/usr/local/lib/python3.11/dist-packages/keras/src/layers/core/dense.py:87: UserWarning: Do not pass an `input_shape`/`input_dim` argument to a layer. When using Sequential models, prefer using an `Input(shape)` object as the first layer in the model instead.\n",
            "  super().__init__(activity_regularizer=activity_regularizer, **kwargs)\n"
          ]
        },
        {
          "output_type": "display_data",
          "data": {
            "text/plain": [
              "\u001b[1mModel: \"sequential_1\"\u001b[0m\n"
            ],
            "text/html": [
              "<pre style=\"white-space:pre;overflow-x:auto;line-height:normal;font-family:Menlo,'DejaVu Sans Mono',consolas,'Courier New',monospace\"><span style=\"font-weight: bold\">Model: \"sequential_1\"</span>\n",
              "</pre>\n"
            ]
          },
          "metadata": {}
        },
        {
          "output_type": "display_data",
          "data": {
            "text/plain": [
              "┏━━━━━━━━━━━━━━━━━━━━━━━━━━━━━━━━━┳━━━━━━━━━━━━━━━━━━━━━━━━┳━━━━━━━━━━━━━━━┓\n",
              "┃\u001b[1m \u001b[0m\u001b[1mLayer (type)                   \u001b[0m\u001b[1m \u001b[0m┃\u001b[1m \u001b[0m\u001b[1mOutput Shape          \u001b[0m\u001b[1m \u001b[0m┃\u001b[1m \u001b[0m\u001b[1m      Param #\u001b[0m\u001b[1m \u001b[0m┃\n",
              "┡━━━━━━━━━━━━━━━━━━━━━━━━━━━━━━━━━╇━━━━━━━━━━━━━━━━━━━━━━━━╇━━━━━━━━━━━━━━━┩\n",
              "│ dense_2 (\u001b[38;5;33mDense\u001b[0m)                 │ (\u001b[38;5;45mNone\u001b[0m, \u001b[38;5;34m8\u001b[0m)              │            \u001b[38;5;34m40\u001b[0m │\n",
              "├─────────────────────────────────┼────────────────────────┼───────────────┤\n",
              "│ dense_3 (\u001b[38;5;33mDense\u001b[0m)                 │ (\u001b[38;5;45mNone\u001b[0m, \u001b[38;5;34m1\u001b[0m)              │             \u001b[38;5;34m9\u001b[0m │\n",
              "└─────────────────────────────────┴────────────────────────┴───────────────┘\n"
            ],
            "text/html": [
              "<pre style=\"white-space:pre;overflow-x:auto;line-height:normal;font-family:Menlo,'DejaVu Sans Mono',consolas,'Courier New',monospace\">┏━━━━━━━━━━━━━━━━━━━━━━━━━━━━━━━━━┳━━━━━━━━━━━━━━━━━━━━━━━━┳━━━━━━━━━━━━━━━┓\n",
              "┃<span style=\"font-weight: bold\"> Layer (type)                    </span>┃<span style=\"font-weight: bold\"> Output Shape           </span>┃<span style=\"font-weight: bold\">       Param # </span>┃\n",
              "┡━━━━━━━━━━━━━━━━━━━━━━━━━━━━━━━━━╇━━━━━━━━━━━━━━━━━━━━━━━━╇━━━━━━━━━━━━━━━┩\n",
              "│ dense_2 (<span style=\"color: #0087ff; text-decoration-color: #0087ff\">Dense</span>)                 │ (<span style=\"color: #00d7ff; text-decoration-color: #00d7ff\">None</span>, <span style=\"color: #00af00; text-decoration-color: #00af00\">8</span>)              │            <span style=\"color: #00af00; text-decoration-color: #00af00\">40</span> │\n",
              "├─────────────────────────────────┼────────────────────────┼───────────────┤\n",
              "│ dense_3 (<span style=\"color: #0087ff; text-decoration-color: #0087ff\">Dense</span>)                 │ (<span style=\"color: #00d7ff; text-decoration-color: #00d7ff\">None</span>, <span style=\"color: #00af00; text-decoration-color: #00af00\">1</span>)              │             <span style=\"color: #00af00; text-decoration-color: #00af00\">9</span> │\n",
              "└─────────────────────────────────┴────────────────────────┴───────────────┘\n",
              "</pre>\n"
            ]
          },
          "metadata": {}
        },
        {
          "output_type": "display_data",
          "data": {
            "text/plain": [
              "\u001b[1m Total params: \u001b[0m\u001b[38;5;34m49\u001b[0m (196.00 B)\n"
            ],
            "text/html": [
              "<pre style=\"white-space:pre;overflow-x:auto;line-height:normal;font-family:Menlo,'DejaVu Sans Mono',consolas,'Courier New',monospace\"><span style=\"font-weight: bold\"> Total params: </span><span style=\"color: #00af00; text-decoration-color: #00af00\">49</span> (196.00 B)\n",
              "</pre>\n"
            ]
          },
          "metadata": {}
        },
        {
          "output_type": "display_data",
          "data": {
            "text/plain": [
              "\u001b[1m Trainable params: \u001b[0m\u001b[38;5;34m49\u001b[0m (196.00 B)\n"
            ],
            "text/html": [
              "<pre style=\"white-space:pre;overflow-x:auto;line-height:normal;font-family:Menlo,'DejaVu Sans Mono',consolas,'Courier New',monospace\"><span style=\"font-weight: bold\"> Trainable params: </span><span style=\"color: #00af00; text-decoration-color: #00af00\">49</span> (196.00 B)\n",
              "</pre>\n"
            ]
          },
          "metadata": {}
        },
        {
          "output_type": "display_data",
          "data": {
            "text/plain": [
              "\u001b[1m Non-trainable params: \u001b[0m\u001b[38;5;34m0\u001b[0m (0.00 B)\n"
            ],
            "text/html": [
              "<pre style=\"white-space:pre;overflow-x:auto;line-height:normal;font-family:Menlo,'DejaVu Sans Mono',consolas,'Courier New',monospace\"><span style=\"font-weight: bold\"> Non-trainable params: </span><span style=\"color: #00af00; text-decoration-color: #00af00\">0</span> (0.00 B)\n",
              "</pre>\n"
            ]
          },
          "metadata": {}
        }
      ]
    },
    {
      "cell_type": "markdown",
      "source": [
        "Ques-4  How can you visualize the training progress using TensorFlow and Matplotlib ?"
      ],
      "metadata": {
        "id": "KJPeFnEad9fm"
      }
    },
    {
      "cell_type": "code",
      "source": [
        "import tensorflow as tf\n",
        "import matplotlib.pyplot as plt\n",
        "from sklearn.datasets import load_iris\n",
        "from sklearn.model_selection import train_test_split\n",
        "from sklearn.preprocessing import StandardScaler\n",
        "\n",
        "# Load and prepare the Iris dataset (binary classification: class 0 vs 1)\n",
        "data = load_iris()\n",
        "X = data.data\n",
        "y = data.target\n",
        "\n",
        "# Use only classes 0 and 1 to make it binary\n",
        "X = X[y != 2]\n",
        "y = y[y != 2]\n",
        "\n",
        "# Scale features\n",
        "scaler = StandardScaler()\n",
        "X = scaler.fit_transform(X)\n",
        "\n",
        "# Split into training and validation\n",
        "X_train, X_val, y_train, y_val = train_test_split(X, y, test_size=0.2, random_state=42)\n",
        "\n",
        "# Build a simple model\n",
        "model = tf.keras.Sequential([\n",
        "    tf.keras.layers.Dense(8, activation='relu', input_shape=(4,)),\n",
        "    tf.keras.layers.Dense(1, activation='sigmoid')\n",
        "])\n",
        "\n",
        "# Compile the model\n",
        "model.compile(optimizer='adam',\n",
        "              loss='binary_crossentropy',\n",
        "              metrics=['accuracy'])\n",
        "\n",
        "# Train the model\n",
        "history = model.fit(X_train, y_train,\n",
        "                    epochs=15,\n",
        "                    validation_data=(X_val, y_val),\n",
        "                    verbose=0)\n",
        "\n",
        "# Plot training & validation loss\n",
        "plt.plot(history.history['loss'], label='Training Loss')\n",
        "plt.plot(history.history['val_loss'], label='Validation Loss')\n",
        "plt.title('Loss Over Epochs')\n",
        "plt.xlabel('Epoch')\n",
        "plt.ylabel('Loss')\n",
        "plt.legend()\n",
        "plt.grid(True)\n",
        "plt.show()\n"
      ],
      "metadata": {
        "colab": {
          "base_uri": "https://localhost:8080/",
          "height": 527
        },
        "id": "YMnQvRy1dMwk",
        "outputId": "3d9dffc0-ebf9-40ee-8968-ab95bda8aa3a"
      },
      "execution_count": null,
      "outputs": [
        {
          "output_type": "stream",
          "name": "stderr",
          "text": [
            "/usr/local/lib/python3.11/dist-packages/keras/src/layers/core/dense.py:87: UserWarning: Do not pass an `input_shape`/`input_dim` argument to a layer. When using Sequential models, prefer using an `Input(shape)` object as the first layer in the model instead.\n",
            "  super().__init__(activity_regularizer=activity_regularizer, **kwargs)\n"
          ]
        },
        {
          "output_type": "display_data",
          "data": {
            "text/plain": [
              "<Figure size 640x480 with 1 Axes>"
            ],
            "image/png": "[encoded data removed]"
          },
          "metadata": {}
        }
      ]
    },
    {
      "cell_type": "markdown",
      "source": [
        "Ques-5 How do you install PyTorch and verify the PyTorch installation ?"
      ],
      "metadata": {
        "id": "wkPs_FJiehXr"
      }
    },
    {
      "cell_type": "code",
      "source": [
        "# Install PyTorch (usually already installed in Colab)\n",
        "!pip install torch torchvision torchaudio\n",
        "\n",
        "import torch\n",
        "\n",
        "# Check PyTorch version\n",
        "print(\"✅ PyTorch version:\", torch.__version__)\n",
        "\n",
        "# Check if GPU is available\n",
        "print(\"✅ CUDA available:\", torch.cuda.is_available())\n",
        "\n",
        "# If CUDA is available, print the device name\n",
        "if torch.cuda.is_available():\n",
        "    print(\"✅ Using GPU:\", torch.cuda.get_device_name(0))\n",
        "else:\n",
        "    print(\"⚠️ Using CPU only\")\n"
      ],
      "metadata": {
        "colab": {
          "base_uri": "https://localhost:8080/",
          "height": 1000
        },
        "id": "P80i8xOpecjj",
        "outputId": "59610f7f-3746-43a2-a7d1-2571d463d480"
      },
      "execution_count": null,
      "outputs": [
        {
          "output_type": "stream",
          "name": "stdout",
          "text": [
            "Requirement already satisfied: torch in /usr/local/lib/python3.11/dist-packages (2.6.0+cu124)\n",
            "Requirement already satisfied: torchvision in /usr/local/lib/python3.11/dist-packages (0.21.0+cu124)\n",
            "Requirement already satisfied: torchaudio in /usr/local/lib/python3.11/dist-packages (2.6.0+cu124)\n",
            "Requirement already satisfied: filelock in /usr/local/lib/python3.11/dist-packages (from torch) (3.18.0)\n",
            "Requirement already satisfied: typing-extensions>=4.10.0 in /usr/local/lib/python3.11/dist-packages (from torch) (4.13.2)\n",
            "Requirement already satisfied: networkx in /usr/local/lib/python3.11/dist-packages (from torch) (3.4.2)\n",
            "Requirement already satisfied: jinja2 in /usr/local/lib/python3.11/dist-packages (from torch) (3.1.6)\n",
            "Requirement already satisfied: fsspec in /usr/local/lib/python3.11/dist-packages (from torch) (2025.3.2)\n",
            "Collecting nvidia-cuda-nvrtc-cu12==12.4.127 (from torch)\n",
            "  Downloading nvidia_cuda_nvrtc_cu12-12.4.127-py3-none-manylinux2014_x86_64.whl.metadata (1.5 kB)\n",
            "Collecting nvidia-cuda-runtime-cu12==12.4.127 (from torch)\n",
            "  Downloading nvidia_cuda_runtime_cu12-12.4.127-py3-none-manylinux2014_x86_64.whl.metadata (1.5 kB)\n",
            "Collecting nvidia-cuda-cupti-cu12==12.4.127 (from torch)\n",
            "  Downloading nvidia_cuda_cupti_cu12-12.4.127-py3-none-manylinux2014_x86_64.whl.metadata (1.6 kB)\n",
            "Collecting nvidia-cudnn-cu12==9.1.0.70 (from torch)\n",
            "  Downloading nvidia_cudnn_cu12-9.1.0.70-py3-none-manylinux2014_x86_64.whl.metadata (1.6 kB)\n",
            "Collecting nvidia-cublas-cu12==12.4.5.8 (from torch)\n",
            "  Downloading nvidia_cublas_cu12-12.4.5.8-py3-none-manylinux2014_x86_64.whl.metadata (1.5 kB)\n",
            "Collecting nvidia-cufft-cu12==11.2.1.3 (from torch)\n",
            "  Downloading nvidia_cufft_cu12-11.2.1.3-py3-none-manylinux2014_x86_64.whl.metadata (1.5 kB)\n",
            "Collecting nvidia-curand-cu12==10.3.5.147 (from torch)\n",
            "  Downloading nvidia_curand_cu12-10.3.5.147-py3-none-manylinux2014_x86_64.whl.metadata (1.5 kB)\n",
            "Collecting nvidia-cusolver-cu12==11.6.1.9 (from torch)\n",
            "  Downloading nvidia_cusolver_cu12-11.6.1.9-py3-none-manylinux2014_x86_64.whl.metadata (1.6 kB)\n",
            "Collecting nvidia-cusparse-cu12==12.3.1.170 (from torch)\n",
            "  Downloading nvidia_cusparse_cu12-12.3.1.170-py3-none-manylinux2014_x86_64.whl.metadata (1.6 kB)\n",
            "Requirement already satisfied: nvidia-cusparselt-cu12==0.6.2 in /usr/local/lib/python3.11/dist-packages (from torch) (0.6.2)\n",
            "Requirement already satisfied: nvidia-nccl-cu12==2.21.5 in /usr/local/lib/python3.11/dist-packages (from torch) (2.21.5)\n",
            "Requirement already satisfied: nvidia-nvtx-cu12==12.4.127 in /usr/local/lib/python3.11/dist-packages (from torch) (12.4.127)\n",
            "Collecting nvidia-nvjitlink-cu12==12.4.127 (from torch)\n",
            "  Downloading nvidia_nvjitlink_cu12-12.4.127-py3-none-manylinux2014_x86_64.whl.metadata (1.5 kB)\n",
            "Requirement already satisfied: triton==3.2.0 in /usr/local/lib/python3.11/dist-packages (from torch) (3.2.0)\n",
            "Requirement already satisfied: sympy==1.13.1 in /usr/local/lib/python3.11/dist-packages (from torch) (1.13.1)\n",
            "Requirement already satisfied: mpmath<1.4,>=1.1.0 in /usr/local/lib/python3.11/dist-packages (from sympy==1.13.1->torch) (1.3.0)\n",
            "Requirement already satisfied: numpy in /usr/local/lib/python3.11/dist-packages (from torchvision) (2.0.2)\n",
            "Requirement already satisfied: pillow!=8.3.*,>=5.3.0 in /usr/local/lib/python3.11/dist-packages (from torchvision) (11.1.0)\n",
            "Requirement already satisfied: MarkupSafe>=2.0 in /usr/local/lib/python3.11/dist-packages (from jinja2->torch) (3.0.2)\n",
            "Downloading nvidia_cublas_cu12-12.4.5.8-py3-none-manylinux2014_x86_64.whl (363.4 MB)\n",
            "\u001b[2K   \u001b[90m━━━━━━━━━━━━━━━━━━━━━━━━━━━━━━━━━━━━━━━━\u001b[0m \u001b[32m363.4/363.4 MB\u001b[0m \u001b[31m4.3 MB/s\u001b[0m eta \u001b[36m0:00:00\u001b[0m\n",
            "\u001b[?25hDownloading nvidia_cuda_cupti_cu12-12.4.127-py3-none-manylinux2014_x86_64.whl (13.8 MB)\n",
            "\u001b[2K   \u001b[90m━━━━━━━━━━━━━━━━━━━━━━━━━━━━━━━━━━━━━━━━\u001b[0m \u001b[32m13.8/13.8 MB\u001b[0m \u001b[31m63.5 MB/s\u001b[0m eta \u001b[36m0:00:00\u001b[0m\n",
            "\u001b[?25hDownloading nvidia_cuda_nvrtc_cu12-12.4.127-py3-none-manylinux2014_x86_64.whl (24.6 MB)\n",
            "\u001b[2K   \u001b[90m━━━━━━━━━━━━━━━━━━━━━━━━━━━━━━━━━━━━━━━━\u001b[0m \u001b[32m24.6/24.6 MB\u001b[0m \u001b[31m35.2 MB/s\u001b[0m eta \u001b[36m0:00:00\u001b[0m\n",
            "\u001b[?25hDownloading nvidia_cuda_runtime_cu12-12.4.127-py3-none-manylinux2014_x86_64.whl (883 kB)\n",
            "\u001b[2K   \u001b[90m━━━━━━━━━━━━━━━━━━━━━━━━━━━━━━━━━━━━━━━━\u001b[0m \u001b[32m883.7/883.7 kB\u001b[0m \u001b[31m29.6 MB/s\u001b[0m eta \u001b[36m0:00:00\u001b[0m\n",
            "\u001b[?25hDownloading nvidia_cudnn_cu12-9.1.0.70-py3-none-manylinux2014_x86_64.whl (664.8 MB)\n",
            "\u001b[2K   \u001b[90m━━━━━━━━━━━━━━━━━━━━━━━━━━━━━━━━━━━━━━━\u001b[0m \u001b[32m664.8/664.8 MB\u001b[0m \u001b[31m855.0 kB/s\u001b[0m eta \u001b[36m0:00:00\u001b[0m\n",
            "\u001b[?25hDownloading nvidia_cufft_cu12-11.2.1.3-py3-none-manylinux2014_x86_64.whl (211.5 MB)\n",
            "\u001b[2K   \u001b[90m━━━━━━━━━━━━━━━━━━━━━━━━━━━━━━━━━━━━━━━━\u001b[0m \u001b[32m211.5/211.5 MB\u001b[0m \u001b[31m5.9 MB/s\u001b[0m eta \u001b[36m0:00:00\u001b[0m\n",
            "\u001b[?25hDownloading nvidia_curand_cu12-10.3.5.147-py3-none-manylinux2014_x86_64.whl (56.3 MB)\n",
            "\u001b[2K   \u001b[90m━━━━━━━━━━━━━━━━━━━━━━━━━━━━━━━━━━━━━━━━\u001b[0m \u001b[32m56.3/56.3 MB\u001b[0m \u001b[31m12.3 MB/s\u001b[0m eta \u001b[36m0:00:00\u001b[0m\n",
            "\u001b[?25hDownloading nvidia_cusolver_cu12-11.6.1.9-py3-none-manylinux2014_x86_64.whl (127.9 MB)\n",
            "\u001b[2K   \u001b[90m━━━━━━━━━━━━━━━━━━━━━━━━━━━━━━━━━━━━━━━━\u001b[0m \u001b[32m127.9/127.9 MB\u001b[0m \u001b[31m7.5 MB/s\u001b[0m eta \u001b[36m0:00:00\u001b[0m\n",
            "\u001b[?25hDownloading nvidia_cusparse_cu12-12.3.1.170-py3-none-manylinux2014_x86_64.whl (207.5 MB)\n",
            "\u001b[2K   \u001b[90m━━━━━━━━━━━━━━━━━━━━━━━━━━━━━━━━━━━━━━━━\u001b[0m \u001b[32m207.5/207.5 MB\u001b[0m \u001b[31m5.2 MB/s\u001b[0m eta \u001b[36m0:00:00\u001b[0m\n",
            "\u001b[?25hDownloading nvidia_nvjitlink_cu12-12.4.127-py3-none-manylinux2014_x86_64.whl (21.1 MB)\n",
            "\u001b[2K   \u001b[90m━━━━━━━━━━━━━━━━━━━━━━━━━━━━━━━━━━━━━━━━\u001b[0m \u001b[32m21.1/21.1 MB\u001b[0m \u001b[31m84.8 MB/s\u001b[0m eta \u001b[36m0:00:00\u001b[0m\n",
            "\u001b[?25hInstalling collected packages: nvidia-nvjitlink-cu12, nvidia-curand-cu12, nvidia-cufft-cu12, nvidia-cuda-runtime-cu12, nvidia-cuda-nvrtc-cu12, nvidia-cuda-cupti-cu12, nvidia-cublas-cu12, nvidia-cusparse-cu12, nvidia-cudnn-cu12, nvidia-cusolver-cu12\n",
            "  Attempting uninstall: nvidia-nvjitlink-cu12\n",
            "    Found existing installation: nvidia-nvjitlink-cu12 12.5.82\n",
            "    Uninstalling nvidia-nvjitlink-cu12-12.5.82:\n",
            "      Successfully uninstalled nvidia-nvjitlink-cu12-12.5.82\n",
            "  Attempting uninstall: nvidia-curand-cu12\n",
            "    Found existing installation: nvidia-curand-cu12 10.3.6.82\n",
            "    Uninstalling nvidia-curand-cu12-10.3.6.82:\n",
            "      Successfully uninstalled nvidia-curand-cu12-10.3.6.82\n",
            "  Attempting uninstall: nvidia-cufft-cu12\n",
            "    Found existing installation: nvidia-cufft-cu12 11.2.3.61\n",
            "    Uninstalling nvidia-cufft-cu12-11.2.3.61:\n",
            "      Successfully uninstalled nvidia-cufft-cu12-11.2.3.61\n",
            "  Attempting uninstall: nvidia-cuda-runtime-cu12\n",
            "    Found existing installation: nvidia-cuda-runtime-cu12 12.5.82\n",
            "    Uninstalling nvidia-cuda-runtime-cu12-12.5.82:\n",
            "      Successfully uninstalled nvidia-cuda-runtime-cu12-12.5.82\n",
            "  Attempting uninstall: nvidia-cuda-nvrtc-cu12\n",
            "    Found existing installation: nvidia-cuda-nvrtc-cu12 12.5.82\n",
            "    Uninstalling nvidia-cuda-nvrtc-cu12-12.5.82:\n",
            "      Successfully uninstalled nvidia-cuda-nvrtc-cu12-12.5.82\n",
            "  Attempting uninstall: nvidia-cuda-cupti-cu12\n",
            "    Found existing installation: nvidia-cuda-cupti-cu12 12.5.82\n",
            "    Uninstalling nvidia-cuda-cupti-cu12-12.5.82:\n",
            "      Successfully uninstalled nvidia-cuda-cupti-cu12-12.5.82\n",
            "  Attempting uninstall: nvidia-cublas-cu12\n",
            "    Found existing installation: nvidia-cublas-cu12 12.5.3.2\n",
            "    Uninstalling nvidia-cublas-cu12-12.5.3.2:\n",
            "      Successfully uninstalled nvidia-cublas-cu12-12.5.3.2\n",
            "  Attempting uninstall: nvidia-cusparse-cu12\n",
            "    Found existing installation: nvidia-cusparse-cu12 12.5.1.3\n",
            "    Uninstalling nvidia-cusparse-cu12-12.5.1.3:\n",
            "      Successfully uninstalled nvidia-cusparse-cu12-12.5.1.3\n",
            "  Attempting uninstall: nvidia-cudnn-cu12\n",
            "    Found existing installation: nvidia-cudnn-cu12 9.3.0.75\n",
            "    Uninstalling nvidia-cudnn-cu12-9.3.0.75:\n",
            "      Successfully uninstalled nvidia-cudnn-cu12-9.3.0.75\n",
            "  Attempting uninstall: nvidia-cusolver-cu12\n",
            "    Found existing installation: nvidia-cusolver-cu12 11.6.3.83\n",
            "    Uninstalling nvidia-cusolver-cu12-11.6.3.83:\n",
            "      Successfully uninstalled nvidia-cusolver-cu12-11.6.3.83\n",
            "Successfully installed nvidia-cublas-cu12-12.4.5.8 nvidia-cuda-cupti-cu12-12.4.127 nvidia-cuda-nvrtc-cu12-12.4.127 nvidia-cuda-runtime-cu12-12.4.127 nvidia-cudnn-cu12-9.1.0.70 nvidia-cufft-cu12-11.2.1.3 nvidia-curand-cu12-10.3.5.147 nvidia-cusolver-cu12-11.6.1.9 nvidia-cusparse-cu12-12.3.1.170 nvidia-nvjitlink-cu12-12.4.127\n"
          ]
        },
        {
          "output_type": "display_data",
          "data": {
            "application/vnd.colab-display-data+json": {
              "pip_warning": {
                "packages": [
                  "nvidia"
                ]
              },
              "id": "8a169428ed264bd8bb8f1756eba152a0"
            }
          },
          "metadata": {}
        },
        {
          "output_type": "stream",
          "name": "stdout",
          "text": [
            "✅ PyTorch version: 2.6.0+cu124\n",
            "✅ CUDA available: False\n",
            "⚠️ Using CPU only\n"
          ]
        }
      ]
    },
    {
      "cell_type": "markdown",
      "source": [
        " Ques-6 How do you create a simple neural network in PyTorch ?"
      ],
      "metadata": {
        "id": "vmNmZPVyfAky"
      }
    },
    {
      "cell_type": "code",
      "source": [
        "import torch\n",
        "import torch.nn as nn\n",
        "import torch.optim as optim\n",
        "import numpy as np\n",
        "\n",
        "# 1. Create a simple dataset (for example: binary classification)\n",
        "X = np.array([[0, 0], [0, 1], [1, 0], [1, 1]])  # Input features (XOR problem)\n",
        "y = np.array([[0], [1], [1], [0]])  # Target labels\n",
        "\n",
        "# Convert data to PyTorch tensors\n",
        "X_train = torch.tensor(X, dtype=torch.float32)\n",
        "y_train = torch.tensor(y, dtype=torch.float32)\n",
        "\n",
        "# 2. Define the neural network model\n",
        "class SimpleNN(nn.Module):\n",
        "    def __init__(self):\n",
        "        super(SimpleNN, self).__init__()\n",
        "        self.fc1 = nn.Linear(2, 4)  # Input layer (2 features) -> Hidden layer (4 neurons)\n",
        "        self.fc2 = nn.Linear(4, 1)  # Hidden layer (4 neurons) -> Output layer (1 output)\n",
        "\n",
        "    def forward(self, x):\n",
        "        x = torch.relu(self.fc1(x))  # ReLU activation for hidden layer\n",
        "        x = self.fc2(x)  # No activation for output layer (linear)\n",
        "        return x\n",
        "\n",
        "# 3. Instantiate the model\n",
        "model = SimpleNN()\n",
        "\n",
        "# 4. Define the loss function and optimizer\n",
        "criterion = nn.MSELoss()  # Mean Squared Error (for binary classification)\n",
        "optimizer = optim.SGD(model.parameters(), lr=0.1)  # Stochastic Gradient Descent optimizer\n",
        "\n",
        "# 5. Train the model\n",
        "epochs = 1000\n",
        "for epoch in range(epochs):\n",
        "    # Forward pass\n",
        "    outputs = model(X_train)\n",
        "    loss = criterion(outputs, y_train)  # Compute the loss\n",
        "\n",
        "    # Backward pass and optimization\n",
        "    optimizer.zero_grad()  # Zero the gradients\n",
        "    loss.backward()  # Backpropagate the loss\n",
        "    optimizer.step()  # Update the weights\n",
        "\n",
        "    # Print loss every 100 epochs\n",
        "    if (epoch + 1) % 100 == 0:\n",
        "        print(f\"Epoch [{epoch+1}/{epochs}], Loss: {loss.item():.4f}\")\n",
        "\n",
        "# 6. Test the trained model\n",
        "with torch.no_grad():  # No need to compute gradients for inference\n",
        "    predicted = model(X_train)\n",
        "    print(\"\\nPredictions after training:\")\n",
        "    print(predicted)\n"
      ],
      "metadata": {
        "colab": {
          "base_uri": "https://localhost:8080/"
        },
        "id": "XpFUKC9Xe55L",
        "outputId": "705b7d62-0642-4803-af0d-4b6089a8f99d"
      },
      "execution_count": null,
      "outputs": [
        {
          "output_type": "stream",
          "name": "stdout",
          "text": [
            "Epoch [100/1000], Loss: 0.2472\n",
            "Epoch [200/1000], Loss: 0.1480\n",
            "Epoch [300/1000], Loss: 0.0034\n",
            "Epoch [400/1000], Loss: 0.0000\n",
            "Epoch [500/1000], Loss: 0.0000\n",
            "Epoch [600/1000], Loss: 0.0000\n",
            "Epoch [700/1000], Loss: 0.0000\n",
            "Epoch [800/1000], Loss: 0.0000\n",
            "Epoch [900/1000], Loss: 0.0000\n",
            "Epoch [1000/1000], Loss: 0.0000\n",
            "\n",
            "Predictions after training:\n",
            "tensor([[5.3226e-07],\n",
            "        [1.0000e+00],\n",
            "        [1.0000e+00],\n",
            "        [4.7445e-07]])\n"
          ]
        }
      ]
    },
    {
      "cell_type": "markdown",
      "source": [
        "Ques-7 How do you define a loss function and optimizer in PyTorch ?"
      ],
      "metadata": {
        "id": "bWeiBm5Qfkwc"
      }
    },
    {
      "cell_type": "code",
      "source": [
        "import torch\n",
        "import torch.nn as nn\n",
        "\n",
        "# Example: Mean Squared Error loss (for regression or binary classification)\n",
        "loss_function = nn.MSELoss()\n",
        "\n",
        "# Example: Binary Cross-Entropy loss (for binary classification)\n",
        "# loss_function = nn.BCELoss()\n",
        "\n",
        "# Example: Cross-Entropy loss (for multi-class classification)\n",
        "# loss_function = nn.CrossEntropyLoss()\n",
        "\n",
        "# Example inputs and outputs\n",
        "y_true = torch.tensor([[0.0], [1.0], [0.0], [1.0]])  # True labels\n",
        "y_pred = torch.tensor([[0.2], [0.8], [0.3], [0.9]])  # Model predictions\n",
        "\n",
        "# Compute the loss\n",
        "loss = loss_function(y_pred, y_true)\n",
        "print(\"Loss:\", loss.item())\n"
      ],
      "metadata": {
        "colab": {
          "base_uri": "https://localhost:8080/"
        },
        "id": "YLnpPVNGffpF",
        "outputId": "564e6398-4cb2-4765-bc9c-6f4e7cf406a0"
      },
      "execution_count": null,
      "outputs": [
        {
          "output_type": "stream",
          "name": "stdout",
          "text": [
            "Loss: 0.04500000178813934\n"
          ]
        }
      ]
    },
    {
      "cell_type": "markdown",
      "source": [
        "Ques-8 How do you implement a custom loss function in PyTorch ?"
      ],
      "metadata": {
        "id": "O-MHef5Sf3wX"
      }
    },
    {
      "cell_type": "code",
      "source": [
        "import torch\n",
        "import torch.nn as nn\n",
        "\n",
        "# Custom Loss Function: Mean Squared Logarithmic Error (MSLE)\n",
        "class MSLELoss(nn.Module):\n",
        "    def __init__(self):\n",
        "        super(MSLELoss, self).__init__()\n",
        "\n",
        "    def forward(self, y_pred, y_true):\n",
        "        # Compute log(y_true + 1) and log(y_pred + 1)\n",
        "        log_y_true = torch.log1p(y_true)  # log(1 + y_true)\n",
        "        log_y_pred = torch.log1p(y_pred)  # log(1 + y_pred)\n",
        "\n",
        "        # Compute the Mean Squared Logarithmic Error\n",
        "        loss = torch.mean((log_y_pred - log_y_true) ** 2)\n",
        "        return loss\n",
        "\n",
        "# Example usage:\n",
        "y_true = torch.tensor([3.0, 5.0, 2.5, 7.1], dtype=torch.float32)\n",
        "y_pred = torch.tensor([2.8, 5.2, 2.1, 7.0], dtype=torch.float32)\n",
        "\n",
        "# Instantiate and use the custom loss function\n",
        "loss_fn = MSLELoss()\n",
        "loss = loss_fn(y_pred, y_true)\n",
        "print(\"MSLE Loss:\", loss.item())\n"
      ],
      "metadata": {
        "id": "Ssdd3iu-f3Ot"
      },
      "execution_count": null,
      "outputs": []
    },
    {
      "cell_type": "markdown",
      "source": [
        "Ques-9 How do you save and load a TensorFlow model ?"
      ],
      "metadata": {
        "id": "y7ZQfrJ7iDNi"
      }
    },
    {
      "cell_type": "code",
      "source": [
        "import tensorflow as tf\n",
        "\n",
        "# Example: Create a simple model\n",
        "model = tf.keras.Sequential([\n",
        "    tf.keras.layers.Dense(32, activation='relu', input_shape=(64,)),\n",
        "    tf.keras.layers.Dense(10, activation='softmax')\n",
        "])\n",
        "\n",
        "# Compile the model\n",
        "model.compile(optimizer='adam', loss='sparse_categorical_crossentropy', metrics=['accuracy'])\n",
        "\n",
        "# Train the model (dummy example)\n",
        "# model.fit(x_train, y_train)  # Assume x_train and y_train are your data\n",
        "\n",
        "# Save the model in the 'SavedModel' format\n",
        "model.save('path_to_my_model.h5')\n"
      ],
      "metadata": {
        "colab": {
          "base_uri": "https://localhost:8080/"
        },
        "id": "DB6LV-S8iGm_",
        "outputId": "69c564c6-344e-47ae-9c27-ba496f2be5de"
      },
      "execution_count": null,
      "outputs": [
        {
          "output_type": "stream",
          "name": "stderr",
          "text": [
            "WARNING:absl:You are saving your model as an HDF5 file via `model.save()` or `keras.saving.save_model(model)`. This file format is considered legacy. We recommend using instead the native Keras format, e.g. `model.save('my_model.keras')` or `keras.saving.save_model(model, 'my_model.keras')`. \n"
          ]
        }
      ]
    },
    {
      "cell_type": "code",
      "source": [],
      "metadata": {
        "id": "kP75WG1SiVzK"
      },
      "execution_count": null,
      "outputs": []
    }
  ]
}