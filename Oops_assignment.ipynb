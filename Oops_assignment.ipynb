{
  "nbformat": 4,
  "nbformat_minor": 0,
  "metadata": {
    "colab": {
      "provenance": [],
      "authorship_tag": "ABX9TyPNCJ6HI6Dg2V8ahAXHnXqr",
      "include_colab_link": true
    },
    "kernelspec": {
      "name": "python3",
      "display_name": "Python 3"
    },
    "language_info": {
      "name": "python"
    }
  },
  "cells": [
    {
      "cell_type": "markdown",
      "metadata": {
        "id": "view-in-github",
        "colab_type": "text"
      },
      "source": [
        "<a href=\"https://colab.research.google.com/github/prachimethi/assignment/blob/main/Oops_assignment.ipynb\" target=\"_parent\"><img src=\"https://colab.research.google.com/assets/colab-badge.svg\" alt=\"Open In Colab\"/></a>"
      ]
    },
    {
      "cell_type": "markdown",
      "source": [
        "Ques-1 What are five key concepts of object oriented programming(oops)?"
      ],
      "metadata": {
        "id": "vTFRCR3O8a6K"
      }
    },
    {
      "cell_type": "markdown",
      "source": [
        "Five key concept of oop:-\n",
        "\n",
        "\n",
        "1. Abstraction\n",
        "2. Inheritance\n",
        "3. polymorphism\n",
        "4. Encapsulation\n",
        "5. Composition\n",
        "\n"
      ],
      "metadata": {
        "id": "qD2oQLia8tNu"
      }
    },
    {
      "cell_type": "code",
      "source": [
        "#Abstraction: Hide the implementation of the code\n",
        "from abc import ABC, abstractmethod#\n",
        "\n",
        "# Step 1: Create an abstract base class\n",
        "class Vehicle(ABC):\n",
        "\n",
        "    @abstractmethod\n",
        "    def start_engine(self):\n",
        "        pass\n",
        "\n",
        "# Step 2: Create concrete classes that implement the abstract method\n",
        "class Car(Vehicle):\n",
        "    def start_engine(self):\n",
        "        return \"Car engine started!\"\n",
        "\n",
        "class Motorcycle(Vehicle):\n",
        "    def start_engine(self):\n",
        "        return \"Motorcycle engine started!\"\n",
        "\n",
        "# Step 3: Use the classes\n",
        "vehicles = [Car(), Motorcycle()]\n",
        "\n",
        "for vehicle in vehicles:\n",
        "    print(vehicle.start_engine())\n"
      ],
      "metadata": {
        "id": "MgEQKBHy8n-_"
      },
      "execution_count": null,
      "outputs": []
    },
    {
      "cell_type": "code",
      "source": [
        "#Encapsulation: means hiding or bundling some and method of a class that operate on that data together\n",
        "#public\n",
        "class Teacher:\n",
        "  def __init__(self, name):\n",
        "    self.name = name\n",
        "\n",
        "  def Student(self):\n",
        "    print(self.name)"
      ],
      "metadata": {
        "id": "2b3bnQ5I-XZ0"
      },
      "execution_count": null,
      "outputs": []
    },
    {
      "cell_type": "code",
      "source": [
        "std1 = Teacher(\"prachi\")"
      ],
      "metadata": {
        "id": "M_3HZLayXVcp"
      },
      "execution_count": null,
      "outputs": []
    },
    {
      "cell_type": "code",
      "source": [
        "std1.Student()"
      ],
      "metadata": {
        "colab": {
          "base_uri": "https://localhost:8080/"
        },
        "id": "V6MTt1T4XgJZ",
        "outputId": "fedb84dd-af1a-426d-87e3-7094dc3f7883"
      },
      "execution_count": null,
      "outputs": [
        {
          "output_type": "stream",
          "name": "stdout",
          "text": [
            "prachi\n"
          ]
        }
      ]
    },
    {
      "cell_type": "code",
      "source": [
        "#private\n",
        "class College:\n",
        "  def __init__(self, name, degree):\n",
        "    self.name = name\n",
        "    self.__degree= degree\n",
        "\n",
        "  def get_private(self):\n",
        "    print(self.name, self.__degree)"
      ],
      "metadata": {
        "id": "c4P5opNCXmMA"
      },
      "execution_count": null,
      "outputs": []
    },
    {
      "cell_type": "code",
      "source": [
        "student = College(\"prachi\", \"phd\")"
      ],
      "metadata": {
        "id": "urcndq1-YQzf"
      },
      "execution_count": null,
      "outputs": []
    },
    {
      "cell_type": "code",
      "source": [
        "student.get_private()"
      ],
      "metadata": {
        "colab": {
          "base_uri": "https://localhost:8080/"
        },
        "id": "3T9PLe8BYXRH",
        "outputId": "90fc857a-8a8e-42ea-eae4-88893c0d2c86"
      },
      "execution_count": null,
      "outputs": [
        {
          "output_type": "stream",
          "name": "stdout",
          "text": [
            "prachi phd\n"
          ]
        }
      ]
    },
    {
      "cell_type": "code",
      "source": [
        "#protected\n",
        "class College:\n",
        "  def __init__(self, name, degree):\n",
        "    self.name = name\n",
        "    self._degree= degree\n",
        "\n",
        "  def get_protect(self):\n",
        "    print(self.name, self._degree)"
      ],
      "metadata": {
        "id": "rdxsDPrbYcWb"
      },
      "execution_count": null,
      "outputs": []
    },
    {
      "cell_type": "code",
      "source": [
        "stud = College(\"par\", \"bach\")"
      ],
      "metadata": {
        "id": "hZ0IpDhhYxDf"
      },
      "execution_count": null,
      "outputs": []
    },
    {
      "cell_type": "code",
      "source": [
        "stud.name"
      ],
      "metadata": {
        "colab": {
          "base_uri": "https://localhost:8080/",
          "height": 36
        },
        "id": "z0iLgXiwY2O2",
        "outputId": "4307b0ed-03d8-48ff-9e0d-6a7b19ef79ed"
      },
      "execution_count": null,
      "outputs": [
        {
          "output_type": "execute_result",
          "data": {
            "text/plain": [
              "'par'"
            ],
            "application/vnd.google.colaboratory.intrinsic+json": {
              "type": "string"
            }
          },
          "metadata": {},
          "execution_count": 12
        }
      ]
    },
    {
      "cell_type": "code",
      "source": [
        "stud.get_protect()"
      ],
      "metadata": {
        "colab": {
          "base_uri": "https://localhost:8080/"
        },
        "id": "4ntTmAirY5Jt",
        "outputId": "d6936dd3-d0a6-44bf-fcaa-e5f94d481222"
      },
      "execution_count": null,
      "outputs": [
        {
          "output_type": "stream",
          "name": "stdout",
          "text": [
            "par bach\n"
          ]
        }
      ]
    },
    {
      "cell_type": "markdown",
      "source": [
        "Inheritance: allow a subclass to inherit the methods from superclass in five ways single inheritance, multiple inheritance, multi-level, hybrid, hierarchial inheritance."
      ],
      "metadata": {
        "id": "qeYjO5zbrP-G"
      }
    },
    {
      "cell_type": "code",
      "source": [
        "#single inheritance: when a subclass inherit from one superclass\n",
        "class Parent:\n",
        "  def greeting(self):\n",
        "    print(\"hello parent\")\n",
        "\n",
        "class Child(Parent):\n",
        "   def greet(self):\n",
        "    print(\"hello child\")"
      ],
      "metadata": {
        "id": "OwANKEkEY7bf"
      },
      "execution_count": null,
      "outputs": []
    },
    {
      "cell_type": "code",
      "source": [
        "child1 = Child()"
      ],
      "metadata": {
        "id": "t0qUxC3fs-1q"
      },
      "execution_count": null,
      "outputs": []
    },
    {
      "cell_type": "code",
      "source": [
        "child1.greet()"
      ],
      "metadata": {
        "colab": {
          "base_uri": "https://localhost:8080/"
        },
        "id": "5ztKqMnntP77",
        "outputId": "7aa9f1eb-21a7-4b67-9268-dd702cfbe489"
      },
      "execution_count": null,
      "outputs": [
        {
          "output_type": "stream",
          "name": "stdout",
          "text": [
            "hello child\n"
          ]
        }
      ]
    },
    {
      "cell_type": "code",
      "source": [
        "child1.greeting()"
      ],
      "metadata": {
        "colab": {
          "base_uri": "https://localhost:8080/"
        },
        "id": "aoePe4G5tSUM",
        "outputId": "d79b9bb5-2730-4e75-9ba6-9b149c183dd4"
      },
      "execution_count": null,
      "outputs": [
        {
          "output_type": "stream",
          "name": "stdout",
          "text": [
            "hello parent\n"
          ]
        }
      ]
    },
    {
      "cell_type": "code",
      "source": [
        "#multi-level inheritance: when a subclass inherits from the superclass which inherits from another superclass.\n",
        "class Parent:\n",
        "  def greeting(self):\n",
        "    print(\"hello parent\")\n",
        "\n",
        "class Child(Parent):\n",
        "   def greet(self):\n",
        "    print(\"hello child\")\n",
        "\n",
        "class Child1(Child):\n",
        "  def greets(self):\n",
        "    print(\"hello baby\")"
      ],
      "metadata": {
        "id": "lOwhffuMtrHS"
      },
      "execution_count": null,
      "outputs": []
    },
    {
      "cell_type": "code",
      "source": [
        "child = Child1()"
      ],
      "metadata": {
        "id": "Ju22xnvfuSnD"
      },
      "execution_count": null,
      "outputs": []
    },
    {
      "cell_type": "code",
      "source": [
        "child.greeting()"
      ],
      "metadata": {
        "id": "UUVu2fbPuXMT",
        "outputId": "7ed9db73-a295-46a3-bb7e-0f6d09b7fd19",
        "colab": {
          "base_uri": "https://localhost:8080/"
        }
      },
      "execution_count": null,
      "outputs": [
        {
          "output_type": "stream",
          "name": "stdout",
          "text": [
            "hello parent\n"
          ]
        }
      ]
    },
    {
      "cell_type": "code",
      "source": [
        "#multiple inheritance: when a subclass inherits from more than one superclass.\n",
        "class parent1:\n",
        "  def method1(self):\n",
        "    print(\"inside from parent class1\")\n",
        "\n",
        "class parent2:\n",
        "  def method2(self):\n",
        "    print(\"inside from second class\")\n",
        "\n",
        "class child(parent1, parent2):\n",
        "  def child(self):\n",
        "    print(\"inside from child class\")"
      ],
      "metadata": {
        "id": "Xl7ue2KtuapE"
      },
      "execution_count": null,
      "outputs": []
    },
    {
      "cell_type": "code",
      "source": [
        "ch = child()"
      ],
      "metadata": {
        "id": "gNNjCgijoRCN"
      },
      "execution_count": null,
      "outputs": []
    },
    {
      "cell_type": "code",
      "source": [
        "ch.method1()"
      ],
      "metadata": {
        "colab": {
          "base_uri": "https://localhost:8080/"
        },
        "id": "Z1hyNxhDoVVw",
        "outputId": "29e2ad0d-ee57-489b-9a2d-ffd66f55465d"
      },
      "execution_count": null,
      "outputs": [
        {
          "output_type": "stream",
          "name": "stdout",
          "text": [
            "inside from parent class1\n"
          ]
        }
      ]
    },
    {
      "cell_type": "code",
      "source": [
        "ch.method2()"
      ],
      "metadata": {
        "colab": {
          "base_uri": "https://localhost:8080/"
        },
        "id": "-VMn4c-9obUt",
        "outputId": "9547c4ec-75ba-4918-fa80-a934770ee5aa"
      },
      "execution_count": null,
      "outputs": [
        {
          "output_type": "stream",
          "name": "stdout",
          "text": [
            "inside from second class\n"
          ]
        }
      ]
    },
    {
      "cell_type": "code",
      "source": [
        "#Hybrid inheritance:when a superclass have combination of two or more types of subclass inheritance:\n",
        "class Vehicle:\n",
        "  def vehicles(self):\n",
        "    print(\"inside from vehicle class\")\n",
        "\n",
        "class Car(Vehicle):\n",
        "  def car(self):\n",
        "    print(\"inside from car class\")\n",
        "\n",
        "class Truck(Vehicle):\n",
        "  def truck(self):\n",
        "    print(\"inside from truck class\")"
      ],
      "metadata": {
        "id": "TVg7iSaJodR1"
      },
      "execution_count": null,
      "outputs": []
    },
    {
      "cell_type": "code",
      "source": [
        "car = Car()"
      ],
      "metadata": {
        "id": "ZCNnJZHYqJNY"
      },
      "execution_count": null,
      "outputs": []
    },
    {
      "cell_type": "code",
      "source": [
        "car.vehicles()"
      ],
      "metadata": {
        "colab": {
          "base_uri": "https://localhost:8080/"
        },
        "id": "oBEWqrxQqM5G",
        "outputId": "495be241-1c9c-4850-8ce6-962711ccfd44"
      },
      "execution_count": null,
      "outputs": [
        {
          "output_type": "stream",
          "name": "stdout",
          "text": [
            "inside from vehicle class\n"
          ]
        }
      ]
    },
    {
      "cell_type": "code",
      "source": [
        "truck = Truck()\n",
        "truck.vehicles()"
      ],
      "metadata": {
        "colab": {
          "base_uri": "https://localhost:8080/"
        },
        "id": "62UXT6rpqPdh",
        "outputId": "831149a4-d86f-4ec1-ccd6-23aecce3bcff"
      },
      "execution_count": null,
      "outputs": [
        {
          "output_type": "stream",
          "name": "stdout",
          "text": [
            "inside from vehicle class\n"
          ]
        }
      ]
    },
    {
      "cell_type": "code",
      "source": [
        "#Hierarchial inheritance: multiple subclass inherit from one superclass:\n",
        "class Parent:\n",
        "  def parent(self):\n",
        "    print(\"inside from parent class\")\n",
        "\n",
        "class Child(Parent):\n",
        "  def child1(self):\n",
        "    print(\"inside from first child class\")\n",
        "\n",
        "class Child2(Parent):\n",
        "  def child2(self):\n",
        "    print(\"inside from second child class\")\n"
      ],
      "metadata": {
        "id": "YD9S2Tf3qUsu"
      },
      "execution_count": null,
      "outputs": []
    },
    {
      "cell_type": "code",
      "source": [
        "child = Child2()"
      ],
      "metadata": {
        "id": "pWLtoq6BrIa3"
      },
      "execution_count": null,
      "outputs": []
    },
    {
      "cell_type": "code",
      "source": [
        "child.parent()"
      ],
      "metadata": {
        "colab": {
          "base_uri": "https://localhost:8080/"
        },
        "id": "RgRA9xYYrkN-",
        "outputId": "2f23bc36-e04a-450f-f092-8ffb99d9b964"
      },
      "execution_count": null,
      "outputs": [
        {
          "output_type": "stream",
          "name": "stdout",
          "text": [
            "inside from parent class\n"
          ]
        }
      ]
    },
    {
      "cell_type": "markdown",
      "source": [
        "Polymorphism: it refers to an object taking several forms depending on the methods or data.\n",
        "it depends on 3 topics like duck typing, method overriding , method loading."
      ],
      "metadata": {
        "id": "6NJUsf4Lr9T2"
      }
    },
    {
      "cell_type": "markdown",
      "source": [
        "Composition: Composition is a fundamental concept in object-oriented programming (OOP) that allows you to build complex classes by combining simpler, reusable classes. Instead of inheriting behavior and attributes from a parent class (as in inheritance), composition involves including instances of one class within another class. This promotes greater flexibility and code uses."
      ],
      "metadata": {
        "id": "Q8lMD6sEso25"
      }
    },
    {
      "cell_type": "markdown",
      "source": [
        "Ques2 write a python class for a car with attribute for make, model and year. include a method to display the car's information?"
      ],
      "metadata": {
        "id": "UfPIrc9TtARD"
      }
    },
    {
      "cell_type": "code",
      "source": [
        "class car:\n",
        "  def __init__(self, make, model, year):\n",
        "    self.make = make\n",
        "    self.model = model\n",
        "    self.year = year\n",
        "\n",
        "  def car_info(self):\n",
        "    print( self.make, self.model, self.year)"
      ],
      "metadata": {
        "id": "1S7mUZdsrqDI"
      },
      "execution_count": null,
      "outputs": []
    },
    {
      "cell_type": "code",
      "source": [
        "car = car(\"maruti\", \"swift\", \"2007\")"
      ],
      "metadata": {
        "id": "61y16jGKuTgf"
      },
      "execution_count": null,
      "outputs": []
    },
    {
      "cell_type": "code",
      "source": [
        "car.car_info()"
      ],
      "metadata": {
        "colab": {
          "base_uri": "https://localhost:8080/"
        },
        "id": "B9ZTj8Dnu1WN",
        "outputId": "200b90c5-8eaa-4d43-99f0-5d0d31613aa0"
      },
      "execution_count": null,
      "outputs": [
        {
          "output_type": "stream",
          "name": "stdout",
          "text": [
            "maruti swift 2007\n"
          ]
        }
      ]
    },
    {
      "cell_type": "markdown",
      "source": [
        "Ques-3 Explain the difference between instance method and class method. provide an example of each?"
      ],
      "metadata": {
        "id": "ot642qE9vKfZ"
      }
    },
    {
      "cell_type": "markdown",
      "source": [
        "Instance method:  Instance methods are functions defined within a class that operate on instances of that class. They take the instance itself as the first argument, usually named self, allowing access to instance variables and other instance methods."
      ],
      "metadata": {
        "id": "jq2QUpIevlox"
      }
    },
    {
      "cell_type": "code",
      "source": [
        "#example:\n",
        "\n",
        "class Animal:\n",
        "  def __init__(self, name):\n",
        "    self.name = name\n",
        "\n",
        "  def dog(self):\n",
        "    print(self.name)"
      ],
      "metadata": {
        "id": "lwKbnc0evIGs"
      },
      "execution_count": null,
      "outputs": []
    },
    {
      "cell_type": "code",
      "source": [
        "Dog = Animal(\"bark\")"
      ],
      "metadata": {
        "id": "K6B0Pj3VwVjo"
      },
      "execution_count": null,
      "outputs": []
    },
    {
      "cell_type": "code",
      "source": [
        "Dog.dog()"
      ],
      "metadata": {
        "colab": {
          "base_uri": "https://localhost:8080/"
        },
        "id": "NiDStQVNwZwC",
        "outputId": "c4fea0b3-1eab-4a68-a7d1-2de036a66749"
      },
      "execution_count": null,
      "outputs": [
        {
          "output_type": "stream",
          "name": "stdout",
          "text": [
            "bark\n"
          ]
        }
      ]
    },
    {
      "cell_type": "markdown",
      "source": [
        "Class method:  Class methods are functions defined within a class that operate on the class itself rather than on instances. They take the class as the first argument, conventionally named cls. Class methods are defined using the @classmethod decorator."
      ],
      "metadata": {
        "id": "3ESphH2cwgA4"
      }
    },
    {
      "cell_type": "code",
      "source": [
        "#example:\n",
        "\n",
        "class Dog:\n",
        "    species = \"Canis lupus familiaris\"\n",
        "\n",
        "    def __init__(self, name):\n",
        "        self.name = name\n",
        "\n",
        "    @classmethod\n",
        "    def get_species(cls):\n",
        "        return cls.species\n",
        "\n",
        "# Usage\n",
        "print(Dog.get_species())\n"
      ],
      "metadata": {
        "colab": {
          "base_uri": "https://localhost:8080/"
        },
        "id": "fHpoThgdwc_U",
        "outputId": "e08c7b8f-dd8d-4e05-8952-413a1516f7aa"
      },
      "execution_count": null,
      "outputs": [
        {
          "output_type": "stream",
          "name": "stdout",
          "text": [
            "Canis lupus familiaris\n"
          ]
        }
      ]
    },
    {
      "cell_type": "markdown",
      "source": [
        "Ques-4 How does python implement method overloading? give an example."
      ],
      "metadata": {
        "id": "YxY_PA0fxzHX"
      }
    },
    {
      "cell_type": "markdown",
      "source": [
        "Method loading is the process in which last method overloads the forms of previous ones.it occurs in the same class."
      ],
      "metadata": {
        "id": "wIyRnY_DIM0U"
      }
    },
    {
      "cell_type": "code",
      "source": [
        "class Fruit:\n",
        "  def apple(self):\n",
        "    print(\"hehe i am first apple\")\n",
        "\n",
        "  def apple(self, name= \" \"):\n",
        "    print(\"i am second apple\", name)\n",
        "\n",
        "  def apple(self, category  =\" \"):\n",
        "    print(\"i am third apple\",category)"
      ],
      "metadata": {
        "id": "1THIpsSpw4O4"
      },
      "execution_count": null,
      "outputs": []
    },
    {
      "cell_type": "code",
      "source": [
        "app = Fruit()"
      ],
      "metadata": {
        "id": "JVl7IVmAw7zL"
      },
      "execution_count": null,
      "outputs": []
    },
    {
      "cell_type": "code",
      "source": [
        "app.apple(\"pr\")"
      ],
      "metadata": {
        "id": "aZlhR7sEw-M2",
        "colab": {
          "base_uri": "https://localhost:8080/"
        },
        "outputId": "f65c0a0d-36a3-4217-8994-cc40ee4a3945"
      },
      "execution_count": null,
      "outputs": [
        {
          "output_type": "stream",
          "name": "stdout",
          "text": [
            "i am third apple pr\n"
          ]
        }
      ]
    },
    {
      "cell_type": "markdown",
      "source": [
        "Ques-5 What are the three types of access modifiers in python? How are the denoted?"
      ],
      "metadata": {
        "id": "Z_YnxvApKKDY"
      }
    },
    {
      "cell_type": "markdown",
      "source": [
        "Three types of access modifiers in python.\n",
        "\n",
        "1.public\n",
        "\n",
        "2.private\n",
        "\n",
        "3.protected"
      ],
      "metadata": {
        "id": "hROHbNMaKpDZ"
      }
    },
    {
      "cell_type": "code",
      "source": [
        "#public\n",
        "\n",
        "class Animal:\n",
        "  def __init__(self, name):\n",
        "    self.name = name\n",
        "\n",
        "  def dog(self):\n",
        "    print(self.name)"
      ],
      "metadata": {
        "id": "qjP_3DJPJYfW"
      },
      "execution_count": null,
      "outputs": []
    },
    {
      "cell_type": "code",
      "source": [
        "#private\n",
        "class College:\n",
        "  def __init__(self, name, degree):\n",
        "    self.name = name\n",
        "    self.__degree= degree\n",
        "\n",
        "  def get_private(self):\n",
        "    print(self.name, self.__degree)"
      ],
      "metadata": {
        "id": "5zZIG9DNLBPC"
      },
      "execution_count": null,
      "outputs": []
    },
    {
      "cell_type": "code",
      "source": [
        "obj = College(\"prachi\", \"apna\")"
      ],
      "metadata": {
        "id": "dpaQIN64LORc"
      },
      "execution_count": null,
      "outputs": []
    },
    {
      "cell_type": "code",
      "source": [
        "obj.get_private()"
      ],
      "metadata": {
        "colab": {
          "base_uri": "https://localhost:8080/"
        },
        "id": "DL58T8dLLUha",
        "outputId": "7e5892f0-2bcc-4ce0-c342-394956871c9f"
      },
      "execution_count": null,
      "outputs": [
        {
          "output_type": "stream",
          "name": "stdout",
          "text": [
            "prachi apna\n"
          ]
        }
      ]
    },
    {
      "cell_type": "code",
      "source": [
        "#protected\n",
        "\n",
        "class College:\n",
        "  def __init__(self, name, degree):\n",
        "    self.name = name\n",
        "    self._degree= degree\n",
        "\n",
        "  def get_private(self):\n",
        "    print(self.name, self._degree)\n",
        "\n"
      ],
      "metadata": {
        "id": "J1zs50M_Lfc2"
      },
      "execution_count": null,
      "outputs": []
    },
    {
      "cell_type": "code",
      "source": [
        "cls = College(\"ajay\", \"bach\")"
      ],
      "metadata": {
        "id": "DGoctmchL-n9"
      },
      "execution_count": null,
      "outputs": []
    },
    {
      "cell_type": "code",
      "source": [
        "cls.get_private()"
      ],
      "metadata": {
        "colab": {
          "base_uri": "https://localhost:8080/"
        },
        "id": "sgpr1u2tMEni",
        "outputId": "725570a0-7d13-4311-914c-05afefbeeae5"
      },
      "execution_count": null,
      "outputs": [
        {
          "output_type": "stream",
          "name": "stdout",
          "text": [
            "ajay bach\n"
          ]
        }
      ]
    },
    {
      "cell_type": "markdown",
      "source": [
        "Ques-6 Describe five types of inheritance in python. provide an simple example of multiple inheritance?"
      ],
      "metadata": {
        "id": "r6mBF5crM0sp"
      }
    },
    {
      "cell_type": "markdown",
      "source": [
        " inheritance is a mechanism that allows a class to inherit attributes and methods from another class. Here are five types of inheritance:\n",
        "\n",
        "Single Inheritance: A class inherits from one base class.\n",
        "\n",
        "Multilevel Inheritance: A class inherits from a base class, which itself inherits from another class.\n",
        "\n",
        "Hierarchical Inheritance: Multiple classes inherit from the same base class.\n",
        "\n",
        "Hybrid inheritance: when a superclass have a combination of two or more than subclasses.\n",
        "\n",
        "Multiple inheritance: when a subclass inherits from more than one superclass."
      ],
      "metadata": {
        "id": "cPsqUTarOF8W"
      }
    },
    {
      "cell_type": "code",
      "source": [
        "#example of multiple inheritance\n",
        "class Animal:\n",
        "  def Dog1(self):\n",
        "    print(\"dog\")\n",
        "\n",
        "class Animal1:\n",
        "  def dog2(self):\n",
        "    print(\"dog 2\")\n",
        "\n",
        "class Animals(Animal, Animal1):\n",
        "  def animals(self):\n",
        "    print(\"Dog1 , dog2\")"
      ],
      "metadata": {
        "id": "pMqGkKLEMasz"
      },
      "execution_count": null,
      "outputs": []
    },
    {
      "cell_type": "code",
      "source": [
        "an = Animals()"
      ],
      "metadata": {
        "id": "Dj8V-WkuPoqr"
      },
      "execution_count": null,
      "outputs": []
    },
    {
      "cell_type": "code",
      "source": [
        "an.animals()"
      ],
      "metadata": {
        "colab": {
          "base_uri": "https://localhost:8080/"
        },
        "id": "GSODQ10JPsbq",
        "outputId": "88d9b0e8-808b-4fe0-934d-70b5462e7ac2"
      },
      "execution_count": null,
      "outputs": [
        {
          "output_type": "stream",
          "name": "stdout",
          "text": [
            "Dog1 , dog2\n"
          ]
        }
      ]
    },
    {
      "cell_type": "markdown",
      "source": [
        "Ques-7 What is method resolution order (MRO) in python? how can you retrive it programmatically?"
      ],
      "metadata": {
        "id": "1MbyTVKwP7CT"
      }
    },
    {
      "cell_type": "markdown",
      "source": [
        "MRO is basically used to solve the diamond problems\n",
        "Python uses the C3 linearization algorithm to determine the MRO, ensuring a consistent and predictable order."
      ],
      "metadata": {
        "id": "bEsL79uyQrVA"
      }
    },
    {
      "cell_type": "code",
      "source": [
        "class A:\n",
        "    pass\n",
        "\n",
        "class B(A):\n",
        "    pass\n",
        "\n",
        "class C(A):\n",
        "    pass\n",
        "\n",
        "class D(B, C):\n",
        "    pass\n",
        "\n",
        "\n",
        "print(D.mro())\n",
        "\n",
        "print(D.__mro__)\n"
      ],
      "metadata": {
        "colab": {
          "base_uri": "https://localhost:8080/"
        },
        "id": "ymlqdxPhPvdQ",
        "outputId": "6bb63749-6851-44e5-a5f0-f7f385a0ece7"
      },
      "execution_count": null,
      "outputs": [
        {
          "output_type": "stream",
          "name": "stdout",
          "text": [
            "[<class '__main__.D'>, <class '__main__.B'>, <class '__main__.C'>, <class '__main__.A'>, <class 'object'>]\n",
            "(<class '__main__.D'>, <class '__main__.B'>, <class '__main__.C'>, <class '__main__.A'>, <class 'object'>)\n"
          ]
        }
      ]
    },
    {
      "cell_type": "markdown",
      "source": [
        "Ques-8 Create an abstract base class shape with an abstract method area. then create two subclasses circle and rectangle that implements the area method?"
      ],
      "metadata": {
        "id": "U7b43LCDRKv0"
      }
    },
    {
      "cell_type": "code",
      "source": [
        "from abc import ABC, abstractmethod\n",
        "import math\n",
        "\n",
        "# Abstract base class\n",
        "class Shape(ABC):\n",
        "    @abstractmethod\n",
        "    def area(self):\n",
        "        pass\n",
        "\n",
        "# Subclass for Circle\n",
        "class Circle(Shape):\n",
        "    def __init__(self, radius):\n",
        "        self.radius = radius\n",
        "\n",
        "    def area(self):\n",
        "        return math.pi * (self.radius ** 2)\n",
        "\n",
        "# Subclass for Rectangle\n",
        "class Rectangle(Shape):\n",
        "    def __init__(self, width, height):\n",
        "        self.width = width\n",
        "        self.height = height\n",
        "\n",
        "    def area(self):\n",
        "        return self.width * self.height\n",
        "\n",
        "# Example usage\n",
        "if __name__ == \"__main__\":\n",
        "    circle = Circle(radius=5)\n",
        "    rectangle = Rectangle(width=4, height=6)\n",
        "\n",
        "    print(f\"Circle area: {circle.area()}\")\n",
        "    print(f\"Rectangle area: {rectangle.area()}\")\n"
      ],
      "metadata": {
        "id": "e_hs8-MpRFCQ",
        "colab": {
          "base_uri": "https://localhost:8080/"
        },
        "outputId": "6ae99950-e2c5-4e39-e11e-089f7f37404e"
      },
      "execution_count": null,
      "outputs": [
        {
          "output_type": "stream",
          "name": "stdout",
          "text": [
            "Circle area: 78.53981633974483\n",
            "Rectangle area: 24\n"
          ]
        }
      ]
    },
    {
      "cell_type": "markdown",
      "source": [
        "Ques-9 Demonstrate polymorphism by creating a function that can work with different shape object to calculate and print their areas?"
      ],
      "metadata": {
        "id": "RtBRgroKFECL"
      }
    },
    {
      "cell_type": "code",
      "source": [
        "from abc import ABC, abstractmethod\n",
        "import math\n",
        "\n",
        "# Abstract base class\n",
        "class Shape(ABC):\n",
        "    @abstractmethod\n",
        "    def area(self):\n",
        "        pass\n",
        "\n",
        "# Subclass for Circle\n",
        "class Circle(Shape):\n",
        "    def __init__(self, radius):\n",
        "        self.radius = radius\n",
        "\n",
        "    def area(self):\n",
        "        return math.pi * (self.radius ** 2)\n",
        "\n",
        "# Subclass for Rectangle\n",
        "class Rectangle(Shape):\n",
        "    def __init__(self, width, height):\n",
        "        self.width = width\n",
        "        self.height = height\n",
        "\n",
        "    def area(self):\n",
        "        return self.width * self.height\n",
        "\n",
        "# Function to calculate and print area\n",
        "def print_area(shape: Shape):\n",
        "    print(f\"The area of the shape is: {shape.area()}\")\n",
        "\n",
        "# Example usage\n",
        "if __name__ == \"__main__\":\n",
        "    circle = Circle(radius=5)\n",
        "    rectangle = Rectangle(width=4, height=6)\n",
        "\n",
        "    print_area(circle)      # Output: The area of the shape is: 78.53981633974483\n",
        "    print_area(rectangle)   # Output: The area of the shape is: 24\n"
      ],
      "metadata": {
        "colab": {
          "base_uri": "https://localhost:8080/"
        },
        "id": "eWBTS2B8E7bL",
        "outputId": "443ae9a9-d08d-4f03-d155-2a2ad066260a"
      },
      "execution_count": null,
      "outputs": [
        {
          "output_type": "stream",
          "name": "stdout",
          "text": [
            "The area of the shape is: 78.53981633974483\n",
            "The area of the shape is: 24\n"
          ]
        }
      ]
    },
    {
      "cell_type": "markdown",
      "source": [
        "Ques-10 Implement encapsulation in a bank account class with private attributes for balance and account number. include methods for deposit, withdrawl and balance enquiry?"
      ],
      "metadata": {
        "id": "QMwKqqysF6Po"
      }
    },
    {
      "cell_type": "code",
      "source": [
        "class BankAccount:\n",
        "  def  __init__(self, balance, accountnum):\n",
        "    self.__balance = balance\n",
        "    self.__accountnum = accountnum\n",
        "\n",
        "  def deposit(self, amount):\n",
        "    self.__balance += amount\n",
        "    print(\"total balance\", self.__balance)\n",
        "\n",
        "  def withdrawl(self, amount):\n",
        "     self.__balance -= amount\n",
        "     print(\"total balance\" ,self.__balance)"
      ],
      "metadata": {
        "id": "zHeFdHt5F4fN"
      },
      "execution_count": null,
      "outputs": []
    },
    {
      "cell_type": "code",
      "source": [
        "Account1 = BankAccount(5000, 457898)"
      ],
      "metadata": {
        "id": "LNUs7uwOIU97"
      },
      "execution_count": null,
      "outputs": []
    },
    {
      "cell_type": "code",
      "source": [
        "Account1.deposit(2000)"
      ],
      "metadata": {
        "colab": {
          "base_uri": "https://localhost:8080/"
        },
        "id": "YEC4LU4MJD8W",
        "outputId": "51a0bb62-8b18-40b1-ae07-8571445bee33"
      },
      "execution_count": null,
      "outputs": [
        {
          "output_type": "stream",
          "name": "stdout",
          "text": [
            "total balance 7000\n"
          ]
        }
      ]
    },
    {
      "cell_type": "code",
      "source": [
        "Account1.withdrawl(4000)"
      ],
      "metadata": {
        "colab": {
          "base_uri": "https://localhost:8080/"
        },
        "id": "r4ZYVII9JIVV",
        "outputId": "b4a4ea60-eadf-4da4-c181-999407b203c2"
      },
      "execution_count": null,
      "outputs": [
        {
          "output_type": "stream",
          "name": "stdout",
          "text": [
            "total balance 3000\n"
          ]
        }
      ]
    },
    {
      "cell_type": "markdown",
      "source": [
        "Ques-11 Write a class '__str__' and '__add__' magic methods. what will be these method allow you to do"
      ],
      "metadata": {
        "id": "zHmhkP76L4bF"
      }
    },
    {
      "cell_type": "code",
      "source": [
        "class String:\n",
        "  def  __init__(self, value):\n",
        "    self.value = value\n",
        "\n",
        "  def __str__(self):\n",
        "    return self.value\n",
        "\n",
        "  def __add__(self, other):\n",
        "    return self.value + other.value"
      ],
      "metadata": {
        "id": "iWFXuSwFJMUf"
      },
      "execution_count": null,
      "outputs": []
    },
    {
      "cell_type": "code",
      "source": [
        "addd = String(\"pw\")"
      ],
      "metadata": {
        "id": "zji_pgu4Ndjh"
      },
      "execution_count": null,
      "outputs": []
    },
    {
      "cell_type": "code",
      "source": [
        "add = String(\"skills\")"
      ],
      "metadata": {
        "id": "C4lb3vOxNjjf"
      },
      "execution_count": null,
      "outputs": []
    },
    {
      "cell_type": "code",
      "source": [
        "obj = addd + add\n",
        "obj"
      ],
      "metadata": {
        "colab": {
          "base_uri": "https://localhost:8080/",
          "height": 36
        },
        "id": "y3yIKzo3N15G",
        "outputId": "f51afc8a-e793-46eb-ffaa-a456cb23bf6d"
      },
      "execution_count": 38,
      "outputs": [
        {
          "output_type": "execute_result",
          "data": {
            "text/plain": [
              "'pwskills'"
            ],
            "application/vnd.google.colaboratory.intrinsic+json": {
              "type": "string"
            }
          },
          "metadata": {},
          "execution_count": 38
        }
      ]
    },
    {
      "cell_type": "markdown",
      "source": [
        "Ques-12 Creates a decorator that measures and prints the execution time of a function?"
      ],
      "metadata": {
        "id": "11Y_4UYaUTth"
      }
    },
    {
      "cell_type": "code",
      "source": [
        "import time\n",
        "from functools import wraps\n",
        "\n",
        "def execution_time_decorator(func):\n",
        "    @wraps(func)\n",
        "    def wrapper(*args, **kwargs):\n",
        "        start_time = time.time()\n",
        "        result = func(*args, **kwargs)\n",
        "        end_time = time.time()\n",
        "        execution_time = end_time - start_time\n",
        "        print(f\"Execution time of '{func.__name__}': {execution_time:.4f} seconds\")\n",
        "        return result\n",
        "    return wrapper\n",
        "\n",
        "# Example usage\n",
        "@execution_time_decorator\n",
        "def some_function(n):\n",
        "    total = 0\n",
        "    for i in range(n):\n",
        "        total += i\n",
        "    return total\n",
        "\n",
        "if __name__ == \"__main__\":\n",
        "    result = some_function(1000000)\n",
        "    print(f\"Result: {result}\")\n"
      ],
      "metadata": {
        "colab": {
          "base_uri": "https://localhost:8080/"
        },
        "id": "BPv2VCz1UgGW",
        "outputId": "7fc279ec-ebef-43c4-a4eb-87a24a720841"
      },
      "execution_count": 41,
      "outputs": [
        {
          "output_type": "stream",
          "name": "stdout",
          "text": [
            "Execution time of 'some_function': 0.0702 seconds\n",
            "Result: 499999500000\n"
          ]
        }
      ]
    },
    {
      "cell_type": "markdown",
      "source": [
        "Ques-13 Explain the concept of diamond problem in multiple inheritance.how does python resolve it?"
      ],
      "metadata": {
        "id": "zu918CzqUzbH"
      }
    },
    {
      "cell_type": "markdown",
      "source": [
        "Python resolves the diamond problem using a mechanism called Method Resolution Order (MRO). Python employs a specific algorithm called C3 linearization to determine the order in which classes are looked up when calling methods or accessing properties."
      ],
      "metadata": {
        "id": "nFT8vf-kVyFd"
      }
    },
    {
      "cell_type": "code",
      "source": [
        "class A:\n",
        "  def greet (self):\n",
        "    return \"hello from a\"\n",
        "\n",
        "class B(A):\n",
        "  def greet(self):\n",
        "    return \"hello from b\"\n",
        "\n",
        "class C(A):\n",
        "  def greet(self):\n",
        "    return \"hello from c\"\n",
        "\n",
        "class D(B, C):\n",
        "  pass"
      ],
      "metadata": {
        "id": "qNmtRpSnUjI1"
      },
      "execution_count": 48,
      "outputs": []
    },
    {
      "cell_type": "code",
      "source": [
        "object = D()"
      ],
      "metadata": {
        "id": "y1MeONg9WL1m"
      },
      "execution_count": 49,
      "outputs": []
    },
    {
      "cell_type": "code",
      "source": [
        "object.greet()"
      ],
      "metadata": {
        "colab": {
          "base_uri": "https://localhost:8080/",
          "height": 36
        },
        "id": "ExFklQDcWVnq",
        "outputId": "4261f707-b39f-4b32-d403-37fa8d96e822"
      },
      "execution_count": 50,
      "outputs": [
        {
          "output_type": "execute_result",
          "data": {
            "text/plain": [
              "'hello from b'"
            ],
            "application/vnd.google.colaboratory.intrinsic+json": {
              "type": "string"
            }
          },
          "metadata": {},
          "execution_count": 50
        }
      ]
    },
    {
      "cell_type": "markdown",
      "source": [
        "Ques-14 Write a class method that keeps track of the number of instances created from a class?"
      ],
      "metadata": {
        "id": "nH088rXbWvZc"
      }
    },
    {
      "cell_type": "code",
      "source": [
        "class Counter:\n",
        "  count = 0\n",
        "\n",
        "  def  __init__(self):\n",
        "    Counter.count+=1\n",
        "\n",
        "  @classmethod\n",
        "  def getcount(cls):\n",
        "    return cls.count"
      ],
      "metadata": {
        "id": "V7NMbW9XWmx7"
      },
      "execution_count": 51,
      "outputs": []
    },
    {
      "cell_type": "code",
      "source": [
        "obj = Counter()"
      ],
      "metadata": {
        "id": "pmVCP1BHX-Wu"
      },
      "execution_count": 52,
      "outputs": []
    },
    {
      "cell_type": "code",
      "source": [
        "obj.getcount()"
      ],
      "metadata": {
        "colab": {
          "base_uri": "https://localhost:8080/"
        },
        "id": "jOOLbp6RYBEr",
        "outputId": "20d516a6-af2f-4ac9-8a4c-7abda62f3f3a"
      },
      "execution_count": 54,
      "outputs": [
        {
          "output_type": "execute_result",
          "data": {
            "text/plain": [
              "1"
            ]
          },
          "metadata": {},
          "execution_count": 54
        }
      ]
    },
    {
      "cell_type": "markdown",
      "source": [
        "Ques-15 Implement a static method in a class that checks if a given year is a leap year?"
      ],
      "metadata": {
        "id": "r3kUJbj-YHtK"
      }
    },
    {
      "cell_type": "code",
      "source": [
        "class YearChecker:\n",
        "    @staticmethod\n",
        "    def is_leap_year(year):\n",
        "        \"\"\"Check if the given year is a leap year.\"\"\"\n",
        "        if (year % 4 == 0 and year % 100 != 0) or (year % 400 == 0):\n",
        "            return True\n",
        "        return False\n",
        "\n",
        "\n"
      ],
      "metadata": {
        "id": "4IfSLr6aYDzj"
      },
      "execution_count": 55,
      "outputs": []
    },
    {
      "cell_type": "code",
      "source": [
        "\n",
        "if __name__ == \"__main__\":\n",
        "    year = 2023\n",
        "    if YearChecker.is_leap_year(year):\n",
        "        print(f\"{year} is a leap year.\")\n",
        "    else:\n",
        "        print(f\"{year} is not a leap year.\")"
      ],
      "metadata": {
        "colab": {
          "base_uri": "https://localhost:8080/"
        },
        "id": "CPtwHLUAYzn7",
        "outputId": "73a5b9ca-0b96-4db8-ea49-955f668b86eb"
      },
      "execution_count": 57,
      "outputs": [
        {
          "output_type": "stream",
          "name": "stdout",
          "text": [
            "2023 is not a leap year.\n"
          ]
        }
      ]
    },
    {
      "cell_type": "code",
      "source": [],
      "metadata": {
        "id": "eha-gL5rY21l"
      },
      "execution_count": null,
      "outputs": []
    }
  ]
}